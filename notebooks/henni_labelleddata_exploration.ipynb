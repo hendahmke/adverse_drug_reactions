{
 "cells": [
  {
   "cell_type": "markdown",
   "metadata": {},
   "source": [
    "# Load Data"
   ]
  },
  {
   "cell_type": "markdown",
   "metadata": {},
   "source": [
    " points to consider:\n",
    " - for \"unsupervised\" learning, make sure we don't train on test_data (== labelled data)"
   ]
  },
  {
   "cell_type": "markdown",
   "metadata": {},
   "source": [
    "## Train Data"
   ]
  },
  {
   "cell_type": "code",
   "execution_count": 1,
   "metadata": {},
   "outputs": [],
   "source": [
    "import pandas as pd # DataFrame Manipulation Package\n",
    "import numpy as np"
   ]
  },
  {
   "cell_type": "code",
   "execution_count": 2,
   "metadata": {},
   "outputs": [
    {
     "name": "stdout",
     "output_type": "stream",
     "text": [
      "(5000, 2)\n"
     ]
    },
    {
     "data": {
      "text/html": [
       "<div>\n",
       "<style scoped>\n",
       "    .dataframe tbody tr th:only-of-type {\n",
       "        vertical-align: middle;\n",
       "    }\n",
       "\n",
       "    .dataframe tbody tr th {\n",
       "        vertical-align: top;\n",
       "    }\n",
       "\n",
       "    .dataframe thead th {\n",
       "        text-align: right;\n",
       "    }\n",
       "</style>\n",
       "<table border=\"1\" class=\"dataframe\">\n",
       "  <thead>\n",
       "    <tr style=\"text-align: right;\">\n",
       "      <th></th>\n",
       "      <th>drugName</th>\n",
       "      <th>review</th>\n",
       "    </tr>\n",
       "  </thead>\n",
       "  <tbody>\n",
       "    <tr>\n",
       "      <th>300</th>\n",
       "      <td>Nitrofurantoin</td>\n",
       "      <td>\"Although I think I might have kidney stones i...</td>\n",
       "    </tr>\n",
       "    <tr>\n",
       "      <th>301</th>\n",
       "      <td>Metronidazole</td>\n",
       "      <td>\"I&amp;#039;ve been taking metronidazoles for 4 da...</td>\n",
       "    </tr>\n",
       "    <tr>\n",
       "      <th>302</th>\n",
       "      <td>Ziprasidone</td>\n",
       "      <td>\"This was the worst experience I&amp;#039;ve had w...</td>\n",
       "    </tr>\n",
       "    <tr>\n",
       "      <th>303</th>\n",
       "      <td>Acetaminophen / butalbital / caffeine</td>\n",
       "      <td>\"I have been suffering from terrible allergies...</td>\n",
       "    </tr>\n",
       "    <tr>\n",
       "      <th>304</th>\n",
       "      <td>Naproxen</td>\n",
       "      <td>\"One thing I&amp;#039;ve learned is to avoid dairy...</td>\n",
       "    </tr>\n",
       "  </tbody>\n",
       "</table>\n",
       "</div>"
      ],
      "text/plain": [
       "                                  drugName  \\\n",
       "300                         Nitrofurantoin   \n",
       "301                          Metronidazole   \n",
       "302                            Ziprasidone   \n",
       "303  Acetaminophen / butalbital / caffeine   \n",
       "304                               Naproxen   \n",
       "\n",
       "                                                review  \n",
       "300  \"Although I think I might have kidney stones i...  \n",
       "301  \"I&#039;ve been taking metronidazoles for 4 da...  \n",
       "302  \"This was the worst experience I&#039;ve had w...  \n",
       "303  \"I have been suffering from terrible allergies...  \n",
       "304  \"One thing I&#039;ve learned is to avoid dairy...  "
      ]
     },
     "execution_count": 2,
     "metadata": {},
     "output_type": "execute_result"
    }
   ],
   "source": [
    "data = pd.read_csv('../raw_data/drugsComTrain_raw.csv')\n",
    "data.head()\n",
    "\n",
    "train_data = data[300:5300].drop([\"uniqueID\", \"condition\", \"rating\", \"date\", \"usefulCount\"], axis =1)\n",
    "print(train_data.shape)\n",
    "train_data.head()"
   ]
  },
  {
   "cell_type": "code",
   "execution_count": 3,
   "metadata": {},
   "outputs": [],
   "source": [
    "# data cleaning\n",
    "import string \n",
    "\n",
    "def remove_punct(text):\n",
    "    for punctuation in string.punctuation:\n",
    "        text = text.replace(punctuation, '')\n",
    "    text = text.replace('\\n', ' ')\n",
    "    return text\n",
    "\n",
    "def to_lower(text):\n",
    "    return text.lower()\n",
    "\n",
    "def remove_numbers(text):\n",
    "    text = ''.join(word for word in text if not word.isdigit())\n",
    "    return text\n",
    "\n",
    "from nltk.corpus import stopwords \n",
    "from nltk.tokenize import word_tokenize\n",
    "\n",
    "def remove_stopwords(text):\n",
    "    stop_words = set(stopwords.words('english'))\n",
    "    word_tokens = word_tokenize(text) \n",
    "    text = [w for w in word_tokens if not w in stop_words]\n",
    "    text = ' '.join(text)\n",
    "    return text\n",
    "\n",
    "from nltk.stem import WordNetLemmatizer\n",
    "\n",
    "def lemmatize_text(text):\n",
    "    lemmatizer = WordNetLemmatizer()\n",
    "    lemmatized = [lemmatizer.lemmatize(word) for word in text]\n",
    "    text = ''.join(lemmatized)\n",
    "    return text"
   ]
  },
  {
   "cell_type": "code",
   "execution_count": 4,
   "metadata": {},
   "outputs": [
    {
     "data": {
      "text/html": [
       "<div>\n",
       "<style scoped>\n",
       "    .dataframe tbody tr th:only-of-type {\n",
       "        vertical-align: middle;\n",
       "    }\n",
       "\n",
       "    .dataframe tbody tr th {\n",
       "        vertical-align: top;\n",
       "    }\n",
       "\n",
       "    .dataframe thead th {\n",
       "        text-align: right;\n",
       "    }\n",
       "</style>\n",
       "<table border=\"1\" class=\"dataframe\">\n",
       "  <thead>\n",
       "    <tr style=\"text-align: right;\">\n",
       "      <th></th>\n",
       "      <th>drugName</th>\n",
       "      <th>review</th>\n",
       "      <th>clean_review</th>\n",
       "    </tr>\n",
       "  </thead>\n",
       "  <tbody>\n",
       "    <tr>\n",
       "      <th>300</th>\n",
       "      <td>Nitrofurantoin</td>\n",
       "      <td>\"Although I think I might have kidney stones i...</td>\n",
       "      <td>although think might kidney stones instead uti...</td>\n",
       "    </tr>\n",
       "    <tr>\n",
       "      <th>301</th>\n",
       "      <td>Metronidazole</td>\n",
       "      <td>\"I&amp;#039;ve been taking metronidazoles for 4 da...</td>\n",
       "      <td>ive taking metronidazoles days day im still ag...</td>\n",
       "    </tr>\n",
       "    <tr>\n",
       "      <th>302</th>\n",
       "      <td>Ziprasidone</td>\n",
       "      <td>\"This was the worst experience I&amp;#039;ve had w...</td>\n",
       "      <td>worst experience ive medication go lithium gav...</td>\n",
       "    </tr>\n",
       "    <tr>\n",
       "      <th>303</th>\n",
       "      <td>Acetaminophen / butalbital / caffeine</td>\n",
       "      <td>\"I have been suffering from terrible allergies...</td>\n",
       "      <td>suffering terrible allergies due hay fever all...</td>\n",
       "    </tr>\n",
       "    <tr>\n",
       "      <th>304</th>\n",
       "      <td>Naproxen</td>\n",
       "      <td>\"One thing I&amp;#039;ve learned is to avoid dairy...</td>\n",
       "      <td>one thing ive learned avoid dairy products muc...</td>\n",
       "    </tr>\n",
       "  </tbody>\n",
       "</table>\n",
       "</div>"
      ],
      "text/plain": [
       "                                  drugName  \\\n",
       "300                         Nitrofurantoin   \n",
       "301                          Metronidazole   \n",
       "302                            Ziprasidone   \n",
       "303  Acetaminophen / butalbital / caffeine   \n",
       "304                               Naproxen   \n",
       "\n",
       "                                                review  \\\n",
       "300  \"Although I think I might have kidney stones i...   \n",
       "301  \"I&#039;ve been taking metronidazoles for 4 da...   \n",
       "302  \"This was the worst experience I&#039;ve had w...   \n",
       "303  \"I have been suffering from terrible allergies...   \n",
       "304  \"One thing I&#039;ve learned is to avoid dairy...   \n",
       "\n",
       "                                          clean_review  \n",
       "300  although think might kidney stones instead uti...  \n",
       "301  ive taking metronidazoles days day im still ag...  \n",
       "302  worst experience ive medication go lithium gav...  \n",
       "303  suffering terrible allergies due hay fever all...  \n",
       "304  one thing ive learned avoid dairy products muc...  "
      ]
     },
     "execution_count": 4,
     "metadata": {},
     "output_type": "execute_result"
    }
   ],
   "source": [
    "train_data[\"clean_review\"] = train_data[\"review\"].apply(remove_punct).apply(to_lower).apply(remove_numbers).apply(remove_stopwords).apply(lemmatize_text)\n",
    "\n",
    "train_data.head()"
   ]
  },
  {
   "cell_type": "markdown",
   "metadata": {},
   "source": [
    "## Test Data"
   ]
  },
  {
   "cell_type": "code",
   "execution_count": 70,
   "metadata": {},
   "outputs": [
    {
     "data": {
      "text/html": [
       "<div>\n",
       "<style scoped>\n",
       "    .dataframe tbody tr th:only-of-type {\n",
       "        vertical-align: middle;\n",
       "    }\n",
       "\n",
       "    .dataframe tbody tr th {\n",
       "        vertical-align: top;\n",
       "    }\n",
       "\n",
       "    .dataframe thead th {\n",
       "        text-align: right;\n",
       "    }\n",
       "</style>\n",
       "<table border=\"1\" class=\"dataframe\">\n",
       "  <thead>\n",
       "    <tr style=\"text-align: right;\">\n",
       "      <th></th>\n",
       "      <th>drugName</th>\n",
       "      <th>review</th>\n",
       "      <th>rating</th>\n",
       "      <th>sideEffect</th>\n",
       "    </tr>\n",
       "  </thead>\n",
       "  <tbody>\n",
       "    <tr>\n",
       "      <th>295</th>\n",
       "      <td>Ethinyl estradiol / norgestimate</td>\n",
       "      <td>\"First of all, I started taking birth control ...</td>\n",
       "      <td>1</td>\n",
       "      <td>1</td>\n",
       "    </tr>\n",
       "    <tr>\n",
       "      <th>296</th>\n",
       "      <td>AndroGel</td>\n",
       "      <td>\"I am 69 years old.  Prior to starting  5 pump...</td>\n",
       "      <td>5</td>\n",
       "      <td>1</td>\n",
       "    </tr>\n",
       "    <tr>\n",
       "      <th>297</th>\n",
       "      <td>Ethinyl estradiol / norgestimate</td>\n",
       "      <td>\"Face cleared. Gained 5 pounds. No vomiting fo...</td>\n",
       "      <td>7</td>\n",
       "      <td>1</td>\n",
       "    </tr>\n",
       "    <tr>\n",
       "      <th>298</th>\n",
       "      <td>Victoza</td>\n",
       "      <td>\"All the side effects\"</td>\n",
       "      <td>1</td>\n",
       "      <td>1</td>\n",
       "    </tr>\n",
       "    <tr>\n",
       "      <th>299</th>\n",
       "      <td>Ethinyl estradiol / norgestimate</td>\n",
       "      <td>\"Slow and steady definitely wins this race. I ...</td>\n",
       "      <td>9</td>\n",
       "      <td>1</td>\n",
       "    </tr>\n",
       "  </tbody>\n",
       "</table>\n",
       "</div>"
      ],
      "text/plain": [
       "                             drugName  \\\n",
       "295  Ethinyl estradiol / norgestimate   \n",
       "296                          AndroGel   \n",
       "297  Ethinyl estradiol / norgestimate   \n",
       "298                           Victoza   \n",
       "299  Ethinyl estradiol / norgestimate   \n",
       "\n",
       "                                                review  rating  sideEffect  \n",
       "295  \"First of all, I started taking birth control ...       1           1  \n",
       "296  \"I am 69 years old.  Prior to starting  5 pump...       5           1  \n",
       "297  \"Face cleared. Gained 5 pounds. No vomiting fo...       7           1  \n",
       "298                             \"All the side effects\"       1           1  \n",
       "299  \"Slow and steady definitely wins this race. I ...       9           1  "
      ]
     },
     "execution_count": 70,
     "metadata": {},
     "output_type": "execute_result"
    }
   ],
   "source": [
    "test_data = pd.read_csv('../raw_data/adr_labelled_data.csv', nrows = 300)\n",
    "test_data = test_data.drop([\"uniqueID\", \"condition\", \"date\", \"usefulCount\", \"Unnamed: 8\"], axis =1)\n",
    "test_data.tail()"
   ]
  },
  {
   "cell_type": "code",
   "execution_count": 71,
   "metadata": {},
   "outputs": [
    {
     "data": {
      "text/html": [
       "<div>\n",
       "<style scoped>\n",
       "    .dataframe tbody tr th:only-of-type {\n",
       "        vertical-align: middle;\n",
       "    }\n",
       "\n",
       "    .dataframe tbody tr th {\n",
       "        vertical-align: top;\n",
       "    }\n",
       "\n",
       "    .dataframe thead th {\n",
       "        text-align: right;\n",
       "    }\n",
       "</style>\n",
       "<table border=\"1\" class=\"dataframe\">\n",
       "  <thead>\n",
       "    <tr style=\"text-align: right;\">\n",
       "      <th></th>\n",
       "      <th>drugName</th>\n",
       "      <th>review</th>\n",
       "      <th>rating</th>\n",
       "      <th>sideEffect</th>\n",
       "      <th>clean_review</th>\n",
       "    </tr>\n",
       "  </thead>\n",
       "  <tbody>\n",
       "    <tr>\n",
       "      <th>0</th>\n",
       "      <td>Valsartan</td>\n",
       "      <td>\"It has no side effect, I take it in combinati...</td>\n",
       "      <td>9</td>\n",
       "      <td>0</td>\n",
       "      <td>side effect take combination bystolic mg fish oil</td>\n",
       "    </tr>\n",
       "    <tr>\n",
       "      <th>1</th>\n",
       "      <td>Guanfacine</td>\n",
       "      <td>\"My son is halfway through his fourth week of ...</td>\n",
       "      <td>8</td>\n",
       "      <td>1</td>\n",
       "      <td>son halfway fourth week intuniv became concern...</td>\n",
       "    </tr>\n",
       "    <tr>\n",
       "      <th>2</th>\n",
       "      <td>Lybrel</td>\n",
       "      <td>\"I used to take another oral contraceptive, wh...</td>\n",
       "      <td>5</td>\n",
       "      <td>1</td>\n",
       "      <td>used take another oral contraceptive pill cycl...</td>\n",
       "    </tr>\n",
       "    <tr>\n",
       "      <th>3</th>\n",
       "      <td>Ortho Evra</td>\n",
       "      <td>\"This is my first time using any form of birth...</td>\n",
       "      <td>8</td>\n",
       "      <td>1</td>\n",
       "      <td>first time using form birth control im glad we...</td>\n",
       "    </tr>\n",
       "    <tr>\n",
       "      <th>4</th>\n",
       "      <td>Buprenorphine / naloxone</td>\n",
       "      <td>\"Suboxone has completely turned my life around...</td>\n",
       "      <td>9</td>\n",
       "      <td>1</td>\n",
       "      <td>suboxone completely turned life around feel he...</td>\n",
       "    </tr>\n",
       "  </tbody>\n",
       "</table>\n",
       "</div>"
      ],
      "text/plain": [
       "                   drugName  \\\n",
       "0                 Valsartan   \n",
       "1                Guanfacine   \n",
       "2                    Lybrel   \n",
       "3                Ortho Evra   \n",
       "4  Buprenorphine / naloxone   \n",
       "\n",
       "                                              review  rating  sideEffect  \\\n",
       "0  \"It has no side effect, I take it in combinati...       9           0   \n",
       "1  \"My son is halfway through his fourth week of ...       8           1   \n",
       "2  \"I used to take another oral contraceptive, wh...       5           1   \n",
       "3  \"This is my first time using any form of birth...       8           1   \n",
       "4  \"Suboxone has completely turned my life around...       9           1   \n",
       "\n",
       "                                        clean_review  \n",
       "0  side effect take combination bystolic mg fish oil  \n",
       "1  son halfway fourth week intuniv became concern...  \n",
       "2  used take another oral contraceptive pill cycl...  \n",
       "3  first time using form birth control im glad we...  \n",
       "4  suboxone completely turned life around feel he...  "
      ]
     },
     "execution_count": 71,
     "metadata": {},
     "output_type": "execute_result"
    }
   ],
   "source": [
    "test_data[\"clean_review\"] = test_data[\"review\"].apply(remove_punct).apply(to_lower).apply(remove_numbers).apply(remove_stopwords).apply(lemmatize_text)\n",
    "\n",
    "test_data.head()"
   ]
  },
  {
   "cell_type": "markdown",
   "metadata": {},
   "source": [
    "# Feature Engineering"
   ]
  },
  {
   "cell_type": "markdown",
   "metadata": {},
   "source": [
    "## Prepare dataset without \"side effects\""
   ]
  },
  {
   "cell_type": "code",
   "execution_count": 69,
   "metadata": {},
   "outputs": [
    {
     "data": {
      "text/html": [
       "<div>\n",
       "<style scoped>\n",
       "    .dataframe tbody tr th:only-of-type {\n",
       "        vertical-align: middle;\n",
       "    }\n",
       "\n",
       "    .dataframe tbody tr th {\n",
       "        vertical-align: top;\n",
       "    }\n",
       "\n",
       "    .dataframe thead th {\n",
       "        text-align: right;\n",
       "    }\n",
       "</style>\n",
       "<table border=\"1\" class=\"dataframe\">\n",
       "  <thead>\n",
       "    <tr style=\"text-align: right;\">\n",
       "      <th></th>\n",
       "      <th>drugName</th>\n",
       "      <th>review</th>\n",
       "      <th>clean_review</th>\n",
       "      <th>clean_review_without_se</th>\n",
       "    </tr>\n",
       "  </thead>\n",
       "  <tbody>\n",
       "    <tr>\n",
       "      <th>300</th>\n",
       "      <td>Nitrofurantoin</td>\n",
       "      <td>\"Although I think I might have kidney stones i...</td>\n",
       "      <td>although think might kidney stones instead uti...</td>\n",
       "      <td>although think might kidney stones instead uti...</td>\n",
       "    </tr>\n",
       "    <tr>\n",
       "      <th>301</th>\n",
       "      <td>Metronidazole</td>\n",
       "      <td>\"I&amp;#039;ve been taking metronidazoles for 4 da...</td>\n",
       "      <td>ive taking metronidazoles days day im still ag...</td>\n",
       "      <td>ive taking metronidazoles days day im still ag...</td>\n",
       "    </tr>\n",
       "    <tr>\n",
       "      <th>302</th>\n",
       "      <td>Ziprasidone</td>\n",
       "      <td>\"This was the worst experience I&amp;#039;ve had w...</td>\n",
       "      <td>worst experience ive medication go lithium gav...</td>\n",
       "      <td>worst experience ive medication go lithium gav...</td>\n",
       "    </tr>\n",
       "    <tr>\n",
       "      <th>303</th>\n",
       "      <td>Acetaminophen / butalbital / caffeine</td>\n",
       "      <td>\"I have been suffering from terrible allergies...</td>\n",
       "      <td>suffering terrible allergies due hay fever all...</td>\n",
       "      <td>suffering terrible allergies due hay fever all...</td>\n",
       "    </tr>\n",
       "    <tr>\n",
       "      <th>304</th>\n",
       "      <td>Naproxen</td>\n",
       "      <td>\"One thing I&amp;#039;ve learned is to avoid dairy...</td>\n",
       "      <td>one thing ive learned avoid dairy products muc...</td>\n",
       "      <td>one thing ive learned avoid dairy products muc...</td>\n",
       "    </tr>\n",
       "  </tbody>\n",
       "</table>\n",
       "</div>"
      ],
      "text/plain": [
       "                                  drugName  \\\n",
       "300                         Nitrofurantoin   \n",
       "301                          Metronidazole   \n",
       "302                            Ziprasidone   \n",
       "303  Acetaminophen / butalbital / caffeine   \n",
       "304                               Naproxen   \n",
       "\n",
       "                                                review  \\\n",
       "300  \"Although I think I might have kidney stones i...   \n",
       "301  \"I&#039;ve been taking metronidazoles for 4 da...   \n",
       "302  \"This was the worst experience I&#039;ve had w...   \n",
       "303  \"I have been suffering from terrible allergies...   \n",
       "304  \"One thing I&#039;ve learned is to avoid dairy...   \n",
       "\n",
       "                                          clean_review  \\\n",
       "300  although think might kidney stones instead uti...   \n",
       "301  ive taking metronidazoles days day im still ag...   \n",
       "302  worst experience ive medication go lithium gav...   \n",
       "303  suffering terrible allergies due hay fever all...   \n",
       "304  one thing ive learned avoid dairy products muc...   \n",
       "\n",
       "                               clean_review_without_se  \n",
       "300  although think might kidney stones instead uti...  \n",
       "301  ive taking metronidazoles days day im still ag...  \n",
       "302  worst experience ive medication go lithium gav...  \n",
       "303  suffering terrible allergies due hay fever all...  \n",
       "304  one thing ive learned avoid dairy products muc...  "
      ]
     },
     "execution_count": 69,
     "metadata": {},
     "output_type": "execute_result"
    }
   ],
   "source": [
    "train_data['clean_review_without_se'] = train_data['clean_review'].str.replace('side', '')\n",
    "train_data['clean_review_without_se'] = train_data['clean_review_without_se'].str.replace('effects', '')\n",
    "train_data.head()"
   ]
  },
  {
   "cell_type": "code",
   "execution_count": 101,
   "metadata": {},
   "outputs": [
    {
     "data": {
      "text/html": [
       "<div>\n",
       "<style scoped>\n",
       "    .dataframe tbody tr th:only-of-type {\n",
       "        vertical-align: middle;\n",
       "    }\n",
       "\n",
       "    .dataframe tbody tr th {\n",
       "        vertical-align: top;\n",
       "    }\n",
       "\n",
       "    .dataframe thead th {\n",
       "        text-align: right;\n",
       "    }\n",
       "</style>\n",
       "<table border=\"1\" class=\"dataframe\">\n",
       "  <thead>\n",
       "    <tr style=\"text-align: right;\">\n",
       "      <th></th>\n",
       "      <th>drugName</th>\n",
       "      <th>review</th>\n",
       "      <th>rating</th>\n",
       "      <th>sideEffect</th>\n",
       "      <th>clean_review</th>\n",
       "      <th>clean_review_without_se</th>\n",
       "    </tr>\n",
       "  </thead>\n",
       "  <tbody>\n",
       "    <tr>\n",
       "      <th>0</th>\n",
       "      <td>Valsartan</td>\n",
       "      <td>\"It has no side effect, I take it in combinati...</td>\n",
       "      <td>9</td>\n",
       "      <td>0</td>\n",
       "      <td>side effect take combination bystolic mg fish oil</td>\n",
       "      <td>effect take combination bystolic mg fish oil</td>\n",
       "    </tr>\n",
       "    <tr>\n",
       "      <th>1</th>\n",
       "      <td>Guanfacine</td>\n",
       "      <td>\"My son is halfway through his fourth week of ...</td>\n",
       "      <td>8</td>\n",
       "      <td>1</td>\n",
       "      <td>son halfway fourth week intuniv became concern...</td>\n",
       "      <td>son halfway fourth week intuniv became concern...</td>\n",
       "    </tr>\n",
       "    <tr>\n",
       "      <th>2</th>\n",
       "      <td>Lybrel</td>\n",
       "      <td>\"I used to take another oral contraceptive, wh...</td>\n",
       "      <td>5</td>\n",
       "      <td>1</td>\n",
       "      <td>used take another oral contraceptive pill cycl...</td>\n",
       "      <td>used take another oral contraceptive pill cycl...</td>\n",
       "    </tr>\n",
       "    <tr>\n",
       "      <th>3</th>\n",
       "      <td>Ortho Evra</td>\n",
       "      <td>\"This is my first time using any form of birth...</td>\n",
       "      <td>8</td>\n",
       "      <td>1</td>\n",
       "      <td>first time using form birth control im glad we...</td>\n",
       "      <td>first time using form birth control im glad we...</td>\n",
       "    </tr>\n",
       "    <tr>\n",
       "      <th>4</th>\n",
       "      <td>Buprenorphine / naloxone</td>\n",
       "      <td>\"Suboxone has completely turned my life around...</td>\n",
       "      <td>9</td>\n",
       "      <td>1</td>\n",
       "      <td>suboxone completely turned life around feel he...</td>\n",
       "      <td>suboxone completely turned life around feel he...</td>\n",
       "    </tr>\n",
       "  </tbody>\n",
       "</table>\n",
       "</div>"
      ],
      "text/plain": [
       "                   drugName  \\\n",
       "0                 Valsartan   \n",
       "1                Guanfacine   \n",
       "2                    Lybrel   \n",
       "3                Ortho Evra   \n",
       "4  Buprenorphine / naloxone   \n",
       "\n",
       "                                              review  rating  sideEffect  \\\n",
       "0  \"It has no side effect, I take it in combinati...       9           0   \n",
       "1  \"My son is halfway through his fourth week of ...       8           1   \n",
       "2  \"I used to take another oral contraceptive, wh...       5           1   \n",
       "3  \"This is my first time using any form of birth...       8           1   \n",
       "4  \"Suboxone has completely turned my life around...       9           1   \n",
       "\n",
       "                                        clean_review  \\\n",
       "0  side effect take combination bystolic mg fish oil   \n",
       "1  son halfway fourth week intuniv became concern...   \n",
       "2  used take another oral contraceptive pill cycl...   \n",
       "3  first time using form birth control im glad we...   \n",
       "4  suboxone completely turned life around feel he...   \n",
       "\n",
       "                             clean_review_without_se  \n",
       "0       effect take combination bystolic mg fish oil  \n",
       "1  son halfway fourth week intuniv became concern...  \n",
       "2  used take another oral contraceptive pill cycl...  \n",
       "3  first time using form birth control im glad we...  \n",
       "4  suboxone completely turned life around feel he...  "
      ]
     },
     "execution_count": 101,
     "metadata": {},
     "output_type": "execute_result"
    }
   ],
   "source": [
    "test_data['clean_review_without_se'] = test_data['clean_review'].str.replace('side', '')\n",
    "test_data['clean_review_without_se'] = test_data['clean_review_without_se'].str.replace('effects', '')\n",
    "test_data.head()"
   ]
  },
  {
   "cell_type": "markdown",
   "metadata": {},
   "source": [
    "## Create word-count feature"
   ]
  },
  {
   "cell_type": "code",
   "execution_count": 100,
   "metadata": {},
   "outputs": [
    {
     "data": {
      "text/html": [
       "<div>\n",
       "<style scoped>\n",
       "    .dataframe tbody tr th:only-of-type {\n",
       "        vertical-align: middle;\n",
       "    }\n",
       "\n",
       "    .dataframe tbody tr th {\n",
       "        vertical-align: top;\n",
       "    }\n",
       "\n",
       "    .dataframe thead th {\n",
       "        text-align: right;\n",
       "    }\n",
       "</style>\n",
       "<table border=\"1\" class=\"dataframe\">\n",
       "  <thead>\n",
       "    <tr style=\"text-align: right;\">\n",
       "      <th></th>\n",
       "      <th>drugName</th>\n",
       "      <th>review</th>\n",
       "      <th>clean_review</th>\n",
       "      <th>clean_review_without_se</th>\n",
       "      <th>wordcount</th>\n",
       "    </tr>\n",
       "  </thead>\n",
       "  <tbody>\n",
       "    <tr>\n",
       "      <th>300</th>\n",
       "      <td>Nitrofurantoin</td>\n",
       "      <td>\"Although I think I might have kidney stones i...</td>\n",
       "      <td>although think might kidney stones instead uti...</td>\n",
       "      <td>although think might kidney stones instead uti...</td>\n",
       "      <td>91</td>\n",
       "    </tr>\n",
       "    <tr>\n",
       "      <th>301</th>\n",
       "      <td>Metronidazole</td>\n",
       "      <td>\"I&amp;#039;ve been taking metronidazoles for 4 da...</td>\n",
       "      <td>ive taking metronidazoles days day im still ag...</td>\n",
       "      <td>ive taking metronidazoles days day im still ag...</td>\n",
       "      <td>53</td>\n",
       "    </tr>\n",
       "    <tr>\n",
       "      <th>302</th>\n",
       "      <td>Ziprasidone</td>\n",
       "      <td>\"This was the worst experience I&amp;#039;ve had w...</td>\n",
       "      <td>worst experience ive medication go lithium gav...</td>\n",
       "      <td>worst experience ive medication go lithium gav...</td>\n",
       "      <td>135</td>\n",
       "    </tr>\n",
       "    <tr>\n",
       "      <th>303</th>\n",
       "      <td>Acetaminophen / butalbital / caffeine</td>\n",
       "      <td>\"I have been suffering from terrible allergies...</td>\n",
       "      <td>suffering terrible allergies due hay fever all...</td>\n",
       "      <td>suffering terrible allergies due hay fever all...</td>\n",
       "      <td>55</td>\n",
       "    </tr>\n",
       "    <tr>\n",
       "      <th>304</th>\n",
       "      <td>Naproxen</td>\n",
       "      <td>\"One thing I&amp;#039;ve learned is to avoid dairy...</td>\n",
       "      <td>one thing ive learned avoid dairy products muc...</td>\n",
       "      <td>one thing ive learned avoid dairy products muc...</td>\n",
       "      <td>48</td>\n",
       "    </tr>\n",
       "  </tbody>\n",
       "</table>\n",
       "</div>"
      ],
      "text/plain": [
       "                                  drugName  \\\n",
       "300                         Nitrofurantoin   \n",
       "301                          Metronidazole   \n",
       "302                            Ziprasidone   \n",
       "303  Acetaminophen / butalbital / caffeine   \n",
       "304                               Naproxen   \n",
       "\n",
       "                                                review  \\\n",
       "300  \"Although I think I might have kidney stones i...   \n",
       "301  \"I&#039;ve been taking metronidazoles for 4 da...   \n",
       "302  \"This was the worst experience I&#039;ve had w...   \n",
       "303  \"I have been suffering from terrible allergies...   \n",
       "304  \"One thing I&#039;ve learned is to avoid dairy...   \n",
       "\n",
       "                                          clean_review  \\\n",
       "300  although think might kidney stones instead uti...   \n",
       "301  ive taking metronidazoles days day im still ag...   \n",
       "302  worst experience ive medication go lithium gav...   \n",
       "303  suffering terrible allergies due hay fever all...   \n",
       "304  one thing ive learned avoid dairy products muc...   \n",
       "\n",
       "                               clean_review_without_se  wordcount  \n",
       "300  although think might kidney stones instead uti...         91  \n",
       "301  ive taking metronidazoles days day im still ag...         53  \n",
       "302  worst experience ive medication go lithium gav...        135  \n",
       "303  suffering terrible allergies due hay fever all...         55  \n",
       "304  one thing ive learned avoid dairy products muc...         48  "
      ]
     },
     "execution_count": 100,
     "metadata": {},
     "output_type": "execute_result"
    }
   ],
   "source": [
    "wordcount = [len(train_data.review.iloc[index].split()) for index in range(len(train_data))]\n",
    "train_data[\"wordcount\"] = wordcount\n",
    "\n",
    "train_data.head()"
   ]
  },
  {
   "cell_type": "code",
   "execution_count": 102,
   "metadata": {},
   "outputs": [
    {
     "data": {
      "text/html": [
       "<div>\n",
       "<style scoped>\n",
       "    .dataframe tbody tr th:only-of-type {\n",
       "        vertical-align: middle;\n",
       "    }\n",
       "\n",
       "    .dataframe tbody tr th {\n",
       "        vertical-align: top;\n",
       "    }\n",
       "\n",
       "    .dataframe thead th {\n",
       "        text-align: right;\n",
       "    }\n",
       "</style>\n",
       "<table border=\"1\" class=\"dataframe\">\n",
       "  <thead>\n",
       "    <tr style=\"text-align: right;\">\n",
       "      <th></th>\n",
       "      <th>drugName</th>\n",
       "      <th>review</th>\n",
       "      <th>rating</th>\n",
       "      <th>sideEffect</th>\n",
       "      <th>clean_review</th>\n",
       "      <th>clean_review_without_se</th>\n",
       "      <th>wordcount</th>\n",
       "    </tr>\n",
       "  </thead>\n",
       "  <tbody>\n",
       "    <tr>\n",
       "      <th>0</th>\n",
       "      <td>Valsartan</td>\n",
       "      <td>\"It has no side effect, I take it in combinati...</td>\n",
       "      <td>9</td>\n",
       "      <td>0</td>\n",
       "      <td>side effect take combination bystolic mg fish oil</td>\n",
       "      <td>effect take combination bystolic mg fish oil</td>\n",
       "      <td>17</td>\n",
       "    </tr>\n",
       "    <tr>\n",
       "      <th>1</th>\n",
       "      <td>Guanfacine</td>\n",
       "      <td>\"My son is halfway through his fourth week of ...</td>\n",
       "      <td>8</td>\n",
       "      <td>1</td>\n",
       "      <td>son halfway fourth week intuniv became concern...</td>\n",
       "      <td>son halfway fourth week intuniv became concern...</td>\n",
       "      <td>141</td>\n",
       "    </tr>\n",
       "    <tr>\n",
       "      <th>2</th>\n",
       "      <td>Lybrel</td>\n",
       "      <td>\"I used to take another oral contraceptive, wh...</td>\n",
       "      <td>5</td>\n",
       "      <td>1</td>\n",
       "      <td>used take another oral contraceptive pill cycl...</td>\n",
       "      <td>used take another oral contraceptive pill cycl...</td>\n",
       "      <td>134</td>\n",
       "    </tr>\n",
       "    <tr>\n",
       "      <th>3</th>\n",
       "      <td>Ortho Evra</td>\n",
       "      <td>\"This is my first time using any form of birth...</td>\n",
       "      <td>8</td>\n",
       "      <td>1</td>\n",
       "      <td>first time using form birth control im glad we...</td>\n",
       "      <td>first time using form birth control im glad we...</td>\n",
       "      <td>89</td>\n",
       "    </tr>\n",
       "    <tr>\n",
       "      <th>4</th>\n",
       "      <td>Buprenorphine / naloxone</td>\n",
       "      <td>\"Suboxone has completely turned my life around...</td>\n",
       "      <td>9</td>\n",
       "      <td>1</td>\n",
       "      <td>suboxone completely turned life around feel he...</td>\n",
       "      <td>suboxone completely turned life around feel he...</td>\n",
       "      <td>124</td>\n",
       "    </tr>\n",
       "  </tbody>\n",
       "</table>\n",
       "</div>"
      ],
      "text/plain": [
       "                   drugName  \\\n",
       "0                 Valsartan   \n",
       "1                Guanfacine   \n",
       "2                    Lybrel   \n",
       "3                Ortho Evra   \n",
       "4  Buprenorphine / naloxone   \n",
       "\n",
       "                                              review  rating  sideEffect  \\\n",
       "0  \"It has no side effect, I take it in combinati...       9           0   \n",
       "1  \"My son is halfway through his fourth week of ...       8           1   \n",
       "2  \"I used to take another oral contraceptive, wh...       5           1   \n",
       "3  \"This is my first time using any form of birth...       8           1   \n",
       "4  \"Suboxone has completely turned my life around...       9           1   \n",
       "\n",
       "                                        clean_review  \\\n",
       "0  side effect take combination bystolic mg fish oil   \n",
       "1  son halfway fourth week intuniv became concern...   \n",
       "2  used take another oral contraceptive pill cycl...   \n",
       "3  first time using form birth control im glad we...   \n",
       "4  suboxone completely turned life around feel he...   \n",
       "\n",
       "                             clean_review_without_se  wordcount  \n",
       "0       effect take combination bystolic mg fish oil         17  \n",
       "1  son halfway fourth week intuniv became concern...        141  \n",
       "2  used take another oral contraceptive pill cycl...        134  \n",
       "3  first time using form birth control im glad we...         89  \n",
       "4  suboxone completely turned life around feel he...        124  "
      ]
     },
     "execution_count": 102,
     "metadata": {},
     "output_type": "execute_result"
    }
   ],
   "source": [
    "wordcount = [len(test_data.review.iloc[index].split()) for index in range(len(test_data))]\n",
    "test_data[\"wordcount\"] = wordcount\n",
    "\n",
    "test_data.head()"
   ]
  },
  {
   "cell_type": "markdown",
   "metadata": {},
   "source": [
    "## Cound Mentioning of drug name"
   ]
  },
  {
   "cell_type": "code",
   "execution_count": null,
   "metadata": {},
   "outputs": [],
   "source": [
    "wordcount = [len(train_data.review.iloc[index].split()) for index in range(len(train_data))]\n",
    "train_data[\"wordcount\"] = wordcount\n",
    "\n",
    "train_data.head()"
   ]
  },
  {
   "cell_type": "code",
   "execution_count": 132,
   "metadata": {},
   "outputs": [
    {
     "data": {
      "text/plain": [
       "'acetaminophen / butalbital / caffeine'"
      ]
     },
     "execution_count": 132,
     "metadata": {},
     "output_type": "execute_result"
    }
   ],
   "source": [
    "train_data.drugName.iloc[3].lower()"
   ]
  },
  {
   "cell_type": "code",
   "execution_count": 131,
   "metadata": {},
   "outputs": [
    {
     "data": {
      "text/plain": [
       "'suffering terrible allergies due hay fever allergies caused horrible headaches doctor gave prescription butalbital fioricet helped much taking excedrin migraine however keeping night everyone suffers must try inexpensive compared migraine medications'"
      ]
     },
     "execution_count": 131,
     "metadata": {},
     "output_type": "execute_result"
    }
   ],
   "source": [
    "train_data.clean_review.iloc[3]"
   ]
  },
  {
   "cell_type": "code",
   "execution_count": 128,
   "metadata": {},
   "outputs": [
    {
     "data": {
      "text/plain": [
       "False"
      ]
     },
     "execution_count": 128,
     "metadata": {},
     "output_type": "execute_result"
    }
   ],
   "source": [
    "train_data.drugName.iloc[1] in train_data.clean_review.iloc[1]"
   ]
  },
  {
   "cell_type": "markdown",
   "metadata": {},
   "source": [
    "# Unsupervised"
   ]
  },
  {
   "cell_type": "markdown",
   "metadata": {},
   "source": [
    "## Simple LDA"
   ]
  },
  {
   "cell_type": "code",
   "execution_count": 64,
   "metadata": {},
   "outputs": [],
   "source": [
    "from sklearn.decomposition import LatentDirichletAllocation\n",
    "from sklearn.feature_extraction.text import TfidfVectorizer\n",
    "\n",
    "vectorizer = TfidfVectorizer(ngram_range = (2,2)).fit(train_data['clean_review'])\n",
    "data_vectorized = vectorizer.transform(train_data['clean_review'])\n",
    "\n",
    "lda_model = LatentDirichletAllocation(n_components=2).fit(data_vectorized)"
   ]
  },
  {
   "cell_type": "code",
   "execution_count": 65,
   "metadata": {},
   "outputs": [
    {
     "name": "stdout",
     "output_type": "stream",
     "text": [
      "Topic 0:\n",
      "[('birth control', 14.282243252790618), ('mood swings', 9.677564552515179), ('started taking', 9.557954493707632), ('feel like', 8.748514081175049), ('weight gain', 8.34359066640661), ('two weeks', 7.54064157371567), ('works great', 7.362419393516649), ('sex drive', 6.616544644065782), ('felt like', 6.4544125763807205), ('much better', 6.323748416194472)]\n",
      "Topic 1:\n",
      "[('birth control', 19.139876624966103), ('weight gain', 12.75356809100495), ('works well', 9.807101547321691), ('started taking', 9.360534725905719), ('mood swings', 9.282744326166169), ('works great', 9.10169180970264), ('first time', 9.020511298157102), ('years ago', 7.620580970468914), ('sex drive', 7.5680010711070755), ('feel like', 7.376928158808169)]\n"
     ]
    }
   ],
   "source": [
    "# visualise output\n",
    "def print_topics(model, vectorizer):\n",
    "    for idx, topic in enumerate(model.components_):\n",
    "        print(\"Topic %d:\" % (idx))\n",
    "        print([(vectorizer.get_feature_names()[i], topic[i])\n",
    "                        for i in topic.argsort()[:-10 - 1:-1]])\n",
    "        \n",
    "print_topics(lda_model, vectorizer)"
   ]
  },
  {
   "cell_type": "markdown",
   "metadata": {},
   "source": [
    "## Interpretation"
   ]
  },
  {
   "cell_type": "code",
   "execution_count": 66,
   "metadata": {},
   "outputs": [
    {
     "name": "stdout",
     "output_type": "stream",
     "text": [
      "topic 0 : 0.5\n",
      "topic 1 : 0.5\n"
     ]
    }
   ],
   "source": [
    "# dummy test: is 'side effect' a topic?\n",
    "example = [\"side effect\"]\n",
    "\n",
    "example_vectorized = vectorizer.transform(example)\n",
    "lda_vectors = lda_model.transform(example_vectorized)\n",
    "\n",
    "print(\"topic 0 :\", lda_vectors[0][0])\n",
    "print(\"topic 1 :\", lda_vectors[0][1]) \n",
    "# nope, makes sense, since it hasn't seen it before, it doesnt know where to put it."
   ]
  },
  {
   "cell_type": "code",
   "execution_count": 30,
   "metadata": {},
   "outputs": [],
   "source": [
    "# transform test_data\n",
    "test_data_vectorized = vectorizer.transform(test_data['clean_review'])\n",
    "\n",
    "lda_vectors = lda_model.transform(test_data_vectorized)"
   ]
  },
  {
   "cell_type": "code",
   "execution_count": 31,
   "metadata": {},
   "outputs": [
    {
     "data": {
      "text/plain": [
       "51.0"
      ]
     },
     "execution_count": 31,
     "metadata": {},
     "output_type": "execute_result"
    }
   ],
   "source": [
    "# Compare\n",
    "predicted_topic = []\n",
    "for row in range(len(test_data)):\n",
    "    if (lda_vectors[row][0] > lda_vectors[row][1]):\n",
    "        predicted_topic.append(0)\n",
    "    else: predicted_topic.append(1)\n",
    "\n",
    "((np.array(predicted_topic) == np.array(test_data.sideEffect)).sum()) / 3\n",
    "\n",
    "## 55% --> pretty much randomly assigned"
   ]
  },
  {
   "cell_type": "markdown",
   "metadata": {},
   "source": [
    "# Supervised Learing "
   ]
  },
  {
   "cell_type": "markdown",
   "metadata": {},
   "source": [
    "## Create X_train, X_test, y_train, y_test"
   ]
  },
  {
   "cell_type": "code",
   "execution_count": 144,
   "metadata": {},
   "outputs": [],
   "source": [
    "from sklearn.model_selection import train_test_split\n",
    "\n",
    "tfidf_vectorizer = TfidfVectorizer(max_df = 0.8)\n",
    "\n",
    "X = test_data.drop(\"sideEffect\", axis=1)\n",
    "y = test_data.sideEffect\n",
    "\n",
    "X_train, X_test, y_train, y_test = train_test_split(X, y, test_size=0.3, random_state = 4)\n",
    "\n",
    "X_train_vec = tfidf_vectorizer.fit_transform(X_train[\"clean_review\"])\n",
    "X_test_vec = tfidf_vectorizer.transform(X_test[\"clean_review\"])"
   ]
  },
  {
   "cell_type": "code",
   "execution_count": 145,
   "metadata": {},
   "outputs": [
    {
     "data": {
      "text/plain": [
       "(<210x2451 sparse matrix of type '<class 'numpy.float64'>'\n",
       " \twith 7703 stored elements in Compressed Sparse Row format>,\n",
       " <90x2451 sparse matrix of type '<class 'numpy.float64'>'\n",
       " \twith 2721 stored elements in Compressed Sparse Row format>,\n",
       " 291    1\n",
       " 226    1\n",
       " 154    1\n",
       " 48     1\n",
       " 101    1\n",
       "       ..\n",
       " 58     0\n",
       " 87     0\n",
       " 197    0\n",
       " 174    0\n",
       " 122    1\n",
       " Name: sideEffect, Length: 210, dtype: int64,\n",
       " 293    1\n",
       " 166    1\n",
       " 18     1\n",
       " 43     0\n",
       " 241    0\n",
       "       ..\n",
       " 134    0\n",
       " 111    0\n",
       " 212    1\n",
       " 278    0\n",
       " 264    1\n",
       " Name: sideEffect, Length: 90, dtype: int64)"
      ]
     },
     "execution_count": 145,
     "metadata": {},
     "output_type": "execute_result"
    }
   ],
   "source": [
    "X_train_vec, X_test_vec, y_train, y_test"
   ]
  },
  {
   "cell_type": "markdown",
   "metadata": {},
   "source": [
    "## MNBayes"
   ]
  },
  {
   "cell_type": "code",
   "execution_count": 146,
   "metadata": {},
   "outputs": [
    {
     "data": {
      "text/plain": [
       "0.6555555555555556"
      ]
     },
     "execution_count": 146,
     "metadata": {},
     "output_type": "execute_result"
    }
   ],
   "source": [
    "from sklearn.naive_bayes import MultinomialNB\n",
    "nb_model = MultinomialNB()\n",
    "nb_model.fit(X_train_vec,y_train)\n",
    "nb_model.score(X_test_vec,y_test)"
   ]
  },
  {
   "cell_type": "code",
   "execution_count": 54,
   "metadata": {},
   "outputs": [
    {
     "ename": "SyntaxError",
     "evalue": "invalid syntax (<ipython-input-54-4d80ad74d2ce>, line 7)",
     "output_type": "error",
     "traceback": [
      "\u001b[0;36m  File \u001b[0;32m\"<ipython-input-54-4d80ad74d2ce>\"\u001b[0;36m, line \u001b[0;32m7\u001b[0m\n\u001b[0;31m    .toarray()\u001b[0m\n\u001b[0m    ^\u001b[0m\n\u001b[0;31mSyntaxError\u001b[0m\u001b[0;31m:\u001b[0m invalid syntax\n"
     ]
    }
   ],
   "source": [
    "# as crossvalidation\n",
    "from sklearn.model_selection import cross_validate\n",
    "from sklearn.feature_extraction.text import CountVectorizer\n",
    "\n",
    "vectorizer = CountVectorizer()\n",
    "X_bow = vectorizer.fit_transform(data[test_data.clean_review])\n",
    ".toarray()\n",
    "\n",
    "y = test_data.sideEffect\n",
    "nb_model = MultinomialNB()\n",
    "\n",
    "cv_results = cross_validate(nb_model, X_bow, y, cv=5)\n",
    "\n",
    "cv_results['test_score'].mean()"
   ]
  },
  {
   "cell_type": "markdown",
   "metadata": {},
   "source": [
    "## Logistic Regression"
   ]
  },
  {
   "cell_type": "code",
   "execution_count": 147,
   "metadata": {},
   "outputs": [
    {
     "name": "stdout",
     "output_type": "stream",
     "text": [
      "0.7222222222222222\n"
     ]
    }
   ],
   "source": [
    "# Instanciate the model\n",
    "from sklearn.linear_model import LogisticRegression\n",
    "log_model = LogisticRegression(max_iter=1000)\n",
    "\n",
    "# Train the model on the Training data\n",
    "log_model.fit(X_train_vec, y_train)\n",
    "# Score the model on the Testing data\n",
    "print(log_model.score(X_test_vec,y_test))"
   ]
  },
  {
   "cell_type": "code",
   "execution_count": 150,
   "metadata": {},
   "outputs": [
    {
     "data": {
      "text/html": [
       "<div>\n",
       "<style scoped>\n",
       "    .dataframe tbody tr th:only-of-type {\n",
       "        vertical-align: middle;\n",
       "    }\n",
       "\n",
       "    .dataframe tbody tr th {\n",
       "        vertical-align: top;\n",
       "    }\n",
       "\n",
       "    .dataframe thead th {\n",
       "        text-align: right;\n",
       "    }\n",
       "</style>\n",
       "<table border=\"1\" class=\"dataframe\">\n",
       "  <thead>\n",
       "    <tr style=\"text-align: right;\">\n",
       "      <th></th>\n",
       "      <th>rating</th>\n",
       "      <th>wordcount</th>\n",
       "    </tr>\n",
       "  </thead>\n",
       "  <tbody>\n",
       "    <tr>\n",
       "      <th>291</th>\n",
       "      <td>4</td>\n",
       "      <td>140</td>\n",
       "    </tr>\n",
       "    <tr>\n",
       "      <th>226</th>\n",
       "      <td>1</td>\n",
       "      <td>137</td>\n",
       "    </tr>\n",
       "    <tr>\n",
       "      <th>154</th>\n",
       "      <td>5</td>\n",
       "      <td>117</td>\n",
       "    </tr>\n",
       "    <tr>\n",
       "      <th>48</th>\n",
       "      <td>4</td>\n",
       "      <td>101</td>\n",
       "    </tr>\n",
       "    <tr>\n",
       "      <th>101</th>\n",
       "      <td>8</td>\n",
       "      <td>126</td>\n",
       "    </tr>\n",
       "  </tbody>\n",
       "</table>\n",
       "</div>"
      ],
      "text/plain": [
       "     rating  wordcount\n",
       "291       4        140\n",
       "226       1        137\n",
       "154       5        117\n",
       "48        4        101\n",
       "101       8        126"
      ]
     },
     "execution_count": 150,
     "metadata": {},
     "output_type": "execute_result"
    }
   ],
   "source": [
    "X_train[['rating', 'wordcount']].head()"
   ]
  },
  {
   "cell_type": "code",
   "execution_count": 151,
   "metadata": {},
   "outputs": [
    {
     "name": "stdout",
     "output_type": "stream",
     "text": [
      "0.7\n"
     ]
    }
   ],
   "source": [
    "# Instanciate the model\n",
    "from sklearn.linear_model import LogisticRegression\n",
    "log_model2 = LogisticRegression(max_iter=1000)\n",
    "\n",
    "# Train the model on the Training data\n",
    "log_model2.fit(X_train[['rating', 'wordcount']], y_train)\n",
    "# Score the model on the Testing data\n",
    "print(log_model2.score(X_test[['rating', 'wordcount']],y_test))"
   ]
  },
  {
   "cell_type": "code",
   "execution_count": null,
   "metadata": {},
   "outputs": [],
   "source": []
  }
 ],
 "metadata": {
  "kernelspec": {
   "display_name": "Python 3",
   "language": "python",
   "name": "python3"
  },
  "language_info": {
   "codemirror_mode": {
    "name": "ipython",
    "version": 3
   },
   "file_extension": ".py",
   "mimetype": "text/x-python",
   "name": "python",
   "nbconvert_exporter": "python",
   "pygments_lexer": "ipython3",
   "version": "3.7.7"
  },
  "toc": {
   "base_numbering": 1,
   "nav_menu": {},
   "number_sections": true,
   "sideBar": true,
   "skip_h1_title": false,
   "title_cell": "Table of Contents",
   "title_sidebar": "Contents",
   "toc_cell": false,
   "toc_position": {},
   "toc_section_display": true,
   "toc_window_display": false
  }
 },
 "nbformat": 4,
 "nbformat_minor": 4
}
