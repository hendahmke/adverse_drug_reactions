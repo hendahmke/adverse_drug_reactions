{
  "nbformat": 4,
  "nbformat_minor": 0,
  "metadata": {
    "colab": {
      "name": "Adverse Drug Events - CountVectorizer | Latent Dirichlet allocation.ipynb",
      "provenance": [],
      "collapsed_sections": [
        "IFhAZdtkYrNO",
        "laSyLC8bYzfb",
        "mBXYxVWOMNB7",
        "KGs0FYOJYuiw",
        "XSydII74ZwOv",
        "VfbrUsALaap_"
      ]
    },
    "kernelspec": {
      "display_name": "Python 3",
      "name": "python3"
    }
  },
  "cells": [
    {
      "cell_type": "markdown",
      "metadata": {
        "id": "IFhAZdtkYrNO"
      },
      "source": [
        "# Imports"
      ]
    },
    {
      "cell_type": "code",
      "metadata": {
        "colab": {
          "base_uri": "https://localhost:8080/"
        },
        "id": "MGWhRE5BdKLP",
        "outputId": "38436df6-19ff-4f36-91ad-a611275dc86c"
      },
      "source": [
        "import pandas as pd # DataFrame Manipulation Package\n",
        "import numpy as np\n",
        "import matplotlib.pyplot as plt\n",
        "\n",
        "from sklearn.feature_extraction.text import TfidfVectorizer # Convert a collection of raw documents to a matrix of TF-IDF features\n",
        "from sklearn.decomposition import LatentDirichletAllocation # Latent Dirichlet Allocation is a topic model that is used for discovering abstract topics from a collection of documents (variational Bayes algorithm)\n",
        "from sklearn.feature_extraction.text import CountVectorizer # Convert a collection of text documents to a matrix of token counts\n",
        "\n",
        "from sklearn.pipeline import Pipeline\n",
        "from sklearn.model_selection import GridSearchCV\n",
        "from sklearn.naive_bayes import MultinomialNB # The multinomial Naive Bayes classifier is suitable for classification with discrete features (e.g., word counts for text classification)\n",
        "\n",
        "import string # Collection of string operations\n",
        "from nltk.corpus import stopwords \n",
        "from nltk.stem.wordnet import WordNetLemmatizer #Lemmatize using WordNet's built-in morphy function. Returns the input word unchanged if it cannot be found in WordNet.\n",
        "from nltk import word_tokenize\n",
        "\n",
        "from nltk.sentiment.util import mark_negation"
      ],
      "execution_count": 1,
      "outputs": [
        {
          "output_type": "stream",
          "text": [
            "/usr/local/lib/python3.6/dist-packages/nltk/twitter/__init__.py:20: UserWarning: The twython library has not been installed. Some functionality from the twitter package will not be available.\n",
            "  warnings.warn(\"The twython library has not been installed. \"\n"
          ],
          "name": "stderr"
        }
      ]
    },
    {
      "cell_type": "code",
      "metadata": {
        "colab": {
          "base_uri": "https://localhost:8080/"
        },
        "id": "CtTAm1pM4S1J",
        "outputId": "1ccfa3d1-1189-48e1-c30b-1c49a92e8f66"
      },
      "source": [
        "!pip install corextopic"
      ],
      "execution_count": 2,
      "outputs": [
        {
          "output_type": "stream",
          "text": [
            "Requirement already satisfied: corextopic in /usr/local/lib/python3.6/dist-packages (1.0.6)\n"
          ],
          "name": "stdout"
        }
      ]
    },
    {
      "cell_type": "code",
      "metadata": {
        "colab": {
          "base_uri": "https://localhost:8080/"
        },
        "id": "Qvan5aGEvZUx",
        "outputId": "450bdee8-87cd-4e3f-e982-df0521a244ea"
      },
      "source": [
        "from google.colab import drive\n",
        "drive.mount('drive')"
      ],
      "execution_count": 3,
      "outputs": [
        {
          "output_type": "stream",
          "text": [
            "Drive already mounted at drive; to attempt to forcibly remount, call drive.mount(\"drive\", force_remount=True).\n"
          ],
          "name": "stdout"
        }
      ]
    },
    {
      "cell_type": "code",
      "metadata": {
        "colab": {
          "base_uri": "https://localhost:8080/"
        },
        "id": "MwlPZL0Nve81",
        "outputId": "ee52eaa1-09bf-4f95-9d21-4d989a2d308e"
      },
      "source": [
        "import nltk\n",
        "\n",
        "nltk.download('stopwords')\n",
        "nltk.download('punkt')\n",
        "nltk.download('wordnet')"
      ],
      "execution_count": 4,
      "outputs": [
        {
          "output_type": "stream",
          "text": [
            "[nltk_data] Downloading package stopwords to /root/nltk_data...\n",
            "[nltk_data]   Package stopwords is already up-to-date!\n",
            "[nltk_data] Downloading package punkt to /root/nltk_data...\n",
            "[nltk_data]   Package punkt is already up-to-date!\n",
            "[nltk_data] Downloading package wordnet to /root/nltk_data...\n",
            "[nltk_data]   Package wordnet is already up-to-date!\n"
          ],
          "name": "stdout"
        },
        {
          "output_type": "execute_result",
          "data": {
            "text/plain": [
              "True"
            ]
          },
          "metadata": {
            "tags": []
          },
          "execution_count": 4
        }
      ]
    },
    {
      "cell_type": "markdown",
      "metadata": {
        "id": "laSyLC8bYzfb"
      },
      "source": [
        "# Functions"
      ]
    },
    {
      "cell_type": "code",
      "metadata": {
        "id": "uj-5L5mXHEcw"
      },
      "source": [
        "stop_words = set(stopwords.words('english')) \n",
        "\n",
        "NEGATIONS = [\"no\", \"not\", \"shouldn't\", \"aren't\", \"couldn't\", \"didn't\", \"doesn't\", \"don't\", \"wasn't\", \"weren't\", \"wouldn't\", \"nor\"]\n",
        "\n",
        "NEW_WORDS = ['mg', \"month\", \"year\", \"day\", \"week\", \"time\", \"im\", \"ive\", \"hour\"]\n",
        "\n",
        "for negation in NEGATIONS:\n",
        "    stop_words.remove(negation)\n",
        "\n",
        "for new_word in NEW_WORDS:\n",
        "    stop_words.add(new_word)\n",
        "\n",
        "# stop_words"
      ],
      "execution_count": 5,
      "outputs": []
    },
    {
      "cell_type": "code",
      "metadata": {
        "id": "b-NO8IZarxx7"
      },
      "source": [
        "def to_list(x):\n",
        "    list_words = x.split(' ')\n",
        "    return list_words\n",
        "\n",
        "def to_string(x):\n",
        "    string = \" \".join(x)\n",
        "    return string\n",
        "\n",
        "#===============================================================\n",
        "\n",
        "def punctuation(x):\n",
        "    for punctuation in string.punctuation:\n",
        "        x =  x.replace(punctuation, '')\n",
        "    return x.lower()\n",
        "\n",
        "def remove_numbers (x):\n",
        "    words_only = ''.join([i for i in x if not i.isdigit()])\n",
        "    return words_only\n",
        "\n",
        "def m_negation(x):\n",
        "    tokenized = word_tokenize(x)\n",
        "    without_stopwords = [word for word in tokenized if not word in stop_words]\n",
        "    tokenized_neg = mark_negation(without_stopwords)\n",
        "    return tokenized_neg\n",
        "\n",
        "def remove_stopwords(x):\n",
        "    tokenized = word_tokenize(x)\n",
        "    without_stopwords = [word for word in tokenized if not word in stop_words]\n",
        "    return without_stopwords\n",
        "\n",
        "def lemmatize_review(x):\n",
        "    lemma = WordNetLemmatizer()\n",
        "    lista = []\n",
        "    for w in x:\n",
        "       lista.append(lemma.lemmatize(w))\n",
        "    return lista\n",
        "\n",
        "#===============================================================\n",
        "\n",
        "def count_words(x):\n",
        "    wordfreq = []\n",
        "    for w in x:\n",
        "        wordfreq.append(x.count(w))\n",
        "    return dict(zip(x, wordfreq))\n",
        "\n",
        "def total_count(x):\n",
        "    total_count = {}\n",
        "    for row in x:\n",
        "        for key in row.keys():\n",
        "          if key in total_count:\n",
        "              total_count[key] += 1\n",
        "          else:\n",
        "              total_count[key] = 1\n",
        "    return pd.DataFrame(sorted(total_count.items(), key=lambda x: x[1], reverse=True)).head(30).T\n",
        "\n",
        "def round_two(x):\n",
        "    return str(int(round(x, 2) * 100)) + \"%\"\n",
        "\n",
        "def one_or_zero(x):\n",
        "    # Makes the prediction a binary outpur\n",
        "    if x > 0.5:\n",
        "        x = 1\n",
        "    else:\n",
        "        x = 0\n",
        "    return x\n",
        "\n",
        "#===============================================================\n",
        "\n",
        "def print_topics(model, vectorizer):\n",
        "    for idx, topic in enumerate(model.components_):\n",
        "        print(\"Topic %d:\" % (idx))\n",
        "        print([(vectorizer.get_feature_names()[i], round(topic[i], 2))\n",
        "                        for i in topic.argsort()[:-10 - 1:-1]])"
      ],
      "execution_count": 6,
      "outputs": []
    },
    {
      "cell_type": "markdown",
      "metadata": {
        "id": "mBXYxVWOMNB7"
      },
      "source": [
        "# Manual"
      ]
    },
    {
      "cell_type": "code",
      "metadata": {
        "colab": {
          "base_uri": "https://localhost:8080/",
          "height": 278
        },
        "id": "rGlZiURk-Bj-",
        "outputId": "59af4db1-f4ab-48fc-8286-0abef56b4bb9"
      },
      "source": [
        "#manual = pd.read_csv('manually_labelled_data.csv')\n",
        "\n",
        "manual = pd.read_csv(\"/content/drive/MyDrive/Data/manually_labelled_data.csv\")\n",
        "\n",
        "manual = manual.drop([\"uniqueID\", \"drugName\", \"condition\", \"date\", \"rating\", \"usefulCount\"], axis = 1)\n",
        "\n",
        "manual[\"clean_review\"] = manual[\"review\"].apply(punctuation)\n",
        "manual['clean_review'] = manual.clean_review.apply(remove_numbers)\n",
        "manual['clean_review_lst'] = manual.clean_review.apply(to_list)\n",
        "\n",
        "manual[\"NonStopwords_review_lst\"] = manual.clean_review.apply(remove_stopwords)\n",
        "manual[\"NonStopwords_review_str\"] = manual.NonStopwords_review_lst.apply(to_string)\n",
        "\n",
        "manual[\"NonStopwords_review_lst_MN\"] = manual.clean_review.apply(m_negation)\n",
        "manual[\"NonStopwords_review_str_MN\"] = manual.NonStopwords_review_lst_MN.apply(to_string)\n",
        "\n",
        "manual[\"Lemmatized_review_lst\"] = manual.NonStopwords_review_lst_MN.apply(lemmatize_review)\n",
        "manual[\"Lemmatized_review_str\"] = manual.Lemmatized_review_lst.apply(to_string)\n",
        "\n",
        "manual[\"Lemmatized_review_list\"] = manual.NonStopwords_review_lst.apply(lemmatize_review)\n",
        "manual[\"Lemmatized_review\"] = manual.Lemmatized_review_list.apply(to_string)\n",
        "manual[\"Lemmatized_review_list\"] = manual.Lemmatized_review.apply(remove_stopwords)\n",
        "manual[\"Lemmatized_review\"] = manual.Lemmatized_review_list.apply(to_string)\n",
        "\n",
        "manual[\"words_count\"] = manual.Lemmatized_review_list.apply(count_words)\n",
        "\n",
        "X = manual[\"Lemmatized_review_str\"]\n",
        "\n",
        "y = manual[\"sideEffect\"]\n",
        "\n",
        "manual = manual.drop([\"clean_review\", \"clean_review_lst\", \"NonStopwords_review_lst\", \"NonStopwords_review_str\"], axis = 1)\n",
        "\n",
        "manual.head(3)"
      ],
      "execution_count": 7,
      "outputs": [
        {
          "output_type": "execute_result",
          "data": {
            "text/html": [
              "<div>\n",
              "<style scoped>\n",
              "    .dataframe tbody tr th:only-of-type {\n",
              "        vertical-align: middle;\n",
              "    }\n",
              "\n",
              "    .dataframe tbody tr th {\n",
              "        vertical-align: top;\n",
              "    }\n",
              "\n",
              "    .dataframe thead th {\n",
              "        text-align: right;\n",
              "    }\n",
              "</style>\n",
              "<table border=\"1\" class=\"dataframe\">\n",
              "  <thead>\n",
              "    <tr style=\"text-align: right;\">\n",
              "      <th></th>\n",
              "      <th>review</th>\n",
              "      <th>sideEffect</th>\n",
              "      <th>NonStopwords_review_lst_MN</th>\n",
              "      <th>NonStopwords_review_str_MN</th>\n",
              "      <th>Lemmatized_review_lst</th>\n",
              "      <th>Lemmatized_review_str</th>\n",
              "      <th>Lemmatized_review_list</th>\n",
              "      <th>Lemmatized_review</th>\n",
              "      <th>words_count</th>\n",
              "    </tr>\n",
              "  </thead>\n",
              "  <tbody>\n",
              "    <tr>\n",
              "      <th>0</th>\n",
              "      <td>\"It has no side effect, I take it in combinati...</td>\n",
              "      <td>0</td>\n",
              "      <td>[no, side_NEG, effect_NEG, take_NEG, combinati...</td>\n",
              "      <td>no side_NEG effect_NEG take_NEG combination_NE...</td>\n",
              "      <td>[no, side_NEG, effect_NEG, take_NEG, combinati...</td>\n",
              "      <td>no side_NEG effect_NEG take_NEG combination_NE...</td>\n",
              "      <td>[no, side, effect, take, combination, bystolic...</td>\n",
              "      <td>no side effect take combination bystolic fish oil</td>\n",
              "      <td>{'no': 1, 'side': 1, 'effect': 1, 'take': 1, '...</td>\n",
              "    </tr>\n",
              "    <tr>\n",
              "      <th>1</th>\n",
              "      <td>\"My son is halfway through his fourth week of ...</td>\n",
              "      <td>1</td>\n",
              "      <td>[son, halfway, fourth, intuniv, became, concer...</td>\n",
              "      <td>son halfway fourth intuniv became concerned be...</td>\n",
              "      <td>[son, halfway, fourth, intuniv, became, concer...</td>\n",
              "      <td>son halfway fourth intuniv became concerned be...</td>\n",
              "      <td>[son, halfway, fourth, intuniv, became, concer...</td>\n",
              "      <td>son halfway fourth intuniv became concerned be...</td>\n",
              "      <td>{'son': 1, 'halfway': 1, 'fourth': 1, 'intuniv...</td>\n",
              "    </tr>\n",
              "    <tr>\n",
              "      <th>2</th>\n",
              "      <td>\"I used to take another oral contraceptive, wh...</td>\n",
              "      <td>1</td>\n",
              "      <td>[used, take, another, oral, contraceptive, pil...</td>\n",
              "      <td>used take another oral contraceptive pill cycl...</td>\n",
              "      <td>[used, take, another, oral, contraceptive, pil...</td>\n",
              "      <td>used take another oral contraceptive pill cycl...</td>\n",
              "      <td>[used, take, another, oral, contraceptive, pil...</td>\n",
              "      <td>used take another oral contraceptive pill cycl...</td>\n",
              "      <td>{'used': 1, 'take': 1, 'another': 1, 'oral': 1...</td>\n",
              "    </tr>\n",
              "  </tbody>\n",
              "</table>\n",
              "</div>"
            ],
            "text/plain": [
              "                                              review  ...                                        words_count\n",
              "0  \"It has no side effect, I take it in combinati...  ...  {'no': 1, 'side': 1, 'effect': 1, 'take': 1, '...\n",
              "1  \"My son is halfway through his fourth week of ...  ...  {'son': 1, 'halfway': 1, 'fourth': 1, 'intuniv...\n",
              "2  \"I used to take another oral contraceptive, wh...  ...  {'used': 1, 'take': 1, 'another': 1, 'oral': 1...\n",
              "\n",
              "[3 rows x 9 columns]"
            ]
          },
          "metadata": {
            "tags": []
          },
          "execution_count": 7
        }
      ]
    },
    {
      "cell_type": "code",
      "metadata": {
        "id": "zx3n6MXR2Kw5",
        "colab": {
          "base_uri": "https://localhost:8080/",
          "height": 111
        },
        "outputId": "a3b706d7-8b91-49cc-9855-8bfd14ac510e"
      },
      "source": [
        "total_count(manual[\"words_count\"])"
      ],
      "execution_count": 8,
      "outputs": [
        {
          "output_type": "execute_result",
          "data": {
            "text/html": [
              "<div>\n",
              "<style scoped>\n",
              "    .dataframe tbody tr th:only-of-type {\n",
              "        vertical-align: middle;\n",
              "    }\n",
              "\n",
              "    .dataframe tbody tr th {\n",
              "        vertical-align: top;\n",
              "    }\n",
              "\n",
              "    .dataframe thead th {\n",
              "        text-align: right;\n",
              "    }\n",
              "</style>\n",
              "<table border=\"1\" class=\"dataframe\">\n",
              "  <thead>\n",
              "    <tr style=\"text-align: right;\">\n",
              "      <th></th>\n",
              "      <th>0</th>\n",
              "      <th>1</th>\n",
              "      <th>2</th>\n",
              "      <th>3</th>\n",
              "      <th>4</th>\n",
              "      <th>5</th>\n",
              "      <th>6</th>\n",
              "      <th>7</th>\n",
              "      <th>8</th>\n",
              "      <th>9</th>\n",
              "      <th>10</th>\n",
              "      <th>11</th>\n",
              "      <th>12</th>\n",
              "      <th>13</th>\n",
              "      <th>14</th>\n",
              "      <th>15</th>\n",
              "      <th>16</th>\n",
              "      <th>17</th>\n",
              "      <th>18</th>\n",
              "      <th>19</th>\n",
              "      <th>20</th>\n",
              "      <th>21</th>\n",
              "      <th>22</th>\n",
              "      <th>23</th>\n",
              "      <th>24</th>\n",
              "      <th>25</th>\n",
              "      <th>26</th>\n",
              "      <th>27</th>\n",
              "      <th>28</th>\n",
              "      <th>29</th>\n",
              "    </tr>\n",
              "  </thead>\n",
              "  <tbody>\n",
              "    <tr>\n",
              "      <th>0</th>\n",
              "      <td>not</td>\n",
              "      <td>effect</td>\n",
              "      <td>side</td>\n",
              "      <td>taking</td>\n",
              "      <td>started</td>\n",
              "      <td>take</td>\n",
              "      <td>no</td>\n",
              "      <td>first</td>\n",
              "      <td>like</td>\n",
              "      <td>work</td>\n",
              "      <td>get</td>\n",
              "      <td>one</td>\n",
              "      <td>also</td>\n",
              "      <td>would</td>\n",
              "      <td>doctor</td>\n",
              "      <td>life</td>\n",
              "      <td>help</td>\n",
              "      <td>pain</td>\n",
              "      <td>much</td>\n",
              "      <td>still</td>\n",
              "      <td>went</td>\n",
              "      <td>feel</td>\n",
              "      <td>took</td>\n",
              "      <td>really</td>\n",
              "      <td>well</td>\n",
              "      <td>two</td>\n",
              "      <td>good</td>\n",
              "      <td>every</td>\n",
              "      <td>better</td>\n",
              "      <td>medication</td>\n",
              "    </tr>\n",
              "    <tr>\n",
              "      <th>1</th>\n",
              "      <td>39</td>\n",
              "      <td>38</td>\n",
              "      <td>34</td>\n",
              "      <td>32</td>\n",
              "      <td>31</td>\n",
              "      <td>29</td>\n",
              "      <td>24</td>\n",
              "      <td>23</td>\n",
              "      <td>23</td>\n",
              "      <td>22</td>\n",
              "      <td>21</td>\n",
              "      <td>20</td>\n",
              "      <td>18</td>\n",
              "      <td>18</td>\n",
              "      <td>17</td>\n",
              "      <td>17</td>\n",
              "      <td>17</td>\n",
              "      <td>17</td>\n",
              "      <td>16</td>\n",
              "      <td>16</td>\n",
              "      <td>16</td>\n",
              "      <td>16</td>\n",
              "      <td>16</td>\n",
              "      <td>16</td>\n",
              "      <td>16</td>\n",
              "      <td>15</td>\n",
              "      <td>15</td>\n",
              "      <td>15</td>\n",
              "      <td>14</td>\n",
              "      <td>14</td>\n",
              "    </tr>\n",
              "  </tbody>\n",
              "</table>\n",
              "</div>"
            ],
            "text/plain": [
              "    0       1     2       3        4   ...   25    26     27      28          29\n",
              "0  not  effect  side  taking  started  ...  two  good  every  better  medication\n",
              "1   39      38    34      32       31  ...   15    15     15      14          14\n",
              "\n",
              "[2 rows x 30 columns]"
            ]
          },
          "metadata": {
            "tags": []
          },
          "execution_count": 8
        }
      ]
    },
    {
      "cell_type": "markdown",
      "metadata": {
        "id": "KGs0FYOJYuiw"
      },
      "source": [
        "# Data"
      ]
    },
    {
      "cell_type": "code",
      "metadata": {
        "id": "EXE8dbR5deD7",
        "colab": {
          "base_uri": "https://localhost:8080/"
        },
        "outputId": "33401cfc-2ce3-4ff3-86ff-390842b6e1b5"
      },
      "source": [
        "#data = pd.read_csv('drugsComTrain_raw.csv')\n",
        "\n",
        "data = pd.read_csv('/content/drive/MyDrive/Data/drugsComTrain_raw.csv')\n",
        "\n",
        "print(f\"The shape of the data is {data.shape[0]} rows and {data.shape[1]} columns\")\n",
        "print(\"\\n\")\n",
        "print(f\"The amount of unique ID is {len(data['uniqueID'].unique())}\") # check if any of the uniqueID repeat\n",
        "print(\"\\n\")\n",
        "print(f\"The number of unique drugs reviewed is {len(data['drugName'].unique())}\")\n",
        "print(\"\\n\")\n",
        "print(f\"The number of unique conditions is {len(data['condition'].unique())}\")\n",
        "print(\"\\n\")"
      ],
      "execution_count": 9,
      "outputs": [
        {
          "output_type": "stream",
          "text": [
            "The shape of the data is 161297 rows and 7 columns\n",
            "\n",
            "\n",
            "The amount of unique ID is 161297\n",
            "\n",
            "\n",
            "The number of unique drugs reviewed is 3436\n",
            "\n",
            "\n",
            "The number of unique conditions is 885\n",
            "\n",
            "\n"
          ],
          "name": "stdout"
        }
      ]
    },
    {
      "cell_type": "code",
      "metadata": {
        "id": "kNZe0N5PjZyK",
        "colab": {
          "base_uri": "https://localhost:8080/",
          "height": 114
        },
        "outputId": "66317a91-ae5b-45da-cda1-7a879a688b1f"
      },
      "source": [
        "pd.DataFrame(data[\"drugName\"].value_counts()).head(14).T"
      ],
      "execution_count": 10,
      "outputs": [
        {
          "output_type": "execute_result",
          "data": {
            "text/html": [
              "<div>\n",
              "<style scoped>\n",
              "    .dataframe tbody tr th:only-of-type {\n",
              "        vertical-align: middle;\n",
              "    }\n",
              "\n",
              "    .dataframe tbody tr th {\n",
              "        vertical-align: top;\n",
              "    }\n",
              "\n",
              "    .dataframe thead th {\n",
              "        text-align: right;\n",
              "    }\n",
              "</style>\n",
              "<table border=\"1\" class=\"dataframe\">\n",
              "  <thead>\n",
              "    <tr style=\"text-align: right;\">\n",
              "      <th></th>\n",
              "      <th>Levonorgestrel</th>\n",
              "      <th>Etonogestrel</th>\n",
              "      <th>Ethinyl estradiol / norethindrone</th>\n",
              "      <th>Nexplanon</th>\n",
              "      <th>Ethinyl estradiol / norgestimate</th>\n",
              "      <th>Ethinyl estradiol / levonorgestrel</th>\n",
              "      <th>Phentermine</th>\n",
              "      <th>Sertraline</th>\n",
              "      <th>Escitalopram</th>\n",
              "      <th>Mirena</th>\n",
              "      <th>Implanon</th>\n",
              "      <th>Gabapentin</th>\n",
              "      <th>Bupropion</th>\n",
              "      <th>Venlafaxine</th>\n",
              "    </tr>\n",
              "  </thead>\n",
              "  <tbody>\n",
              "    <tr>\n",
              "      <th>drugName</th>\n",
              "      <td>3657</td>\n",
              "      <td>3336</td>\n",
              "      <td>2850</td>\n",
              "      <td>2156</td>\n",
              "      <td>2117</td>\n",
              "      <td>1888</td>\n",
              "      <td>1543</td>\n",
              "      <td>1360</td>\n",
              "      <td>1292</td>\n",
              "      <td>1242</td>\n",
              "      <td>1102</td>\n",
              "      <td>1047</td>\n",
              "      <td>1022</td>\n",
              "      <td>1016</td>\n",
              "    </tr>\n",
              "  </tbody>\n",
              "</table>\n",
              "</div>"
            ],
            "text/plain": [
              "          Levonorgestrel  Etonogestrel  ...  Bupropion  Venlafaxine\n",
              "drugName            3657          3336  ...       1022         1016\n",
              "\n",
              "[1 rows x 14 columns]"
            ]
          },
          "metadata": {
            "tags": []
          },
          "execution_count": 10
        }
      ]
    },
    {
      "cell_type": "code",
      "metadata": {
        "id": "9qr1qQ4MuT8Z",
        "colab": {
          "base_uri": "https://localhost:8080/",
          "height": 97
        },
        "outputId": "a328a8fb-f76b-43fa-a514-2fb9d6a140d2"
      },
      "source": [
        "pd.DataFrame(data[\"condition\"].value_counts()).head(14).T"
      ],
      "execution_count": 11,
      "outputs": [
        {
          "output_type": "execute_result",
          "data": {
            "text/html": [
              "<div>\n",
              "<style scoped>\n",
              "    .dataframe tbody tr th:only-of-type {\n",
              "        vertical-align: middle;\n",
              "    }\n",
              "\n",
              "    .dataframe tbody tr th {\n",
              "        vertical-align: top;\n",
              "    }\n",
              "\n",
              "    .dataframe thead th {\n",
              "        text-align: right;\n",
              "    }\n",
              "</style>\n",
              "<table border=\"1\" class=\"dataframe\">\n",
              "  <thead>\n",
              "    <tr style=\"text-align: right;\">\n",
              "      <th></th>\n",
              "      <th>Birth Control</th>\n",
              "      <th>Depression</th>\n",
              "      <th>Pain</th>\n",
              "      <th>Anxiety</th>\n",
              "      <th>Acne</th>\n",
              "      <th>Bipolar Disorde</th>\n",
              "      <th>Insomnia</th>\n",
              "      <th>Weight Loss</th>\n",
              "      <th>Obesity</th>\n",
              "      <th>ADHD</th>\n",
              "      <th>Diabetes, Type 2</th>\n",
              "      <th>Emergency Contraception</th>\n",
              "      <th>High Blood Pressure</th>\n",
              "      <th>Vaginal Yeast Infection</th>\n",
              "    </tr>\n",
              "  </thead>\n",
              "  <tbody>\n",
              "    <tr>\n",
              "      <th>condition</th>\n",
              "      <td>28788</td>\n",
              "      <td>9069</td>\n",
              "      <td>6145</td>\n",
              "      <td>5904</td>\n",
              "      <td>5588</td>\n",
              "      <td>4224</td>\n",
              "      <td>3673</td>\n",
              "      <td>3609</td>\n",
              "      <td>3568</td>\n",
              "      <td>3383</td>\n",
              "      <td>2554</td>\n",
              "      <td>2463</td>\n",
              "      <td>2321</td>\n",
              "      <td>2274</td>\n",
              "    </tr>\n",
              "  </tbody>\n",
              "</table>\n",
              "</div>"
            ],
            "text/plain": [
              "           Birth Control  ...  Vaginal Yeast Infection\n",
              "condition          28788  ...                     2274\n",
              "\n",
              "[1 rows x 14 columns]"
            ]
          },
          "metadata": {
            "tags": []
          },
          "execution_count": 11
        }
      ]
    },
    {
      "cell_type": "code",
      "metadata": {
        "id": "I7MlNc1w_hxR"
      },
      "source": [
        "NUMERO_SAMPLES = 150\n",
        "\n",
        "data = data.drop([\"uniqueID\", \"drugName\", \"condition\", \"date\", \"rating\", \"usefulCount\"], axis = 1).head(NUMERO_SAMPLES) # SACAR ESTOOOOOO!!"
      ],
      "execution_count": 12,
      "outputs": []
    },
    {
      "cell_type": "code",
      "metadata": {
        "id": "kggrDvz8MFtl",
        "colab": {
          "base_uri": "https://localhost:8080/",
          "height": 244
        },
        "outputId": "0a2bf5e0-8b3a-4bea-b4ac-29b6d7c8e783"
      },
      "source": [
        "data[\"clean_review\"] = data[\"review\"].apply(punctuation)\n",
        "data['clean_review'] = data.clean_review.apply(remove_numbers)\n",
        "data['clean_review_lst'] = data.clean_review.apply(to_list)\n",
        "\n",
        "data[\"NonStopwords_review_lst\"] = data.clean_review.apply(remove_stopwords)\n",
        "data[\"NonStopwords_review_str\"] = data.NonStopwords_review_lst.apply(to_string)\n",
        "\n",
        "data[\"NonStopwords_review_lst_MN\"] = data.clean_review.apply(m_negation)\n",
        "data[\"NonStopwords_review_str_MN\"] = data.NonStopwords_review_lst_MN.apply(to_string)\n",
        "\n",
        "data[\"Lemmatized_review_lst\"] = data.NonStopwords_review_lst_MN.apply(lemmatize_review)\n",
        "data[\"Lemmatized_review_str\"] = data.Lemmatized_review_lst.apply(to_string)\n",
        "\n",
        "data[\"Lemmatized_review_list\"] = data.NonStopwords_review_lst.apply(lemmatize_review)\n",
        "data[\"Lemmatized_review\"] = data.Lemmatized_review_list.apply(to_string)\n",
        "data[\"Lemmatized_review_list\"] = data.Lemmatized_review.apply(remove_stopwords)\n",
        "data[\"Lemmatized_review\"] = data.Lemmatized_review_list.apply(to_string)\n",
        "\n",
        "data[\"words_count\"] = data.Lemmatized_review_list.apply(count_words)\n",
        "\n",
        "data = data.drop([\"clean_review\", \"clean_review_lst\", \"NonStopwords_review_lst\", \"NonStopwords_review_str\"], axis = 1)\n",
        "\n",
        "data.head(3)"
      ],
      "execution_count": 13,
      "outputs": [
        {
          "output_type": "execute_result",
          "data": {
            "text/html": [
              "<div>\n",
              "<style scoped>\n",
              "    .dataframe tbody tr th:only-of-type {\n",
              "        vertical-align: middle;\n",
              "    }\n",
              "\n",
              "    .dataframe tbody tr th {\n",
              "        vertical-align: top;\n",
              "    }\n",
              "\n",
              "    .dataframe thead th {\n",
              "        text-align: right;\n",
              "    }\n",
              "</style>\n",
              "<table border=\"1\" class=\"dataframe\">\n",
              "  <thead>\n",
              "    <tr style=\"text-align: right;\">\n",
              "      <th></th>\n",
              "      <th>review</th>\n",
              "      <th>NonStopwords_review_lst_MN</th>\n",
              "      <th>NonStopwords_review_str_MN</th>\n",
              "      <th>Lemmatized_review_lst</th>\n",
              "      <th>Lemmatized_review_str</th>\n",
              "      <th>Lemmatized_review_list</th>\n",
              "      <th>Lemmatized_review</th>\n",
              "      <th>words_count</th>\n",
              "    </tr>\n",
              "  </thead>\n",
              "  <tbody>\n",
              "    <tr>\n",
              "      <th>0</th>\n",
              "      <td>\"It has no side effect, I take it in combinati...</td>\n",
              "      <td>[no, side_NEG, effect_NEG, take_NEG, combinati...</td>\n",
              "      <td>no side_NEG effect_NEG take_NEG combination_NE...</td>\n",
              "      <td>[no, side_NEG, effect_NEG, take_NEG, combinati...</td>\n",
              "      <td>no side_NEG effect_NEG take_NEG combination_NE...</td>\n",
              "      <td>[no, side, effect, take, combination, bystolic...</td>\n",
              "      <td>no side effect take combination bystolic fish oil</td>\n",
              "      <td>{'no': 1, 'side': 1, 'effect': 1, 'take': 1, '...</td>\n",
              "    </tr>\n",
              "    <tr>\n",
              "      <th>1</th>\n",
              "      <td>\"My son is halfway through his fourth week of ...</td>\n",
              "      <td>[son, halfway, fourth, intuniv, became, concer...</td>\n",
              "      <td>son halfway fourth intuniv became concerned be...</td>\n",
              "      <td>[son, halfway, fourth, intuniv, became, concer...</td>\n",
              "      <td>son halfway fourth intuniv became concerned be...</td>\n",
              "      <td>[son, halfway, fourth, intuniv, became, concer...</td>\n",
              "      <td>son halfway fourth intuniv became concerned be...</td>\n",
              "      <td>{'son': 1, 'halfway': 1, 'fourth': 1, 'intuniv...</td>\n",
              "    </tr>\n",
              "    <tr>\n",
              "      <th>2</th>\n",
              "      <td>\"I used to take another oral contraceptive, wh...</td>\n",
              "      <td>[used, take, another, oral, contraceptive, pil...</td>\n",
              "      <td>used take another oral contraceptive pill cycl...</td>\n",
              "      <td>[used, take, another, oral, contraceptive, pil...</td>\n",
              "      <td>used take another oral contraceptive pill cycl...</td>\n",
              "      <td>[used, take, another, oral, contraceptive, pil...</td>\n",
              "      <td>used take another oral contraceptive pill cycl...</td>\n",
              "      <td>{'used': 1, 'take': 1, 'another': 1, 'oral': 1...</td>\n",
              "    </tr>\n",
              "  </tbody>\n",
              "</table>\n",
              "</div>"
            ],
            "text/plain": [
              "                                              review  ...                                        words_count\n",
              "0  \"It has no side effect, I take it in combinati...  ...  {'no': 1, 'side': 1, 'effect': 1, 'take': 1, '...\n",
              "1  \"My son is halfway through his fourth week of ...  ...  {'son': 1, 'halfway': 1, 'fourth': 1, 'intuniv...\n",
              "2  \"I used to take another oral contraceptive, wh...  ...  {'used': 1, 'take': 1, 'another': 1, 'oral': 1...\n",
              "\n",
              "[3 rows x 8 columns]"
            ]
          },
          "metadata": {
            "tags": []
          },
          "execution_count": 13
        }
      ]
    },
    {
      "cell_type": "code",
      "metadata": {
        "id": "T4MsJkEvybZb",
        "colab": {
          "base_uri": "https://localhost:8080/",
          "height": 111
        },
        "outputId": "7bb8ceff-40f1-4af3-feb9-4f393010482a"
      },
      "source": [
        "total_count(data[\"words_count\"])"
      ],
      "execution_count": 14,
      "outputs": [
        {
          "output_type": "execute_result",
          "data": {
            "text/html": [
              "<div>\n",
              "<style scoped>\n",
              "    .dataframe tbody tr th:only-of-type {\n",
              "        vertical-align: middle;\n",
              "    }\n",
              "\n",
              "    .dataframe tbody tr th {\n",
              "        vertical-align: top;\n",
              "    }\n",
              "\n",
              "    .dataframe thead th {\n",
              "        text-align: right;\n",
              "    }\n",
              "</style>\n",
              "<table border=\"1\" class=\"dataframe\">\n",
              "  <thead>\n",
              "    <tr style=\"text-align: right;\">\n",
              "      <th></th>\n",
              "      <th>0</th>\n",
              "      <th>1</th>\n",
              "      <th>2</th>\n",
              "      <th>3</th>\n",
              "      <th>4</th>\n",
              "      <th>5</th>\n",
              "      <th>6</th>\n",
              "      <th>7</th>\n",
              "      <th>8</th>\n",
              "      <th>9</th>\n",
              "      <th>10</th>\n",
              "      <th>11</th>\n",
              "      <th>12</th>\n",
              "      <th>13</th>\n",
              "      <th>14</th>\n",
              "      <th>15</th>\n",
              "      <th>16</th>\n",
              "      <th>17</th>\n",
              "      <th>18</th>\n",
              "      <th>19</th>\n",
              "      <th>20</th>\n",
              "      <th>21</th>\n",
              "      <th>22</th>\n",
              "      <th>23</th>\n",
              "      <th>24</th>\n",
              "      <th>25</th>\n",
              "      <th>26</th>\n",
              "      <th>27</th>\n",
              "      <th>28</th>\n",
              "      <th>29</th>\n",
              "    </tr>\n",
              "  </thead>\n",
              "  <tbody>\n",
              "    <tr>\n",
              "      <th>0</th>\n",
              "      <td>not</td>\n",
              "      <td>effect</td>\n",
              "      <td>side</td>\n",
              "      <td>no</td>\n",
              "      <td>started</td>\n",
              "      <td>take</td>\n",
              "      <td>taking</td>\n",
              "      <td>first</td>\n",
              "      <td>get</td>\n",
              "      <td>one</td>\n",
              "      <td>work</td>\n",
              "      <td>doctor</td>\n",
              "      <td>like</td>\n",
              "      <td>pain</td>\n",
              "      <td>feel</td>\n",
              "      <td>would</td>\n",
              "      <td>went</td>\n",
              "      <td>help</td>\n",
              "      <td>much</td>\n",
              "      <td>medication</td>\n",
              "      <td>life</td>\n",
              "      <td>well</td>\n",
              "      <td>still</td>\n",
              "      <td>really</td>\n",
              "      <td>also</td>\n",
              "      <td>since</td>\n",
              "      <td>two</td>\n",
              "      <td>better</td>\n",
              "      <td>period</td>\n",
              "      <td>took</td>\n",
              "    </tr>\n",
              "    <tr>\n",
              "      <th>1</th>\n",
              "      <td>55</td>\n",
              "      <td>54</td>\n",
              "      <td>52</td>\n",
              "      <td>43</td>\n",
              "      <td>42</td>\n",
              "      <td>40</td>\n",
              "      <td>40</td>\n",
              "      <td>38</td>\n",
              "      <td>34</td>\n",
              "      <td>32</td>\n",
              "      <td>31</td>\n",
              "      <td>29</td>\n",
              "      <td>29</td>\n",
              "      <td>29</td>\n",
              "      <td>26</td>\n",
              "      <td>26</td>\n",
              "      <td>25</td>\n",
              "      <td>25</td>\n",
              "      <td>24</td>\n",
              "      <td>24</td>\n",
              "      <td>24</td>\n",
              "      <td>24</td>\n",
              "      <td>23</td>\n",
              "      <td>23</td>\n",
              "      <td>22</td>\n",
              "      <td>22</td>\n",
              "      <td>21</td>\n",
              "      <td>21</td>\n",
              "      <td>21</td>\n",
              "      <td>21</td>\n",
              "    </tr>\n",
              "  </tbody>\n",
              "</table>\n",
              "</div>"
            ],
            "text/plain": [
              "    0       1     2   3        4     5   ...    24     25   26      27      28    29\n",
              "0  not  effect  side  no  started  take  ...  also  since  two  better  period  took\n",
              "1   55      54    52  43       42    40  ...    22     22   21      21      21    21\n",
              "\n",
              "[2 rows x 30 columns]"
            ]
          },
          "metadata": {
            "tags": []
          },
          "execution_count": 14
        }
      ]
    },
    {
      "cell_type": "code",
      "metadata": {
        "id": "Qs9nl3nHqb1w"
      },
      "source": [
        "# correlation = data[\"rating\"].corr(data[\"usefulCount\"], method='pearson')\n",
        "\n",
        "# plt.matshow(data[[\"rating\", \"usefulCount\"]].corr())\n",
        "\n",
        "# plt.show()"
      ],
      "execution_count": 15,
      "outputs": []
    },
    {
      "cell_type": "markdown",
      "metadata": {
        "id": "XSydII74ZwOv"
      },
      "source": [
        "# CountVectorizer | Latent Dirichlet allocation"
      ]
    },
    {
      "cell_type": "code",
      "metadata": {
        "id": "iFYlPTjuaz3G"
      },
      "source": [
        "vectorizer = CountVectorizer(min_df = 0.01, \n",
        "                             max_df = 0.30, \n",
        "                             max_features = None,\n",
        "                             vocabulary = None,\n",
        "                             ngram_range = (1, 2)).fit(manual[\"Lemmatized_review_str\"]) #\n",
        "\n",
        "# MINDF Ignore terms that have a document frequency strictly higher than the given threshold\n",
        "# MAXDF When building the vocabulary ignore terms that have a document frequency strictly lower than the given threshold\n",
        "\n",
        "data_vectorized = vectorizer.transform(manual[\"Lemmatized_review_str\"]) #\n",
        "\n",
        "lda_model = LatentDirichletAllocation(n_components = 2,\n",
        "                                      verbose = 0,\n",
        "                                      max_iter = 50).fit(data_vectorized)"
      ],
      "execution_count": 16,
      "outputs": []
    },
    {
      "cell_type": "code",
      "metadata": {
        "id": "VFxcGin6OiLV",
        "colab": {
          "base_uri": "https://localhost:8080/"
        },
        "outputId": "66715e9c-cbc9-485d-b441-11ff842056d9"
      },
      "source": [
        "\"\"\"A model with higher log-likelihood and lower perplexity\n",
        "(exp(-1. * log-likelihood per word)) is considered to be good. Let’s check for our model.\"\"\"\n",
        "\n",
        "# Log Likelyhood: Higher the better\n",
        "print(\"Log Likelihood: \", lda_model.score(data_vectorized))\n",
        "\n",
        "# Perplexity: Lower the better. Perplexity = exp(-1. * log-likelihood per word)\n",
        "print(\"Perplexity: \", lda_model.perplexity(data_vectorized))\n",
        "\n",
        "# See model parameters\n",
        "print(lda_model.get_params())"
      ],
      "execution_count": 17,
      "outputs": [
        {
          "output_type": "stream",
          "text": [
            "Log Likelihood:  -76295.22021866274\n",
            "Perplexity:  7053.177298183489\n",
            "{'batch_size': 128, 'doc_topic_prior': None, 'evaluate_every': -1, 'learning_decay': 0.7, 'learning_method': 'batch', 'learning_offset': 10.0, 'max_doc_update_iter': 100, 'max_iter': 50, 'mean_change_tol': 0.001, 'n_components': 2, 'n_jobs': None, 'perp_tol': 0.1, 'random_state': None, 'topic_word_prior': None, 'total_samples': 1000000.0, 'verbose': 0}\n"
          ],
          "name": "stdout"
        }
      ]
    },
    {
      "cell_type": "code",
      "metadata": {
        "id": "cxSEF9fwOnh-",
        "colab": {
          "base_uri": "https://localhost:8080/"
        },
        "outputId": "aa9bfa36-ae16-4c21-d1d8-77778fabbcae"
      },
      "source": [
        "# Define Search Param\n",
        "search_params = {'n_components' : [2, 3, 4], 'learning_decay' : [.2, .3, .4], \"max_iter\" : [50, 100], \"learning_offset\" : [5, 10]}\n",
        "\n",
        "# Init the Model\n",
        "lda = LatentDirichletAllocation()\n",
        "\n",
        "# Init Grid Search Class\n",
        "model = GridSearchCV(lda, param_grid=search_params)\n",
        "\n",
        "# Do the Grid Search\n",
        "model.fit(data_vectorized)\n",
        "\n",
        "# Best Model\n",
        "best_lda_model = model.best_estimator_\n",
        "\n",
        "# Model Parameters\n",
        "print(\"Best Model's Params: \", model.best_params_)\n",
        "\n",
        "# Log Likelihood Score\n",
        "print(\"Best Log Likelihood Score: \", model.best_score_)\n",
        "\n",
        "# Perplexity\n",
        "print(\"Model Perplexity: \", best_lda_model.perplexity(data_vectorized))"
      ],
      "execution_count": 18,
      "outputs": [
        {
          "output_type": "stream",
          "text": [
            "Best Model's Params:  {'learning_decay': 0.3, 'learning_offset': 5, 'max_iter': 50, 'n_components': 2}\n",
            "Best Log Likelihood Score:  -20037.774186950497\n",
            "Model Perplexity:  7024.364956008521\n"
          ],
          "name": "stdout"
        }
      ]
    },
    {
      "cell_type": "code",
      "metadata": {
        "colab": {
          "base_uri": "https://localhost:8080/",
          "height": 459
        },
        "id": "cQbReQfthPiT",
        "outputId": "e116f599-c443-4270-c168-7fe20e53864d"
      },
      "source": [
        "# Define Search Param\n",
        "search_params = {'ngram_range' : [(1, 2), (2, 2)]}\n",
        "\n",
        "# Init the Model\n",
        "vectorizer = CountVectorizer()\n",
        "\n",
        "# Init Grid Search Class\n",
        "model = GridSearchCV(vectorizer, param_grid = search_params)\n",
        "\n",
        "# Do the Grid Search\n",
        "model.fit(data_vectorized)\n",
        "\n",
        "# Best Model\n",
        "best_lda_model = model.best_estimator_\n",
        "\n",
        "# Model Parameters\n",
        "print(\"Best Model's Params: \", model.best_params_)\n",
        "\n",
        "# Log Likelihood Score\n",
        "print(\"Best Log Likelihood Score: \", model.best_score_)\n",
        "\n",
        "# Perplexity\n",
        "print(\"Model Perplexity: \", best_lda_model.perplexity(data_vectorized))"
      ],
      "execution_count": 19,
      "outputs": [
        {
          "output_type": "error",
          "ename": "TypeError",
          "evalue": "ignored",
          "traceback": [
            "\u001b[0;31m---------------------------------------------------------------------------\u001b[0m",
            "\u001b[0;31mTypeError\u001b[0m                                 Traceback (most recent call last)",
            "\u001b[0;32m<ipython-input-19-35ffcf2e52a1>\u001b[0m in \u001b[0;36m<module>\u001b[0;34m()\u001b[0m\n\u001b[1;32m      9\u001b[0m \u001b[0;34m\u001b[0m\u001b[0m\n\u001b[1;32m     10\u001b[0m \u001b[0;31m# Do the Grid Search\u001b[0m\u001b[0;34m\u001b[0m\u001b[0;34m\u001b[0m\u001b[0;34m\u001b[0m\u001b[0m\n\u001b[0;32m---> 11\u001b[0;31m \u001b[0mmodel\u001b[0m\u001b[0;34m.\u001b[0m\u001b[0mfit\u001b[0m\u001b[0;34m(\u001b[0m\u001b[0mdata_vectorized\u001b[0m\u001b[0;34m)\u001b[0m\u001b[0;34m\u001b[0m\u001b[0;34m\u001b[0m\u001b[0m\n\u001b[0m\u001b[1;32m     12\u001b[0m \u001b[0;34m\u001b[0m\u001b[0m\n\u001b[1;32m     13\u001b[0m \u001b[0;31m# Best Model\u001b[0m\u001b[0;34m\u001b[0m\u001b[0;34m\u001b[0m\u001b[0;34m\u001b[0m\u001b[0m\n",
            "\u001b[0;32m/usr/local/lib/python3.6/dist-packages/sklearn/model_selection/_search.py\u001b[0m in \u001b[0;36mfit\u001b[0;34m(self, X, y, groups, **fit_params)\u001b[0m\n\u001b[1;32m    627\u001b[0m \u001b[0;34m\u001b[0m\u001b[0m\n\u001b[1;32m    628\u001b[0m         scorers, self.multimetric_ = _check_multimetric_scoring(\n\u001b[0;32m--> 629\u001b[0;31m             self.estimator, scoring=self.scoring)\n\u001b[0m\u001b[1;32m    630\u001b[0m \u001b[0;34m\u001b[0m\u001b[0m\n\u001b[1;32m    631\u001b[0m         \u001b[0;32mif\u001b[0m \u001b[0mself\u001b[0m\u001b[0;34m.\u001b[0m\u001b[0mmultimetric_\u001b[0m\u001b[0;34m:\u001b[0m\u001b[0;34m\u001b[0m\u001b[0;34m\u001b[0m\u001b[0m\n",
            "\u001b[0;32m/usr/local/lib/python3.6/dist-packages/sklearn/metrics/_scorer.py\u001b[0m in \u001b[0;36m_check_multimetric_scoring\u001b[0;34m(estimator, scoring)\u001b[0m\n\u001b[1;32m    471\u001b[0m     if callable(scoring) or scoring is None or isinstance(scoring,\n\u001b[1;32m    472\u001b[0m                                                           str):\n\u001b[0;32m--> 473\u001b[0;31m         \u001b[0mscorers\u001b[0m \u001b[0;34m=\u001b[0m \u001b[0;34m{\u001b[0m\u001b[0;34m\"score\"\u001b[0m\u001b[0;34m:\u001b[0m \u001b[0mcheck_scoring\u001b[0m\u001b[0;34m(\u001b[0m\u001b[0mestimator\u001b[0m\u001b[0;34m,\u001b[0m \u001b[0mscoring\u001b[0m\u001b[0;34m=\u001b[0m\u001b[0mscoring\u001b[0m\u001b[0;34m)\u001b[0m\u001b[0;34m}\u001b[0m\u001b[0;34m\u001b[0m\u001b[0;34m\u001b[0m\u001b[0m\n\u001b[0m\u001b[1;32m    474\u001b[0m         \u001b[0;32mreturn\u001b[0m \u001b[0mscorers\u001b[0m\u001b[0;34m,\u001b[0m \u001b[0;32mFalse\u001b[0m\u001b[0;34m\u001b[0m\u001b[0;34m\u001b[0m\u001b[0m\n\u001b[1;32m    475\u001b[0m     \u001b[0;32melse\u001b[0m\u001b[0;34m:\u001b[0m\u001b[0;34m\u001b[0m\u001b[0;34m\u001b[0m\u001b[0m\n",
            "\u001b[0;32m/usr/local/lib/python3.6/dist-packages/sklearn/metrics/_scorer.py\u001b[0m in \u001b[0;36mcheck_scoring\u001b[0;34m(estimator, scoring, allow_none)\u001b[0m\n\u001b[1;32m    424\u001b[0m                 \u001b[0;34m\"If no scoring is specified, the estimator passed should \"\u001b[0m\u001b[0;34m\u001b[0m\u001b[0;34m\u001b[0m\u001b[0m\n\u001b[1;32m    425\u001b[0m                 \u001b[0;34m\"have a 'score' method. The estimator %r does not.\"\u001b[0m\u001b[0;34m\u001b[0m\u001b[0;34m\u001b[0m\u001b[0m\n\u001b[0;32m--> 426\u001b[0;31m                 % estimator)\n\u001b[0m\u001b[1;32m    427\u001b[0m     \u001b[0;32melif\u001b[0m \u001b[0misinstance\u001b[0m\u001b[0;34m(\u001b[0m\u001b[0mscoring\u001b[0m\u001b[0;34m,\u001b[0m \u001b[0mIterable\u001b[0m\u001b[0;34m)\u001b[0m\u001b[0;34m:\u001b[0m\u001b[0;34m\u001b[0m\u001b[0;34m\u001b[0m\u001b[0m\n\u001b[1;32m    428\u001b[0m         raise ValueError(\"For evaluating multiple scores, use \"\n",
            "\u001b[0;31mTypeError\u001b[0m: If no scoring is specified, the estimator passed should have a 'score' method. The estimator CountVectorizer(analyzer='word', binary=False, decode_error='strict',\n                dtype=<class 'numpy.int64'>, encoding='utf-8', input='content',\n                lowercase=True, max_df=1.0, max_features=None, min_df=1,\n                ngram_range=(1, 1), preprocessor=None, stop_words=None,\n                strip_accents=None, token_pattern='(?u)\\\\b\\\\w\\\\w+\\\\b',\n                tokenizer=None, vocabulary=None) does not."
          ]
        }
      ]
    },
    {
      "cell_type": "code",
      "metadata": {
        "id": "SSP_8i87a_t6"
      },
      "source": [
        "# vectorizer.vocabulary_"
      ],
      "execution_count": null,
      "outputs": []
    },
    {
      "cell_type": "code",
      "metadata": {
        "id": "35aIxLxia_wv"
      },
      "source": [
        "# lda_model.components_ # Vectors"
      ],
      "execution_count": null,
      "outputs": []
    },
    {
      "cell_type": "code",
      "metadata": {
        "id": "MHBRCjyhbC_D"
      },
      "source": [
        "print_topics(lda_model, vectorizer)"
      ],
      "execution_count": null,
      "outputs": []
    },
    {
      "cell_type": "code",
      "metadata": {
        "id": "EzIROp9Ccpm8"
      },
      "source": [
        "example = [\"pain back\"]\n",
        "\n",
        "example_vectorized = vectorizer.transform(example)\n",
        "\n",
        "lda_vectors = lda_model.transform(example_vectorized)\n",
        "\n",
        "print(\"topic 0 :\", lda_vectors[0][0])\n",
        "print(\"topic 1 :\", lda_vectors[0][1])"
      ],
      "execution_count": null,
      "outputs": []
    },
    {
      "cell_type": "code",
      "metadata": {
        "id": "sXE2yxfJEYzz"
      },
      "source": [
        "lda_vectors"
      ],
      "execution_count": null,
      "outputs": []
    },
    {
      "cell_type": "code",
      "metadata": {
        "id": "afINew26CL2S"
      },
      "source": [
        "manual[\"Lemmatized_review_lst\"]"
      ],
      "execution_count": null,
      "outputs": []
    },
    {
      "cell_type": "code",
      "metadata": {
        "id": "SsFYhw6iEjw5"
      },
      "source": [
        ""
      ],
      "execution_count": null,
      "outputs": []
    },
    {
      "cell_type": "code",
      "metadata": {
        "id": "tk0QRZweJ0Ab"
      },
      "source": [
        "predictions = []\n",
        "\n",
        "for review in manual[\"Lemmatized_review\"]:\n",
        "    vectorized = vectorizer.transform([review])\n",
        "    lda_vectors = predictions.append(lda_model.transform(vectorized))\n",
        "\n",
        "predictions = np.concatenate(predictions, axis=0)\n",
        "\n",
        "predictions.shape"
      ],
      "execution_count": null,
      "outputs": []
    },
    {
      "cell_type": "code",
      "metadata": {
        "id": "imoqTqxN4nr3"
      },
      "source": [
        "compare_data = pd.DataFrame(predictions, columns = [\"Side_Effect\", \"No_Side_Effect\"])\n",
        "\n",
        "compare_data[\"Manually_Labelled\"] = manual[\"sideEffect\"] # Brings a column from the other DataFrame\n",
        "\n",
        "compare_data[\"Prediction\"] = compare_data.Side_Effect.apply(one_or_zero) # Applies the binary output\n",
        "compare_data[\"No_Side_Effect_%\"] = compare_data.No_Side_Effect.apply(round_two) # Applies a format\n",
        "compare_data[\"Side_Effect_%\"] = compare_data.Side_Effect.apply(round_two) # Applies a format\n",
        "\n",
        "compare_data[\"bool\"] = np.where(compare_data[\"Manually_Labelled\"] == compare_data[\"Prediction\"], True, False) # Compares betwen the precdiction and the label\n",
        "\n",
        "compare_data.drop([\"Side_Effect\", \"No_Side_Effect\"], axis = 1)"
      ],
      "execution_count": null,
      "outputs": []
    },
    {
      "cell_type": "code",
      "metadata": {
        "id": "LdPkllGD4MLN"
      },
      "source": [
        "compare_data[\"bool\"].value_counts()"
      ],
      "execution_count": null,
      "outputs": []
    },
    {
      "cell_type": "code",
      "metadata": {
        "id": "BAKU5iyVyeXX"
      },
      "source": [
        "compare_data.to_csv('data.csv')\n",
        "\n",
        "!cp data.csv \"drive/My Drive/\""
      ],
      "execution_count": null,
      "outputs": []
    },
    {
      "cell_type": "code",
      "metadata": {
        "id": "nbyK70-urgWY"
      },
      "source": [
        "\n",
        "\n",
        "# correct predictions / 100\n",
        "# recall = correctly predicted side effects / total side effects\n",
        "# precision = correctly predicted side effects / total predicted side effects\n",
        "\n",
        "# predicted_topic = []\n",
        "\n",
        "\n",
        "\n",
        "# (np.array(predicted_topic) == np.array(test_data.sideEffect)).sum()"
      ],
      "execution_count": null,
      "outputs": []
    },
    {
      "cell_type": "code",
      "metadata": {
        "id": "SeJUV2WYsJlv"
      },
      "source": [
        "# for row in range(len(test_data)):\n",
        "#     if (lda_vectors[row][0] > lda_vectors[row][1]):\n",
        "#         predicted_topic.append(0)\n",
        "#     else: predicted_topic.append(1)"
      ],
      "execution_count": null,
      "outputs": []
    },
    {
      "cell_type": "markdown",
      "metadata": {
        "id": "VfbrUsALaap_"
      },
      "source": [
        "# CountVectorizer | Pipeline"
      ]
    },
    {
      "cell_type": "code",
      "metadata": {
        "id": "lu00AB7v5VIe"
      },
      "source": [
        "import itertools\n",
        "\n",
        "laplace = lidstone = range(1, 4)\n",
        "\n",
        "lap_lid = list(itertools.product(laplace, lidstone))\n",
        "\n",
        "lap_lid"
      ],
      "execution_count": null,
      "outputs": []
    },
    {
      "cell_type": "code",
      "metadata": {
        "id": "9DM7mA04ywpP"
      },
      "source": [
        "# # Create Pipeline\n",
        "# pipe = Pipeline([('Count', CountVectorizer()),\n",
        "#                  ('nb', MultinomialNB())\n",
        "#                 ])\n",
        "\n",
        "# # Set parameters to search (model and vectorizer)\n",
        "# parameters = {\n",
        "#     'Count__ngram_range': (lap_lid), # The lower and upper boundary of the range of n-values for different word n-grams or char n-grams to be extracted\n",
        "#     'Count__min_df': (np.linspace(0.01, 0.49, num = 10)),\n",
        "#     'Count__max_df': (np.linspace(0.50, 0.99, num = 10)),\n",
        "#     'Count__max_features' : ([1 , 2, 3, 4, 5]),\n",
        "#     'nb__alpha': (np.linspace(0.01, 0.99, num = 10)), # Additive (Laplace/Lidstone) smoothing parameter (0 for no smoothing)\n",
        "#     }\n",
        "\n",
        "# # Perform grid search\n",
        "# grid_search = GridSearchCV(pipe, parameters, n_jobs=-1, \n",
        "#                            verbose=1, scoring = \"accuracy\", \n",
        "#                            refit=True, cv=5)\n",
        "\n",
        "# grid_search.fit(X, y)"
      ],
      "execution_count": null,
      "outputs": []
    },
    {
      "cell_type": "code",
      "metadata": {
        "id": "3xz3WSok5f5F"
      },
      "source": [
        "# grid_search.best_params_"
      ],
      "execution_count": null,
      "outputs": []
    },
    {
      "cell_type": "code",
      "metadata": {
        "id": "8yMriaro5gx1"
      },
      "source": [
        "# best_model = grid_search.best_estimator_"
      ],
      "execution_count": null,
      "outputs": []
    }
  ]
}