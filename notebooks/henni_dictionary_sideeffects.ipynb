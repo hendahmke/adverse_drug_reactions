{
 "cells": [
  {
   "cell_type": "markdown",
   "metadata": {},
   "source": [
    "# Get Data"
   ]
  },
  {
   "cell_type": "markdown",
   "metadata": {},
   "source": [
    "Fragen:\n",
    "- kann LeWagon einen Meddra-Account machen?\n",
    "- ohne meddra könnte man die hierachie händisch machen, dauert zu lange, fehleranfällig, sinnvoll?\n",
    "- Diskrepanz zwischen medical terms und language used in reviews --> wie viel sinn macht das überhaupt?\n",
    "- kann man diese informationen auch für enbeddings nutzen?"
   ]
  },
  {
   "cell_type": "code",
   "execution_count": 1,
   "metadata": {},
   "outputs": [],
   "source": [
    "import pandas as pd\n",
    "import numpy as np"
   ]
  },
  {
   "cell_type": "code",
   "execution_count": 52,
   "metadata": {},
   "outputs": [],
   "source": [
    "Dummy_side_effects0= {\n",
    "    'abdominal': ['constipation', 'diarrhea'],\n",
    "    'skin' : ['rash'],\n",
    "    'vertigo' : ['dizziness', 'drowsiness'],\n",
    "    'headache' : ['headache'],\n",
    "    'mood disorders' : ['insomnia', 'mood swings']}\n",
    "\n",
    "# Lieber so:\n",
    "Dummy_side_effects= {\n",
    "    'constipation': 'abdominal',\n",
    "    'diarrhea' : 'abdominal',\n",
    "    'rash' : 'skin',\n",
    "    'dizziness' : 'vertigo',\n",
    "    'drowsiness' : 'vertigo',\n",
    "    'headache' : 'headache',\n",
    "    'insomnia' : 'mood disorders',\n",
    "    'mood swings' : 'mood disorders'}"
   ]
  },
  {
   "cell_type": "code",
   "execution_count": 20,
   "metadata": {},
   "outputs": [],
   "source": [
    "df = pd.read_table('../raw_data/meddra.tsv', header=None)\n",
    "df.columns = [\"UMLS_ID\", \"MedDRA_Term\", \"MedDRA_ID\", \"Side_Effect\"]"
   ]
  },
  {
   "cell_type": "code",
   "execution_count": 31,
   "metadata": {},
   "outputs": [
    {
     "data": {
      "text/html": [
       "<div>\n",
       "<style scoped>\n",
       "    .dataframe tbody tr th:only-of-type {\n",
       "        vertical-align: middle;\n",
       "    }\n",
       "\n",
       "    .dataframe tbody tr th {\n",
       "        vertical-align: top;\n",
       "    }\n",
       "\n",
       "    .dataframe thead th {\n",
       "        text-align: right;\n",
       "    }\n",
       "</style>\n",
       "<table border=\"1\" class=\"dataframe\">\n",
       "  <thead>\n",
       "    <tr style=\"text-align: right;\">\n",
       "      <th></th>\n",
       "      <th>UMLS_ID</th>\n",
       "      <th>MedDRA_Term</th>\n",
       "      <th>MedDRA_ID</th>\n",
       "      <th>Side_Effect</th>\n",
       "    </tr>\n",
       "  </thead>\n",
       "  <tbody>\n",
       "    <tr>\n",
       "      <th>0</th>\n",
       "      <td>C0000727</td>\n",
       "      <td>LT</td>\n",
       "      <td>10000647</td>\n",
       "      <td>Acute abdomen</td>\n",
       "    </tr>\n",
       "    <tr>\n",
       "      <th>1</th>\n",
       "      <td>C0000727</td>\n",
       "      <td>PT</td>\n",
       "      <td>10000647</td>\n",
       "      <td>Acute abdomen</td>\n",
       "    </tr>\n",
       "    <tr>\n",
       "      <th>2</th>\n",
       "      <td>C0000727</td>\n",
       "      <td>LT</td>\n",
       "      <td>10042784</td>\n",
       "      <td>Syndrome abdominal acute</td>\n",
       "    </tr>\n",
       "    <tr>\n",
       "      <th>3</th>\n",
       "      <td>C0000727</td>\n",
       "      <td>LT</td>\n",
       "      <td>10000096</td>\n",
       "      <td>Abdominal syndrome acute</td>\n",
       "    </tr>\n",
       "    <tr>\n",
       "      <th>4</th>\n",
       "      <td>C0000729</td>\n",
       "      <td>LT</td>\n",
       "      <td>10000057</td>\n",
       "      <td>Abdominal cramps</td>\n",
       "    </tr>\n",
       "  </tbody>\n",
       "</table>\n",
       "</div>"
      ],
      "text/plain": [
       "    UMLS_ID MedDRA_Term  MedDRA_ID               Side_Effect\n",
       "0  C0000727          LT   10000647             Acute abdomen\n",
       "1  C0000727          PT   10000647             Acute abdomen\n",
       "2  C0000727          LT   10042784  Syndrome abdominal acute\n",
       "3  C0000727          LT   10000096  Abdominal syndrome acute\n",
       "4  C0000729          LT   10000057          Abdominal cramps"
      ]
     },
     "execution_count": 31,
     "metadata": {},
     "output_type": "execute_result"
    }
   ],
   "source": [
    "df.head()"
   ]
  },
  {
   "cell_type": "code",
   "execution_count": 41,
   "metadata": {},
   "outputs": [
    {
     "data": {
      "text/plain": [
       "(20307, 4)"
      ]
     },
     "execution_count": 41,
     "metadata": {},
     "output_type": "execute_result"
    }
   ],
   "source": [
    "df_pt = df[df['MedDRA_Term'] == 'PT']\n",
    "df_pt.shape"
   ]
  },
  {
   "cell_type": "code",
   "execution_count": 44,
   "metadata": {},
   "outputs": [
    {
     "data": {
      "text/html": [
       "<div>\n",
       "<style scoped>\n",
       "    .dataframe tbody tr th:only-of-type {\n",
       "        vertical-align: middle;\n",
       "    }\n",
       "\n",
       "    .dataframe tbody tr th {\n",
       "        vertical-align: top;\n",
       "    }\n",
       "\n",
       "    .dataframe thead th {\n",
       "        text-align: right;\n",
       "    }\n",
       "</style>\n",
       "<table border=\"1\" class=\"dataframe\">\n",
       "  <thead>\n",
       "    <tr style=\"text-align: right;\">\n",
       "      <th></th>\n",
       "      <th>UMLS_ID</th>\n",
       "      <th>MedDRA_Term</th>\n",
       "      <th>MedDRA_ID</th>\n",
       "      <th>Side_Effect</th>\n",
       "    </tr>\n",
       "  </thead>\n",
       "  <tbody>\n",
       "    <tr>\n",
       "      <th>1</th>\n",
       "      <td>C0000727</td>\n",
       "      <td>PT</td>\n",
       "      <td>10000647</td>\n",
       "      <td>Acute abdomen</td>\n",
       "    </tr>\n",
       "    <tr>\n",
       "      <th>12</th>\n",
       "      <td>C0000731</td>\n",
       "      <td>PT</td>\n",
       "      <td>10000060</td>\n",
       "      <td>Abdominal distension</td>\n",
       "    </tr>\n",
       "    <tr>\n",
       "      <th>17</th>\n",
       "      <td>C0000734</td>\n",
       "      <td>PT</td>\n",
       "      <td>10000077</td>\n",
       "      <td>Abdominal mass</td>\n",
       "    </tr>\n",
       "    <tr>\n",
       "      <th>22</th>\n",
       "      <td>C0000735</td>\n",
       "      <td>PT</td>\n",
       "      <td>10060925</td>\n",
       "      <td>Abdominal neoplasm</td>\n",
       "    </tr>\n",
       "    <tr>\n",
       "      <th>27</th>\n",
       "      <td>C0000737</td>\n",
       "      <td>PT</td>\n",
       "      <td>10000081</td>\n",
       "      <td>Abdominal pain</td>\n",
       "    </tr>\n",
       "  </tbody>\n",
       "</table>\n",
       "</div>"
      ],
      "text/plain": [
       "     UMLS_ID MedDRA_Term  MedDRA_ID           Side_Effect\n",
       "1   C0000727          PT   10000647         Acute abdomen\n",
       "12  C0000731          PT   10000060  Abdominal distension\n",
       "17  C0000734          PT   10000077        Abdominal mass\n",
       "22  C0000735          PT   10060925    Abdominal neoplasm\n",
       "27  C0000737          PT   10000081        Abdominal pain"
      ]
     },
     "execution_count": 44,
     "metadata": {},
     "output_type": "execute_result"
    }
   ],
   "source": [
    "df_pt.head(5)"
   ]
  },
  {
   "cell_type": "code",
   "execution_count": 57,
   "metadata": {},
   "outputs": [],
   "source": [
    "df_pt = df_pt.sort_values(by='UMLS_ID')"
   ]
  },
  {
   "cell_type": "code",
   "execution_count": 59,
   "metadata": {},
   "outputs": [
    {
     "data": {
      "text/html": [
       "<div>\n",
       "<style scoped>\n",
       "    .dataframe tbody tr th:only-of-type {\n",
       "        vertical-align: middle;\n",
       "    }\n",
       "\n",
       "    .dataframe tbody tr th {\n",
       "        vertical-align: top;\n",
       "    }\n",
       "\n",
       "    .dataframe thead th {\n",
       "        text-align: right;\n",
       "    }\n",
       "</style>\n",
       "<table border=\"1\" class=\"dataframe\">\n",
       "  <thead>\n",
       "    <tr style=\"text-align: right;\">\n",
       "      <th></th>\n",
       "      <th>UMLS_ID</th>\n",
       "      <th>MedDRA_Term</th>\n",
       "      <th>MedDRA_ID</th>\n",
       "      <th>Side_Effect</th>\n",
       "    </tr>\n",
       "  </thead>\n",
       "  <tbody>\n",
       "    <tr>\n",
       "      <th>1</th>\n",
       "      <td>C0000727</td>\n",
       "      <td>PT</td>\n",
       "      <td>10000647</td>\n",
       "      <td>Acute abdomen</td>\n",
       "    </tr>\n",
       "    <tr>\n",
       "      <th>12</th>\n",
       "      <td>C0000731</td>\n",
       "      <td>PT</td>\n",
       "      <td>10000060</td>\n",
       "      <td>Abdominal distension</td>\n",
       "    </tr>\n",
       "    <tr>\n",
       "      <th>17</th>\n",
       "      <td>C0000734</td>\n",
       "      <td>PT</td>\n",
       "      <td>10000077</td>\n",
       "      <td>Abdominal mass</td>\n",
       "    </tr>\n",
       "    <tr>\n",
       "      <th>22</th>\n",
       "      <td>C0000735</td>\n",
       "      <td>PT</td>\n",
       "      <td>10060925</td>\n",
       "      <td>Abdominal neoplasm</td>\n",
       "    </tr>\n",
       "    <tr>\n",
       "      <th>27</th>\n",
       "      <td>C0000737</td>\n",
       "      <td>PT</td>\n",
       "      <td>10000081</td>\n",
       "      <td>Abdominal pain</td>\n",
       "    </tr>\n",
       "    <tr>\n",
       "      <th>34</th>\n",
       "      <td>C0000766</td>\n",
       "      <td>PT</td>\n",
       "      <td>10048065</td>\n",
       "      <td>X-ray abnormal</td>\n",
       "    </tr>\n",
       "    <tr>\n",
       "      <th>46</th>\n",
       "      <td>C0000768</td>\n",
       "      <td>PT</td>\n",
       "      <td>10060919</td>\n",
       "      <td>Foetal malformation</td>\n",
       "    </tr>\n",
       "    <tr>\n",
       "      <th>40</th>\n",
       "      <td>C0000768</td>\n",
       "      <td>PT</td>\n",
       "      <td>10010356</td>\n",
       "      <td>Congenital anomaly</td>\n",
       "    </tr>\n",
       "    <tr>\n",
       "      <th>55</th>\n",
       "      <td>C0000772</td>\n",
       "      <td>PT</td>\n",
       "      <td>10028182</td>\n",
       "      <td>Multiple congenital abnormalities</td>\n",
       "    </tr>\n",
       "    <tr>\n",
       "      <th>58</th>\n",
       "      <td>C0000774</td>\n",
       "      <td>PT</td>\n",
       "      <td>10061165</td>\n",
       "      <td>Gastrin secretion disorder</td>\n",
       "    </tr>\n",
       "  </tbody>\n",
       "</table>\n",
       "</div>"
      ],
      "text/plain": [
       "     UMLS_ID MedDRA_Term  MedDRA_ID                        Side_Effect\n",
       "1   C0000727          PT   10000647                      Acute abdomen\n",
       "12  C0000731          PT   10000060               Abdominal distension\n",
       "17  C0000734          PT   10000077                     Abdominal mass\n",
       "22  C0000735          PT   10060925                 Abdominal neoplasm\n",
       "27  C0000737          PT   10000081                     Abdominal pain\n",
       "34  C0000766          PT   10048065                     X-ray abnormal\n",
       "46  C0000768          PT   10060919                Foetal malformation\n",
       "40  C0000768          PT   10010356                 Congenital anomaly\n",
       "55  C0000772          PT   10028182  Multiple congenital abnormalities\n",
       "58  C0000774          PT   10061165         Gastrin secretion disorder"
      ]
     },
     "execution_count": 59,
     "metadata": {},
     "output_type": "execute_result"
    }
   ],
   "source": [
    "df_pt.head(10)"
   ]
  },
  {
   "cell_type": "markdown",
   "metadata": {},
   "source": [
    "# Frequent ADR from medical data"
   ]
  },
  {
   "cell_type": "code",
   "execution_count": 127,
   "metadata": {},
   "outputs": [],
   "source": [
    "df_frequent = pd.read_table('../raw_data/meddra_freq.tsv', header=None)\n",
    "df_frequent.columns = [\"ID_1\", \"ID_2\",\"UMLS_ID\", \"placebo\", \"frequency\", \"lower\", \"upper\", \"MedDRA_Term\", \"UMLS_ID2\", \"Side_Effect\"]"
   ]
  },
  {
   "cell_type": "code",
   "execution_count": 131,
   "metadata": {},
   "outputs": [
    {
     "data": {
      "text/html": [
       "<div>\n",
       "<style scoped>\n",
       "    .dataframe tbody tr th:only-of-type {\n",
       "        vertical-align: middle;\n",
       "    }\n",
       "\n",
       "    .dataframe tbody tr th {\n",
       "        vertical-align: top;\n",
       "    }\n",
       "\n",
       "    .dataframe thead th {\n",
       "        text-align: right;\n",
       "    }\n",
       "</style>\n",
       "<table border=\"1\" class=\"dataframe\">\n",
       "  <thead>\n",
       "    <tr style=\"text-align: right;\">\n",
       "      <th></th>\n",
       "      <th>UMLS_ID</th>\n",
       "      <th>frequency</th>\n",
       "      <th>lower</th>\n",
       "      <th>upper</th>\n",
       "      <th>MedDRA_Term</th>\n",
       "      <th>UMLS_ID2</th>\n",
       "      <th>Side_Effect</th>\n",
       "    </tr>\n",
       "  </thead>\n",
       "  <tbody>\n",
       "    <tr>\n",
       "      <th>0</th>\n",
       "      <td>C0000737</td>\n",
       "      <td>21%</td>\n",
       "      <td>0.21</td>\n",
       "      <td>0.21</td>\n",
       "      <td>LLT</td>\n",
       "      <td>C0000737</td>\n",
       "      <td>Abdominal pain</td>\n",
       "    </tr>\n",
       "    <tr>\n",
       "      <th>1</th>\n",
       "      <td>C0000737</td>\n",
       "      <td>21%</td>\n",
       "      <td>0.21</td>\n",
       "      <td>0.21</td>\n",
       "      <td>PT</td>\n",
       "      <td>C0000737</td>\n",
       "      <td>Abdominal pain</td>\n",
       "    </tr>\n",
       "    <tr>\n",
       "      <th>2</th>\n",
       "      <td>C0000737</td>\n",
       "      <td>21%</td>\n",
       "      <td>0.21</td>\n",
       "      <td>0.21</td>\n",
       "      <td>PT</td>\n",
       "      <td>C0687713</td>\n",
       "      <td>Gastrointestinal pain</td>\n",
       "    </tr>\n",
       "    <tr>\n",
       "      <th>3</th>\n",
       "      <td>C0000737</td>\n",
       "      <td>5%</td>\n",
       "      <td>0.05</td>\n",
       "      <td>0.05</td>\n",
       "      <td>LLT</td>\n",
       "      <td>C0000737</td>\n",
       "      <td>Abdominal pain</td>\n",
       "    </tr>\n",
       "    <tr>\n",
       "      <th>4</th>\n",
       "      <td>C0000737</td>\n",
       "      <td>5%</td>\n",
       "      <td>0.05</td>\n",
       "      <td>0.05</td>\n",
       "      <td>PT</td>\n",
       "      <td>C0000737</td>\n",
       "      <td>Abdominal pain</td>\n",
       "    </tr>\n",
       "  </tbody>\n",
       "</table>\n",
       "</div>"
      ],
      "text/plain": [
       "    UMLS_ID frequency  lower  upper MedDRA_Term  UMLS_ID2  \\\n",
       "0  C0000737       21%   0.21   0.21         LLT  C0000737   \n",
       "1  C0000737       21%   0.21   0.21          PT  C0000737   \n",
       "2  C0000737       21%   0.21   0.21          PT  C0687713   \n",
       "3  C0000737        5%   0.05   0.05         LLT  C0000737   \n",
       "4  C0000737        5%   0.05   0.05          PT  C0000737   \n",
       "\n",
       "             Side_Effect  \n",
       "0         Abdominal pain  \n",
       "1         Abdominal pain  \n",
       "2  Gastrointestinal pain  \n",
       "3         Abdominal pain  \n",
       "4         Abdominal pain  "
      ]
     },
     "execution_count": 131,
     "metadata": {},
     "output_type": "execute_result"
    }
   ],
   "source": [
    "df_frequent = df_frequent.drop([\"ID_1\", \"ID_2\", \"placebo\"], axis=1)\n",
    "df_frequent.head()"
   ]
  },
  {
   "cell_type": "code",
   "execution_count": 132,
   "metadata": {},
   "outputs": [
    {
     "data": {
      "text/plain": [
       "(3964,)"
      ]
     },
     "execution_count": 132,
     "metadata": {},
     "output_type": "execute_result"
    }
   ],
   "source": [
    "# Number of unique Side Effects in meddra_freq\n",
    "df_frequent.Side_Effect.unique().shape"
   ]
  },
  {
   "cell_type": "code",
   "execution_count": 133,
   "metadata": {},
   "outputs": [],
   "source": [
    "# Select only Side Effects with occurance > 5%\n",
    "temp = df_frequent[df_frequent.upper > 0.05].sort_values(by='upper', ascending=False)"
   ]
  },
  {
   "cell_type": "code",
   "execution_count": 182,
   "metadata": {},
   "outputs": [
    {
     "data": {
      "text/plain": [
       "(1612,)"
      ]
     },
     "execution_count": 182,
     "metadata": {},
     "output_type": "execute_result"
    }
   ],
   "source": [
    "temp.Side_Effect.unique().shape"
   ]
  },
  {
   "cell_type": "code",
   "execution_count": 121,
   "metadata": {},
   "outputs": [],
   "source": [
    "pd.DataFrame(temp).to_csv('../raw_data/frequent_adr.csv', index = False)"
   ]
  },
  {
   "cell_type": "markdown",
   "metadata": {},
   "source": [
    "## Frequent ADR in Dataset"
   ]
  },
  {
   "cell_type": "code",
   "execution_count": 154,
   "metadata": {},
   "outputs": [
    {
     "data": {
      "text/html": [
       "<div>\n",
       "<style scoped>\n",
       "    .dataframe tbody tr th:only-of-type {\n",
       "        vertical-align: middle;\n",
       "    }\n",
       "\n",
       "    .dataframe tbody tr th {\n",
       "        vertical-align: top;\n",
       "    }\n",
       "\n",
       "    .dataframe thead th {\n",
       "        text-align: right;\n",
       "    }\n",
       "</style>\n",
       "<table border=\"1\" class=\"dataframe\">\n",
       "  <thead>\n",
       "    <tr style=\"text-align: right;\">\n",
       "      <th></th>\n",
       "      <th>uniqueID</th>\n",
       "      <th>drugName</th>\n",
       "      <th>condition</th>\n",
       "      <th>review</th>\n",
       "      <th>rating</th>\n",
       "      <th>date</th>\n",
       "      <th>usefulCount</th>\n",
       "      <th>sideEffect</th>\n",
       "      <th>Unnamed: 8</th>\n",
       "    </tr>\n",
       "  </thead>\n",
       "  <tbody>\n",
       "    <tr>\n",
       "      <th>0</th>\n",
       "      <td>206461</td>\n",
       "      <td>Valsartan</td>\n",
       "      <td>Left Ventricular Dysfunction</td>\n",
       "      <td>\"It has no side effect, I take it in combination of Bystolic 5 Mg and Fish Oil\"</td>\n",
       "      <td>9</td>\n",
       "      <td>20-May-12</td>\n",
       "      <td>27</td>\n",
       "      <td>0</td>\n",
       "      <td>NaN</td>\n",
       "    </tr>\n",
       "    <tr>\n",
       "      <th>1</th>\n",
       "      <td>95260</td>\n",
       "      <td>Guanfacine</td>\n",
       "      <td>ADHD</td>\n",
       "      <td>\"My son is halfway through his fourth week of Intuniv. We became concerned when he began this la...</td>\n",
       "      <td>8</td>\n",
       "      <td>27-Apr-10</td>\n",
       "      <td>192</td>\n",
       "      <td>1</td>\n",
       "      <td>NaN</td>\n",
       "    </tr>\n",
       "    <tr>\n",
       "      <th>2</th>\n",
       "      <td>92703</td>\n",
       "      <td>Lybrel</td>\n",
       "      <td>Birth Control</td>\n",
       "      <td>\"I used to take another oral contraceptive, which had 21 pill cycle, and was very happy- very li...</td>\n",
       "      <td>5</td>\n",
       "      <td>14-Dec-09</td>\n",
       "      <td>17</td>\n",
       "      <td>1</td>\n",
       "      <td>NaN</td>\n",
       "    </tr>\n",
       "    <tr>\n",
       "      <th>3</th>\n",
       "      <td>138000</td>\n",
       "      <td>Ortho Evra</td>\n",
       "      <td>Birth Control</td>\n",
       "      <td>\"This is my first time using any form of birth control. I&amp;#039;m glad I went with the patch, I h...</td>\n",
       "      <td>8</td>\n",
       "      <td>3-Nov-15</td>\n",
       "      <td>10</td>\n",
       "      <td>1</td>\n",
       "      <td>NaN</td>\n",
       "    </tr>\n",
       "    <tr>\n",
       "      <th>4</th>\n",
       "      <td>35696</td>\n",
       "      <td>Buprenorphine / naloxone</td>\n",
       "      <td>Opiate Dependence</td>\n",
       "      <td>\"Suboxone has completely turned my life around.  I feel healthier, I&amp;#039;m excelling at my job ...</td>\n",
       "      <td>9</td>\n",
       "      <td>27-Nov-16</td>\n",
       "      <td>37</td>\n",
       "      <td>1</td>\n",
       "      <td>NaN</td>\n",
       "    </tr>\n",
       "    <tr>\n",
       "      <th>5</th>\n",
       "      <td>155963</td>\n",
       "      <td>Cialis</td>\n",
       "      <td>Benign Prostatic Hyperplasia</td>\n",
       "      <td>\"2nd day on 5mg started to work with rock hard erections however experianced headache, lower bow...</td>\n",
       "      <td>2</td>\n",
       "      <td>28-Nov-15</td>\n",
       "      <td>43</td>\n",
       "      <td>1</td>\n",
       "      <td>NaN</td>\n",
       "    </tr>\n",
       "    <tr>\n",
       "      <th>6</th>\n",
       "      <td>165907</td>\n",
       "      <td>Levonorgestrel</td>\n",
       "      <td>Emergency Contraception</td>\n",
       "      <td>\"He pulled out, but he cummed a bit in me. I took the Plan B 26 hours later, and took a pregnanc...</td>\n",
       "      <td>1</td>\n",
       "      <td>7-Mar-17</td>\n",
       "      <td>5</td>\n",
       "      <td>1</td>\n",
       "      <td>NaN</td>\n",
       "    </tr>\n",
       "    <tr>\n",
       "      <th>7</th>\n",
       "      <td>102654</td>\n",
       "      <td>Aripiprazole</td>\n",
       "      <td>Bipolar Disorde</td>\n",
       "      <td>\"Abilify changed my life. There is hope. I was on Zoloft and Clonidine when I first started Abil...</td>\n",
       "      <td>10</td>\n",
       "      <td>14-Mar-15</td>\n",
       "      <td>32</td>\n",
       "      <td>1</td>\n",
       "      <td>NaN</td>\n",
       "    </tr>\n",
       "    <tr>\n",
       "      <th>8</th>\n",
       "      <td>74811</td>\n",
       "      <td>Keppra</td>\n",
       "      <td>Epilepsy</td>\n",
       "      <td>\" I Ve had  nothing but problems with the Keppera : constant shaking in my arms &amp;amp; legs &amp;amp;...</td>\n",
       "      <td>1</td>\n",
       "      <td>9-Aug-16</td>\n",
       "      <td>11</td>\n",
       "      <td>1</td>\n",
       "      <td>NaN</td>\n",
       "    </tr>\n",
       "    <tr>\n",
       "      <th>9</th>\n",
       "      <td>48928</td>\n",
       "      <td>Ethinyl estradiol / levonorgestrel</td>\n",
       "      <td>Birth Control</td>\n",
       "      <td>\"I had been on the pill for many years. When my doctor changed my RX to chateal, it was as effec...</td>\n",
       "      <td>8</td>\n",
       "      <td>8-Dec-16</td>\n",
       "      <td>1</td>\n",
       "      <td>0</td>\n",
       "      <td>NaN</td>\n",
       "    </tr>\n",
       "  </tbody>\n",
       "</table>\n",
       "</div>"
      ],
      "text/plain": [
       "   uniqueID                            drugName                     condition  \\\n",
       "0    206461                           Valsartan  Left Ventricular Dysfunction   \n",
       "1     95260                          Guanfacine                          ADHD   \n",
       "2     92703                              Lybrel                 Birth Control   \n",
       "3    138000                          Ortho Evra                 Birth Control   \n",
       "4     35696            Buprenorphine / naloxone             Opiate Dependence   \n",
       "5    155963                              Cialis  Benign Prostatic Hyperplasia   \n",
       "6    165907                      Levonorgestrel       Emergency Contraception   \n",
       "7    102654                        Aripiprazole               Bipolar Disorde   \n",
       "8     74811                              Keppra                      Epilepsy   \n",
       "9     48928  Ethinyl estradiol / levonorgestrel                 Birth Control   \n",
       "\n",
       "                                                                                                review  \\\n",
       "0                      \"It has no side effect, I take it in combination of Bystolic 5 Mg and Fish Oil\"   \n",
       "1  \"My son is halfway through his fourth week of Intuniv. We became concerned when he began this la...   \n",
       "2  \"I used to take another oral contraceptive, which had 21 pill cycle, and was very happy- very li...   \n",
       "3  \"This is my first time using any form of birth control. I&#039;m glad I went with the patch, I h...   \n",
       "4  \"Suboxone has completely turned my life around.  I feel healthier, I&#039;m excelling at my job ...   \n",
       "5  \"2nd day on 5mg started to work with rock hard erections however experianced headache, lower bow...   \n",
       "6  \"He pulled out, but he cummed a bit in me. I took the Plan B 26 hours later, and took a pregnanc...   \n",
       "7  \"Abilify changed my life. There is hope. I was on Zoloft and Clonidine when I first started Abil...   \n",
       "8  \" I Ve had  nothing but problems with the Keppera : constant shaking in my arms &amp; legs &amp;...   \n",
       "9  \"I had been on the pill for many years. When my doctor changed my RX to chateal, it was as effec...   \n",
       "\n",
       "   rating       date  usefulCount  sideEffect Unnamed: 8  \n",
       "0       9  20-May-12           27           0        NaN  \n",
       "1       8  27-Apr-10          192           1        NaN  \n",
       "2       5  14-Dec-09           17           1        NaN  \n",
       "3       8   3-Nov-15           10           1        NaN  \n",
       "4       9  27-Nov-16           37           1        NaN  \n",
       "5       2  28-Nov-15           43           1        NaN  \n",
       "6       1   7-Mar-17            5           1        NaN  \n",
       "7      10  14-Mar-15           32           1        NaN  \n",
       "8       1   9-Aug-16           11           1        NaN  \n",
       "9       8   8-Dec-16            1           0        NaN  "
      ]
     },
     "execution_count": 154,
     "metadata": {},
     "output_type": "execute_result"
    }
   ],
   "source": [
    "df = pd.read_csv('../raw_data/adr_labelled_data.csv', nrows=300)\n",
    "df.head(st)"
   ]
  },
  {
   "cell_type": "code",
   "execution_count": 177,
   "metadata": {},
   "outputs": [
    {
     "data": {
      "text/html": [
       "<div>\n",
       "<style scoped>\n",
       "    .dataframe tbody tr th:only-of-type {\n",
       "        vertical-align: middle;\n",
       "    }\n",
       "\n",
       "    .dataframe tbody tr th {\n",
       "        vertical-align: top;\n",
       "    }\n",
       "\n",
       "    .dataframe thead th {\n",
       "        text-align: right;\n",
       "    }\n",
       "</style>\n",
       "<table border=\"1\" class=\"dataframe\">\n",
       "  <thead>\n",
       "    <tr style=\"text-align: right;\">\n",
       "      <th></th>\n",
       "      <th>drugName</th>\n",
       "      <th>Unnamed: 8</th>\n",
       "    </tr>\n",
       "  </thead>\n",
       "  <tbody>\n",
       "    <tr>\n",
       "      <th>290</th>\n",
       "      <td>Acetaminophen / oxycodone</td>\n",
       "      <td>NaN</td>\n",
       "    </tr>\n",
       "    <tr>\n",
       "      <th>291</th>\n",
       "      <td>Levonorgestrel</td>\n",
       "      <td>gained 40-50 pounds, no energy, no sex drive</td>\n",
       "    </tr>\n",
       "    <tr>\n",
       "      <th>292</th>\n",
       "      <td>Monistat 7</td>\n",
       "      <td>uncomfortable</td>\n",
       "    </tr>\n",
       "    <tr>\n",
       "      <th>293</th>\n",
       "      <td>Ethinyl estradiol / norgestimate</td>\n",
       "      <td>nauseous, migraines, depression, sweating, num arm</td>\n",
       "    </tr>\n",
       "    <tr>\n",
       "      <th>294</th>\n",
       "      <td>Pramipexole</td>\n",
       "      <td>Tired, can’t think straight</td>\n",
       "    </tr>\n",
       "    <tr>\n",
       "      <th>295</th>\n",
       "      <td>Ethinyl estradiol / norgestimate</td>\n",
       "      <td>no drive for sex. moody, cry constantly. period heavy and unpredictable</td>\n",
       "    </tr>\n",
       "    <tr>\n",
       "      <th>296</th>\n",
       "      <td>AndroGel</td>\n",
       "      <td>bit more aggressive</td>\n",
       "    </tr>\n",
       "    <tr>\n",
       "      <th>297</th>\n",
       "      <td>Ethinyl estradiol / norgestimate</td>\n",
       "      <td>Gained 5 pounds, super decreased limbo</td>\n",
       "    </tr>\n",
       "    <tr>\n",
       "      <th>298</th>\n",
       "      <td>Victoza</td>\n",
       "      <td>NaN</td>\n",
       "    </tr>\n",
       "    <tr>\n",
       "      <th>299</th>\n",
       "      <td>Ethinyl estradiol / norgestimate</td>\n",
       "      <td>swelling and tenderness in the chest</td>\n",
       "    </tr>\n",
       "  </tbody>\n",
       "</table>\n",
       "</div>"
      ],
      "text/plain": [
       "                             drugName  \\\n",
       "290         Acetaminophen / oxycodone   \n",
       "291                    Levonorgestrel   \n",
       "292                        Monistat 7   \n",
       "293  Ethinyl estradiol / norgestimate   \n",
       "294                       Pramipexole   \n",
       "295  Ethinyl estradiol / norgestimate   \n",
       "296                          AndroGel   \n",
       "297  Ethinyl estradiol / norgestimate   \n",
       "298                           Victoza   \n",
       "299  Ethinyl estradiol / norgestimate   \n",
       "\n",
       "                                                                  Unnamed: 8  \n",
       "290                                                                      NaN  \n",
       "291                             gained 40-50 pounds, no energy, no sex drive  \n",
       "292                                                            uncomfortable  \n",
       "293                       nauseous, migraines, depression, sweating, num arm  \n",
       "294                                              Tired, can’t think straight  \n",
       "295  no drive for sex. moody, cry constantly. period heavy and unpredictable  \n",
       "296                                                      bit more aggressive  \n",
       "297                                   Gained 5 pounds, super decreased limbo  \n",
       "298                                                                      NaN  \n",
       "299                                     swelling and tenderness in the chest  "
      ]
     },
     "execution_count": 177,
     "metadata": {},
     "output_type": "execute_result"
    }
   ],
   "source": [
    "pd.options.display.max_colwidth = 100\n",
    "real_se = df[['drugName','Unnamed: 8']].iloc[100:]\n",
    "real_se.iloc[190:200]"
   ]
  },
  {
   "cell_type": "code",
   "execution_count": 161,
   "metadata": {},
   "outputs": [
    {
     "data": {
      "text/plain": [
       "drugName      Gabapentin\n",
       "Unnamed: 8           NaN\n",
       "Name: 240, dtype: object"
      ]
     },
     "execution_count": 161,
     "metadata": {},
     "output_type": "execute_result"
    }
   ],
   "source": [
    "real_se.iloc[140]"
   ]
  },
  {
   "cell_type": "markdown",
   "metadata": {},
   "source": [
    "headache : headache, migrane, migranes, headaches\n",
    "pain: pain, leg pain, back pain, arm pain, cramps, tendonitis, pain in joints\n",
    "\n",
    "skin: sensitive skin, dry skin, burned, red, dryness, swollen, itchy, irritated, bumpy spots, peeling, chapped lips, acne, burning, itching, lost sensation, swollen, lips like sandpaper\n",
    "\n",
    "libido: sex drive decreased, lower sex drive, decreased libido\n",
    "\n",
    "depression: anhedonia, depression, mood swings, moody, weepy, no feelings, feeling, crying, cry constantly\n",
    "\n",
    "anxiety: jaw clenching, inability to sit still, bad dreams, hear internal voices, paranoid, anxious, scared to be alone, suppressed, ability to sleep, manic state, anxiety, insomnia, yawning, little confused, cognitive problems, irritable, angry, unreasonable, nightmare, nightmares, can't think straight, aggressive\n",
    "\n",
    "gastro-intestinal: diarrhoea, stomach cramps, heartburn, nauseated, no appetite, nausea, appetite suppressed, bowel movements, constipation, constipated, upset stomach, bloating, passing winds, acidy burbs, stomach aches, nauseous, sour stomach\n",
    "\n",
    "gynecological: brown periods, spot, spotting, bleeding lasted, increased discharge, longer periods, cramping, burning, itching, heavy periods, swelling chest, tenderness in chest\n",
    "\n",
    "discomfort: shakiness, shaky, tired, fatigue, breathlessness, dry mouth, no energy, cold, hot flashes,  night sweats, shaking, dizziness, knocks me out, weakness, wheezy, tiredness, uncomfortable, sweating\n",
    "\n",
    "weight gain: weight gain, gaining weight, hungry, appetite increased\n",
    "\n",
    "eyes: burning eyes, blurred vision, blurry vision, extreme light sensitivity\n",
    "\n",
    "other: hair loss, strange taste in mouth, dry mouth, weight loss, sneeze, zero appetite\n",
    "    "
   ]
  },
  {
   "cell_type": "code",
   "execution_count": 178,
   "metadata": {},
   "outputs": [],
   "source": [
    "real_se_dict = {\n",
    "    'headache' : 'pain', \n",
    "    'migrane' : 'pain', \n",
    "    'migranes' : 'pain', \n",
    "    'headaches' : 'pain',\n",
    "    'pain' : 'pain', \n",
    "    'leg pain' : 'pain', \n",
    "    'back pain' : 'pain', \n",
    "    'arm pain' : 'pain', \n",
    "    'cramps' : 'pain', \n",
    "    'tendonitis' : 'pain', \n",
    "    'pain in joints' : 'pain',\n",
    "    \n",
    "    'sensitive skin' : 'skin', \n",
    "    'dry skin' : 'skin', \n",
    "    'burned' : 'skin', \n",
    "    'red' : 'skin', \n",
    "    'dryness' : 'skin', \n",
    "    'swollen' : 'skin', \n",
    "    'itchy' : 'skin', \n",
    "    'irritated' : 'skin', \n",
    "    'bumpy spots' : 'skin', \n",
    "    'peeling' : 'skin', \n",
    "    'chapped lips' : 'skin', \n",
    "    'acne' : 'skin', \n",
    "    'burning' : 'skin', \n",
    "    'itching' : 'skin', \n",
    "    'lost sensation' : 'skin', \n",
    "    'swollen' : 'skin',\n",
    "    \n",
    "    'sex drive decreased': 'libido', \n",
    "    'lower sex drive' : 'libido', \n",
    "    'decreased libido' : 'libido',\n",
    "    'loss of libido' : 'libido',\n",
    "    \n",
    "    'anhedonia' : 'depression', \n",
    "    'depression' : 'depression', \n",
    "    'mood swings' : 'depression', \n",
    "    'moody' : 'depression', \n",
    "    'weepy' : 'depression', \n",
    "    'no feelings' : 'depression', \n",
    "    'feeling' : 'depression', \n",
    "    'crying' : 'depression', \n",
    "    'cry constantly' : 'depression',\n",
    "    \n",
    "    'jaw clenching' : 'anxiety', \n",
    "    'inability to sit still' : 'anxiety', \n",
    "    'hear internal voices' : 'anxiety', \n",
    "    'paranoid' : 'anxiety', \n",
    "    'anxious' : 'anxiety', \n",
    "    'scared to be alone' : 'anxiety', \n",
    "    'manic state' : 'anxiety', \n",
    "    'anxiety' : 'anxiety', \n",
    "    'little confused' : 'anxiety', \n",
    "    'cognitive problems' : 'anxiety', \n",
    "    'irritable' : 'anxiety', \n",
    "    'angry' : 'anxiety', \n",
    "    'unreasonable' : 'anxiety', \n",
    "    'can not think straight' : 'anxiety', \n",
    "    'aggressive' : 'anxiety',\n",
    "    'nightmare' : 'anxiety', \n",
    "    'nightmares' : 'anxiety', \n",
    "    'yawning' : 'anxiety', \n",
    "    'bad dreams' : 'anxiety', \n",
    "    'inability to sleep' : 'anxiety', \n",
    "    'insomnia' : 'anxiety', \n",
    "    \n",
    "    'gastro-intestinal' : 'gastro-intestinal',\n",
    "    'diarrhoea' : 'gastro-intestinal', \n",
    "    'stomach cramps' : 'gastro-intestinal', \n",
    "    'heartburn' : 'gastro-intestinal', \n",
    "    'nauseated' : 'gastro-intestinal', \n",
    "    'no appetite' : 'gastro-intestinal', \n",
    "    'nausea' : 'gastro-intestinal', \n",
    "    'appetite suppressed' : 'gastro-intestinal', \n",
    "    'bowel movements' : 'gastro-intestinal', \n",
    "    'constipation' : 'gastro-intestinal', \n",
    "    'constipated' : 'gastro-intestinal', \n",
    "    'upset stomach' : 'gastro-intestinal', \n",
    "    'bloating' : 'gastro-intestinal', \n",
    "    'passing winds' : 'gastro-intestinal', \n",
    "    'acidy burbs' : 'gastro-intestinal', \n",
    "    'stomach aches' : 'gastro-intestinal', \n",
    "    'nauseous' : 'gastro-intestinal', \n",
    "    'sour stomach' : 'gastro-intestinal',\n",
    "    \n",
    "    'discomfort' : 'discomfort',\n",
    "    'shakiness' : 'discomfort', \n",
    "    'shaky' : 'discomfort', \n",
    "    'tired' : 'discomfort', \n",
    "    'fatigue' : 'discomfort', \n",
    "    'breathlessness' : 'discomfort', \n",
    "    'dry mouth' : 'discomfort', \n",
    "    'no energy' : 'discomfort', \n",
    "    'cold' : 'discomfort', \n",
    "    'hot flashes' : 'discomfort',  \n",
    "    'night sweats' : 'discomfort', \n",
    "    'shaking' : 'discomfort', \n",
    "    'dizziness' : 'discomfort', \n",
    "    'knocks me out' : 'discomfort', \n",
    "    'weakness' : 'discomfort', \n",
    "    'wheezy' : 'discomfort', \n",
    "    'tiredness' : 'discomfort', \n",
    "    'uncomfortable' : 'discomfort', \n",
    "    'sweating' : 'discomfort',\n",
    "    \n",
    "    'brown periods' : 'gynecological', \n",
    "    'spot' : 'gynecological', \n",
    "    'spotting' : 'gynecological', \n",
    "    'bleeding lasted' : 'gynecological', \n",
    "    'increased discharge' : 'gynecological', \n",
    "    'longer periods' : 'gynecological', \n",
    "    'cramping' : 'gynecological', \n",
    "    'burning' : 'gynecological', \n",
    "    'itching' : 'gynecological', \n",
    "    'heavy periods' : 'gynecological', \n",
    "    'swelling chest' : 'gynecological', \n",
    "    'tenderness in chest' : 'gynecological',\n",
    "    \n",
    "    'weight gain' : 'weight gain', \n",
    "    'gaining weight' : 'weight gain', \n",
    "    'hungry' : 'weight gain', \n",
    "    'appetite increased' : 'weight gain',\n",
    "\n",
    "    'burning eyes' : 'eyes', \n",
    "    'blurred vision' : 'eyes', \n",
    "    'blurry vision' : 'eyes', \n",
    "    'light sensitivity' : 'eyes'}"
   ]
  },
  {
   "cell_type": "code",
   "execution_count": 184,
   "metadata": {},
   "outputs": [],
   "source": [
    "real_se_domains: ['pain', 'skin', 'libido', 'depression', 'anxiety', 'gastro-intestinal', 'discomfort', 'gynecological', 'weight gain', 'eyes']"
   ]
  },
  {
   "cell_type": "code",
   "execution_count": 188,
   "metadata": {},
   "outputs": [
    {
     "ename": "AttributeError",
     "evalue": "'dict' object has no attribute 'info'",
     "output_type": "error",
     "traceback": [
      "\u001b[0;31m---------------------------------------------------------------------------\u001b[0m",
      "\u001b[0;31mAttributeError\u001b[0m                            Traceback (most recent call last)",
      "\u001b[0;32m<ipython-input-188-ff8b31bfa7bb>\u001b[0m in \u001b[0;36m<module>\u001b[0;34m\u001b[0m\n\u001b[0;32m----> 1\u001b[0;31m \u001b[0mreal_se_dict\u001b[0m\u001b[0;34m.\u001b[0m\u001b[0minfo\u001b[0m\u001b[0;34m(\u001b[0m\u001b[0;34m)\u001b[0m\u001b[0;34m\u001b[0m\u001b[0;34m\u001b[0m\u001b[0m\n\u001b[0m",
      "\u001b[0;31mAttributeError\u001b[0m: 'dict' object has no attribute 'info'"
     ]
    }
   ],
   "source": [
    "real_se_dict.info()"
   ]
  },
  {
   "cell_type": "code",
   "execution_count": 191,
   "metadata": {},
   "outputs": [],
   "source": [
    "dummy_data = {'drug' : ['Tylenol', 'Cialis', 'Ibuprofen', 'Benadril', 'Claritin'],\n",
    "        'condition' : ['pain', 'ed', 'pain', 'allergy', 'allergy'],\n",
    "       'headache' : [2, 4, 0, 1, 0],\n",
    "       'nausea' : [0, 1, 1, 1, 0],\n",
    "       'dizzy' : [0, 2, 1, 1, 0],\n",
    "       'death' : [1, 0, 1, 2, 20]}\n",
    "dummy_df = pd.DataFrame(dummy_data, columns = dummy_data.keys())"
   ]
  },
  {
   "cell_type": "code",
   "execution_count": 192,
   "metadata": {},
   "outputs": [
    {
     "data": {
      "text/html": [
       "<div>\n",
       "<style scoped>\n",
       "    .dataframe tbody tr th:only-of-type {\n",
       "        vertical-align: middle;\n",
       "    }\n",
       "\n",
       "    .dataframe tbody tr th {\n",
       "        vertical-align: top;\n",
       "    }\n",
       "\n",
       "    .dataframe thead th {\n",
       "        text-align: right;\n",
       "    }\n",
       "</style>\n",
       "<table border=\"1\" class=\"dataframe\">\n",
       "  <thead>\n",
       "    <tr style=\"text-align: right;\">\n",
       "      <th></th>\n",
       "      <th>drug</th>\n",
       "      <th>condition</th>\n",
       "      <th>headache</th>\n",
       "      <th>nausea</th>\n",
       "      <th>dizzy</th>\n",
       "      <th>death</th>\n",
       "    </tr>\n",
       "  </thead>\n",
       "  <tbody>\n",
       "    <tr>\n",
       "      <th>0</th>\n",
       "      <td>Tylenol</td>\n",
       "      <td>pain</td>\n",
       "      <td>2</td>\n",
       "      <td>0</td>\n",
       "      <td>0</td>\n",
       "      <td>1</td>\n",
       "    </tr>\n",
       "    <tr>\n",
       "      <th>1</th>\n",
       "      <td>Cialis</td>\n",
       "      <td>ed</td>\n",
       "      <td>4</td>\n",
       "      <td>1</td>\n",
       "      <td>2</td>\n",
       "      <td>0</td>\n",
       "    </tr>\n",
       "    <tr>\n",
       "      <th>2</th>\n",
       "      <td>Ibuprofen</td>\n",
       "      <td>pain</td>\n",
       "      <td>0</td>\n",
       "      <td>1</td>\n",
       "      <td>1</td>\n",
       "      <td>1</td>\n",
       "    </tr>\n",
       "    <tr>\n",
       "      <th>3</th>\n",
       "      <td>Benadril</td>\n",
       "      <td>allergy</td>\n",
       "      <td>1</td>\n",
       "      <td>1</td>\n",
       "      <td>1</td>\n",
       "      <td>2</td>\n",
       "    </tr>\n",
       "    <tr>\n",
       "      <th>4</th>\n",
       "      <td>Claritin</td>\n",
       "      <td>allergy</td>\n",
       "      <td>0</td>\n",
       "      <td>0</td>\n",
       "      <td>0</td>\n",
       "      <td>20</td>\n",
       "    </tr>\n",
       "  </tbody>\n",
       "</table>\n",
       "</div>"
      ],
      "text/plain": [
       "        drug condition  headache  nausea  dizzy  death\n",
       "0    Tylenol      pain         2       0      0      1\n",
       "1     Cialis        ed         4       1      2      0\n",
       "2  Ibuprofen      pain         0       1      1      1\n",
       "3   Benadril   allergy         1       1      1      2\n",
       "4   Claritin   allergy         0       0      0     20"
      ]
     },
     "execution_count": 192,
     "metadata": {},
     "output_type": "execute_result"
    }
   ],
   "source": [
    "dummy_df"
   ]
  },
  {
   "cell_type": "code",
   "execution_count": 197,
   "metadata": {},
   "outputs": [
    {
     "data": {
      "text/html": [
       "<div>\n",
       "<style scoped>\n",
       "    .dataframe tbody tr th:only-of-type {\n",
       "        vertical-align: middle;\n",
       "    }\n",
       "\n",
       "    .dataframe tbody tr th {\n",
       "        vertical-align: top;\n",
       "    }\n",
       "\n",
       "    .dataframe thead th {\n",
       "        text-align: right;\n",
       "    }\n",
       "</style>\n",
       "<table border=\"1\" class=\"dataframe\">\n",
       "  <thead>\n",
       "    <tr style=\"text-align: right;\">\n",
       "      <th></th>\n",
       "      <th>drug</th>\n",
       "      <th>condition</th>\n",
       "      <th>headache</th>\n",
       "      <th>nausea</th>\n",
       "      <th>dizzy</th>\n",
       "      <th>death</th>\n",
       "    </tr>\n",
       "  </thead>\n",
       "  <tbody>\n",
       "    <tr>\n",
       "      <th>0</th>\n",
       "      <td>Tylenol</td>\n",
       "      <td>pain</td>\n",
       "      <td>2</td>\n",
       "      <td>0</td>\n",
       "      <td>0</td>\n",
       "      <td>1</td>\n",
       "    </tr>\n",
       "  </tbody>\n",
       "</table>\n",
       "</div>"
      ],
      "text/plain": [
       "      drug condition headache nausea dizzy death\n",
       "0  Tylenol      pain        2      0     0     1"
      ]
     },
     "execution_count": 197,
     "metadata": {},
     "output_type": "execute_result"
    }
   ],
   "source": [
    "singlesample = pd.DataFrame(dummy_df.iloc[0]).transpose()\n",
    "singlesample"
   ]
  },
  {
   "cell_type": "code",
   "execution_count": 235,
   "metadata": {},
   "outputs": [
    {
     "data": {
      "text/html": [
       "<div>\n",
       "<style scoped>\n",
       "    .dataframe tbody tr th:only-of-type {\n",
       "        vertical-align: middle;\n",
       "    }\n",
       "\n",
       "    .dataframe tbody tr th {\n",
       "        vertical-align: top;\n",
       "    }\n",
       "\n",
       "    .dataframe thead th {\n",
       "        text-align: right;\n",
       "    }\n",
       "</style>\n",
       "<table border=\"1\" class=\"dataframe\">\n",
       "  <thead>\n",
       "    <tr style=\"text-align: right;\">\n",
       "      <th></th>\n",
       "      <th>drug</th>\n",
       "      <th>condition</th>\n",
       "      <th>headache</th>\n",
       "      <th>nausea</th>\n",
       "      <th>dizzy</th>\n",
       "      <th>death</th>\n",
       "    </tr>\n",
       "  </thead>\n",
       "  <tbody>\n",
       "    <tr>\n",
       "      <th>0</th>\n",
       "      <td>Tylenol</td>\n",
       "      <td>pain</td>\n",
       "      <td>2</td>\n",
       "      <td>0</td>\n",
       "      <td>0</td>\n",
       "      <td>1</td>\n",
       "    </tr>\n",
       "  </tbody>\n",
       "</table>\n",
       "</div>"
      ],
      "text/plain": [
       "      drug condition  headache  nausea  dizzy  death\n",
       "0  Tylenol      pain         2       0      0      1"
      ]
     },
     "execution_count": 235,
     "metadata": {},
     "output_type": "execute_result"
    }
   ],
   "source": [
    "secondsample = dummy_df.loc[[0]]\n",
    "secondsample"
   ]
  },
  {
   "cell_type": "code",
   "execution_count": 201,
   "metadata": {},
   "outputs": [
    {
     "data": {
      "text/plain": [
       "Index(['drug', 'condition', 'headache', 'nausea', 'dizzy', 'death'], dtype='object')"
      ]
     },
     "execution_count": 201,
     "metadata": {},
     "output_type": "execute_result"
    }
   ],
   "source": [
    "singlesample.columns"
   ]
  },
  {
   "cell_type": "code",
   "execution_count": 237,
   "metadata": {},
   "outputs": [
    {
     "data": {
      "text/plain": [
       "'Tylenol'"
      ]
     },
     "execution_count": 237,
     "metadata": {},
     "output_type": "execute_result"
    }
   ],
   "source": [
    "dummy_df.loc[0,'drug']"
   ]
  },
  {
   "cell_type": "code",
   "execution_count": 240,
   "metadata": {},
   "outputs": [],
   "source": [
    "def make_dicks(pandas):\n",
    "    row = {}\n",
    "    for column in pandas.columns:\n",
    "        row[f'{column}'] = pandas.loc[0,f'{column}']\n",
    "    return row"
   ]
  },
  {
   "cell_type": "code",
   "execution_count": 315,
   "metadata": {},
   "outputs": [
    {
     "data": {
      "text/plain": [
       "{'drug': 'Tylenol',\n",
       " 'condition': 'pain',\n",
       " 'headache': 2,\n",
       " 'nausea': 0,\n",
       " 'dizzy': 0,\n",
       " 'death': 1}"
      ]
     },
     "execution_count": 315,
     "metadata": {},
     "output_type": "execute_result"
    }
   ],
   "source": [
    "dick = make_dicks(singlesample)\n",
    "dick"
   ]
  },
  {
   "cell_type": "code",
   "execution_count": 244,
   "metadata": {},
   "outputs": [
    {
     "data": {
      "text/plain": [
       "Index(['drug', 'condition', 'headache', 'nausea', 'dizzy', 'death'], dtype='object')"
      ]
     },
     "execution_count": 244,
     "metadata": {},
     "output_type": "execute_result"
    }
   ],
   "source": [
    "dummy_df.columns"
   ]
  },
  {
   "cell_type": "code",
   "execution_count": 245,
   "metadata": {},
   "outputs": [
    {
     "data": {
      "text/plain": [
       "{'drug': 'Tylenol',\n",
       " 'condition': 'pain',\n",
       " 'headache': 2,\n",
       " 'nausea': 0,\n",
       " 'dizzy': 0,\n",
       " 'death': 1}"
      ]
     },
     "execution_count": 245,
     "metadata": {},
     "output_type": "execute_result"
    }
   ],
   "source": [
    "make_dicks(dummy_df)"
   ]
  },
  {
   "cell_type": "code",
   "execution_count": 254,
   "metadata": {},
   "outputs": [
    {
     "name": "stdout",
     "output_type": "stream",
     "text": [
      "0\n"
     ]
    },
    {
     "ename": "AttributeError",
     "evalue": "'Series' object has no attribute 'columns'",
     "output_type": "error",
     "traceback": [
      "\u001b[0;31m---------------------------------------------------------------------------\u001b[0m",
      "\u001b[0;31mAttributeError\u001b[0m                            Traceback (most recent call last)",
      "\u001b[0;32m<ipython-input-254-e283ecde0553>\u001b[0m in \u001b[0;36m<module>\u001b[0;34m\u001b[0m\n\u001b[1;32m      2\u001b[0m     \u001b[0mprint\u001b[0m\u001b[0;34m(\u001b[0m\u001b[0mrow\u001b[0m\u001b[0;34m)\u001b[0m\u001b[0;34m\u001b[0m\u001b[0;34m\u001b[0m\u001b[0m\n\u001b[1;32m      3\u001b[0m     \u001b[0msecondsample\u001b[0m \u001b[0;34m=\u001b[0m \u001b[0mdummy_df\u001b[0m\u001b[0;34m.\u001b[0m\u001b[0mloc\u001b[0m\u001b[0;34m[\u001b[0m\u001b[0mrow\u001b[0m\u001b[0;34m,\u001b[0m\u001b[0;34m]\u001b[0m\u001b[0;34m\u001b[0m\u001b[0;34m\u001b[0m\u001b[0m\n\u001b[0;32m----> 4\u001b[0;31m     \u001b[0mdick\u001b[0m \u001b[0;34m=\u001b[0m \u001b[0mmake_dicks\u001b[0m\u001b[0;34m(\u001b[0m\u001b[0msecondsample\u001b[0m\u001b[0;34m)\u001b[0m\u001b[0;34m\u001b[0m\u001b[0;34m\u001b[0m\u001b[0m\n\u001b[0m\u001b[1;32m      5\u001b[0m     \u001b[0mprint\u001b[0m\u001b[0;34m(\u001b[0m\u001b[0mdick\u001b[0m\u001b[0;34m)\u001b[0m\u001b[0;34m\u001b[0m\u001b[0;34m\u001b[0m\u001b[0m\n",
      "\u001b[0;32m<ipython-input-240-1a3cde33fa31>\u001b[0m in \u001b[0;36mmake_dicks\u001b[0;34m(pandas)\u001b[0m\n\u001b[1;32m      1\u001b[0m \u001b[0;32mdef\u001b[0m \u001b[0mmake_dicks\u001b[0m\u001b[0;34m(\u001b[0m\u001b[0mpandas\u001b[0m\u001b[0;34m)\u001b[0m\u001b[0;34m:\u001b[0m\u001b[0;34m\u001b[0m\u001b[0;34m\u001b[0m\u001b[0m\n\u001b[1;32m      2\u001b[0m     \u001b[0mrow\u001b[0m \u001b[0;34m=\u001b[0m \u001b[0;34m{\u001b[0m\u001b[0;34m}\u001b[0m\u001b[0;34m\u001b[0m\u001b[0;34m\u001b[0m\u001b[0m\n\u001b[0;32m----> 3\u001b[0;31m     \u001b[0;32mfor\u001b[0m \u001b[0mcolumn\u001b[0m \u001b[0;32min\u001b[0m \u001b[0mpandas\u001b[0m\u001b[0;34m.\u001b[0m\u001b[0mcolumns\u001b[0m\u001b[0;34m:\u001b[0m\u001b[0;34m\u001b[0m\u001b[0;34m\u001b[0m\u001b[0m\n\u001b[0m\u001b[1;32m      4\u001b[0m         \u001b[0mrow\u001b[0m\u001b[0;34m[\u001b[0m\u001b[0;34mf'{column}'\u001b[0m\u001b[0;34m]\u001b[0m \u001b[0;34m=\u001b[0m \u001b[0mpandas\u001b[0m\u001b[0;34m.\u001b[0m\u001b[0mloc\u001b[0m\u001b[0;34m[\u001b[0m\u001b[0;36m0\u001b[0m\u001b[0;34m,\u001b[0m\u001b[0;34mf'{column}'\u001b[0m\u001b[0;34m]\u001b[0m\u001b[0;34m\u001b[0m\u001b[0;34m\u001b[0m\u001b[0m\n\u001b[1;32m      5\u001b[0m     \u001b[0;32mreturn\u001b[0m \u001b[0mrow\u001b[0m\u001b[0;34m\u001b[0m\u001b[0;34m\u001b[0m\u001b[0m\n",
      "\u001b[0;32m~/.pyenv/versions/3.7.7/envs/lewagon/lib/python3.7/site-packages/pandas/core/generic.py\u001b[0m in \u001b[0;36m__getattr__\u001b[0;34m(self, name)\u001b[0m\n\u001b[1;32m   5137\u001b[0m             \u001b[0;32mif\u001b[0m \u001b[0mself\u001b[0m\u001b[0;34m.\u001b[0m\u001b[0m_info_axis\u001b[0m\u001b[0;34m.\u001b[0m\u001b[0m_can_hold_identifiers_and_holds_name\u001b[0m\u001b[0;34m(\u001b[0m\u001b[0mname\u001b[0m\u001b[0;34m)\u001b[0m\u001b[0;34m:\u001b[0m\u001b[0;34m\u001b[0m\u001b[0;34m\u001b[0m\u001b[0m\n\u001b[1;32m   5138\u001b[0m                 \u001b[0;32mreturn\u001b[0m \u001b[0mself\u001b[0m\u001b[0;34m[\u001b[0m\u001b[0mname\u001b[0m\u001b[0;34m]\u001b[0m\u001b[0;34m\u001b[0m\u001b[0;34m\u001b[0m\u001b[0m\n\u001b[0;32m-> 5139\u001b[0;31m             \u001b[0;32mreturn\u001b[0m \u001b[0mobject\u001b[0m\u001b[0;34m.\u001b[0m\u001b[0m__getattribute__\u001b[0m\u001b[0;34m(\u001b[0m\u001b[0mself\u001b[0m\u001b[0;34m,\u001b[0m \u001b[0mname\u001b[0m\u001b[0;34m)\u001b[0m\u001b[0;34m\u001b[0m\u001b[0;34m\u001b[0m\u001b[0m\n\u001b[0m\u001b[1;32m   5140\u001b[0m \u001b[0;34m\u001b[0m\u001b[0m\n\u001b[1;32m   5141\u001b[0m     \u001b[0;32mdef\u001b[0m \u001b[0m__setattr__\u001b[0m\u001b[0;34m(\u001b[0m\u001b[0mself\u001b[0m\u001b[0;34m,\u001b[0m \u001b[0mname\u001b[0m\u001b[0;34m:\u001b[0m \u001b[0mstr\u001b[0m\u001b[0;34m,\u001b[0m \u001b[0mvalue\u001b[0m\u001b[0;34m)\u001b[0m \u001b[0;34m->\u001b[0m \u001b[0;32mNone\u001b[0m\u001b[0;34m:\u001b[0m\u001b[0;34m\u001b[0m\u001b[0;34m\u001b[0m\u001b[0m\n",
      "\u001b[0;31mAttributeError\u001b[0m: 'Series' object has no attribute 'columns'"
     ]
    }
   ],
   "source": [
    "for row in range(5):\n",
    "    print(row)\n",
    "    secondsample = dummy_df.loc[row,]\n",
    "    dick = make_dicks(secondsample)\n",
    "    print(dick)"
   ]
  },
  {
   "cell_type": "markdown",
   "metadata": {},
   "source": [
    "## Visualisation"
   ]
  },
  {
   "cell_type": "code",
   "execution_count": 255,
   "metadata": {},
   "outputs": [
    {
     "data": {
      "text/html": [
       "<div>\n",
       "<style scoped>\n",
       "    .dataframe tbody tr th:only-of-type {\n",
       "        vertical-align: middle;\n",
       "    }\n",
       "\n",
       "    .dataframe tbody tr th {\n",
       "        vertical-align: top;\n",
       "    }\n",
       "\n",
       "    .dataframe thead th {\n",
       "        text-align: right;\n",
       "    }\n",
       "</style>\n",
       "<table border=\"1\" class=\"dataframe\">\n",
       "  <thead>\n",
       "    <tr style=\"text-align: right;\">\n",
       "      <th></th>\n",
       "      <th>drug</th>\n",
       "      <th>condition</th>\n",
       "      <th>headache</th>\n",
       "      <th>nausea</th>\n",
       "      <th>dizzy</th>\n",
       "      <th>death</th>\n",
       "    </tr>\n",
       "  </thead>\n",
       "  <tbody>\n",
       "    <tr>\n",
       "      <th>0</th>\n",
       "      <td>Tylenol</td>\n",
       "      <td>pain</td>\n",
       "      <td>2</td>\n",
       "      <td>0</td>\n",
       "      <td>0</td>\n",
       "      <td>1</td>\n",
       "    </tr>\n",
       "    <tr>\n",
       "      <th>1</th>\n",
       "      <td>Cialis</td>\n",
       "      <td>ed</td>\n",
       "      <td>4</td>\n",
       "      <td>1</td>\n",
       "      <td>2</td>\n",
       "      <td>0</td>\n",
       "    </tr>\n",
       "    <tr>\n",
       "      <th>2</th>\n",
       "      <td>Ibuprofen</td>\n",
       "      <td>pain</td>\n",
       "      <td>0</td>\n",
       "      <td>1</td>\n",
       "      <td>1</td>\n",
       "      <td>1</td>\n",
       "    </tr>\n",
       "    <tr>\n",
       "      <th>3</th>\n",
       "      <td>Benadril</td>\n",
       "      <td>allergy</td>\n",
       "      <td>1</td>\n",
       "      <td>1</td>\n",
       "      <td>1</td>\n",
       "      <td>2</td>\n",
       "    </tr>\n",
       "    <tr>\n",
       "      <th>4</th>\n",
       "      <td>Claritin</td>\n",
       "      <td>allergy</td>\n",
       "      <td>0</td>\n",
       "      <td>0</td>\n",
       "      <td>0</td>\n",
       "      <td>20</td>\n",
       "    </tr>\n",
       "  </tbody>\n",
       "</table>\n",
       "</div>"
      ],
      "text/plain": [
       "        drug condition  headache  nausea  dizzy  death\n",
       "0    Tylenol      pain         2       0      0      1\n",
       "1     Cialis        ed         4       1      2      0\n",
       "2  Ibuprofen      pain         0       1      1      1\n",
       "3   Benadril   allergy         1       1      1      2\n",
       "4   Claritin   allergy         0       0      0     20"
      ]
     },
     "execution_count": 255,
     "metadata": {},
     "output_type": "execute_result"
    }
   ],
   "source": [
    "dummy_df"
   ]
  },
  {
   "cell_type": "code",
   "execution_count": 256,
   "metadata": {},
   "outputs": [],
   "source": [
    "import matplotlib.pyplot as plt\n",
    "import seaborn as sns"
   ]
  },
  {
   "cell_type": "code",
   "execution_count": 258,
   "metadata": {},
   "outputs": [
    {
     "data": {
      "text/plain": [
       "<AxesSubplot:>"
      ]
     },
     "execution_count": 258,
     "metadata": {},
     "output_type": "execute_result"
    },
    {
     "data": {
      "image/png": "[encoded data removed]",
      "text/plain": [
       "<Figure size 432x288 with 1 Axes>"
      ]
     },
     "metadata": {
      "needs_background": "light"
     },
     "output_type": "display_data"
    }
   ],
   "source": [
    "dummy_df.plot(kind='bar')"
   ]
  },
  {
   "cell_type": "code",
   "execution_count": 264,
   "metadata": {},
   "outputs": [
    {
     "data": {
      "text/html": [
       "<div>\n",
       "<style scoped>\n",
       "    .dataframe tbody tr th:only-of-type {\n",
       "        vertical-align: middle;\n",
       "    }\n",
       "\n",
       "    .dataframe tbody tr th {\n",
       "        vertical-align: top;\n",
       "    }\n",
       "\n",
       "    .dataframe thead th {\n",
       "        text-align: right;\n",
       "    }\n",
       "</style>\n",
       "<table border=\"1\" class=\"dataframe\">\n",
       "  <thead>\n",
       "    <tr style=\"text-align: right;\">\n",
       "      <th></th>\n",
       "      <th>headache</th>\n",
       "      <th>nausea</th>\n",
       "      <th>dizzy</th>\n",
       "      <th>death</th>\n",
       "    </tr>\n",
       "    <tr>\n",
       "      <th>drug</th>\n",
       "      <th></th>\n",
       "      <th></th>\n",
       "      <th></th>\n",
       "      <th></th>\n",
       "    </tr>\n",
       "  </thead>\n",
       "  <tbody>\n",
       "    <tr>\n",
       "      <th>Tylenol</th>\n",
       "      <td>2</td>\n",
       "      <td>0</td>\n",
       "      <td>0</td>\n",
       "      <td>1</td>\n",
       "    </tr>\n",
       "    <tr>\n",
       "      <th>Cialis</th>\n",
       "      <td>4</td>\n",
       "      <td>1</td>\n",
       "      <td>2</td>\n",
       "      <td>0</td>\n",
       "    </tr>\n",
       "    <tr>\n",
       "      <th>Ibuprofen</th>\n",
       "      <td>0</td>\n",
       "      <td>1</td>\n",
       "      <td>1</td>\n",
       "      <td>1</td>\n",
       "    </tr>\n",
       "    <tr>\n",
       "      <th>Benadril</th>\n",
       "      <td>1</td>\n",
       "      <td>1</td>\n",
       "      <td>1</td>\n",
       "      <td>2</td>\n",
       "    </tr>\n",
       "    <tr>\n",
       "      <th>Claritin</th>\n",
       "      <td>0</td>\n",
       "      <td>0</td>\n",
       "      <td>0</td>\n",
       "      <td>20</td>\n",
       "    </tr>\n",
       "  </tbody>\n",
       "</table>\n",
       "</div>"
      ],
      "text/plain": [
       "           headache  nausea  dizzy  death\n",
       "drug                                     \n",
       "Tylenol           2       0      0      1\n",
       "Cialis            4       1      2      0\n",
       "Ibuprofen         0       1      1      1\n",
       "Benadril          1       1      1      2\n",
       "Claritin          0       0      0     20"
      ]
     },
     "execution_count": 264,
     "metadata": {},
     "output_type": "execute_result"
    }
   ],
   "source": [
    "sideeffect_df = dummy_df.drop(['drug', 'condition'], axis=1)\n",
    "sideeffect_df.index = dummy_df['drug']\n",
    "sideeffect_df"
   ]
  },
  {
   "cell_type": "code",
   "execution_count": 317,
   "metadata": {},
   "outputs": [
    {
     "data": {
      "text/plain": [
       "headache    2\n",
       "nausea      0\n",
       "dizzy       0\n",
       "death       1\n",
       "Name: Tylenol, dtype: int64"
      ]
     },
     "execution_count": 317,
     "metadata": {},
     "output_type": "execute_result"
    }
   ],
   "source": [
    "input = 'Tylenol'\n",
    "sideeffect_df.loc[input]"
   ]
  },
  {
   "cell_type": "code",
   "execution_count": 289,
   "metadata": {},
   "outputs": [
    {
     "data": {
      "text/plain": [
       "<AxesSubplot:>"
      ]
     },
     "execution_count": 289,
     "metadata": {},
     "output_type": "execute_result"
    },
    {
     "data": {
      "image/png": "[encoded data removed]",
      "text/plain": [
       "<Figure size 640x480 with 1 Axes>"
      ]
     },
     "metadata": {},
     "output_type": "display_data"
    }
   ],
   "source": [
    "sideeffect_df.loc[input].plot(kind='bar')"
   ]
  },
  {
   "cell_type": "code",
   "execution_count": 322,
   "metadata": {},
   "outputs": [
    {
     "data": {
      "text/plain": [
       "range(0, 4)"
      ]
     },
     "execution_count": 322,
     "metadata": {},
     "output_type": "execute_result"
    }
   ],
   "source": []
  },
  {
   "cell_type": "code",
   "execution_count": 311,
   "metadata": {},
   "outputs": [
    {
     "data": {
      "image/png": "[encoded data removed]",
      "text/plain": [
       "<Figure size 640x480 with 1 Axes>"
      ]
     },
     "metadata": {},
     "output_type": "display_data"
    }
   ],
   "source": [
    "plt.rcdefaults()\n",
    "fig, ax = plt.subplots()\n",
    "\n",
    "# Example data\n",
    "y_pos = len(sideeffect_df.columns)\n",
    "se_names = sideeffect_df.columns\n",
    "group_data\n",
    "\n",
    "ax.barh(group_names, group_data, align='center')\n",
    "ax.set_yticks(y_pos)\n",
    "ax.set_yticklabels(side_effects)\n",
    "\n",
    "ax.invert_yaxis()  # labels read top-to-bottom\n",
    "ax.set_xlabel('Total Number')\n",
    "ax.set_title('Reported Side Effects')\n",
    "\n",
    "plt.show()\n",
    "\n",
    "\n",
    "#ax.barh(group_names, group_data)\n",
    "#['headache', 'nausea', 'dizzy', 'death'][2, 0, 0, 1]"
   ]
  },
  {
   "cell_type": "code",
   "execution_count": 306,
   "metadata": {},
   "outputs": [],
   "source": [
    "del dick['condition']"
   ]
  },
  {
   "cell_type": "code",
   "execution_count": 316,
   "metadata": {},
   "outputs": [
    {
     "name": "stdout",
     "output_type": "stream",
     "text": [
      "[2, 0, 0, 1] ['headache', 'nausea', 'dizzy', 'death']\n"
     ]
    }
   ],
   "source": [
    "group_data = list(dick.values())[2:]\n",
    "group_names = list(dick.keys())[2:]\n",
    "\n",
    "print(group_data, group_names)"
   ]
  },
  {
   "cell_type": "code",
   "execution_count": 323,
   "metadata": {},
   "outputs": [
    {
     "data": {
      "text/plain": [
       "Text(0.5, 1.0, 'Reported Side Effects')"
      ]
     },
     "execution_count": 323,
     "metadata": {},
     "output_type": "execute_result"
    },
    {
     "data": {
      "image/png": "[encoded data removed]",
      "text/plain": [
       "<Figure size 640x480 with 1 Axes>"
      ]
     },
     "metadata": {},
     "output_type": "display_data"
    }
   ],
   "source": [
    "fig, ax = plt.subplots()\n",
    "ax.barh(group_names, group_data)\n",
    "\n",
    "ax.set_xlabel('Total Number')\n",
    "ax.set_title('Reported Side Effects')"
   ]
  },
  {
   "cell_type": "code",
   "execution_count": null,
   "metadata": {},
   "outputs": [],
   "source": []
  }
 ],
 "metadata": {
  "kernelspec": {
   "display_name": "Python 3",
   "language": "python",
   "name": "python3"
  },
  "language_info": {
   "codemirror_mode": {
    "name": "ipython",
    "version": 3
   },
   "file_extension": ".py",
   "mimetype": "text/x-python",
   "name": "python",
   "nbconvert_exporter": "python",
   "pygments_lexer": "ipython3",
   "version": "3.7.6"
  },
  "toc": {
   "base_numbering": 1,
   "nav_menu": {},
   "number_sections": true,
   "sideBar": true,
   "skip_h1_title": false,
   "title_cell": "Table of Contents",
   "title_sidebar": "Contents",
   "toc_cell": false,
   "toc_position": {},
   "toc_section_display": true,
   "toc_window_display": false
  }
 },
 "nbformat": 4,
 "nbformat_minor": 4
}
