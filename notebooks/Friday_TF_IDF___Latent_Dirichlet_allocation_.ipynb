{
  "nbformat": 4,
  "nbformat_minor": 0,
  "metadata": {
    "colab": {
      "name": "Adverse Drug Events - TF-IDF | Latent Dirichlet allocation .ipynb",
      "provenance": [],
      "collapsed_sections": [
        "IFhAZdtkYrNO",
        "laSyLC8bYzfb",
        "mBXYxVWOMNB7",
        "KGs0FYOJYuiw",
        "9ygXFa-OaOgP"
      ]
    },
    "kernelspec": {
      "display_name": "Python 3",
      "name": "python3"
    }
  },
  "cells": [
    {
      "cell_type": "markdown",
      "metadata": {
        "id": "IFhAZdtkYrNO"
      },
      "source": [
        "# Imports"
      ]
    },
    {
      "cell_type": "code",
      "metadata": {
        "colab": {
          "base_uri": "https://localhost:8080/"
        },
        "id": "MGWhRE5BdKLP",
        "outputId": "20e557ab-f00f-4ae5-89fa-00028d665dff"
      },
      "source": [
        "import pandas as pd # DataFrame Manipulation Package\n",
        "import numpy as np\n",
        "import matplotlib.pyplot as plt\n",
        "\n",
        "from sklearn.feature_extraction.text import TfidfVectorizer # Convert a collection of raw documents to a matrix of TF-IDF features\n",
        "from sklearn.decomposition import LatentDirichletAllocation # Latent Dirichlet Allocation is a topic model that is used for discovering abstract topics from a collection of documents (variational Bayes algorithm)\n",
        "from sklearn.feature_extraction.text import CountVectorizer # Convert a collection of text documents to a matrix of token counts\n",
        "\n",
        "from sklearn.pipeline import Pipeline\n",
        "from sklearn.model_selection import GridSearchCV\n",
        "from sklearn.naive_bayes import MultinomialNB # The multinomial Naive Bayes classifier is suitable for classification with discrete features (e.g., word counts for text classification)\n",
        "\n",
        "from sklearn.decomposition import PCA\n",
        "\n",
        "import string # Collection of string operations\n",
        "from nltk.corpus import stopwords \n",
        "from nltk.stem.wordnet import WordNetLemmatizer #Lemmatize using WordNet's built-in morphy function. Returns the input word unchanged if it cannot be found in WordNet.\n",
        "from nltk import word_tokenize\n",
        "\n",
        "from nltk.sentiment.util import mark_negation"
      ],
      "execution_count": null,
      "outputs": [
        {
          "output_type": "stream",
          "text": [
            "/usr/local/lib/python3.6/dist-packages/nltk/twitter/__init__.py:20: UserWarning: The twython library has not been installed. Some functionality from the twitter package will not be available.\n",
            "  warnings.warn(\"The twython library has not been installed. \"\n"
          ],
          "name": "stderr"
        }
      ]
    },
    {
      "cell_type": "code",
      "metadata": {
        "colab": {
          "base_uri": "https://localhost:8080/"
        },
        "id": "CtTAm1pM4S1J",
        "outputId": "ab098924-3e97-46b1-b986-472216b2f4a4"
      },
      "source": [
        "!pip install corextopic"
      ],
      "execution_count": null,
      "outputs": [
        {
          "output_type": "stream",
          "text": [
            "Requirement already satisfied: corextopic in /usr/local/lib/python3.6/dist-packages (1.0.6)\n"
          ],
          "name": "stdout"
        }
      ]
    },
    {
      "cell_type": "code",
      "metadata": {
        "colab": {
          "base_uri": "https://localhost:8080/"
        },
        "id": "Qvan5aGEvZUx",
        "outputId": "4d84404b-3d22-4f97-ef54-f65f86c6f71c"
      },
      "source": [
        "from google.colab import drive\n",
        "drive.mount('drive')"
      ],
      "execution_count": null,
      "outputs": [
        {
          "output_type": "stream",
          "text": [
            "Drive already mounted at drive; to attempt to forcibly remount, call drive.mount(\"drive\", force_remount=True).\n"
          ],
          "name": "stdout"
        }
      ]
    },
    {
      "cell_type": "code",
      "metadata": {
        "colab": {
          "base_uri": "https://localhost:8080/"
        },
        "id": "MwlPZL0Nve81",
        "outputId": "66943298-00c0-4cf7-bab6-a5f215f51d6d"
      },
      "source": [
        "import nltk\n",
        "\n",
        "nltk.download('stopwords')\n",
        "nltk.download('punkt')\n",
        "nltk.download('wordnet')"
      ],
      "execution_count": null,
      "outputs": [
        {
          "output_type": "stream",
          "text": [
            "[nltk_data] Downloading package stopwords to /root/nltk_data...\n",
            "[nltk_data]   Package stopwords is already up-to-date!\n",
            "[nltk_data] Downloading package punkt to /root/nltk_data...\n",
            "[nltk_data]   Package punkt is already up-to-date!\n",
            "[nltk_data] Downloading package wordnet to /root/nltk_data...\n",
            "[nltk_data]   Package wordnet is already up-to-date!\n"
          ],
          "name": "stdout"
        },
        {
          "output_type": "execute_result",
          "data": {
            "text/plain": [
              "True"
            ]
          },
          "metadata": {
            "tags": []
          },
          "execution_count": 4
        }
      ]
    },
    {
      "cell_type": "markdown",
      "metadata": {
        "id": "laSyLC8bYzfb"
      },
      "source": [
        "# Functions"
      ]
    },
    {
      "cell_type": "code",
      "metadata": {
        "id": "uj-5L5mXHEcw"
      },
      "source": [
        "stop_words = set(stopwords.words('english')) \n",
        "\n",
        "NEGATIONS = [\"no\", \"not\", \"shouldn't\", \"aren't\", \"couldn't\", \"didn't\", \"doesn't\", \"don't\", \"wasn't\", \"weren't\", \"wouldn't\", \"nor\"]\n",
        "\n",
        "NEW_WORDS = ['mg', \"month\", \"year\", \"day\", \"week\", \"time\", \"im\", \"ive\", \"hour\"]\n",
        "\n",
        "for negation in NEGATIONS:\n",
        "    stop_words.remove(negation)\n",
        "\n",
        "for new_word in NEW_WORDS:\n",
        "    stop_words.add(new_word)\n",
        "\n",
        "# stop_words"
      ],
      "execution_count": null,
      "outputs": []
    },
    {
      "cell_type": "code",
      "metadata": {
        "id": "b-NO8IZarxx7"
      },
      "source": [
        "def to_list(x):\n",
        "    list_words = x.split(' ')\n",
        "    return list_words\n",
        "\n",
        "def to_string(x):\n",
        "    string = \" \".join(x)\n",
        "    return string\n",
        "\n",
        "#===============================================================\n",
        "\n",
        "def punctuation(x):\n",
        "    for punctuation in string.punctuation:\n",
        "        x =  x.replace(punctuation, '')\n",
        "    return x.lower()\n",
        "\n",
        "def remove_numbers (x):\n",
        "    words_only = ''.join([i for i in x if not i.isdigit()])\n",
        "    return words_only\n",
        "\n",
        "def m_negation(x):\n",
        "    tokenized = word_tokenize(x)\n",
        "    without_stopwords = [word for word in tokenized if not word in stop_words]\n",
        "    tokenized_neg = mark_negation(without_stopwords)\n",
        "    return tokenized_neg\n",
        "\n",
        "def remove_stopwords(x):\n",
        "    tokenized = word_tokenize(x)\n",
        "    without_stopwords = [word for word in tokenized if not word in stop_words]\n",
        "    return without_stopwords\n",
        "\n",
        "def lemmatize_review(x):\n",
        "    lemma = WordNetLemmatizer()\n",
        "    lista = []\n",
        "    for w in x:\n",
        "       lista.append(lemma.lemmatize(w))\n",
        "    return lista\n",
        "\n",
        "#===============================================================\n",
        "\n",
        "def count_words(x):\n",
        "    wordfreq = []\n",
        "    for w in x:\n",
        "        wordfreq.append(x.count(w))\n",
        "    return dict(zip(x, wordfreq))\n",
        "\n",
        "def total_count(x):\n",
        "    total_count = {}\n",
        "    for row in x:\n",
        "        for key in row.keys():\n",
        "          if key in total_count:\n",
        "              total_count[key] += 1\n",
        "          else:\n",
        "              total_count[key] = 1\n",
        "    return pd.DataFrame(sorted(total_count.items(), key=lambda x: x[1], reverse=True)).head(30).T\n",
        "\n",
        "def round_two(x):\n",
        "    return str(int(round(x, 2) * 100)) + \"%\"\n",
        "\n",
        "def one_or_zero(x):\n",
        "    # Makes the prediction a binary outpur\n",
        "    if x > 0.5:\n",
        "        x = 1\n",
        "    else:\n",
        "        x = 0\n",
        "    return x\n",
        "\n",
        "#===============================================================\n",
        "\n",
        "def print_topics(model, vectorizer):\n",
        "    for idx, topic in enumerate(model.components_):\n",
        "        print(\"Topic %d:\" % (idx))\n",
        "        print([(vectorizer.get_feature_names()[i], round(topic[i], 2))\n",
        "                        for i in topic.argsort()[:-10 - 1:-1]])"
      ],
      "execution_count": null,
      "outputs": []
    },
    {
      "cell_type": "markdown",
      "metadata": {
        "id": "mBXYxVWOMNB7"
      },
      "source": [
        "# Manual"
      ]
    },
    {
      "cell_type": "code",
      "metadata": {
        "colab": {
          "base_uri": "https://localhost:8080/",
          "height": 366
        },
        "id": "rGlZiURk-Bj-",
        "outputId": "687e7c49-5ed4-4b0e-e973-2504810cffb7"
      },
      "source": [
        "# manual = pd.read_csv('manually_labelled_data.csv')\n",
        "\n",
        "manual = pd.read_csv(\"/content/drive/MyDrive/Data/adr_labelled_data.csv\")\n",
        "\n",
        "manual = manual.drop([\"uniqueID\", \"drugName\", \"condition\", \"date\", \"rating\", \"usefulCount\"], axis = 1)\n",
        "\n",
        "manual[\"clean_review\"] = manual[\"review\"].apply(punctuation)\n",
        "manual['clean_review'] = manual.clean_review.apply(remove_numbers)\n",
        "manual['clean_review_lst'] = manual.clean_review.apply(to_list)\n",
        "\n",
        "manual[\"NonStopwords_review_lst\"] = manual.clean_review.apply(remove_stopwords)\n",
        "manual[\"NonStopwords_review_str\"] = manual.NonStopwords_review_lst.apply(to_string)\n",
        "\n",
        "manual[\"NonStopwords_review_lst_MN\"] = manual.clean_review.apply(m_negation)\n",
        "manual[\"NonStopwords_review_str_MN\"] = manual.NonStopwords_review_lst_MN.apply(to_string)\n",
        "\n",
        "manual[\"Lemmatized_review_lst\"] = manual.NonStopwords_review_lst_MN.apply(lemmatize_review)\n",
        "manual[\"Lemmatized_review_str\"] = manual.Lemmatized_review_lst.apply(to_string)\n",
        "\n",
        "manual[\"Lemmatized_review_list\"] = manual.NonStopwords_review_lst.apply(lemmatize_review)\n",
        "manual[\"Lemmatized_review\"] = manual.Lemmatized_review_list.apply(to_string)\n",
        "manual[\"Lemmatized_review_list\"] = manual.Lemmatized_review.apply(remove_stopwords)\n",
        "manual[\"Lemmatized_review\"] = manual.Lemmatized_review_list.apply(to_string)\n",
        "\n",
        "manual[\"words_count\"] = manual.Lemmatized_review_list.apply(count_words)\n",
        "\n",
        "X = manual[\"Lemmatized_review_str\"]\n",
        "\n",
        "y = manual[\"sideEffect\"]\n",
        "\n",
        "manual = manual.drop([\"clean_review\", \"clean_review_lst\", \"NonStopwords_review_lst\", \"NonStopwords_review_str\"], axis = 1)\n",
        "\n",
        "manual.head(3)"
      ],
      "execution_count": null,
      "outputs": [
        {
          "output_type": "execute_result",
          "data": {
            "text/html": [
              "<div>\n",
              "<style scoped>\n",
              "    .dataframe tbody tr th:only-of-type {\n",
              "        vertical-align: middle;\n",
              "    }\n",
              "\n",
              "    .dataframe tbody tr th {\n",
              "        vertical-align: top;\n",
              "    }\n",
              "\n",
              "    .dataframe thead th {\n",
              "        text-align: right;\n",
              "    }\n",
              "</style>\n",
              "<table border=\"1\" class=\"dataframe\">\n",
              "  <thead>\n",
              "    <tr style=\"text-align: right;\">\n",
              "      <th></th>\n",
              "      <th>review</th>\n",
              "      <th>sideEffect</th>\n",
              "      <th>Unnamed: 8</th>\n",
              "      <th>NonStopwords_review_lst_MN</th>\n",
              "      <th>NonStopwords_review_str_MN</th>\n",
              "      <th>Lemmatized_review_lst</th>\n",
              "      <th>Lemmatized_review_str</th>\n",
              "      <th>Lemmatized_review_list</th>\n",
              "      <th>Lemmatized_review</th>\n",
              "      <th>words_count</th>\n",
              "    </tr>\n",
              "  </thead>\n",
              "  <tbody>\n",
              "    <tr>\n",
              "      <th>0</th>\n",
              "      <td>\"It has no side effect, I take it in combinati...</td>\n",
              "      <td>0.0</td>\n",
              "      <td>NaN</td>\n",
              "      <td>[no, side_NEG, effect_NEG, take_NEG, combinati...</td>\n",
              "      <td>no side_NEG effect_NEG take_NEG combination_NE...</td>\n",
              "      <td>[no, side_NEG, effect_NEG, take_NEG, combinati...</td>\n",
              "      <td>no side_NEG effect_NEG take_NEG combination_NE...</td>\n",
              "      <td>[no, side, effect, take, combination, bystolic...</td>\n",
              "      <td>no side effect take combination bystolic fish oil</td>\n",
              "      <td>{'no': 1, 'side': 1, 'effect': 1, 'take': 1, '...</td>\n",
              "    </tr>\n",
              "    <tr>\n",
              "      <th>1</th>\n",
              "      <td>\"My son is halfway through his fourth week of ...</td>\n",
              "      <td>1.0</td>\n",
              "      <td>NaN</td>\n",
              "      <td>[son, halfway, fourth, intuniv, became, concer...</td>\n",
              "      <td>son halfway fourth intuniv became concerned be...</td>\n",
              "      <td>[son, halfway, fourth, intuniv, became, concer...</td>\n",
              "      <td>son halfway fourth intuniv became concerned be...</td>\n",
              "      <td>[son, halfway, fourth, intuniv, became, concer...</td>\n",
              "      <td>son halfway fourth intuniv became concerned be...</td>\n",
              "      <td>{'son': 1, 'halfway': 1, 'fourth': 1, 'intuniv...</td>\n",
              "    </tr>\n",
              "    <tr>\n",
              "      <th>2</th>\n",
              "      <td>\"I used to take another oral contraceptive, wh...</td>\n",
              "      <td>1.0</td>\n",
              "      <td>NaN</td>\n",
              "      <td>[used, take, another, oral, contraceptive, pil...</td>\n",
              "      <td>used take another oral contraceptive pill cycl...</td>\n",
              "      <td>[used, take, another, oral, contraceptive, pil...</td>\n",
              "      <td>used take another oral contraceptive pill cycl...</td>\n",
              "      <td>[used, take, another, oral, contraceptive, pil...</td>\n",
              "      <td>used take another oral contraceptive pill cycl...</td>\n",
              "      <td>{'used': 1, 'take': 1, 'another': 1, 'oral': 1...</td>\n",
              "    </tr>\n",
              "  </tbody>\n",
              "</table>\n",
              "</div>"
            ],
            "text/plain": [
              "                                              review  ...                                        words_count\n",
              "0  \"It has no side effect, I take it in combinati...  ...  {'no': 1, 'side': 1, 'effect': 1, 'take': 1, '...\n",
              "1  \"My son is halfway through his fourth week of ...  ...  {'son': 1, 'halfway': 1, 'fourth': 1, 'intuniv...\n",
              "2  \"I used to take another oral contraceptive, wh...  ...  {'used': 1, 'take': 1, 'another': 1, 'oral': 1...\n",
              "\n",
              "[3 rows x 10 columns]"
            ]
          },
          "metadata": {
            "tags": []
          },
          "execution_count": 7
        }
      ]
    },
    {
      "cell_type": "code",
      "metadata": {
        "id": "zx3n6MXR2Kw5",
        "colab": {
          "base_uri": "https://localhost:8080/",
          "height": 111
        },
        "outputId": "2e79347c-ce88-4e26-eb11-88661c36b105"
      },
      "source": [
        "total_count(manual[\"words_count\"])"
      ],
      "execution_count": null,
      "outputs": [
        {
          "output_type": "execute_result",
          "data": {
            "text/html": [
              "<div>\n",
              "<style scoped>\n",
              "    .dataframe tbody tr th:only-of-type {\n",
              "        vertical-align: middle;\n",
              "    }\n",
              "\n",
              "    .dataframe tbody tr th {\n",
              "        vertical-align: top;\n",
              "    }\n",
              "\n",
              "    .dataframe thead th {\n",
              "        text-align: right;\n",
              "    }\n",
              "</style>\n",
              "<table border=\"1\" class=\"dataframe\">\n",
              "  <thead>\n",
              "    <tr style=\"text-align: right;\">\n",
              "      <th></th>\n",
              "      <th>0</th>\n",
              "      <th>1</th>\n",
              "      <th>2</th>\n",
              "      <th>3</th>\n",
              "      <th>4</th>\n",
              "      <th>5</th>\n",
              "      <th>6</th>\n",
              "      <th>7</th>\n",
              "      <th>8</th>\n",
              "      <th>9</th>\n",
              "      <th>10</th>\n",
              "      <th>11</th>\n",
              "      <th>12</th>\n",
              "      <th>13</th>\n",
              "      <th>14</th>\n",
              "      <th>15</th>\n",
              "      <th>16</th>\n",
              "      <th>17</th>\n",
              "      <th>18</th>\n",
              "      <th>19</th>\n",
              "      <th>20</th>\n",
              "      <th>21</th>\n",
              "      <th>22</th>\n",
              "      <th>23</th>\n",
              "      <th>24</th>\n",
              "      <th>25</th>\n",
              "      <th>26</th>\n",
              "      <th>27</th>\n",
              "      <th>28</th>\n",
              "      <th>29</th>\n",
              "    </tr>\n",
              "  </thead>\n",
              "  <tbody>\n",
              "    <tr>\n",
              "      <th>0</th>\n",
              "      <td>not</td>\n",
              "      <td>effect</td>\n",
              "      <td>side</td>\n",
              "      <td>no</td>\n",
              "      <td>taking</td>\n",
              "      <td>first</td>\n",
              "      <td>take</td>\n",
              "      <td>get</td>\n",
              "      <td>started</td>\n",
              "      <td>one</td>\n",
              "      <td>like</td>\n",
              "      <td>work</td>\n",
              "      <td>pain</td>\n",
              "      <td>would</td>\n",
              "      <td>feel</td>\n",
              "      <td>back</td>\n",
              "      <td>doctor</td>\n",
              "      <td>medication</td>\n",
              "      <td>pill</td>\n",
              "      <td>period</td>\n",
              "      <td>help</td>\n",
              "      <td>much</td>\n",
              "      <td>got</td>\n",
              "      <td>took</td>\n",
              "      <td>since</td>\n",
              "      <td>never</td>\n",
              "      <td>bad</td>\n",
              "      <td>life</td>\n",
              "      <td>really</td>\n",
              "      <td>well</td>\n",
              "    </tr>\n",
              "    <tr>\n",
              "      <th>1</th>\n",
              "      <td>171</td>\n",
              "      <td>157</td>\n",
              "      <td>149</td>\n",
              "      <td>147</td>\n",
              "      <td>133</td>\n",
              "      <td>120</td>\n",
              "      <td>115</td>\n",
              "      <td>114</td>\n",
              "      <td>112</td>\n",
              "      <td>105</td>\n",
              "      <td>96</td>\n",
              "      <td>95</td>\n",
              "      <td>94</td>\n",
              "      <td>89</td>\n",
              "      <td>84</td>\n",
              "      <td>82</td>\n",
              "      <td>81</td>\n",
              "      <td>76</td>\n",
              "      <td>76</td>\n",
              "      <td>76</td>\n",
              "      <td>75</td>\n",
              "      <td>74</td>\n",
              "      <td>73</td>\n",
              "      <td>72</td>\n",
              "      <td>70</td>\n",
              "      <td>69</td>\n",
              "      <td>69</td>\n",
              "      <td>68</td>\n",
              "      <td>68</td>\n",
              "      <td>65</td>\n",
              "    </tr>\n",
              "  </tbody>\n",
              "</table>\n",
              "</div>"
            ],
            "text/plain": [
              "    0       1     2    3       4      5   ...     24     25   26    27      28    29\n",
              "0  not  effect  side   no  taking  first  ...  since  never  bad  life  really  well\n",
              "1  171     157   149  147     133    120  ...     70     69   69    68      68    65\n",
              "\n",
              "[2 rows x 30 columns]"
            ]
          },
          "metadata": {
            "tags": []
          },
          "execution_count": 8
        }
      ]
    },
    {
      "cell_type": "markdown",
      "metadata": {
        "id": "KGs0FYOJYuiw"
      },
      "source": [
        "# Data"
      ]
    },
    {
      "cell_type": "code",
      "metadata": {
        "id": "EXE8dbR5deD7",
        "colab": {
          "base_uri": "https://localhost:8080/"
        },
        "outputId": "214481d3-44a4-4631-80c9-8d7d242cdeb7"
      },
      "source": [
        "# data = pd.read_csv('drugsComTrain_raw.csv')\n",
        "\n",
        "data = pd.read_csv('/content/drive/MyDrive/Data/drugsComTrain_raw.csv')\n",
        "\n",
        "print(f\"The shape of the data is {data.shape[0]} rows and {data.shape[1]} columns\")\n",
        "print(\"\\n\")\n",
        "print(f\"The amount of unique ID is {len(data['uniqueID'].unique())}\") # check if any of the uniqueID repeat\n",
        "print(\"\\n\")\n",
        "print(f\"The number of unique drugs reviewed is {len(data['drugName'].unique())}\")\n",
        "print(\"\\n\")\n",
        "print(f\"The number of unique conditions is {len(data['condition'].unique())}\")\n",
        "print(\"\\n\")"
      ],
      "execution_count": null,
      "outputs": [
        {
          "output_type": "stream",
          "text": [
            "The shape of the data is 161297 rows and 7 columns\n",
            "\n",
            "\n",
            "The amount of unique ID is 161297\n",
            "\n",
            "\n",
            "The number of unique drugs reviewed is 3436\n",
            "\n",
            "\n",
            "The number of unique conditions is 885\n",
            "\n",
            "\n"
          ],
          "name": "stdout"
        }
      ]
    },
    {
      "cell_type": "code",
      "metadata": {
        "id": "kNZe0N5PjZyK",
        "colab": {
          "base_uri": "https://localhost:8080/",
          "height": 114
        },
        "outputId": "13440780-01c3-44ed-b447-d0cd6d7c48be"
      },
      "source": [
        "pd.DataFrame(data[\"drugName\"].value_counts()).head(14).T"
      ],
      "execution_count": null,
      "outputs": [
        {
          "output_type": "execute_result",
          "data": {
            "text/html": [
              "<div>\n",
              "<style scoped>\n",
              "    .dataframe tbody tr th:only-of-type {\n",
              "        vertical-align: middle;\n",
              "    }\n",
              "\n",
              "    .dataframe tbody tr th {\n",
              "        vertical-align: top;\n",
              "    }\n",
              "\n",
              "    .dataframe thead th {\n",
              "        text-align: right;\n",
              "    }\n",
              "</style>\n",
              "<table border=\"1\" class=\"dataframe\">\n",
              "  <thead>\n",
              "    <tr style=\"text-align: right;\">\n",
              "      <th></th>\n",
              "      <th>Levonorgestrel</th>\n",
              "      <th>Etonogestrel</th>\n",
              "      <th>Ethinyl estradiol / norethindrone</th>\n",
              "      <th>Nexplanon</th>\n",
              "      <th>Ethinyl estradiol / norgestimate</th>\n",
              "      <th>Ethinyl estradiol / levonorgestrel</th>\n",
              "      <th>Phentermine</th>\n",
              "      <th>Sertraline</th>\n",
              "      <th>Escitalopram</th>\n",
              "      <th>Mirena</th>\n",
              "      <th>Implanon</th>\n",
              "      <th>Gabapentin</th>\n",
              "      <th>Bupropion</th>\n",
              "      <th>Venlafaxine</th>\n",
              "    </tr>\n",
              "  </thead>\n",
              "  <tbody>\n",
              "    <tr>\n",
              "      <th>drugName</th>\n",
              "      <td>3657</td>\n",
              "      <td>3336</td>\n",
              "      <td>2850</td>\n",
              "      <td>2156</td>\n",
              "      <td>2117</td>\n",
              "      <td>1888</td>\n",
              "      <td>1543</td>\n",
              "      <td>1360</td>\n",
              "      <td>1292</td>\n",
              "      <td>1242</td>\n",
              "      <td>1102</td>\n",
              "      <td>1047</td>\n",
              "      <td>1022</td>\n",
              "      <td>1016</td>\n",
              "    </tr>\n",
              "  </tbody>\n",
              "</table>\n",
              "</div>"
            ],
            "text/plain": [
              "          Levonorgestrel  Etonogestrel  ...  Bupropion  Venlafaxine\n",
              "drugName            3657          3336  ...       1022         1016\n",
              "\n",
              "[1 rows x 14 columns]"
            ]
          },
          "metadata": {
            "tags": []
          },
          "execution_count": 10
        }
      ]
    },
    {
      "cell_type": "code",
      "metadata": {
        "id": "9qr1qQ4MuT8Z",
        "colab": {
          "base_uri": "https://localhost:8080/",
          "height": 97
        },
        "outputId": "7b9d5c7e-824f-4ab1-cf43-e5dc0f67aa3b"
      },
      "source": [
        "pd.DataFrame(data[\"condition\"].value_counts()).head(14).T"
      ],
      "execution_count": null,
      "outputs": [
        {
          "output_type": "execute_result",
          "data": {
            "text/html": [
              "<div>\n",
              "<style scoped>\n",
              "    .dataframe tbody tr th:only-of-type {\n",
              "        vertical-align: middle;\n",
              "    }\n",
              "\n",
              "    .dataframe tbody tr th {\n",
              "        vertical-align: top;\n",
              "    }\n",
              "\n",
              "    .dataframe thead th {\n",
              "        text-align: right;\n",
              "    }\n",
              "</style>\n",
              "<table border=\"1\" class=\"dataframe\">\n",
              "  <thead>\n",
              "    <tr style=\"text-align: right;\">\n",
              "      <th></th>\n",
              "      <th>Birth Control</th>\n",
              "      <th>Depression</th>\n",
              "      <th>Pain</th>\n",
              "      <th>Anxiety</th>\n",
              "      <th>Acne</th>\n",
              "      <th>Bipolar Disorde</th>\n",
              "      <th>Insomnia</th>\n",
              "      <th>Weight Loss</th>\n",
              "      <th>Obesity</th>\n",
              "      <th>ADHD</th>\n",
              "      <th>Diabetes, Type 2</th>\n",
              "      <th>Emergency Contraception</th>\n",
              "      <th>High Blood Pressure</th>\n",
              "      <th>Vaginal Yeast Infection</th>\n",
              "    </tr>\n",
              "  </thead>\n",
              "  <tbody>\n",
              "    <tr>\n",
              "      <th>condition</th>\n",
              "      <td>28788</td>\n",
              "      <td>9069</td>\n",
              "      <td>6145</td>\n",
              "      <td>5904</td>\n",
              "      <td>5588</td>\n",
              "      <td>4224</td>\n",
              "      <td>3673</td>\n",
              "      <td>3609</td>\n",
              "      <td>3568</td>\n",
              "      <td>3383</td>\n",
              "      <td>2554</td>\n",
              "      <td>2463</td>\n",
              "      <td>2321</td>\n",
              "      <td>2274</td>\n",
              "    </tr>\n",
              "  </tbody>\n",
              "</table>\n",
              "</div>"
            ],
            "text/plain": [
              "           Birth Control  ...  Vaginal Yeast Infection\n",
              "condition          28788  ...                     2274\n",
              "\n",
              "[1 rows x 14 columns]"
            ]
          },
          "metadata": {
            "tags": []
          },
          "execution_count": 11
        }
      ]
    },
    {
      "cell_type": "code",
      "metadata": {
        "id": "I7MlNc1w_hxR"
      },
      "source": [
        "NUMERO_SAMPLES = 50000\n",
        "\n",
        "data = data.drop([\"uniqueID\", \"drugName\", \"condition\", \"date\", \"rating\", \"usefulCount\"], axis = 1).head(NUMERO_SAMPLES) # SACAR ESTOOOOOO!!"
      ],
      "execution_count": null,
      "outputs": []
    },
    {
      "cell_type": "code",
      "metadata": {
        "id": "kggrDvz8MFtl",
        "colab": {
          "base_uri": "https://localhost:8080/",
          "height": 244
        },
        "outputId": "0215ec9a-1e2e-4ea2-fda4-4a7452b24f39"
      },
      "source": [
        "data[\"clean_review\"] = data[\"review\"].apply(punctuation)\n",
        "data['clean_review'] = data.clean_review.apply(remove_numbers)\n",
        "data['clean_review_lst'] = data.clean_review.apply(to_list)\n",
        "\n",
        "data[\"NonStopwords_review_lst\"] = data.clean_review.apply(remove_stopwords)\n",
        "data[\"NonStopwords_review_str\"] = data.NonStopwords_review_lst.apply(to_string)\n",
        "\n",
        "data[\"NonStopwords_review_lst_MN\"] = data.clean_review.apply(m_negation)\n",
        "data[\"NonStopwords_review_str_MN\"] = data.NonStopwords_review_lst_MN.apply(to_string)\n",
        "\n",
        "data[\"Lemmatized_review_lst\"] = data.NonStopwords_review_lst_MN.apply(lemmatize_review)\n",
        "data[\"Lemmatized_review_str\"] = data.Lemmatized_review_lst.apply(to_string)\n",
        "\n",
        "data[\"Lemmatized_review_list\"] = data.NonStopwords_review_lst.apply(lemmatize_review)\n",
        "data[\"Lemmatized_review\"] = data.Lemmatized_review_list.apply(to_string)\n",
        "data[\"Lemmatized_review_list\"] = data.Lemmatized_review.apply(remove_stopwords)\n",
        "data[\"Lemmatized_review\"] = data.Lemmatized_review_list.apply(to_string)\n",
        "\n",
        "data[\"words_count\"] = data.Lemmatized_review_list.apply(count_words)\n",
        "\n",
        "data = data.drop([\"clean_review\", \"clean_review_lst\", \"NonStopwords_review_lst\", \"NonStopwords_review_str\"], axis = 1)\n",
        "\n",
        "data.head(3)"
      ],
      "execution_count": null,
      "outputs": [
        {
          "output_type": "execute_result",
          "data": {
            "text/html": [
              "<div>\n",
              "<style scoped>\n",
              "    .dataframe tbody tr th:only-of-type {\n",
              "        vertical-align: middle;\n",
              "    }\n",
              "\n",
              "    .dataframe tbody tr th {\n",
              "        vertical-align: top;\n",
              "    }\n",
              "\n",
              "    .dataframe thead th {\n",
              "        text-align: right;\n",
              "    }\n",
              "</style>\n",
              "<table border=\"1\" class=\"dataframe\">\n",
              "  <thead>\n",
              "    <tr style=\"text-align: right;\">\n",
              "      <th></th>\n",
              "      <th>review</th>\n",
              "      <th>NonStopwords_review_lst_MN</th>\n",
              "      <th>NonStopwords_review_str_MN</th>\n",
              "      <th>Lemmatized_review_lst</th>\n",
              "      <th>Lemmatized_review_str</th>\n",
              "      <th>Lemmatized_review_list</th>\n",
              "      <th>Lemmatized_review</th>\n",
              "      <th>words_count</th>\n",
              "    </tr>\n",
              "  </thead>\n",
              "  <tbody>\n",
              "    <tr>\n",
              "      <th>0</th>\n",
              "      <td>\"It has no side effect, I take it in combinati...</td>\n",
              "      <td>[no, side_NEG, effect_NEG, take_NEG, combinati...</td>\n",
              "      <td>no side_NEG effect_NEG take_NEG combination_NE...</td>\n",
              "      <td>[no, side_NEG, effect_NEG, take_NEG, combinati...</td>\n",
              "      <td>no side_NEG effect_NEG take_NEG combination_NE...</td>\n",
              "      <td>[no, side, effect, take, combination, bystolic...</td>\n",
              "      <td>no side effect take combination bystolic fish oil</td>\n",
              "      <td>{'no': 1, 'side': 1, 'effect': 1, 'take': 1, '...</td>\n",
              "    </tr>\n",
              "    <tr>\n",
              "      <th>1</th>\n",
              "      <td>\"My son is halfway through his fourth week of ...</td>\n",
              "      <td>[son, halfway, fourth, intuniv, became, concer...</td>\n",
              "      <td>son halfway fourth intuniv became concerned be...</td>\n",
              "      <td>[son, halfway, fourth, intuniv, became, concer...</td>\n",
              "      <td>son halfway fourth intuniv became concerned be...</td>\n",
              "      <td>[son, halfway, fourth, intuniv, became, concer...</td>\n",
              "      <td>son halfway fourth intuniv became concerned be...</td>\n",
              "      <td>{'son': 1, 'halfway': 1, 'fourth': 1, 'intuniv...</td>\n",
              "    </tr>\n",
              "    <tr>\n",
              "      <th>2</th>\n",
              "      <td>\"I used to take another oral contraceptive, wh...</td>\n",
              "      <td>[used, take, another, oral, contraceptive, pil...</td>\n",
              "      <td>used take another oral contraceptive pill cycl...</td>\n",
              "      <td>[used, take, another, oral, contraceptive, pil...</td>\n",
              "      <td>used take another oral contraceptive pill cycl...</td>\n",
              "      <td>[used, take, another, oral, contraceptive, pil...</td>\n",
              "      <td>used take another oral contraceptive pill cycl...</td>\n",
              "      <td>{'used': 1, 'take': 1, 'another': 1, 'oral': 1...</td>\n",
              "    </tr>\n",
              "  </tbody>\n",
              "</table>\n",
              "</div>"
            ],
            "text/plain": [
              "                                              review  ...                                        words_count\n",
              "0  \"It has no side effect, I take it in combinati...  ...  {'no': 1, 'side': 1, 'effect': 1, 'take': 1, '...\n",
              "1  \"My son is halfway through his fourth week of ...  ...  {'son': 1, 'halfway': 1, 'fourth': 1, 'intuniv...\n",
              "2  \"I used to take another oral contraceptive, wh...  ...  {'used': 1, 'take': 1, 'another': 1, 'oral': 1...\n",
              "\n",
              "[3 rows x 8 columns]"
            ]
          },
          "metadata": {
            "tags": []
          },
          "execution_count": 13
        }
      ]
    },
    {
      "cell_type": "code",
      "metadata": {
        "id": "T4MsJkEvybZb",
        "colab": {
          "base_uri": "https://localhost:8080/",
          "height": 131
        },
        "outputId": "36939df6-e8ab-4051-9952-b011c65748af"
      },
      "source": [
        "total_count(data[\"words_count\"])"
      ],
      "execution_count": null,
      "outputs": [
        {
          "output_type": "execute_result",
          "data": {
            "text/html": [
              "<div>\n",
              "<style scoped>\n",
              "    .dataframe tbody tr th:only-of-type {\n",
              "        vertical-align: middle;\n",
              "    }\n",
              "\n",
              "    .dataframe tbody tr th {\n",
              "        vertical-align: top;\n",
              "    }\n",
              "\n",
              "    .dataframe thead th {\n",
              "        text-align: right;\n",
              "    }\n",
              "</style>\n",
              "<table border=\"1\" class=\"dataframe\">\n",
              "  <thead>\n",
              "    <tr style=\"text-align: right;\">\n",
              "      <th></th>\n",
              "      <th>0</th>\n",
              "      <th>1</th>\n",
              "      <th>2</th>\n",
              "      <th>3</th>\n",
              "      <th>4</th>\n",
              "      <th>5</th>\n",
              "      <th>6</th>\n",
              "      <th>7</th>\n",
              "      <th>8</th>\n",
              "      <th>9</th>\n",
              "      <th>10</th>\n",
              "      <th>11</th>\n",
              "      <th>12</th>\n",
              "      <th>13</th>\n",
              "      <th>14</th>\n",
              "      <th>15</th>\n",
              "      <th>16</th>\n",
              "      <th>17</th>\n",
              "      <th>18</th>\n",
              "      <th>19</th>\n",
              "      <th>20</th>\n",
              "      <th>21</th>\n",
              "      <th>22</th>\n",
              "      <th>23</th>\n",
              "      <th>24</th>\n",
              "      <th>25</th>\n",
              "      <th>26</th>\n",
              "      <th>27</th>\n",
              "      <th>28</th>\n",
              "      <th>29</th>\n",
              "    </tr>\n",
              "  </thead>\n",
              "  <tbody>\n",
              "    <tr>\n",
              "      <th>0</th>\n",
              "      <td>not</td>\n",
              "      <td>no</td>\n",
              "      <td>effect</td>\n",
              "      <td>side</td>\n",
              "      <td>taking</td>\n",
              "      <td>first</td>\n",
              "      <td>take</td>\n",
              "      <td>get</td>\n",
              "      <td>started</td>\n",
              "      <td>like</td>\n",
              "      <td>work</td>\n",
              "      <td>feel</td>\n",
              "      <td>pain</td>\n",
              "      <td>would</td>\n",
              "      <td>pill</td>\n",
              "      <td>one</td>\n",
              "      <td>doctor</td>\n",
              "      <td>back</td>\n",
              "      <td>also</td>\n",
              "      <td>period</td>\n",
              "      <td>took</td>\n",
              "      <td>medication</td>\n",
              "      <td>got</td>\n",
              "      <td>since</td>\n",
              "      <td>dont</td>\n",
              "      <td>still</td>\n",
              "      <td>weight</td>\n",
              "      <td>bad</td>\n",
              "      <td>life</td>\n",
              "      <td>much</td>\n",
              "    </tr>\n",
              "    <tr>\n",
              "      <th>1</th>\n",
              "      <td>19173</td>\n",
              "      <td>13839</td>\n",
              "      <td>13810</td>\n",
              "      <td>13561</td>\n",
              "      <td>12475</td>\n",
              "      <td>11388</td>\n",
              "      <td>11157</td>\n",
              "      <td>10832</td>\n",
              "      <td>10670</td>\n",
              "      <td>10430</td>\n",
              "      <td>9857</td>\n",
              "      <td>9272</td>\n",
              "      <td>8809</td>\n",
              "      <td>8344</td>\n",
              "      <td>8256</td>\n",
              "      <td>8210</td>\n",
              "      <td>8187</td>\n",
              "      <td>7986</td>\n",
              "      <td>7533</td>\n",
              "      <td>7518</td>\n",
              "      <td>7386</td>\n",
              "      <td>7277</td>\n",
              "      <td>6845</td>\n",
              "      <td>6818</td>\n",
              "      <td>6637</td>\n",
              "      <td>6575</td>\n",
              "      <td>6538</td>\n",
              "      <td>6445</td>\n",
              "      <td>6333</td>\n",
              "      <td>6275</td>\n",
              "    </tr>\n",
              "  </tbody>\n",
              "</table>\n",
              "</div>"
            ],
            "text/plain": [
              "      0      1       2      3       4   ...     25      26    27    28    29\n",
              "0    not     no  effect   side  taking  ...  still  weight   bad  life  much\n",
              "1  19173  13839   13810  13561   12475  ...   6575    6538  6445  6333  6275\n",
              "\n",
              "[2 rows x 30 columns]"
            ]
          },
          "metadata": {
            "tags": []
          },
          "execution_count": 14
        }
      ]
    },
    {
      "cell_type": "code",
      "metadata": {
        "id": "Qs9nl3nHqb1w"
      },
      "source": [
        "# correlation = data[\"rating\"].corr(data[\"usefulCount\"], method='pearson')\n",
        "\n",
        "# plt.matshow(data[[\"rating\", \"usefulCount\"]].corr())\n",
        "\n",
        "# plt.show()"
      ],
      "execution_count": null,
      "outputs": []
    },
    {
      "cell_type": "markdown",
      "metadata": {
        "id": "vLeBPZSEY4Jh"
      },
      "source": [
        "# TF-IDF features | Latent Dirichlet allocation"
      ]
    },
    {
      "cell_type": "code",
      "metadata": {
        "id": "VEIG7yCEv5YH",
        "colab": {
          "base_uri": "https://localhost:8080/"
        },
        "outputId": "bfb36a29-5a67-46f1-9510-db49e26dcc94"
      },
      "source": [
        "# vocabulary = {'abdominal': ['constipation', 'diarrhea'],\n",
        "#               'skin' : ['rash'],\n",
        "#               'vertigo' : ['dizziness', 'drowsiness'],\n",
        "#               'headache' : ['headache'],\n",
        "#               'mood disorders' : ['insomnia', 'mood swings'],\n",
        "#               \"no side effect\" : [\"good\", \"response\", \"improvement\"]\n",
        "#               }\n",
        "\n",
        "# vocabulary = ['abdominal', 'constipation', 'diarrhea', 'skin', 'rash', 'vertigo', 'dizziness', 'drowsiness',\n",
        "#               'headache', 'mood disorders', 'insomnia', 'mood swings', \"no side effect\", \"good\", \"response\", \"improvement\"]\n",
        "\n",
        "\n",
        "vectorizer = TfidfVectorizer(min_df = 0.05, \n",
        "                             max_df = 0.55, \n",
        "                             max_features = None,\n",
        "                             vocabulary = None,\n",
        "                             binary = False,\n",
        "                             ngram_range = (1, 1)).fit(data[\"Lemmatized_review\"]) #\n",
        "\n",
        "# MINDF Ignore terms that have a document frequency strictly higher than the given threshold\n",
        "# MAXDF When building the vocabulary ignore terms that have a document frequency strictly lower than the given threshold\n",
        "\n",
        "data_vectorized = vectorizer.transform(data[\"Lemmatized_review\"]) #\n",
        "\n",
        "# pca = PCA(n_components=2).fit(data_vectorized)\n",
        "\n",
        "# data2D = pca.transform(data_vectorized)\n",
        "\n",
        "lda_model = LatentDirichletAllocation(n_components = 6,\n",
        "                                      learning_method = 'online',   \n",
        "                                      random_state = 29,\n",
        "                                      batch_size = 128,\n",
        "                                      learning_decay = 0.5,\n",
        "                                      learning_offset = 5,\n",
        "                                      evaluate_every = -1,\n",
        "                                      verbose = 1,\n",
        "                                      max_iter = 100).fit(data_vectorized)\n",
        "\n",
        "vocab = vectorizer.get_feature_names()"
      ],
      "execution_count": null,
      "outputs": [
        {
          "output_type": "stream",
          "text": [
            "iteration: 1 of max_iter: 100\n",
            "iteration: 2 of max_iter: 100\n",
            "iteration: 3 of max_iter: 100\n",
            "iteration: 4 of max_iter: 100\n",
            "iteration: 5 of max_iter: 100\n",
            "iteration: 6 of max_iter: 100\n",
            "iteration: 7 of max_iter: 100\n",
            "iteration: 8 of max_iter: 100\n",
            "iteration: 9 of max_iter: 100\n",
            "iteration: 10 of max_iter: 100\n",
            "iteration: 11 of max_iter: 100\n",
            "iteration: 12 of max_iter: 100\n",
            "iteration: 13 of max_iter: 100\n",
            "iteration: 14 of max_iter: 100\n",
            "iteration: 15 of max_iter: 100\n",
            "iteration: 16 of max_iter: 100\n",
            "iteration: 17 of max_iter: 100\n",
            "iteration: 18 of max_iter: 100\n",
            "iteration: 19 of max_iter: 100\n",
            "iteration: 20 of max_iter: 100\n",
            "iteration: 21 of max_iter: 100\n",
            "iteration: 22 of max_iter: 100\n",
            "iteration: 23 of max_iter: 100\n",
            "iteration: 24 of max_iter: 100\n",
            "iteration: 25 of max_iter: 100\n",
            "iteration: 26 of max_iter: 100\n",
            "iteration: 27 of max_iter: 100\n",
            "iteration: 28 of max_iter: 100\n",
            "iteration: 29 of max_iter: 100\n",
            "iteration: 30 of max_iter: 100\n",
            "iteration: 31 of max_iter: 100\n",
            "iteration: 32 of max_iter: 100\n",
            "iteration: 33 of max_iter: 100\n",
            "iteration: 34 of max_iter: 100\n",
            "iteration: 35 of max_iter: 100\n",
            "iteration: 36 of max_iter: 100\n",
            "iteration: 37 of max_iter: 100\n",
            "iteration: 38 of max_iter: 100\n",
            "iteration: 39 of max_iter: 100\n",
            "iteration: 40 of max_iter: 100\n",
            "iteration: 41 of max_iter: 100\n",
            "iteration: 42 of max_iter: 100\n",
            "iteration: 43 of max_iter: 100\n",
            "iteration: 44 of max_iter: 100\n",
            "iteration: 45 of max_iter: 100\n",
            "iteration: 46 of max_iter: 100\n",
            "iteration: 47 of max_iter: 100\n",
            "iteration: 48 of max_iter: 100\n",
            "iteration: 49 of max_iter: 100\n",
            "iteration: 50 of max_iter: 100\n",
            "iteration: 51 of max_iter: 100\n",
            "iteration: 52 of max_iter: 100\n",
            "iteration: 53 of max_iter: 100\n",
            "iteration: 54 of max_iter: 100\n",
            "iteration: 55 of max_iter: 100\n",
            "iteration: 56 of max_iter: 100\n",
            "iteration: 57 of max_iter: 100\n",
            "iteration: 58 of max_iter: 100\n",
            "iteration: 59 of max_iter: 100\n",
            "iteration: 60 of max_iter: 100\n",
            "iteration: 61 of max_iter: 100\n",
            "iteration: 62 of max_iter: 100\n",
            "iteration: 63 of max_iter: 100\n",
            "iteration: 64 of max_iter: 100\n",
            "iteration: 65 of max_iter: 100\n",
            "iteration: 66 of max_iter: 100\n",
            "iteration: 67 of max_iter: 100\n",
            "iteration: 68 of max_iter: 100\n",
            "iteration: 69 of max_iter: 100\n",
            "iteration: 70 of max_iter: 100\n",
            "iteration: 71 of max_iter: 100\n",
            "iteration: 72 of max_iter: 100\n",
            "iteration: 73 of max_iter: 100\n",
            "iteration: 74 of max_iter: 100\n",
            "iteration: 75 of max_iter: 100\n",
            "iteration: 76 of max_iter: 100\n",
            "iteration: 77 of max_iter: 100\n",
            "iteration: 78 of max_iter: 100\n",
            "iteration: 79 of max_iter: 100\n",
            "iteration: 80 of max_iter: 100\n",
            "iteration: 81 of max_iter: 100\n",
            "iteration: 82 of max_iter: 100\n",
            "iteration: 83 of max_iter: 100\n",
            "iteration: 84 of max_iter: 100\n",
            "iteration: 85 of max_iter: 100\n",
            "iteration: 86 of max_iter: 100\n",
            "iteration: 87 of max_iter: 100\n",
            "iteration: 88 of max_iter: 100\n",
            "iteration: 89 of max_iter: 100\n",
            "iteration: 90 of max_iter: 100\n",
            "iteration: 91 of max_iter: 100\n",
            "iteration: 92 of max_iter: 100\n",
            "iteration: 93 of max_iter: 100\n",
            "iteration: 94 of max_iter: 100\n",
            "iteration: 95 of max_iter: 100\n",
            "iteration: 96 of max_iter: 100\n",
            "iteration: 97 of max_iter: 100\n",
            "iteration: 98 of max_iter: 100\n",
            "iteration: 99 of max_iter: 100\n",
            "iteration: 100 of max_iter: 100\n"
          ],
          "name": "stdout"
        }
      ]
    },
    {
      "cell_type": "code",
      "metadata": {
        "id": "VFxcGin6OiLV",
        "colab": {
          "base_uri": "https://localhost:8080/"
        },
        "outputId": "4598c1cf-fed1-4fb9-e3c6-c613b9fd299e"
      },
      "source": [
        "\"\"\"A model with higher log-likelihood and lower perplexity\n",
        "(exp(-1. * log-likelihood per word)) is considered to be good. Let’s check for our model.\"\"\"\n",
        "\n",
        "# Log Likelyhood: Higher the better\n",
        "print(\"Log Likelihood: \", lda_model.score(data_vectorized))\n",
        "\n",
        "# Perplexity: Lower the better. Perplexity = exp(-1. * log-likelihood per word)\n",
        "print(\"Perplexity: \", lda_model.perplexity(data_vectorized))\n",
        "\n",
        "# See model parameters\n",
        "print(lda_model.get_params())"
      ],
      "execution_count": null,
      "outputs": [
        {
          "output_type": "stream",
          "text": [
            "Log Likelihood:  -905040.6320149569\n",
            "Perplexity:  243.2681161266595\n",
            "{'batch_size': 128, 'doc_topic_prior': None, 'evaluate_every': -1, 'learning_decay': 0.5, 'learning_method': 'online', 'learning_offset': 5, 'max_doc_update_iter': 100, 'max_iter': 100, 'mean_change_tol': 0.001, 'n_components': 6, 'n_jobs': None, 'perp_tol': 0.1, 'random_state': 29, 'topic_word_prior': None, 'total_samples': 1000000.0, 'verbose': 1}\n"
          ],
          "name": "stdout"
        }
      ]
    },
    {
      "cell_type": "code",
      "metadata": {
        "id": "HY1zU_sW0FrP",
        "colab": {
          "base_uri": "https://localhost:8080/"
        },
        "outputId": "61753e45-29e9-400a-998d-87e7a4167568"
      },
      "source": [
        "len(vectorizer.vocabulary_)"
      ],
      "execution_count": null,
      "outputs": [
        {
          "output_type": "execute_result",
          "data": {
            "text/plain": [
              "132"
            ]
          },
          "metadata": {
            "tags": []
          },
          "execution_count": 18
        }
      ]
    },
    {
      "cell_type": "code",
      "metadata": {
        "id": "VZhVYO5s1iap",
        "colab": {
          "base_uri": "https://localhost:8080/"
        },
        "outputId": "2c52a1b8-cf0a-4ede-f62c-5e026eccc613"
      },
      "source": [
        "lda_model.components_.shape # Vectors"
      ],
      "execution_count": null,
      "outputs": [
        {
          "output_type": "execute_result",
          "data": {
            "text/plain": [
              "(6, 132)"
            ]
          },
          "metadata": {
            "tags": []
          },
          "execution_count": 19
        }
      ]
    },
    {
      "cell_type": "code",
      "metadata": {
        "id": "446i6CoQwQ8Z",
        "colab": {
          "base_uri": "https://localhost:8080/"
        },
        "outputId": "9125a1a8-913b-46e1-bb0e-61d11ab7a8e0"
      },
      "source": [
        "print_topics(lda_model, vectorizer)"
      ],
      "execution_count": null,
      "outputs": [
        {
          "output_type": "stream",
          "text": [
            "Topic 0:\n",
            "[('period', 2004.37), ('pill', 1360.34), ('control', 1059.56), ('birth', 1018.15), ('cramp', 855.96), ('sex', 807.98), ('no', 756.77), ('got', 712.72), ('not', 686.93), ('weight', 664.78)]\n",
            "Topic 1:\n",
            "[('skin', 917.47), ('use', 857.39), ('using', 745.77), ('cant', 622.96), ('acne', 550.2), ('used', 505.64), ('best', 387.74), ('want', 374.3), ('not', 290.94), ('get', 289.61)]\n",
            "Topic 2:\n",
            "[('pain', 2104.97), ('back', 1010.26), ('not', 1009.82), ('took', 935.19), ('doctor', 913.29), ('taking', 800.74), ('take', 777.52), ('went', 722.79), ('within', 720.84), ('no', 688.02)]\n",
            "Topic 3:\n",
            "[('anxiety', 1323.17), ('feel', 1194.48), ('sleep', 1059.11), ('take', 1031.2), ('not', 1004.32), ('night', 939.32), ('like', 863.46), ('taking', 857.53), ('help', 849.11), ('depression', 835.69)]\n",
            "Topic 4:\n",
            "[('effect', 1286.17), ('side', 1270.4), ('weight', 851.11), ('lb', 816.32), ('no', 801.81), ('headache', 779.81), ('lost', 710.44), ('nausea', 698.03), ('taking', 556.14), ('not', 494.81)]\n",
            "Topic 5:\n",
            "[('experienced', 566.55), ('experience', 513.43), ('mood', 444.56), ('horrible', 357.37), ('great', 351.81), ('work', 282.15), ('symptom', 267.07), ('good', 253.01), ('drug', 224.69), ('say', 199.6)]\n"
          ],
          "name": "stdout"
        }
      ]
    },
    {
      "cell_type": "markdown",
      "metadata": {
        "id": "qrGn0BlMj-LN"
      },
      "source": [
        "## Example No Grid"
      ]
    },
    {
      "cell_type": "code",
      "metadata": {
        "id": "4IyvqAG_wZhV",
        "colab": {
          "base_uri": "https://localhost:8080/"
        },
        "outputId": "058bc370-70a2-42bd-ccde-8a7de2853737"
      },
      "source": [
        "example = [\"side effect\"]\n",
        "\n",
        "example_vectorized = vectorizer.transform(example)\n",
        "\n",
        "print(example_vectorized.shape)\n",
        "\n",
        "lda_vectors = lda_model.transform(example_vectorized)\n",
        "\n",
        "print(lda_vectors.shape)\n",
        "\n",
        "print(\"topic 0 :\", lda_vectors[0][0])\n",
        "print(\"topic 1 :\", lda_vectors[0][1])"
      ],
      "execution_count": null,
      "outputs": [
        {
          "output_type": "stream",
          "text": [
            "(1, 132)\n",
            "(1, 6)\n",
            "topic 0 : 0.06920036716325943\n",
            "topic 1 : 0.06903591345267183\n"
          ],
          "name": "stdout"
        }
      ]
    },
    {
      "cell_type": "markdown",
      "metadata": {
        "id": "7IJNou02kIp1"
      },
      "source": [
        "## Predictions No Grid"
      ]
    },
    {
      "cell_type": "code",
      "metadata": {
        "colab": {
          "base_uri": "https://localhost:8080/"
        },
        "id": "DZPGj5Zmvsem",
        "outputId": "60b2e6a6-77c3-40e9-982d-7ae646a2a08f"
      },
      "source": [
        "predictions = []\n",
        "\n",
        "for review in manual[\"Lemmatized_review\"]:\n",
        "    predictions = []\n",
        "    vectorized = vectorizer.transform([review])\n",
        "    lda_vectors = predictions.append(lda_model.transform(vectorized))\n",
        "\n",
        "vectorized.shape\n",
        "#predictions[0].shape"
      ],
      "execution_count": null,
      "outputs": [
        {
          "output_type": "execute_result",
          "data": {
            "text/plain": [
              "(1, 132)"
            ]
          },
          "metadata": {
            "tags": []
          },
          "execution_count": 22
        }
      ]
    },
    {
      "cell_type": "code",
      "metadata": {
        "id": "BDFviiRPQyU1"
      },
      "source": [
        "# # Get Log Likelyhoods from Grid Search Output\n",
        "# n_components = [2, 3, 4]\n",
        "\n",
        "# log_likelyhoods_5 = [round(gscore.mean_validation_score) for gscore in model.cv_results_ if gscore.parameters['learning_decay']==0.2]\n",
        "# log_likelyhoods_7 = [round(gscore.mean_validation_score) for gscore in model.cv_results_ if gscore.parameters['learning_decay']==0.3]\n",
        "# log_likelyhoods_9 = [round(gscore.mean_validation_score) for gscore in model.cv_results_ if gscore.parameters['learning_decay']==0.4]\n",
        "\n",
        "# # Show graph\n",
        "# plt.figure(figsize=(12, 8))\n",
        "# plt.plot(n_components, log_likelyhoods_5, label='0.5')\n",
        "# plt.plot(n_components, log_likelyhoods_7, label='0.7')\n",
        "# plt.plot(n_components, log_likelyhoods_9, label='0.9')\n",
        "\n",
        "# plt.title(\"Choosing Optimal LDA Model\")\n",
        "# plt.xlabel(\"Num Topics\")\n",
        "# plt.ylabel(\"Log Likelyhood Scores\")\n",
        "# plt.legend(title='Learning decay', loc='best')\n",
        "\n",
        "# plt.show()"
      ],
      "execution_count": null,
      "outputs": []
    },
    {
      "cell_type": "markdown",
      "metadata": {
        "id": "kWmvWLs2kRdH"
      },
      "source": [
        "## Grid"
      ]
    },
    {
      "cell_type": "code",
      "metadata": {
        "id": "cxSEF9fwOnh-"
      },
      "source": [
        "# Define Search Param\n",
        "search_params = {'n_components' : [3, 4, 5, 6, 7], 'learning_decay' : [.2, .3, .4], \"max_iter\" : [100, 200], \"learning_offset\" : [5, 10]}\n",
        "\n",
        "# Init the Model\n",
        "lda = LatentDirichletAllocation()\n",
        "\n",
        "# Init Grid Search Class\n",
        "model = GridSearchCV(lda, param_grid=search_params)\n",
        "\n",
        "# Do the Grid Search\n",
        "model.fit(data_vectorized)\n",
        "\n",
        "# Best Model\n",
        "best_lda_model = model.best_estimator_\n",
        "\n",
        "# Model Parameters\n",
        "print(\"Best Model's Params: \", model.best_params_)\n",
        "\n",
        "# Log Likelihood Score\n",
        "print(\"Best Log Likelihood Score: \", model.best_score_)\n",
        "\n",
        "# Perplexity\n",
        "print(\"Model Perplexity: \", best_lda_model.perplexity(data_vectorized))"
      ],
      "execution_count": null,
      "outputs": []
    },
    {
      "cell_type": "code",
      "metadata": {
        "id": "SSP_8i87a_t6"
      },
      "source": [
        "# vectorizer.vocabulary_\n",
        "\n",
        "# lda_model.components_ # Vectors"
      ],
      "execution_count": null,
      "outputs": []
    },
    {
      "cell_type": "markdown",
      "metadata": {
        "id": "NUSdoiY6jvzx"
      },
      "source": [
        "## Example Grid"
      ]
    },
    {
      "cell_type": "code",
      "metadata": {
        "id": "MHBRCjyhbC_D"
      },
      "source": [
        "print_topics(lda_model, vectorizer)"
      ],
      "execution_count": null,
      "outputs": []
    },
    {
      "cell_type": "code",
      "metadata": {
        "id": "EzIROp9Ccpm8"
      },
      "source": [
        "example = [\"problem\"]\n",
        "\n",
        "example_vectorized = vectorizer.transform(example)\n",
        "\n",
        "lda_vectors = lda_model.transform(example_vectorized)\n",
        "\n",
        "print(\"topic 0 :\", lda_vectors[0][0])\n",
        "print(\"topic 1 :\", lda_vectors[0][1])"
      ],
      "execution_count": null,
      "outputs": []
    },
    {
      "cell_type": "markdown",
      "metadata": {
        "id": "T53xg5lDjqas"
      },
      "source": [
        "## Prediction Grid"
      ]
    },
    {
      "cell_type": "code",
      "metadata": {
        "id": "tk0QRZweJ0Ab"
      },
      "source": [
        "predictions = []\n",
        "\n",
        "for review in manual[\"Lemmatized_review\"]:\n",
        "    vectorized = vectorizer.transform([review])\n",
        "    lda_vectors = predictions.append(lda_model.transform(vectorized))\n",
        "\n",
        "predictions = np.concatenate(predictions, axis=0)\n",
        "\n",
        "predictions.shape"
      ],
      "execution_count": null,
      "outputs": []
    },
    {
      "cell_type": "code",
      "metadata": {
        "id": "imoqTqxN4nr3"
      },
      "source": [
        "compare_data = pd.DataFrame(predictions, columns = [\"Side_Effect\", \"No_Side_Effect\"])\n",
        "\n",
        "compare_data[\"Manually_Labelled\"] = manual[\"sideEffect\"] # Brings a column from the other DataFrame\n",
        "\n",
        "compare_data[\"Prediction\"] = compare_data.Side_Effect.apply(one_or_zero) # Applies the binary output\n",
        "compare_data[\"No_Side_Effect_%\"] = compare_data.No_Side_Effect.apply(round_two) # Applies a format\n",
        "compare_data[\"Side_Effect_%\"] = compare_data.Side_Effect.apply(round_two) # Applies a format\n",
        "\n",
        "compare_data[\"bool\"] = np.where(compare_data[\"Manually_Labelled\"] == compare_data[\"Prediction\"], True, False) # Compares betwen the precdiction and the label\n",
        "\n",
        "compare_data.drop([\"Side_Effect\", \"No_Side_Effect\"], axis = 1)"
      ],
      "execution_count": null,
      "outputs": []
    },
    {
      "cell_type": "code",
      "metadata": {
        "id": "LdPkllGD4MLN"
      },
      "source": [
        "compare_data[\"bool\"].value_counts()"
      ],
      "execution_count": null,
      "outputs": []
    },
    {
      "cell_type": "code",
      "metadata": {
        "id": "BAKU5iyVyeXX"
      },
      "source": [
        "compare_data.to_csv('data.csv')\n",
        "\n",
        "!cp data.csv \"drive/My Drive/\""
      ],
      "execution_count": null,
      "outputs": []
    },
    {
      "cell_type": "code",
      "metadata": {
        "id": "nbyK70-urgWY"
      },
      "source": [
        "\n",
        "\n",
        "# correct predictions / 100\n",
        "# recall = correctly predicted side effects / total side effects\n",
        "# precision = correctly predicted side effects / total predicted side effects\n",
        "\n",
        "# predicted_topic = []\n",
        "\n",
        "\n",
        "\n",
        "# (np.array(predicted_topic) == np.array(test_data.sideEffect)).sum()"
      ],
      "execution_count": null,
      "outputs": []
    },
    {
      "cell_type": "code",
      "metadata": {
        "id": "SeJUV2WYsJlv"
      },
      "source": [
        "# for row in range(len(test_data)):\n",
        "#     if (lda_vectors[row][0] > lda_vectors[row][1]):\n",
        "#         predicted_topic.append(0)\n",
        "#     else: predicted_topic.append(1)"
      ],
      "execution_count": null,
      "outputs": []
    },
    {
      "cell_type": "markdown",
      "metadata": {
        "id": "9ygXFa-OaOgP"
      },
      "source": [
        "# TF-IDF features | Pipeline"
      ]
    },
    {
      "cell_type": "code",
      "metadata": {
        "id": "lu00AB7v5VIe"
      },
      "source": [
        "import itertools\n",
        "\n",
        "laplace = lidstone = range(1, 4)\n",
        "\n",
        "lap_lid = list(itertools.product(laplace, lidstone))\n",
        "\n",
        "lap_lid"
      ],
      "execution_count": null,
      "outputs": []
    },
    {
      "cell_type": "code",
      "metadata": {
        "id": "3yBHK5zJXl1u"
      },
      "source": [
        "# # Create Pipeline\n",
        "# pipe = Pipeline([('tfidf', TfidfVectorizer()),\n",
        "#                  ('nb', MultinomialNB())\n",
        "#                 ])\n",
        "\n",
        "# # Set parameters to search (model and vectorizer)\n",
        "# parameters = {\n",
        "#     'tfidf__ngram_range': (lap_lid), # The lower and upper boundary of the range of n-values for different word n-grams or char n-grams to be extracted\n",
        "#     'tfidf__min_df': (np.linspace(0.01, 0.49, num = 10)),\n",
        "#     'tfidf__max_df': (np.linspace(0.50, 0.99, num = 10)),\n",
        "#     'nb__alpha': (np.linspace(0.01, 0.99, num = 10)) # Additive (Laplace/Lidstone) smoothing parameter (0 for no smoothing)\n",
        "#     }\n",
        "\n",
        "# # Perform grid search\n",
        "# grid_search = GridSearchCV(pipe, parameters,\n",
        "#                            n_jobs=-1, \n",
        "#                            verbose=1,\n",
        "#                            scoring = \"accuracy\", \n",
        "#                            refit=True,\n",
        "#                            cv=5)\n",
        "\n",
        "# grid_search.fit(X, y)"
      ],
      "execution_count": null,
      "outputs": []
    },
    {
      "cell_type": "code",
      "metadata": {
        "id": "oHMCGyAAdqX-"
      },
      "source": [
        "# grid_search.best_params_"
      ],
      "execution_count": null,
      "outputs": []
    },
    {
      "cell_type": "code",
      "metadata": {
        "id": "_tbcRqUkdutT"
      },
      "source": [
        "# best_model = grid_search.best_estimator_"
      ],
      "execution_count": null,
      "outputs": []
    },
    {
      "cell_type": "code",
      "metadata": {
        "id": "9DM7mA04ywpP"
      },
      "source": [
        "# # Create Pipeline\n",
        "# pipe = Pipeline([('Count', CountVectorizer()),\n",
        "#                  ('nb', MultinomialNB())\n",
        "#                 ])\n",
        "\n",
        "# # Set parameters to search (model and vectorizer)\n",
        "# parameters = {\n",
        "#     'Count__ngram_range': (lap_lid), # The lower and upper boundary of the range of n-values for different word n-grams or char n-grams to be extracted\n",
        "#     'Count__min_df': (np.linspace(0.01, 0.49, num = 10)),\n",
        "#     'Count__max_df': (np.linspace(0.50, 0.99, num = 10)),\n",
        "#     'Count__max_features' : ([1 , 2, 3, 4, 5]),\n",
        "#     'nb__alpha': (np.linspace(0.01, 0.99, num = 10)), # Additive (Laplace/Lidstone) smoothing parameter (0 for no smoothing)\n",
        "#     }\n",
        "\n",
        "# # Perform grid search\n",
        "# grid_search = GridSearchCV(pipe, parameters, n_jobs=-1, \n",
        "#                            verbose=1, scoring = \"accuracy\", \n",
        "#                            refit=True, cv=5)\n",
        "\n",
        "# grid_search.fit(X, y)"
      ],
      "execution_count": null,
      "outputs": []
    },
    {
      "cell_type": "code",
      "metadata": {
        "id": "3xz3WSok5f5F"
      },
      "source": [
        "# grid_search.best_params_"
      ],
      "execution_count": null,
      "outputs": []
    },
    {
      "cell_type": "code",
      "metadata": {
        "id": "8yMriaro5gx1"
      },
      "source": [
        "# best_model = grid_search.best_estimator_"
      ],
      "execution_count": null,
      "outputs": []
    }
  ]
}