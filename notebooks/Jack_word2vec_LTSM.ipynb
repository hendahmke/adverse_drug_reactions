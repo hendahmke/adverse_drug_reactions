{
 "cells": [
  {
   "cell_type": "markdown",
   "metadata": {},
   "source": [
    "# Word 2 vec with trained data (n=300)"
   ]
  },
  {
   "cell_type": "markdown",
   "metadata": {},
   "source": [
    "## Imports and load data"
   ]
  },
  {
   "cell_type": "code",
   "execution_count": 1,
   "metadata": {},
   "outputs": [],
   "source": [
    "## for data\n",
    "import pandas as pd\n",
    "import numpy as np#\n",
    "\n",
    "# for plotting\n",
    "import matplotlib.pyplot as plt\n",
    "import seaborn as sns\n",
    "\n",
    "## for processing\n",
    "import re\n",
    "import nltk\n",
    "\n",
    "## for bag-of-words\n",
    "from sklearn import feature_extraction, model_selection, naive_bayes, pipeline, manifold, preprocessing## for explainer\n",
    "from lime import lime_text\n",
    "\n",
    "## for word embedding\n",
    "import gensim\n",
    "import gensim.downloader as gensim_api\n",
    "\n",
    "## for deep learning\n",
    "from tensorflow.keras import models, layers, preprocessing as kprocessing\n",
    "from tensorflow.keras import backend as K\n",
    "\n",
    "## for bert language model\n",
    "import transformers"
   ]
  },
  {
   "cell_type": "code",
   "execution_count": null,
   "metadata": {
    "scrolled": true
   },
   "outputs": [],
   "source": [
    "### load labeled data\n",
    "\n",
    "data = pd.read_csv('../raw_data/adr_labelled_data.csv', nrows=300)\n",
    "\n",
    "#data = data[data['rating'] < 5]\n",
    "#data[\"sideEffect\"] = data[\"sideEffect\"].astype(int)\n",
    "data = data.reset_index(drop = True)\n",
    "data = data.sort_values(by=['drugName'])\n",
    "data = data.reset_index(drop = True)\n",
    "data = data.drop([\"uniqueID\", \"date\", \"usefulCount\"], axis = 1)\n",
    "# print(pd.DataFrame(data[\"drugName\"].value_counts()))\n",
    "\n",
    "data.tail()"
   ]
  },
  {
   "cell_type": "code",
   "execution_count": null,
   "metadata": {},
   "outputs": [],
   "source": [
    "data = data.dropna()\n",
    "data.isnull().sum()"
   ]
  },
  {
   "cell_type": "code",
   "execution_count": null,
   "metadata": {},
   "outputs": [],
   "source": [
    "data[\"review\"][4]"
   ]
  },
  {
   "cell_type": "markdown",
   "metadata": {},
   "source": [
    "## Preprocessing"
   ]
  },
  {
   "cell_type": "code",
   "execution_count": null,
   "metadata": {},
   "outputs": [],
   "source": [
    "### define preprocessing utlities function\n",
    "\n",
    "def utils_preprocess_text(text, flg_stemm=False, flg_lemm=True, lst_stopwords=None):\n",
    "    ## clean (convert to lowercase and remove punctuations and characters and then strip)\n",
    "    text = re.sub(r'[^\\w\\s]', '', str(text).lower().strip())\n",
    "            \n",
    "    ## Tokenize (convert from string to list)\n",
    "    lst_text = text.split()    ## remove Stopwords\n",
    "    if lst_stopwords is not None:\n",
    "        lst_text = [word for word in lst_text if word not in \n",
    "                    lst_stopwords]\n",
    "                \n",
    "    ## Stemming (remove -ing, -ly, ...)\n",
    "    if flg_stemm == True:\n",
    "        ps = nltk.stem.porter.PorterStemmer()\n",
    "        lst_text = [ps.stem(word) for word in lst_text]\n",
    "                \n",
    "    ## Lemmatisation (convert the word into root word)\n",
    "    if flg_lemm == True:\n",
    "        lem = nltk.stem.wordnet.WordNetLemmatizer()\n",
    "        lst_text = [lem.lemmatize(word) for word in lst_text]\n",
    "            \n",
    "    ## back to string from list\n",
    "    text = \" \".join(lst_text)\n",
    "    return text"
   ]
  },
  {
   "cell_type": "code",
   "execution_count": null,
   "metadata": {},
   "outputs": [],
   "source": [
    "### download stopwords\n",
    "\n",
    "lst_stopwords = nltk.corpus.stopwords.words(\"english\")"
   ]
  },
  {
   "cell_type": "code",
   "execution_count": null,
   "metadata": {
    "scrolled": true
   },
   "outputs": [],
   "source": [
    "### creat cleaned text column\n",
    "\n",
    "data[\"review_clean\"] = data[\"review\"].apply(lambda x: \n",
    "          utils_preprocess_text(x, flg_stemm=False, flg_lemm=True, \n",
    "          lst_stopwords=lst_stopwords))\n",
    "\n",
    "data.tail()"
   ]
  },
  {
   "cell_type": "code",
   "execution_count": null,
   "metadata": {},
   "outputs": [],
   "source": [
    "data[\"sideEffect\"] = data[\"sideEffect\"].astype(int)\n",
    "data[\"sideEffect\"]"
   ]
  },
  {
   "cell_type": "markdown",
   "metadata": {},
   "source": []
  },
  {
   "cell_type": "markdown",
   "metadata": {},
   "source": [
    "\n",
    "## Word 2 Vec - word embedding"
   ]
  },
  {
   "cell_type": "markdown",
   "metadata": {},
   "source": [
    "### tranform into list of n-grams"
   ]
  },
  {
   "cell_type": "code",
   "execution_count": null,
   "metadata": {},
   "outputs": [],
   "source": [
    "corpus = data[\"review_clean\"]\n",
    "\n",
    "## create list of lists of unigrams\n",
    "lst_corpus = []\n",
    "for string in corpus:\n",
    "   lst_words = string.split()\n",
    "   lst_grams = [\" \".join(lst_words[i:i+1]) \n",
    "               for i in range(0, len(lst_words), 1)]\n",
    "   lst_corpus.append(lst_grams)\n",
    "\n",
    "## detect bigrams and trigrams\n",
    "bigrams_detector = gensim.models.phrases.Phrases(lst_corpus, \n",
    "                 delimiter=\" \".encode(), min_count=5, threshold=10)\n",
    "bigrams_detector = gensim.models.phrases.Phraser(bigrams_detector)\n",
    "\n",
    "trigrams_detector = gensim.models.phrases.Phrases(bigrams_detector[lst_corpus], \n",
    "                              delimiter=\" \".encode(), min_count=5, threshold=10)\n",
    "trigrams_detector = gensim.models.phrases.Phraser(trigrams_detector)"
   ]
  },
  {
   "cell_type": "code",
   "execution_count": null,
   "metadata": {},
   "outputs": [],
   "source": [
    "### read in and x_train y_train\n",
    "x_train = data[[\"review_clean\"]]\n",
    "y_train = data[\"sideEffect\"]\n"
   ]
  },
  {
   "cell_type": "code",
   "execution_count": null,
   "metadata": {},
   "outputs": [],
   "source": [
    "## fit w2v\n",
    "nlp = gensim.models.word2vec.Word2Vec(lst_corpus, size=300,   \n",
    "            window=8, min_count=1, sg=1, iter=30)"
   ]
  },
  {
   "cell_type": "code",
   "execution_count": null,
   "metadata": {},
   "outputs": [],
   "source": [
    "word = \"nausea\"\n",
    "nlp[word].shape"
   ]
  },
  {
   "cell_type": "code",
   "execution_count": null,
   "metadata": {},
   "outputs": [],
   "source": [
    "### visual word in x dimensional space\n",
    "\n",
    "word = \"fatigue\"\n",
    "fig = plt.figure()\n",
    "\n",
    "## word embedding\n",
    "tot_words = [word] + [tupla[0] for tupla in \n",
    "                 nlp.most_similar(word, topn=20)]\n",
    "X = nlp[tot_words]\n",
    "\n",
    "## pca to reduce dimensionality from 300 to 3\n",
    "pca = manifold.TSNE(perplexity=40, n_components=3, init='pca')\n",
    "X = pca.fit_transform(X)\n",
    "\n",
    "## create dtf\n",
    "dtf_ = pd.DataFrame(X, index=tot_words, columns=[\"x\",\"y\",\"z\"])\n",
    "dtf_[\"input\"] = 0\n",
    "dtf_[\"input\"].iloc[0:1] = 1\n",
    "\n",
    "## plot 3d\n",
    "from mpl_toolkits.mplot3d import Axes3D\n",
    "ax = fig.add_subplot(111, projection='3d')\n",
    "ax.scatter(dtf_[dtf_[\"input\"]==0]['x'], \n",
    "           dtf_[dtf_[\"input\"]==0]['y'], \n",
    "           dtf_[dtf_[\"input\"]==0]['z'], c=\"black\")\n",
    "ax.scatter(dtf_[dtf_[\"input\"]==1]['x'], \n",
    "           dtf_[dtf_[\"input\"]==1]['y'], \n",
    "           dtf_[dtf_[\"input\"]==1]['z'], c=\"red\")\n",
    "ax.set(xlabel=None, ylabel=None, zlabel=None, xticklabels=[], \n",
    "       yticklabels=[], zticklabels=[])\n",
    "for label, row in dtf_[[\"x\",\"y\",\"z\"]].iterrows():\n",
    "    x, y, z = row\n",
    "    ax.text(x, y, z, s=label)"
   ]
  },
  {
   "cell_type": "markdown",
   "metadata": {},
   "source": [
    "### tokenize and pad text"
   ]
  },
  {
   "cell_type": "code",
   "execution_count": null,
   "metadata": {},
   "outputs": [],
   "source": [
    "## tokenize text\n",
    "tokenizer = kprocessing.text.Tokenizer(lower=True, split=' ', \n",
    "                     oov_token=\"NaN\", \n",
    "                     filters='!\"#$%&()*+,-./:;<=>?@[\\\\]^_`{|}~\\t\\n')\n",
    "tokenizer.fit_on_texts(lst_corpus)\n",
    "dic_vocabulary = tokenizer.word_index\n",
    "\n",
    "## create sequence\n",
    "lst_text2seq= tokenizer.texts_to_sequences(lst_corpus)\n",
    "\n",
    "## padding sequence\n",
    "X_train = kprocessing.sequence.pad_sequences(lst_text2seq, \n",
    "                    maxlen=15, padding=\"post\", truncating=\"post\")"
   ]
  },
  {
   "cell_type": "code",
   "execution_count": null,
   "metadata": {},
   "outputs": [],
   "source": [
    "X_train"
   ]
  },
  {
   "cell_type": "code",
   "execution_count": null,
   "metadata": {},
   "outputs": [],
   "source": [
    "### feature matrix\n",
    "\n",
    "sns.heatmap(X_train==0, vmin=0, vmax=1, cbar=False)\n",
    "plt.show()"
   ]
  },
  {
   "cell_type": "code",
   "execution_count": null,
   "metadata": {},
   "outputs": [],
   "source": [
    "i = 0\n",
    "\n",
    "## list of text: [\"I like this\", ...]\n",
    "len_txt = len(data[\"review_clean\"].iloc[i].split())\n",
    "print(\"from: \", data[\"review_clean\"].iloc[i], \"| len:\", len_txt)\n",
    "\n",
    "## sequence of token ids: [[1, 2, 3], ...]\n",
    "len_tokens = len(X_train[i])\n",
    "print(\"to: \", X_train[i], \"| len:\", len(X_train[i]))\n",
    "\n",
    "## vocabulary: {\"I\":1, \"like\":2, \"this\":3, ...}\n",
    "print(\"check: \", data[\"review_clean\"].iloc[i].split()[0], \n",
    "      \" -- idx in vocabulary -->\", \n",
    "      dic_vocabulary[data[\"review_clean\"].iloc[i].split()[0]])\n",
    "\n",
    "print(\"vocabulary: \", dict(list(dic_vocabulary.items())[0:5]), \"... (padding element, 0)\")"
   ]
  },
  {
   "cell_type": "markdown",
   "metadata": {},
   "source": [
    "### create matrix of embeddings"
   ]
  },
  {
   "cell_type": "code",
   "execution_count": null,
   "metadata": {},
   "outputs": [],
   "source": [
    "## start the matrix (length of vocabulary x vector size) with all 0s\n",
    "embeddings = np.zeros((len(dic_vocabulary)+1, 300))\n",
    "for word,idx in dic_vocabulary.items():\n",
    "    ## update the row with vector\n",
    "    try:\n",
    "        embeddings[idx] =  nlp[word]\n",
    "    ## if word not in model then skip and the row stays all 0s\n",
    "    except:\n",
    "        pass"
   ]
  },
  {
   "cell_type": "code",
   "execution_count": null,
   "metadata": {},
   "outputs": [],
   "source": [
    "word = \"nausea\"\n",
    "print(\"dic[word]:\", dic_vocabulary[word], \"|idx\")\n",
    "print(\"embeddings[idx]:\", embeddings[dic_vocabulary[word]].shape, \n",
    "      \"|vector\")"
   ]
  },
  {
   "cell_type": "markdown",
   "metadata": {},
   "source": [
    "## Build a bidirectional LSTM"
   ]
  },
  {
   "cell_type": "code",
   "execution_count": null,
   "metadata": {},
   "outputs": [],
   "source": [
    "## code attention layer\n",
    "def attention_layer(inputs, neurons):\n",
    "    x = layers.Permute((2,1))(inputs)\n",
    "    x = layers.Dense(neurons, activation=\"softmax\")(x)\n",
    "    x = layers.Permute((2,1), name=\"attention\")(x)\n",
    "    x = layers.multiply([inputs, x])\n",
    "    return x\n",
    "\n",
    "## input\n",
    "x_in = layers.Input(shape=(15,))## embedding\n",
    "x = layers.Embedding(input_dim=embeddings.shape[0],  \n",
    "                     output_dim=embeddings.shape[1], \n",
    "                     weights=[embeddings],\n",
    "                     input_length=15, trainable=False)(x_in)## apply attention\n",
    "\n",
    "x = attention_layer(x, neurons=15)## 2 layers of bidirectional lstm\n",
    "x = layers.Bidirectional(layers.LSTM(units=15, dropout=0.2, \n",
    "                         return_sequences=True))(x)\n",
    "\n",
    "x = layers.Bidirectional(layers.LSTM(units=15, dropout=0.2))(x)## final dense layers\n",
    "x = layers.Dense(64, activation='relu')(x)\n",
    "\n",
    "y_out = layers.Dense(2, activation='softmax')(x)## compile\n",
    "\n",
    "model = models.Model(x_in, y_out)\n",
    "model.compile(loss='sparse_categorical_crossentropy',\n",
    "              optimizer='adam', metrics=['accuracy'])\n",
    "\n",
    "model.summary()"
   ]
  },
  {
   "cell_type": "code",
   "execution_count": null,
   "metadata": {},
   "outputs": [],
   "source": []
  },
  {
   "cell_type": "code",
   "execution_count": null,
   "metadata": {},
   "outputs": [],
   "source": [
    "## encode y\n",
    "dic_y_mapping = {n:label for n,label in enumerate(np.unique(y_train))}\n",
    "inverse_dic = {v:k for k,v in dic_y_mapping.items()}\n",
    "y_train = np.array([inverse_dic[y] for y in y_train])\n",
    "\n",
    "## train\n",
    "\n",
    "training = model.fit(x=X_train, y=y_train, batch_size=256, \n",
    "                     epochs=10, shuffle=True, verbose=0, \n",
    "                     validation_split=0.3)"
   ]
  },
  {
   "cell_type": "code",
   "execution_count": null,
   "metadata": {
    "scrolled": true
   },
   "outputs": [],
   "source": [
    "## plot loss and accuracy\n",
    "metrics = [k for k in training.history.keys() if (\"loss\" not in k) and (\"val\" not in k)]\n",
    "fig, ax = plt.subplots(nrows=1, ncols=2, sharey=True)\n",
    "ax[0].set(title=\"Training\")\n",
    "ax11 = ax[0].twinx()\n",
    "\n",
    "ax[0].plot(training.history['loss'], color='black')\n",
    "ax[0].set_xlabel('Epochs')\n",
    "ax[0].set_ylabel('Loss', color='black')\n",
    "for metric in metrics:\n",
    "    ax11.plot(training.history[metric], label=metric)\n",
    "ax11.set_ylabel(\"Score\", color='steelblue')\n",
    "ax11.legend()\n",
    "\n",
    "ax[1].set(title=\"Validation\")\n",
    "ax22 = ax[1].twinx()\n",
    "ax[1].plot(training.history['val_loss'], color='black')\n",
    "ax[1].set_xlabel('Epochs')\n",
    "ax[1].set_ylabel('Loss', color='black')\n",
    "for metric in metrics:\n",
    "     ax22.plot(training.history['val_'+metric], label=metric)\n",
    "ax22.set_ylabel(\"Score\", color=\"steelblue\")\n",
    "\n",
    "plt.show()"
   ]
  },
  {
   "cell_type": "code",
   "execution_count": null,
   "metadata": {},
   "outputs": [],
   "source": [
    "## test\n",
    "predicted_prob = model.predict(X_test)\n",
    "predicted = [dic_y_mapping[np.argmax(pred)] for pred in \n",
    "             predicted_prob]"
   ]
  },
  {
   "cell_type": "markdown",
   "metadata": {},
   "source": [
    "# Word 2 vec with ratings as y_train"
   ]
  },
  {
   "cell_type": "code",
   "execution_count": 30,
   "metadata": {},
   "outputs": [
    {
     "data": {
      "text/html": [
       "<div>\n",
       "<style scoped>\n",
       "    .dataframe tbody tr th:only-of-type {\n",
       "        vertical-align: middle;\n",
       "    }\n",
       "\n",
       "    .dataframe tbody tr th {\n",
       "        vertical-align: top;\n",
       "    }\n",
       "\n",
       "    .dataframe thead th {\n",
       "        text-align: right;\n",
       "    }\n",
       "</style>\n",
       "<table border=\"1\" class=\"dataframe\">\n",
       "  <thead>\n",
       "    <tr style=\"text-align: right;\">\n",
       "      <th></th>\n",
       "      <th>drugName</th>\n",
       "      <th>condition</th>\n",
       "      <th>review</th>\n",
       "      <th>rating</th>\n",
       "      <th>rating_b</th>\n",
       "    </tr>\n",
       "  </thead>\n",
       "  <tbody>\n",
       "    <tr>\n",
       "      <th>161292</th>\n",
       "      <td>ella</td>\n",
       "      <td>Emergency Contraception</td>\n",
       "      <td>\"Had a small accident early hours of 18th June...</td>\n",
       "      <td>8</td>\n",
       "      <td>1</td>\n",
       "    </tr>\n",
       "    <tr>\n",
       "      <th>161293</th>\n",
       "      <td>ella</td>\n",
       "      <td>Emergency Contraception</td>\n",
       "      <td>\"So I took Ellaone when I wasn&amp;rsquo;t quite s...</td>\n",
       "      <td>4</td>\n",
       "      <td>0</td>\n",
       "    </tr>\n",
       "    <tr>\n",
       "      <th>161294</th>\n",
       "      <td>femhrt</td>\n",
       "      <td>0&lt;/span&gt; users found this comment helpful.</td>\n",
       "      <td>\"I was on femHRT for four months and had BV (b...</td>\n",
       "      <td>1</td>\n",
       "      <td>0</td>\n",
       "    </tr>\n",
       "    <tr>\n",
       "      <th>161295</th>\n",
       "      <td>femhrt</td>\n",
       "      <td>Acne</td>\n",
       "      <td>\"Recently switched from birth conrtol which ke...</td>\n",
       "      <td>1</td>\n",
       "      <td>0</td>\n",
       "    </tr>\n",
       "    <tr>\n",
       "      <th>161296</th>\n",
       "      <td>femhrt</td>\n",
       "      <td>Postmenopausal Symptoms</td>\n",
       "      <td>\"This medication completely changed my life fo...</td>\n",
       "      <td>10</td>\n",
       "      <td>1</td>\n",
       "    </tr>\n",
       "  </tbody>\n",
       "</table>\n",
       "</div>"
      ],
      "text/plain": [
       "       drugName                                   condition  \\\n",
       "161292     ella                     Emergency Contraception   \n",
       "161293     ella                     Emergency Contraception   \n",
       "161294   femhrt  0</span> users found this comment helpful.   \n",
       "161295   femhrt                                        Acne   \n",
       "161296   femhrt                     Postmenopausal Symptoms   \n",
       "\n",
       "                                                   review  rating  rating_b  \n",
       "161292  \"Had a small accident early hours of 18th June...       8         1  \n",
       "161293  \"So I took Ellaone when I wasn&rsquo;t quite s...       4         0  \n",
       "161294  \"I was on femHRT for four months and had BV (b...       1         0  \n",
       "161295  \"Recently switched from birth conrtol which ke...       1         0  \n",
       "161296  \"This medication completely changed my life fo...      10         1  "
      ]
     },
     "execution_count": 30,
     "metadata": {},
     "output_type": "execute_result"
    }
   ],
   "source": [
    "### load labeled data\n",
    "\n",
    "data = pd.read_csv('../raw_data/drugsComTrain_raw.csv')\n",
    "\n",
    "#data = data[data['rating'] < 5]\n",
    "data = data.reset_index(drop = True)\n",
    "data = data.sort_values(by=['drugName'])\n",
    "data = data.reset_index(drop = True)\n",
    "data = data.drop([\"uniqueID\", \"date\", \"usefulCount\"], axis = 1)\n",
    "\n",
    "data[\"rating_b\"] = np.where(data['rating']>=5, 1, 0)\n",
    "# print(pd.DataFrame(data[\"drugName\"].value_counts()))\n",
    "\n",
    "data.tail()"
   ]
  },
  {
   "cell_type": "code",
   "execution_count": 31,
   "metadata": {},
   "outputs": [
    {
     "data": {
      "text/plain": [
       "drugName       0\n",
       "condition    899\n",
       "review         0\n",
       "rating         0\n",
       "rating_b       0\n",
       "dtype: int64"
      ]
     },
     "execution_count": 31,
     "metadata": {},
     "output_type": "execute_result"
    }
   ],
   "source": [
    "#data = data.dropna()\n",
    "data.isnull().sum()"
   ]
  },
  {
   "cell_type": "markdown",
   "metadata": {},
   "source": [
    "## define functions"
   ]
  },
  {
   "cell_type": "code",
   "execution_count": 32,
   "metadata": {},
   "outputs": [],
   "source": [
    "### define preprocessing utlities function\n",
    "\n",
    "def utils_preprocess_text(text, flg_stemm=False, flg_lemm=True, lst_stopwords=None):\n",
    "    ## clean (convert to lowercase and remove punctuations and characters and then strip)\n",
    "    text = re.sub(r'[^\\w\\s]', '', str(text).lower().strip())\n",
    "            \n",
    "    ## Tokenize (convert from string to list)\n",
    "    lst_text = text.split()    ## remove Stopwords\n",
    "    if lst_stopwords is not None:\n",
    "        lst_text = [word for word in lst_text if word not in \n",
    "                    lst_stopwords]\n",
    "                \n",
    "    ## Stemming (remove -ing, -ly, ...)\n",
    "    if flg_stemm == True:\n",
    "        ps = nltk.stem.porter.PorterStemmer()\n",
    "        lst_text = [ps.stem(word) for word in lst_text]\n",
    "                \n",
    "    ## Lemmatisation (convert the word into root word)\n",
    "    if flg_lemm == True:\n",
    "        lem = nltk.stem.wordnet.WordNetLemmatizer()\n",
    "        lst_text = [lem.lemmatize(word) for word in lst_text]\n",
    "            \n",
    "    ## back to string from list\n",
    "    text = \" \".join(lst_text)\n",
    "    return text"
   ]
  },
  {
   "cell_type": "code",
   "execution_count": 5,
   "metadata": {},
   "outputs": [],
   "source": [
    "lst_stopwords = nltk.corpus.stopwords.words(\"english\")"
   ]
  },
  {
   "cell_type": "code",
   "execution_count": 33,
   "metadata": {},
   "outputs": [
    {
     "data": {
      "text/html": [
       "<div>\n",
       "<style scoped>\n",
       "    .dataframe tbody tr th:only-of-type {\n",
       "        vertical-align: middle;\n",
       "    }\n",
       "\n",
       "    .dataframe tbody tr th {\n",
       "        vertical-align: top;\n",
       "    }\n",
       "\n",
       "    .dataframe thead th {\n",
       "        text-align: right;\n",
       "    }\n",
       "</style>\n",
       "<table border=\"1\" class=\"dataframe\">\n",
       "  <thead>\n",
       "    <tr style=\"text-align: right;\">\n",
       "      <th></th>\n",
       "      <th>drugName</th>\n",
       "      <th>condition</th>\n",
       "      <th>review</th>\n",
       "      <th>rating</th>\n",
       "      <th>rating_b</th>\n",
       "      <th>review_clean</th>\n",
       "    </tr>\n",
       "  </thead>\n",
       "  <tbody>\n",
       "    <tr>\n",
       "      <th>161292</th>\n",
       "      <td>ella</td>\n",
       "      <td>Emergency Contraception</td>\n",
       "      <td>\"Had a small accident early hours of 18th June...</td>\n",
       "      <td>8</td>\n",
       "      <td>1</td>\n",
       "      <td>small accident early hour 18th june took ella ...</td>\n",
       "    </tr>\n",
       "    <tr>\n",
       "      <th>161293</th>\n",
       "      <td>ella</td>\n",
       "      <td>Emergency Contraception</td>\n",
       "      <td>\"So I took Ellaone when I wasn&amp;rsquo;t quite s...</td>\n",
       "      <td>4</td>\n",
       "      <td>0</td>\n",
       "      <td>took ellaone wasnrsquot quite sure done ovulat...</td>\n",
       "    </tr>\n",
       "    <tr>\n",
       "      <th>161294</th>\n",
       "      <td>femhrt</td>\n",
       "      <td>0&lt;/span&gt; users found this comment helpful.</td>\n",
       "      <td>\"I was on femHRT for four months and had BV (b...</td>\n",
       "      <td>1</td>\n",
       "      <td>0</td>\n",
       "      <td>femhrt four month bv bacterial vaginitis four ...</td>\n",
       "    </tr>\n",
       "    <tr>\n",
       "      <th>161295</th>\n",
       "      <td>femhrt</td>\n",
       "      <td>Acne</td>\n",
       "      <td>\"Recently switched from birth conrtol which ke...</td>\n",
       "      <td>1</td>\n",
       "      <td>0</td>\n",
       "      <td>recently switched birth conrtol kept skin shap...</td>\n",
       "    </tr>\n",
       "    <tr>\n",
       "      <th>161296</th>\n",
       "      <td>femhrt</td>\n",
       "      <td>Postmenopausal Symptoms</td>\n",
       "      <td>\"This medication completely changed my life fo...</td>\n",
       "      <td>10</td>\n",
       "      <td>1</td>\n",
       "      <td>medication completely changed life better also...</td>\n",
       "    </tr>\n",
       "  </tbody>\n",
       "</table>\n",
       "</div>"
      ],
      "text/plain": [
       "       drugName                                   condition  \\\n",
       "161292     ella                     Emergency Contraception   \n",
       "161293     ella                     Emergency Contraception   \n",
       "161294   femhrt  0</span> users found this comment helpful.   \n",
       "161295   femhrt                                        Acne   \n",
       "161296   femhrt                     Postmenopausal Symptoms   \n",
       "\n",
       "                                                   review  rating  rating_b  \\\n",
       "161292  \"Had a small accident early hours of 18th June...       8         1   \n",
       "161293  \"So I took Ellaone when I wasn&rsquo;t quite s...       4         0   \n",
       "161294  \"I was on femHRT for four months and had BV (b...       1         0   \n",
       "161295  \"Recently switched from birth conrtol which ke...       1         0   \n",
       "161296  \"This medication completely changed my life fo...      10         1   \n",
       "\n",
       "                                             review_clean  \n",
       "161292  small accident early hour 18th june took ella ...  \n",
       "161293  took ellaone wasnrsquot quite sure done ovulat...  \n",
       "161294  femhrt four month bv bacterial vaginitis four ...  \n",
       "161295  recently switched birth conrtol kept skin shap...  \n",
       "161296  medication completely changed life better also...  "
      ]
     },
     "execution_count": 33,
     "metadata": {},
     "output_type": "execute_result"
    }
   ],
   "source": [
    "### creat cleaned text column\n",
    "\n",
    "data[\"review_clean\"] = data[\"review\"].apply(lambda x: \n",
    "          utils_preprocess_text(x, flg_stemm=False, flg_lemm=True, \n",
    "          lst_stopwords=lst_stopwords))\n",
    "\n",
    "data.tail()"
   ]
  },
  {
   "cell_type": "code",
   "execution_count": 34,
   "metadata": {},
   "outputs": [],
   "source": [
    "corpus = data[\"review_clean\"]\n",
    "\n",
    "## create list of lists of unigrams\n",
    "lst_corpus = []\n",
    "for string in corpus:\n",
    "   lst_words = string.split()\n",
    "   lst_grams = [\" \".join(lst_words[i:i+1]) \n",
    "               for i in range(0, len(lst_words), 1)]\n",
    "   lst_corpus.append(lst_grams)\n",
    "\n",
    "## detect bigrams and trigrams\n",
    "bigrams_detector = gensim.models.phrases.Phrases(lst_corpus, \n",
    "                 delimiter=\" \".encode(), min_count=5, threshold=10)\n",
    "bigrams_detector = gensim.models.phrases.Phraser(bigrams_detector)\n",
    "\n",
    "trigrams_detector = gensim.models.phrases.Phrases(bigrams_detector[lst_corpus], \n",
    "                              delimiter=\" \".encode(), min_count=5, threshold=10)\n",
    "trigrams_detector = gensim.models.phrases.Phraser(trigrams_detector)"
   ]
  },
  {
   "cell_type": "code",
   "execution_count": 35,
   "metadata": {},
   "outputs": [],
   "source": [
    "y_train = data[\"rating_b\"]"
   ]
  },
  {
   "cell_type": "code",
   "execution_count": 38,
   "metadata": {},
   "outputs": [],
   "source": [
    "nlp = gensim.models.word2vec.Word2Vec(lst_corpus, size=300,   \n",
    "            window=8, min_count=1, sg=1, iter=30)"
   ]
  },
  {
   "cell_type": "code",
   "execution_count": null,
   "metadata": {},
   "outputs": [],
   "source": []
  },
  {
   "cell_type": "code",
   "execution_count": 39,
   "metadata": {},
   "outputs": [
    {
     "name": "stderr",
     "output_type": "stream",
     "text": [
      "/home/jack/.pyenv/versions/3.7.7/envs/drug_adverse/lib/python3.7/site-packages/ipykernel_launcher.py:8: DeprecationWarning: Call to deprecated `most_similar` (Method will be removed in 4.0.0, use self.wv.most_similar() instead).\n",
      "  \n",
      "/home/jack/.pyenv/versions/3.7.7/envs/drug_adverse/lib/python3.7/site-packages/ipykernel_launcher.py:9: DeprecationWarning: Call to deprecated `__getitem__` (Method will be removed in 4.0.0, use self.wv.__getitem__() instead).\n",
      "  if __name__ == '__main__':\n",
      "/home/jack/.pyenv/versions/3.7.7/envs/drug_adverse/lib/python3.7/site-packages/pandas/core/indexing.py:670: SettingWithCopyWarning: \n",
      "A value is trying to be set on a copy of a slice from a DataFrame\n",
      "\n",
      "See the caveats in the documentation: https://pandas.pydata.org/pandas-docs/stable/user_guide/indexing.html#returning-a-view-versus-a-copy\n",
      "  iloc._setitem_with_indexer(indexer, value)\n"
     ]
    },
    {
     "data": {
      "image/png": "[encoded data removed]",
      "text/plain": [
       "<Figure size 432x288 with 1 Axes>"
      ]
     },
     "metadata": {
      "needs_background": "light"
     },
     "output_type": "display_data"
    }
   ],
   "source": [
    "### visual word in x dimensional space\n",
    "\n",
    "word = \"fatigue\"\n",
    "fig = plt.figure()\n",
    "\n",
    "## word embedding\n",
    "tot_words = [word] + [tupla[0] for tupla in \n",
    "                 nlp.most_similar(word, topn=20)]\n",
    "X = nlp[tot_words]\n",
    "\n",
    "## pca to reduce dimensionality from 300 to 3\n",
    "pca = manifold.TSNE(perplexity=40, n_components=3, init='pca')\n",
    "X = pca.fit_transform(X)\n",
    "\n",
    "## create dtf\n",
    "dtf_ = pd.DataFrame(X, index=tot_words, columns=[\"x\",\"y\",\"z\"])\n",
    "dtf_[\"input\"] = 0\n",
    "dtf_[\"input\"].iloc[0:1] = 1\n",
    "\n",
    "## plot 3d\n",
    "from mpl_toolkits.mplot3d import Axes3D\n",
    "ax = fig.add_subplot(111, projection='3d')\n",
    "ax.scatter(dtf_[dtf_[\"input\"]==0]['x'], \n",
    "           dtf_[dtf_[\"input\"]==0]['y'], \n",
    "           dtf_[dtf_[\"input\"]==0]['z'], c=\"black\")\n",
    "ax.scatter(dtf_[dtf_[\"input\"]==1]['x'], \n",
    "           dtf_[dtf_[\"input\"]==1]['y'], \n",
    "           dtf_[dtf_[\"input\"]==1]['z'], c=\"red\")\n",
    "ax.set(xlabel=None, ylabel=None, zlabel=None, xticklabels=[], \n",
    "       yticklabels=[], zticklabels=[])\n",
    "for label, row in dtf_[[\"x\",\"y\",\"z\"]].iterrows():\n",
    "    x, y, z = row\n",
    "    ax.text(x, y, z, s=label)"
   ]
  },
  {
   "cell_type": "markdown",
   "metadata": {},
   "source": [
    "### tokenize and pad text"
   ]
  },
  {
   "cell_type": "code",
   "execution_count": 40,
   "metadata": {},
   "outputs": [],
   "source": [
    "## tokenize text\n",
    "tokenizer = kprocessing.text.Tokenizer(lower=True, split=' ', \n",
    "                     oov_token=\"NaN\", \n",
    "                     filters='!\"#$%&()*+,-./:;<=>?@[\\\\]^_`{|}~\\t\\n')\n",
    "tokenizer.fit_on_texts(lst_corpus)\n",
    "dic_vocabulary = tokenizer.word_index\n",
    "\n",
    "## create sequence\n",
    "lst_text2seq= tokenizer.texts_to_sequences(lst_corpus)\n",
    "\n",
    "## padding sequence\n",
    "X_train = kprocessing.sequence.pad_sequences(lst_text2seq, \n",
    "                    maxlen=15, padding=\"post\", truncating=\"post\")"
   ]
  },
  {
   "cell_type": "code",
   "execution_count": 41,
   "metadata": {},
   "outputs": [
    {
     "data": {
      "image/png": "[encoded data removed]",
      "text/plain": [
       "<Figure size 432x288 with 1 Axes>"
      ]
     },
     "metadata": {
      "needs_background": "light"
     },
     "output_type": "display_data"
    }
   ],
   "source": [
    "### feature matrix\n",
    "\n",
    "sns.heatmap(X_train==0, vmin=0, vmax=1, cbar=False)\n",
    "plt.show()"
   ]
  },
  {
   "cell_type": "code",
   "execution_count": 42,
   "metadata": {},
   "outputs": [
    {
     "name": "stdout",
     "output_type": "stream",
     "text": [
      "from:  severe cracked skin hand i039ve tried many different product skin extremely sensitive product help heal skin sting greasy important using hand best product i039ve found condition hard find drugstore can039t even order anymore | len: 33\n",
      "to:  [  86 3787   96  342   13   64  131  156  247   96  216  661  247   50\n",
      " 1906] | len: 15\n",
      "check:  severe  -- idx in vocabulary --> 86\n",
      "vocabulary:  {'NaN': 1, 'day': 2, 'month': 3, 'year': 4, 'week': 5} ... (padding element, 0)\n"
     ]
    }
   ],
   "source": [
    "i = 0\n",
    "\n",
    "## list of text: [\"I like this\", ...]\n",
    "len_txt = len(data[\"review_clean\"].iloc[i].split())\n",
    "print(\"from: \", data[\"review_clean\"].iloc[i], \"| len:\", len_txt)\n",
    "\n",
    "## sequence of token ids: [[1, 2, 3], ...]\n",
    "len_tokens = len(X_train[i])\n",
    "print(\"to: \", X_train[i], \"| len:\", len(X_train[i]))\n",
    "\n",
    "## vocabulary: {\"I\":1, \"like\":2, \"this\":3, ...}\n",
    "print(\"check: \", data[\"review_clean\"].iloc[i].split()[0], \n",
    "      \" -- idx in vocabulary -->\", \n",
    "      dic_vocabulary[data[\"review_clean\"].iloc[i].split()[0]])\n",
    "\n",
    "print(\"vocabulary: \", dict(list(dic_vocabulary.items())[0:5]), \"... (padding element, 0)\")"
   ]
  },
  {
   "cell_type": "markdown",
   "metadata": {},
   "source": [
    "### create feature matrix for embeddings\n"
   ]
  },
  {
   "cell_type": "code",
   "execution_count": 43,
   "metadata": {},
   "outputs": [
    {
     "name": "stderr",
     "output_type": "stream",
     "text": [
      "/home/jack/.pyenv/versions/3.7.7/envs/drug_adverse/lib/python3.7/site-packages/ipykernel_launcher.py:6: DeprecationWarning: Call to deprecated `__getitem__` (Method will be removed in 4.0.0, use self.wv.__getitem__() instead).\n",
      "  \n"
     ]
    }
   ],
   "source": [
    "## start the matrix (length of vocabulary x vector size) with all 0s\n",
    "embeddings = np.zeros((len(dic_vocabulary)+1, 300))\n",
    "for word,idx in dic_vocabulary.items():\n",
    "    ## update the row with vector\n",
    "    try:\n",
    "        embeddings[idx] =  nlp[word]\n",
    "    ## if word not in model then skip and the row stays all 0s\n",
    "    except:\n",
    "        pass"
   ]
  },
  {
   "cell_type": "code",
   "execution_count": 44,
   "metadata": {},
   "outputs": [
    {
     "name": "stdout",
     "output_type": "stream",
     "text": [
      "dic[word]: 103 |idx\n",
      "embeddings[idx]: (300,) |vector\n"
     ]
    }
   ],
   "source": [
    "word = \"nausea\"\n",
    "print(\"dic[word]:\", dic_vocabulary[word], \"|idx\")\n",
    "print(\"embeddings[idx]:\", embeddings[dic_vocabulary[word]].shape, \n",
    "      \"|vector\")"
   ]
  },
  {
   "cell_type": "markdown",
   "metadata": {},
   "source": [
    "### same feature engineering for test data"
   ]
  },
  {
   "cell_type": "code",
   "execution_count": 45,
   "metadata": {},
   "outputs": [
    {
     "data": {
      "text/html": [
       "<div>\n",
       "<style scoped>\n",
       "    .dataframe tbody tr th:only-of-type {\n",
       "        vertical-align: middle;\n",
       "    }\n",
       "\n",
       "    .dataframe tbody tr th {\n",
       "        vertical-align: top;\n",
       "    }\n",
       "\n",
       "    .dataframe thead th {\n",
       "        text-align: right;\n",
       "    }\n",
       "</style>\n",
       "<table border=\"1\" class=\"dataframe\">\n",
       "  <thead>\n",
       "    <tr style=\"text-align: right;\">\n",
       "      <th></th>\n",
       "      <th>drugName</th>\n",
       "      <th>condition</th>\n",
       "      <th>review</th>\n",
       "      <th>rating</th>\n",
       "      <th>rating_b</th>\n",
       "    </tr>\n",
       "  </thead>\n",
       "  <tbody>\n",
       "    <tr>\n",
       "      <th>53761</th>\n",
       "      <td>ella</td>\n",
       "      <td>Emergency Contraception</td>\n",
       "      <td>\"I took Ella One approximately 8-9 hours after...</td>\n",
       "      <td>10</td>\n",
       "      <td>1</td>\n",
       "    </tr>\n",
       "    <tr>\n",
       "      <th>53762</th>\n",
       "      <td>femhrt</td>\n",
       "      <td>Menstrual Disorders</td>\n",
       "      <td>\"Hot flashes completely gone in less than 2 we...</td>\n",
       "      <td>10</td>\n",
       "      <td>1</td>\n",
       "    </tr>\n",
       "    <tr>\n",
       "      <th>53763</th>\n",
       "      <td>femhrt</td>\n",
       "      <td>Postmenopausal Symptoms</td>\n",
       "      <td>\"Femhrt worked wonderful.  Had to wait a coupl...</td>\n",
       "      <td>9</td>\n",
       "      <td>1</td>\n",
       "    </tr>\n",
       "    <tr>\n",
       "      <th>53764</th>\n",
       "      <td>femhrt</td>\n",
       "      <td>Acne</td>\n",
       "      <td>\"femhrt took away my hot flashes within a week...</td>\n",
       "      <td>8</td>\n",
       "      <td>1</td>\n",
       "    </tr>\n",
       "    <tr>\n",
       "      <th>53765</th>\n",
       "      <td>pHisoHex</td>\n",
       "      <td>Skin Disinfection, Preoperative</td>\n",
       "      <td>\"Before Phisohex could only be purchased by pr...</td>\n",
       "      <td>10</td>\n",
       "      <td>1</td>\n",
       "    </tr>\n",
       "  </tbody>\n",
       "</table>\n",
       "</div>"
      ],
      "text/plain": [
       "       drugName                        condition  \\\n",
       "53761      ella          Emergency Contraception   \n",
       "53762    femhrt              Menstrual Disorders   \n",
       "53763    femhrt          Postmenopausal Symptoms   \n",
       "53764    femhrt                             Acne   \n",
       "53765  pHisoHex  Skin Disinfection, Preoperative   \n",
       "\n",
       "                                                  review  rating  rating_b  \n",
       "53761  \"I took Ella One approximately 8-9 hours after...      10         1  \n",
       "53762  \"Hot flashes completely gone in less than 2 we...      10         1  \n",
       "53763  \"Femhrt worked wonderful.  Had to wait a coupl...       9         1  \n",
       "53764  \"femhrt took away my hot flashes within a week...       8         1  \n",
       "53765  \"Before Phisohex could only be purchased by pr...      10         1  "
      ]
     },
     "execution_count": 45,
     "metadata": {},
     "output_type": "execute_result"
    }
   ],
   "source": [
    "## read in test data\n",
    "\n",
    "data_test = pd.read_csv('../raw_data/drugsComTest_raw.csv')\n",
    "\n",
    "#data = data[data['rating'] < 5]\n",
    "data_test = data_test.reset_index(drop = True)\n",
    "data_test = data_test.sort_values(by=['drugName'])\n",
    "data_test = data_test.reset_index(drop = True)\n",
    "data_test = data_test.drop([\"uniqueID\", \"date\", \"usefulCount\"], axis = 1)\n",
    "data_test[\"rating_b\"] = np.where(data_test['rating']>=5, 1, 0)\n",
    "\n",
    "# print(pd.DataFrame(data[\"drugName\"].value_counts()))\n",
    "\n",
    "data_test.tail()\n",
    "\n"
   ]
  },
  {
   "cell_type": "code",
   "execution_count": 46,
   "metadata": {},
   "outputs": [
    {
     "data": {
      "text/html": [
       "<div>\n",
       "<style scoped>\n",
       "    .dataframe tbody tr th:only-of-type {\n",
       "        vertical-align: middle;\n",
       "    }\n",
       "\n",
       "    .dataframe tbody tr th {\n",
       "        vertical-align: top;\n",
       "    }\n",
       "\n",
       "    .dataframe thead th {\n",
       "        text-align: right;\n",
       "    }\n",
       "</style>\n",
       "<table border=\"1\" class=\"dataframe\">\n",
       "  <thead>\n",
       "    <tr style=\"text-align: right;\">\n",
       "      <th></th>\n",
       "      <th>drugName</th>\n",
       "      <th>condition</th>\n",
       "      <th>review</th>\n",
       "      <th>rating</th>\n",
       "      <th>rating_b</th>\n",
       "      <th>review_clean</th>\n",
       "    </tr>\n",
       "  </thead>\n",
       "  <tbody>\n",
       "    <tr>\n",
       "      <th>53761</th>\n",
       "      <td>ella</td>\n",
       "      <td>Emergency Contraception</td>\n",
       "      <td>\"I took Ella One approximately 8-9 hours after...</td>\n",
       "      <td>10</td>\n",
       "      <td>1</td>\n",
       "      <td>took ella one approximately 89 hour unprotecte...</td>\n",
       "    </tr>\n",
       "    <tr>\n",
       "      <th>53762</th>\n",
       "      <td>femhrt</td>\n",
       "      <td>Menstrual Disorders</td>\n",
       "      <td>\"Hot flashes completely gone in less than 2 we...</td>\n",
       "      <td>10</td>\n",
       "      <td>1</td>\n",
       "      <td>hot flash completely gone le 2 week work great</td>\n",
       "    </tr>\n",
       "    <tr>\n",
       "      <th>53763</th>\n",
       "      <td>femhrt</td>\n",
       "      <td>Postmenopausal Symptoms</td>\n",
       "      <td>\"Femhrt worked wonderful.  Had to wait a coupl...</td>\n",
       "      <td>9</td>\n",
       "      <td>1</td>\n",
       "      <td>femhrt worked wonderful wait couple month full...</td>\n",
       "    </tr>\n",
       "    <tr>\n",
       "      <th>53764</th>\n",
       "      <td>femhrt</td>\n",
       "      <td>Acne</td>\n",
       "      <td>\"femhrt took away my hot flashes within a week...</td>\n",
       "      <td>8</td>\n",
       "      <td>1</td>\n",
       "      <td>femhrt took away hot flash within week acne un...</td>\n",
       "    </tr>\n",
       "    <tr>\n",
       "      <th>53765</th>\n",
       "      <td>pHisoHex</td>\n",
       "      <td>Skin Disinfection, Preoperative</td>\n",
       "      <td>\"Before Phisohex could only be purchased by pr...</td>\n",
       "      <td>10</td>\n",
       "      <td>1</td>\n",
       "      <td>phisohex could purchased prescription used reg...</td>\n",
       "    </tr>\n",
       "  </tbody>\n",
       "</table>\n",
       "</div>"
      ],
      "text/plain": [
       "       drugName                        condition  \\\n",
       "53761      ella          Emergency Contraception   \n",
       "53762    femhrt              Menstrual Disorders   \n",
       "53763    femhrt          Postmenopausal Symptoms   \n",
       "53764    femhrt                             Acne   \n",
       "53765  pHisoHex  Skin Disinfection, Preoperative   \n",
       "\n",
       "                                                  review  rating  rating_b  \\\n",
       "53761  \"I took Ella One approximately 8-9 hours after...      10         1   \n",
       "53762  \"Hot flashes completely gone in less than 2 we...      10         1   \n",
       "53763  \"Femhrt worked wonderful.  Had to wait a coupl...       9         1   \n",
       "53764  \"femhrt took away my hot flashes within a week...       8         1   \n",
       "53765  \"Before Phisohex could only be purchased by pr...      10         1   \n",
       "\n",
       "                                            review_clean  \n",
       "53761  took ella one approximately 89 hour unprotecte...  \n",
       "53762     hot flash completely gone le 2 week work great  \n",
       "53763  femhrt worked wonderful wait couple month full...  \n",
       "53764  femhrt took away hot flash within week acne un...  \n",
       "53765  phisohex could purchased prescription used reg...  "
      ]
     },
     "execution_count": 46,
     "metadata": {},
     "output_type": "execute_result"
    }
   ],
   "source": [
    "### creat cleaned text column\n",
    "\n",
    "data_test[\"review_clean\"] = data_test[\"review\"].apply(lambda x: \n",
    "          utils_preprocess_text(x, flg_stemm=False, flg_lemm=True, \n",
    "          lst_stopwords=lst_stopwords))\n",
    "\n",
    "y_test = data_test[\"rating_b\"]\n",
    "\n",
    "data_test.tail()"
   ]
  },
  {
   "cell_type": "code",
   "execution_count": 47,
   "metadata": {},
   "outputs": [],
   "source": [
    "corpus = data_test[\"review_clean\"]\n",
    "\n",
    "## create list of n-grams\n",
    "lst_corpus = []\n",
    "for string in corpus:\n",
    "    lst_words = string.split()\n",
    "    lst_grams = [\" \".join(lst_words[i:i+1]) for i in range(0, \n",
    "                 len(lst_words), 1)]\n",
    "    lst_corpus.append(lst_grams)\n",
    "\n",
    "## detect common bigrams and trigrams using the fitted detectors\n",
    "lst_corpus = list(bigrams_detector[lst_corpus])\n",
    "lst_corpus = list(trigrams_detector[lst_corpus])\n",
    "\n",
    "## text to sequence with the fitted tokenizer\n",
    "lst_text2seq = tokenizer.texts_to_sequences(lst_corpus)\n",
    "\n",
    "## padding sequence\n",
    "X_test = kprocessing.sequence.pad_sequences(lst_text2seq, maxlen=15,\n",
    "             padding=\"post\", truncating=\"post\")"
   ]
  },
  {
   "cell_type": "markdown",
   "metadata": {},
   "source": [
    "## run birdirectional LTSM"
   ]
  },
  {
   "cell_type": "code",
   "execution_count": 70,
   "metadata": {},
   "outputs": [
    {
     "name": "stdout",
     "output_type": "stream",
     "text": [
      "Model: \"functional_27\"\n",
      "__________________________________________________________________________________________________\n",
      "Layer (type)                    Output Shape         Param #     Connected to                     \n",
      "==================================================================================================\n",
      "input_7 (InputLayer)            [(None, 15)]         0                                            \n",
      "__________________________________________________________________________________________________\n",
      "embedding_6 (Embedding)         (None, 15, 300)      23547300    input_7[0][0]                    \n",
      "__________________________________________________________________________________________________\n",
      "permute_6 (Permute)             (None, 300, 15)      0           embedding_6[0][0]                \n",
      "__________________________________________________________________________________________________\n",
      "dense_18 (Dense)                (None, 300, 15)      240         permute_6[0][0]                  \n",
      "__________________________________________________________________________________________________\n",
      "attention (Permute)             (None, 15, 300)      0           dense_18[0][0]                   \n",
      "__________________________________________________________________________________________________\n",
      "multiply_6 (Multiply)           (None, 15, 300)      0           embedding_6[0][0]                \n",
      "                                                                 attention[0][0]                  \n",
      "__________________________________________________________________________________________________\n",
      "bidirectional_12 (Bidirectional (None, 15, 30)       37920       multiply_6[0][0]                 \n",
      "__________________________________________________________________________________________________\n",
      "bidirectional_13 (Bidirectional (None, 30)           5520        bidirectional_12[0][0]           \n",
      "__________________________________________________________________________________________________\n",
      "dense_19 (Dense)                (None, 64)           1984        bidirectional_13[0][0]           \n",
      "__________________________________________________________________________________________________\n",
      "dense_20 (Dense)                (None, 1)            65          dense_19[0][0]                   \n",
      "==================================================================================================\n",
      "Total params: 23,593,029\n",
      "Trainable params: 45,729\n",
      "Non-trainable params: 23,547,300\n",
      "__________________________________________________________________________________________________\n"
     ]
    }
   ],
   "source": [
    "## code attention layer\n",
    "def attention_layer(inputs, neurons):\n",
    "    x = layers.Permute((2,1))(inputs)\n",
    "    x = layers.Dense(neurons, activation=\"softmax\")(x)\n",
    "    x = layers.Permute((2,1), name=\"attention\")(x)\n",
    "    x = layers.multiply([inputs, x])\n",
    "    return x\n",
    "\n",
    "## input\n",
    "x_in = layers.Input(shape=(15,))\n",
    "\n",
    "## embedding\n",
    "x = layers.Embedding(input_dim=embeddings.shape[0],  \n",
    "                     output_dim=embeddings.shape[1], \n",
    "                     weights=[embeddings],\n",
    "                     input_length=15, trainable=False)(x_in)\n",
    "\n",
    "## apply attention\n",
    "x = attention_layer(x, neurons=15)\n",
    "\n",
    "## 2 layers of bidirectional lstm\n",
    "x = layers.Bidirectional(layers.LSTM(units=15, dropout=0.2, \n",
    "                         return_sequences=True))(x)\n",
    "x = layers.Bidirectional(layers.LSTM(units=15, dropout=0.2))(x)\n",
    "\n",
    "## final dense layers\n",
    "x = layers.Dense(64, activation='relu')(x)\n",
    "y_out = layers.Dense(1, activation='sigmoid')(x)\n",
    "\n",
    "## compile\n",
    "model = models.Model(x_in, y_out)\n",
    "model.compile(loss='binary_crossentropy',\n",
    "              optimizer='adam', metrics=['accuracy'])\n",
    "\n",
    "model.summary()"
   ]
  },
  {
   "cell_type": "code",
   "execution_count": 71,
   "metadata": {
    "scrolled": true
   },
   "outputs": [
    {
     "name": "stdout",
     "output_type": "stream",
     "text": [
      "Epoch 1/100\n",
      "3529/3529 [==============================] - 51s 14ms/step - loss: 0.4898 - accuracy: 0.7707 - val_loss: 0.4315 - val_accuracy: 0.8110\n",
      "Epoch 2/100\n",
      "3529/3529 [==============================] - 41s 12ms/step - loss: 0.4645 - accuracy: 0.7853 - val_loss: 0.4227 - val_accuracy: 0.8165\n",
      "Epoch 3/100\n",
      "3529/3529 [==============================] - 41s 12ms/step - loss: 0.4585 - accuracy: 0.7866 - val_loss: 0.4141 - val_accuracy: 0.8192\n",
      "Epoch 4/100\n",
      "3529/3529 [==============================] - 40s 11ms/step - loss: 0.4522 - accuracy: 0.7907 - val_loss: 0.4087 - val_accuracy: 0.8206\n",
      "Epoch 5/100\n",
      "3529/3529 [==============================] - 41s 12ms/step - loss: 0.4454 - accuracy: 0.7934 - val_loss: 0.4119 - val_accuracy: 0.8218\n",
      "Epoch 6/100\n",
      "3529/3529 [==============================] - 42s 12ms/step - loss: 0.4395 - accuracy: 0.7960 - val_loss: 0.4043 - val_accuracy: 0.8241\n",
      "Epoch 7/100\n",
      "3529/3529 [==============================] - 42s 12ms/step - loss: 0.4346 - accuracy: 0.7990 - val_loss: 0.4028 - val_accuracy: 0.8246\n",
      "Epoch 8/100\n",
      "3529/3529 [==============================] - 41s 12ms/step - loss: 0.4291 - accuracy: 0.8009 - val_loss: 0.4005 - val_accuracy: 0.8260\n",
      "Epoch 9/100\n",
      "3529/3529 [==============================] - 41s 12ms/step - loss: 0.4253 - accuracy: 0.8026 - val_loss: 0.3990 - val_accuracy: 0.8250\n",
      "Epoch 10/100\n",
      "3529/3529 [==============================] - 42s 12ms/step - loss: 0.4217 - accuracy: 0.8059 - val_loss: 0.3969 - val_accuracy: 0.8265\n",
      "Epoch 11/100\n",
      "3529/3529 [==============================] - 43s 12ms/step - loss: 0.4191 - accuracy: 0.8073 - val_loss: 0.3974 - val_accuracy: 0.8269\n",
      "Epoch 12/100\n",
      "3529/3529 [==============================] - 40s 11ms/step - loss: 0.4153 - accuracy: 0.8095 - val_loss: 0.3905 - val_accuracy: 0.8284\n",
      "Epoch 13/100\n",
      "3529/3529 [==============================] - 43s 12ms/step - loss: 0.4119 - accuracy: 0.8106 - val_loss: 0.3888 - val_accuracy: 0.8298\n",
      "Epoch 14/100\n",
      "3529/3529 [==============================] - 41s 12ms/step - loss: 0.4091 - accuracy: 0.8121 - val_loss: 0.3905 - val_accuracy: 0.8290\n",
      "Epoch 15/100\n",
      "3529/3529 [==============================] - 42s 12ms/step - loss: 0.4079 - accuracy: 0.8123 - val_loss: 0.3913 - val_accuracy: 0.8291\n",
      "Epoch 16/100\n",
      "3529/3529 [==============================] - 42s 12ms/step - loss: 0.4031 - accuracy: 0.8165 - val_loss: 0.3917 - val_accuracy: 0.8296\n",
      "Epoch 17/100\n",
      "3529/3529 [==============================] - 42s 12ms/step - loss: 0.4007 - accuracy: 0.8172 - val_loss: 0.3870 - val_accuracy: 0.8316\n",
      "Epoch 18/100\n",
      "3529/3529 [==============================] - 42s 12ms/step - loss: 0.3980 - accuracy: 0.8185 - val_loss: 0.3833 - val_accuracy: 0.8317\n",
      "Epoch 19/100\n",
      "3529/3529 [==============================] - 43s 12ms/step - loss: 0.3955 - accuracy: 0.8196 - val_loss: 0.3851 - val_accuracy: 0.8314\n",
      "Epoch 20/100\n",
      "3529/3529 [==============================] - 41s 12ms/step - loss: 0.3929 - accuracy: 0.8197 - val_loss: 0.3859 - val_accuracy: 0.8304\n",
      "Epoch 21/100\n",
      "3529/3529 [==============================] - 41s 12ms/step - loss: 0.3908 - accuracy: 0.8224 - val_loss: 0.3816 - val_accuracy: 0.8334\n",
      "Epoch 22/100\n",
      "3529/3529 [==============================] - 42s 12ms/step - loss: 0.3878 - accuracy: 0.8234 - val_loss: 0.3819 - val_accuracy: 0.8324\n",
      "Epoch 23/100\n",
      "3529/3529 [==============================] - 43s 12ms/step - loss: 0.3860 - accuracy: 0.8255 - val_loss: 0.3886 - val_accuracy: 0.8282\n",
      "Epoch 24/100\n",
      "3529/3529 [==============================] - 42s 12ms/step - loss: 0.3833 - accuracy: 0.8258 - val_loss: 0.3795 - val_accuracy: 0.8337\n",
      "Epoch 25/100\n",
      "3529/3529 [==============================] - 43s 12ms/step - loss: 0.3809 - accuracy: 0.8281 - val_loss: 0.3795 - val_accuracy: 0.8339\n",
      "Epoch 26/100\n",
      "3529/3529 [==============================] - 42s 12ms/step - loss: 0.3789 - accuracy: 0.8279 - val_loss: 0.3834 - val_accuracy: 0.8296\n",
      "Epoch 27/100\n",
      "3529/3529 [==============================] - 43s 12ms/step - loss: 0.3763 - accuracy: 0.8300 - val_loss: 0.3792 - val_accuracy: 0.8344\n",
      "Epoch 28/100\n",
      "3529/3529 [==============================] - 43s 12ms/step - loss: 0.3752 - accuracy: 0.8305 - val_loss: 0.3863 - val_accuracy: 0.8290\n",
      "Epoch 29/100\n",
      "3529/3529 [==============================] - 43s 12ms/step - loss: 0.3724 - accuracy: 0.8321 - val_loss: 0.3919 - val_accuracy: 0.8337\n",
      "Epoch 30/100\n",
      "3529/3529 [==============================] - 42s 12ms/step - loss: 0.3689 - accuracy: 0.8333 - val_loss: 0.3767 - val_accuracy: 0.8351\n",
      "Epoch 31/100\n",
      "3529/3529 [==============================] - 42s 12ms/step - loss: 0.3693 - accuracy: 0.8342 - val_loss: 0.3784 - val_accuracy: 0.8350\n",
      "Epoch 32/100\n",
      "3529/3529 [==============================] - 41s 12ms/step - loss: 0.3678 - accuracy: 0.8333 - val_loss: 0.3770 - val_accuracy: 0.8355\n",
      "Epoch 33/100\n",
      "3529/3529 [==============================] - 42s 12ms/step - loss: 0.3664 - accuracy: 0.8346 - val_loss: 0.3779 - val_accuracy: 0.8356\n",
      "Epoch 34/100\n",
      "3529/3529 [==============================] - 41s 12ms/step - loss: 0.3640 - accuracy: 0.8368 - val_loss: 0.3790 - val_accuracy: 0.8336\n",
      "Epoch 35/100\n",
      "3529/3529 [==============================] - 41s 12ms/step - loss: 0.3611 - accuracy: 0.8390 - val_loss: 0.3764 - val_accuracy: 0.8384\n",
      "Epoch 36/100\n",
      "3529/3529 [==============================] - 41s 12ms/step - loss: 0.3604 - accuracy: 0.8385 - val_loss: 0.3807 - val_accuracy: 0.8324\n",
      "Epoch 37/100\n",
      "3529/3529 [==============================] - 41s 11ms/step - loss: 0.3584 - accuracy: 0.8399 - val_loss: 0.3786 - val_accuracy: 0.8347\n",
      "Epoch 38/100\n",
      "3529/3529 [==============================] - 42s 12ms/step - loss: 0.3571 - accuracy: 0.8395 - val_loss: 0.3770 - val_accuracy: 0.8378\n",
      "Epoch 39/100\n",
      "3529/3529 [==============================] - 42s 12ms/step - loss: 0.3536 - accuracy: 0.8417 - val_loss: 0.3750 - val_accuracy: 0.8367\n",
      "Epoch 40/100\n",
      "3529/3529 [==============================] - 42s 12ms/step - loss: 0.3535 - accuracy: 0.8422 - val_loss: 0.3784 - val_accuracy: 0.8384\n",
      "Epoch 41/100\n",
      "3529/3529 [==============================] - 42s 12ms/step - loss: 0.3521 - accuracy: 0.8434 - val_loss: 0.3739 - val_accuracy: 0.8390\n",
      "Epoch 42/100\n",
      "3529/3529 [==============================] - 43s 12ms/step - loss: 0.3505 - accuracy: 0.8430 - val_loss: 0.3808 - val_accuracy: 0.8348\n",
      "Epoch 43/100\n",
      "3529/3529 [==============================] - 42s 12ms/step - loss: 0.3488 - accuracy: 0.8443 - val_loss: 0.3749 - val_accuracy: 0.8389\n",
      "Epoch 44/100\n",
      "3529/3529 [==============================] - 41s 12ms/step - loss: 0.3471 - accuracy: 0.8458 - val_loss: 0.3818 - val_accuracy: 0.8361\n",
      "Epoch 45/100\n",
      "3529/3529 [==============================] - 40s 11ms/step - loss: 0.3469 - accuracy: 0.8450 - val_loss: 0.3760 - val_accuracy: 0.8346\n",
      "Epoch 46/100\n",
      "3529/3529 [==============================] - 40s 11ms/step - loss: 0.3449 - accuracy: 0.8467 - val_loss: 0.3791 - val_accuracy: 0.8390\n",
      "Epoch 47/100\n",
      "3529/3529 [==============================] - 40s 11ms/step - loss: 0.3433 - accuracy: 0.8466 - val_loss: 0.3874 - val_accuracy: 0.8312\n",
      "Epoch 48/100\n",
      "3529/3529 [==============================] - 43s 12ms/step - loss: 0.3439 - accuracy: 0.8466 - val_loss: 0.3752 - val_accuracy: 0.8375\n",
      "Epoch 49/100\n",
      "3529/3529 [==============================] - 43s 12ms/step - loss: 0.3424 - accuracy: 0.8479 - val_loss: 0.3757 - val_accuracy: 0.8392\n",
      "Epoch 50/100\n",
      "3529/3529 [==============================] - 42s 12ms/step - loss: 0.3399 - accuracy: 0.8486 - val_loss: 0.3763 - val_accuracy: 0.8393\n",
      "Epoch 51/100\n",
      "3529/3529 [==============================] - 42s 12ms/step - loss: 0.3395 - accuracy: 0.8480 - val_loss: 0.3785 - val_accuracy: 0.8353\n",
      "Epoch 52/100\n",
      "3529/3529 [==============================] - 42s 12ms/step - loss: 0.3380 - accuracy: 0.8497 - val_loss: 0.3770 - val_accuracy: 0.8360\n",
      "Epoch 53/100\n",
      "3529/3529 [==============================] - 41s 12ms/step - loss: 0.3374 - accuracy: 0.8506 - val_loss: 0.3800 - val_accuracy: 0.8366\n",
      "Epoch 54/100\n",
      "3529/3529 [==============================] - 41s 12ms/step - loss: 0.3360 - accuracy: 0.8512 - val_loss: 0.3749 - val_accuracy: 0.8391\n",
      "Epoch 55/100\n",
      "3529/3529 [==============================] - 41s 12ms/step - loss: 0.3357 - accuracy: 0.8514 - val_loss: 0.3814 - val_accuracy: 0.8391\n",
      "Epoch 56/100\n"
     ]
    },
    {
     "name": "stdout",
     "output_type": "stream",
     "text": [
      "3529/3529 [==============================] - 41s 11ms/step - loss: 0.3330 - accuracy: 0.8526 - val_loss: 0.3720 - val_accuracy: 0.8405\n",
      "Epoch 57/100\n",
      "3529/3529 [==============================] - 40s 11ms/step - loss: 0.3323 - accuracy: 0.8535 - val_loss: 0.3764 - val_accuracy: 0.8385\n",
      "Epoch 58/100\n",
      "3529/3529 [==============================] - 40s 11ms/step - loss: 0.3322 - accuracy: 0.8523 - val_loss: 0.3761 - val_accuracy: 0.8364\n",
      "Epoch 59/100\n",
      "3529/3529 [==============================] - 40s 11ms/step - loss: 0.3300 - accuracy: 0.8535 - val_loss: 0.3763 - val_accuracy: 0.8418\n",
      "Epoch 60/100\n",
      "3529/3529 [==============================] - 43s 12ms/step - loss: 0.3286 - accuracy: 0.8553 - val_loss: 0.3730 - val_accuracy: 0.8421\n",
      "Epoch 61/100\n",
      "3529/3529 [==============================] - 45s 13ms/step - loss: 0.3283 - accuracy: 0.8548 - val_loss: 0.3730 - val_accuracy: 0.8398\n",
      "Epoch 62/100\n",
      "3529/3529 [==============================] - 43s 12ms/step - loss: 0.3266 - accuracy: 0.8560 - val_loss: 0.3769 - val_accuracy: 0.8399\n",
      "Epoch 63/100\n",
      "3529/3529 [==============================] - 43s 12ms/step - loss: 0.3271 - accuracy: 0.8557 - val_loss: 0.3762 - val_accuracy: 0.8410\n",
      "Epoch 64/100\n",
      "3529/3529 [==============================] - 43s 12ms/step - loss: 0.3243 - accuracy: 0.8572 - val_loss: 0.3754 - val_accuracy: 0.8402\n",
      "Epoch 65/100\n",
      "3529/3529 [==============================] - 43s 12ms/step - loss: 0.3235 - accuracy: 0.8582 - val_loss: 0.3820 - val_accuracy: 0.8400\n",
      "Epoch 66/100\n",
      "3529/3529 [==============================] - 43s 12ms/step - loss: 0.3240 - accuracy: 0.8566 - val_loss: 0.3798 - val_accuracy: 0.8396\n",
      "Epoch 67/100\n",
      "3529/3529 [==============================] - 46s 13ms/step - loss: 0.3219 - accuracy: 0.8572 - val_loss: 0.3882 - val_accuracy: 0.8315\n",
      "Epoch 68/100\n",
      "3529/3529 [==============================] - 45s 13ms/step - loss: 0.3212 - accuracy: 0.8586 - val_loss: 0.3739 - val_accuracy: 0.8415\n",
      "Epoch 69/100\n",
      "3529/3529 [==============================] - 45s 13ms/step - loss: 0.3223 - accuracy: 0.8594 - val_loss: 0.3805 - val_accuracy: 0.8373\n",
      "Epoch 70/100\n",
      "3529/3529 [==============================] - 42s 12ms/step - loss: 0.3197 - accuracy: 0.8600 - val_loss: 0.3759 - val_accuracy: 0.8390\n",
      "Epoch 71/100\n",
      "3529/3529 [==============================] - 45s 13ms/step - loss: 0.3207 - accuracy: 0.8593 - val_loss: 0.3750 - val_accuracy: 0.8423\n",
      "Epoch 72/100\n",
      "3529/3529 [==============================] - 43s 12ms/step - loss: 0.3191 - accuracy: 0.8601 - val_loss: 0.3733 - val_accuracy: 0.8398\n",
      "Epoch 73/100\n",
      "3529/3529 [==============================] - 41s 12ms/step - loss: 0.3182 - accuracy: 0.8602 - val_loss: 0.3812 - val_accuracy: 0.8434\n",
      "Epoch 74/100\n",
      "3529/3529 [==============================] - 41s 12ms/step - loss: 0.3172 - accuracy: 0.8606 - val_loss: 0.3773 - val_accuracy: 0.8437\n",
      "Epoch 75/100\n",
      "3529/3529 [==============================] - 40s 11ms/step - loss: 0.3158 - accuracy: 0.8616 - val_loss: 0.3811 - val_accuracy: 0.8435\n",
      "Epoch 76/100\n",
      "3529/3529 [==============================] - 41s 12ms/step - loss: 0.3149 - accuracy: 0.8622 - val_loss: 0.3773 - val_accuracy: 0.8415\n",
      "Epoch 77/100\n",
      "3529/3529 [==============================] - 41s 12ms/step - loss: 0.3134 - accuracy: 0.8630 - val_loss: 0.3787 - val_accuracy: 0.8406\n",
      "Epoch 78/100\n",
      "3529/3529 [==============================] - 41s 12ms/step - loss: 0.3131 - accuracy: 0.8623 - val_loss: 0.3739 - val_accuracy: 0.8435\n",
      "Epoch 79/100\n",
      "3529/3529 [==============================] - 40s 11ms/step - loss: 0.3140 - accuracy: 0.8619 - val_loss: 0.3735 - val_accuracy: 0.8449\n",
      "Epoch 80/100\n",
      "3529/3529 [==============================] - 40s 11ms/step - loss: 0.3125 - accuracy: 0.8643 - val_loss: 0.3759 - val_accuracy: 0.8417\n",
      "Epoch 81/100\n",
      "3529/3529 [==============================] - 41s 12ms/step - loss: 0.3115 - accuracy: 0.8642 - val_loss: 0.3770 - val_accuracy: 0.8433\n",
      "Epoch 82/100\n",
      "3529/3529 [==============================] - 43s 12ms/step - loss: 0.3128 - accuracy: 0.8638 - val_loss: 0.3797 - val_accuracy: 0.8394\n",
      "Epoch 83/100\n",
      "3529/3529 [==============================] - 42s 12ms/step - loss: 0.3106 - accuracy: 0.8642 - val_loss: 0.3759 - val_accuracy: 0.8427\n",
      "Epoch 84/100\n",
      "3529/3529 [==============================] - 42s 12ms/step - loss: 0.3095 - accuracy: 0.8646 - val_loss: 0.3782 - val_accuracy: 0.8447\n",
      "Epoch 85/100\n",
      "3529/3529 [==============================] - 42s 12ms/step - loss: 0.3100 - accuracy: 0.8642 - val_loss: 0.3699 - val_accuracy: 0.8440\n",
      "Epoch 86/100\n",
      "3529/3529 [==============================] - 42s 12ms/step - loss: 0.3086 - accuracy: 0.8651 - val_loss: 0.3802 - val_accuracy: 0.8440\n",
      "Epoch 87/100\n",
      "3529/3529 [==============================] - 42s 12ms/step - loss: 0.3074 - accuracy: 0.8676 - val_loss: 0.3766 - val_accuracy: 0.8455\n",
      "Epoch 88/100\n",
      "3529/3529 [==============================] - 42s 12ms/step - loss: 0.3060 - accuracy: 0.8664 - val_loss: 0.3784 - val_accuracy: 0.8417\n",
      "Epoch 89/100\n",
      "3529/3529 [==============================] - 42s 12ms/step - loss: 0.3068 - accuracy: 0.8663 - val_loss: 0.3735 - val_accuracy: 0.8439\n",
      "Epoch 90/100\n",
      "3529/3529 [==============================] - 42s 12ms/step - loss: 0.3066 - accuracy: 0.8669 - val_loss: 0.3775 - val_accuracy: 0.8419\n",
      "Epoch 91/100\n",
      "3529/3529 [==============================] - 42s 12ms/step - loss: 0.3046 - accuracy: 0.8678 - val_loss: 0.3717 - val_accuracy: 0.8418\n",
      "Epoch 92/100\n",
      "3529/3529 [==============================] - 42s 12ms/step - loss: 0.3037 - accuracy: 0.8674 - val_loss: 0.3770 - val_accuracy: 0.8464\n",
      "Epoch 93/100\n",
      "3529/3529 [==============================] - 42s 12ms/step - loss: 0.3030 - accuracy: 0.8683 - val_loss: 0.3808 - val_accuracy: 0.8424\n",
      "Epoch 94/100\n",
      "3529/3529 [==============================] - 42s 12ms/step - loss: 0.3023 - accuracy: 0.8691 - val_loss: 0.3890 - val_accuracy: 0.8360\n",
      "Epoch 95/100\n",
      "3529/3529 [==============================] - 42s 12ms/step - loss: 0.3029 - accuracy: 0.8686 - val_loss: 0.3741 - val_accuracy: 0.8438\n",
      "Epoch 96/100\n",
      "3529/3529 [==============================] - 43s 12ms/step - loss: 0.3012 - accuracy: 0.8687 - val_loss: 0.3701 - val_accuracy: 0.8444\n",
      "Epoch 97/100\n",
      "3529/3529 [==============================] - 42s 12ms/step - loss: 0.3016 - accuracy: 0.8685 - val_loss: 0.3760 - val_accuracy: 0.8466\n",
      "Epoch 98/100\n",
      "3529/3529 [==============================] - 43s 12ms/step - loss: 0.3019 - accuracy: 0.8684 - val_loss: 0.3777 - val_accuracy: 0.8411\n",
      "Epoch 99/100\n",
      "3529/3529 [==============================] - 42s 12ms/step - loss: 0.3001 - accuracy: 0.8704 - val_loss: 0.3790 - val_accuracy: 0.8408\n",
      "Epoch 100/100\n",
      "3529/3529 [==============================] - 44s 12ms/step - loss: 0.3005 - accuracy: 0.8699 - val_loss: 0.3818 - val_accuracy: 0.8452\n"
     ]
    },
    {
     "data": {
      "image/png": "[encoded data removed]",
      "text/plain": [
       "<Figure size 432x288 with 4 Axes>"
      ]
     },
     "metadata": {
      "needs_background": "light"
     },
     "output_type": "display_data"
    }
   ],
   "source": [
    "## encode y\n",
    "dic_y_mapping = {n:label for n,label in \n",
    "                 enumerate(np.unique(y_train))}\n",
    "inverse_dic = {v:k for k,v in dic_y_mapping.items()}\n",
    "y_train = np.array([inverse_dic[y] for y in y_train])\n",
    "\n",
    "## train\n",
    "training = model.fit(x=X_train, y=y_train, batch_size=64, \n",
    "                     epochs=40, shuffle=True, verbose=1, \n",
    "                     validation_split=0.3)\n",
    "\n",
    "## plot loss and accuracy\n",
    "metrics = [k for k in training.history.keys() if (\"loss\" not in k) and (\"val\" not in k)]\n",
    "fig, ax = plt.subplots(nrows=1, ncols=2, sharey=True)\n",
    "ax[0].set(title=\"Training\")\n",
    "ax11 = ax[0].twinx()\n",
    "ax[0].plot(training.history['loss'], color='black')\n",
    "ax[0].set_xlabel('Epochs')\n",
    "ax[0].set_ylabel('Loss', color='black')\n",
    "\n",
    "for metric in metrics:\n",
    "    ax11.plot(training.history[metric], label=metric)\n",
    "ax11.set_ylabel(\"Score\", color='steelblue')\n",
    "ax11.legend()\n",
    "\n",
    "ax[1].set(title=\"Validation\")\n",
    "ax22 = ax[1].twinx()\n",
    "ax[1].plot(training.history['val_loss'], color='black')\n",
    "ax[1].set_xlabel('Epochs')\n",
    "ax[1].set_ylabel('Loss', color='black')\n",
    "\n",
    "for metric in metrics:\n",
    "     ax22.plot(training.history['val_'+metric], label=metric)\n",
    "ax22.set_ylabel(\"Score\", color=\"steelblue\")\n",
    "\n",
    "plt.show()"
   ]
  },
  {
   "cell_type": "code",
   "execution_count": 72,
   "metadata": {},
   "outputs": [],
   "source": [
    "## test\n",
    "predicted_prob = model.predict(X_test)\n",
    "predicted = [dic_y_mapping[np.argmax(pred)] for pred in \n",
    "             predicted_prob]"
   ]
  },
  {
   "cell_type": "code",
   "execution_count": 74,
   "metadata": {},
   "outputs": [
    {
     "data": {
      "text/html": [
       "<div>\n",
       "<style scoped>\n",
       "    .dataframe tbody tr th:only-of-type {\n",
       "        vertical-align: middle;\n",
       "    }\n",
       "\n",
       "    .dataframe tbody tr th {\n",
       "        vertical-align: top;\n",
       "    }\n",
       "\n",
       "    .dataframe thead th {\n",
       "        text-align: right;\n",
       "    }\n",
       "</style>\n",
       "<table border=\"1\" class=\"dataframe\">\n",
       "  <thead>\n",
       "    <tr style=\"text-align: right;\">\n",
       "      <th></th>\n",
       "      <th>0</th>\n",
       "    </tr>\n",
       "  </thead>\n",
       "  <tbody>\n",
       "    <tr>\n",
       "      <th>53761</th>\n",
       "      <td>0</td>\n",
       "    </tr>\n",
       "    <tr>\n",
       "      <th>53762</th>\n",
       "      <td>0</td>\n",
       "    </tr>\n",
       "    <tr>\n",
       "      <th>53763</th>\n",
       "      <td>0</td>\n",
       "    </tr>\n",
       "    <tr>\n",
       "      <th>53764</th>\n",
       "      <td>0</td>\n",
       "    </tr>\n",
       "    <tr>\n",
       "      <th>53765</th>\n",
       "      <td>0</td>\n",
       "    </tr>\n",
       "  </tbody>\n",
       "</table>\n",
       "</div>"
      ],
      "text/plain": [
       "       0\n",
       "53761  0\n",
       "53762  0\n",
       "53763  0\n",
       "53764  0\n",
       "53765  0"
      ]
     },
     "execution_count": 74,
     "metadata": {},
     "output_type": "execute_result"
    }
   ],
   "source": [
    "predicted_df = pd.DataFrame(predicted)\n",
    "predicted_df.tail()"
   ]
  },
  {
   "cell_type": "code",
   "execution_count": 69,
   "metadata": {},
   "outputs": [
    {
     "name": "stdout",
     "output_type": "stream",
     "text": [
      "True: 1 --> Pred: 0 | Prob: 0.93\n"
     ]
    },
    {
     "ename": "IndexError",
     "evalue": "list index out of range",
     "output_type": "error",
     "traceback": [
      "\u001b[0;31m---------------------------------------------------------------------------\u001b[0m",
      "\u001b[0;31mIndexError\u001b[0m                                Traceback (most recent call last)",
      "\u001b[0;32m<ipython-input-69-28c90c626f58>\u001b[0m in \u001b[0;36m<module>\u001b[0;34m\u001b[0m\n\u001b[1;32m     32\u001b[0m            != 0]\n\u001b[1;32m     33\u001b[0m dic_word_weigth = {word:weights[n] for n,word in \n\u001b[0;32m---> 34\u001b[0;31m                    \u001b[0menumerate\u001b[0m\u001b[0;34m(\u001b[0m\u001b[0mlst_corpus\u001b[0m\u001b[0;34m[\u001b[0m\u001b[0;36m0\u001b[0m\u001b[0;34m]\u001b[0m\u001b[0;34m)\u001b[0m \u001b[0;32mif\u001b[0m \u001b[0mword\u001b[0m \u001b[0;32min\u001b[0m\u001b[0;34m\u001b[0m\u001b[0;34m\u001b[0m\u001b[0m\n\u001b[0m\u001b[1;32m     35\u001b[0m                    tokenizer.word_index.keys()}\n\u001b[1;32m     36\u001b[0m \u001b[0;34m\u001b[0m\u001b[0m\n",
      "\u001b[0;32m<ipython-input-69-28c90c626f58>\u001b[0m in \u001b[0;36m<dictcomp>\u001b[0;34m(.0)\u001b[0m\n\u001b[1;32m     33\u001b[0m dic_word_weigth = {word:weights[n] for n,word in \n\u001b[1;32m     34\u001b[0m                    \u001b[0menumerate\u001b[0m\u001b[0;34m(\u001b[0m\u001b[0mlst_corpus\u001b[0m\u001b[0;34m[\u001b[0m\u001b[0;36m0\u001b[0m\u001b[0;34m]\u001b[0m\u001b[0;34m)\u001b[0m \u001b[0;32mif\u001b[0m \u001b[0mword\u001b[0m \u001b[0;32min\u001b[0m\u001b[0;34m\u001b[0m\u001b[0;34m\u001b[0m\u001b[0m\n\u001b[0;32m---> 35\u001b[0;31m                    tokenizer.word_index.keys()}\n\u001b[0m\u001b[1;32m     36\u001b[0m \u001b[0;34m\u001b[0m\u001b[0m\n\u001b[1;32m     37\u001b[0m \u001b[0;31m### 4. barplot\u001b[0m\u001b[0;34m\u001b[0m\u001b[0;34m\u001b[0m\u001b[0;34m\u001b[0m\u001b[0m\n",
      "\u001b[0;31mIndexError\u001b[0m: list index out of range"
     ]
    }
   ],
   "source": [
    "## select observation\n",
    "i = 3\n",
    "txt_instance = data_test[\"review_clean\"].iloc[i]\n",
    "\n",
    "## check true value and predicted value\n",
    "print(\"True:\", y_test[i], \"--> Pred:\", predicted[i], \"| Prob:\", round(np.max(predicted_prob[i]),2))\n",
    "\n",
    "## show explanation\n",
    "### 1. preprocess input\n",
    "lst_corpus = []\n",
    "for string in [re.sub(r'[^\\w\\s]','', txt_instance.lower().strip())]:\n",
    "    lst_words = string.split()\n",
    "    lst_grams = [\" \".join(lst_words[i:i+1]) for i in range(0, \n",
    "                 len(lst_words), 1)]\n",
    "    lst_corpus.append(lst_grams)\n",
    "lst_corpus = list(bigrams_detector[lst_corpus])\n",
    "lst_corpus = list(trigrams_detector[lst_corpus])\n",
    "X_instance = kprocessing.sequence.pad_sequences(\n",
    "              tokenizer.texts_to_sequences(corpus), maxlen=15, \n",
    "              padding=\"post\", truncating=\"post\")\n",
    "\n",
    "### 2. get attention weights\n",
    "layer = [layer for layer in model.layers if \"attention\" in \n",
    "         layer.name][0]\n",
    "func = K.function([model.input], [layer.output])\n",
    "weights = func(X_instance)[0]\n",
    "weights = np.mean(weights, axis=2).flatten()\n",
    "\n",
    "### 3. rescale weights, remove null vector, map word-weight\n",
    "weights = preprocessing.MinMaxScaler(feature_range=(0,1)).fit_transform(np.array(weights).reshape(-1,1)).reshape(-1)\n",
    "weights = [weights[n] for n,idx in enumerate(X_instance[0]) if idx \n",
    "           != 0]\n",
    "dic_word_weigth = {word:weights[n] for n,word in \n",
    "                   enumerate(lst_corpus[0]) if word in \n",
    "                   tokenizer.word_index.keys()}\n",
    "\n",
    "### 4. barplot\n",
    "if len(dic_word_weigth) > 0:\n",
    "   dtf = pd.DataFrame.from_dict(dic_word_weigth, orient='index', \n",
    "                                columns=[\"score\"])\n",
    "   dtf.sort_values(by=\"score\", \n",
    "           ascending=True).tail(top).plot(kind=\"barh\", \n",
    "           legend=False).grid(axis='x')\n",
    "   plt.show()\n",
    "else:\n",
    "   print(\"--- No word recognized ---\")\n",
    "\n",
    "### 5. produce html visualization\n",
    "text = []\n",
    "for word in lst_corpus[0]:\n",
    "    weight = dic_word_weigth.get(word)\n",
    "    if weight is not None:\n",
    "         text.append('<b><span style=\"background-color:rgba(100,149,237,' + str(weight) + ');\">' + word + '</span></b>')\n",
    "    else:\n",
    "         text.append(word)\n",
    "text = ' '.join(text)\n",
    "\n",
    "### 6. visualize on notebook\n",
    "print(\"\\033[1m\"+\"Text with highlighted words\")\n",
    "from IPython.core.display import display, HTML\n",
    "display(HTML(text))"
   ]
  },
  {
   "cell_type": "code",
   "execution_count": null,
   "metadata": {},
   "outputs": [],
   "source": []
  }
 ],
 "metadata": {
  "kernelspec": {
   "display_name": "Python 3",
   "language": "python",
   "name": "python3"
  },
  "language_info": {
   "codemirror_mode": {
    "name": "ipython",
    "version": 3
   },
   "file_extension": ".py",
   "mimetype": "text/x-python",
   "name": "python",
   "nbconvert_exporter": "python",
   "pygments_lexer": "ipython3",
   "version": "3.7.7"
  },
  "latex_envs": {
   "LaTeX_envs_menu_present": true,
   "autoclose": false,
   "autocomplete": true,
   "bibliofile": "biblio.bib",
   "cite_by": "apalike",
   "current_citInitial": 1,
   "eqLabelWithNumbers": true,
   "eqNumInitial": 1,
   "hotkeys": {
    "equation": "Ctrl-E",
    "itemize": "Ctrl-I"
   },
   "labels_anchors": false,
   "latex_user_defs": false,
   "report_style_numbering": false,
   "user_envs_cfg": false
  },
  "toc": {
   "base_numbering": 1,
   "nav_menu": {},
   "number_sections": true,
   "sideBar": true,
   "skip_h1_title": false,
   "title_cell": "Table of Contents",
   "title_sidebar": "Contents",
   "toc_cell": false,
   "toc_position": {},
   "toc_section_display": true,
   "toc_window_display": false
  }
 },
 "nbformat": 4,
 "nbformat_minor": 4
}
