{
  "nbformat": 4,
  "nbformat_minor": 0,
  "metadata": {
    "colab": {
      "name": "Adverse Drug Events.ipynb",
      "provenance": [],
      "collapsed_sections": [
        "VfbrUsALaap_"
      ]
    },
    "kernelspec": {
      "name": "python3",
      "display_name": "Python 3"
    }
  },
  "cells": [
    {
      "cell_type": "markdown",
      "metadata": {
        "id": "IFhAZdtkYrNO"
      },
      "source": [
        "# Imports"
      ]
    },
    {
      "cell_type": "code",
      "metadata": {
        "id": "MGWhRE5BdKLP"
      },
      "source": [
        "import pandas as pd # DataFrame Manipulation Package\n",
        "import numpy as np\n",
        "import matplotlib.pyplot as plt\n",
        "\n",
        "from sklearn.feature_extraction.text import TfidfVectorizer # Convert a collection of raw documents to a matrix of TF-IDF features\n",
        "from sklearn.decomposition import LatentDirichletAllocation # Latent Dirichlet Allocation is a topic model that is used for discovering abstract topics from a collection of documents (variational Bayes algorithm)\n",
        "from sklearn.feature_extraction.text import CountVectorizer # Convert a collection of text documents to a matrix of token counts\n",
        "\n",
        "from sklearn.pipeline import Pipeline\n",
        "from sklearn.model_selection import GridSearchCV\n",
        "from sklearn.naive_bayes import MultinomialNB # The multinomial Naive Bayes classifier is suitable for classification with discrete features (e.g., word counts for text classification)\n",
        "\n",
        "import string # Collection of string operations\n",
        "from nltk.corpus import stopwords \n",
        "from nltk.stem.wordnet import WordNetLemmatizer #Lemmatize using WordNet's built-in morphy function. Returns the input word unchanged if it cannot be found in WordNet.\n",
        "from nltk import word_tokenize "
      ],
      "execution_count": 2,
      "outputs": []
    },
    {
      "cell_type": "code",
      "metadata": {
        "colab": {
          "base_uri": "https://localhost:8080/"
        },
        "id": "MwlPZL0Nve81",
        "outputId": "3fe9612d-95c2-4e83-acc5-27c0da941850"
      },
      "source": [
        "import nltk\n",
        "\n",
        "nltk.download('stopwords')\n",
        "nltk.download('punkt')"
      ],
      "execution_count": 3,
      "outputs": [
        {
          "output_type": "stream",
          "text": [
            "[nltk_data] Downloading package stopwords to /root/nltk_data...\n",
            "[nltk_data]   Unzipping corpora/stopwords.zip.\n",
            "[nltk_data] Downloading package punkt to /root/nltk_data...\n",
            "[nltk_data]   Unzipping tokenizers/punkt.zip.\n"
          ],
          "name": "stdout"
        },
        {
          "output_type": "execute_result",
          "data": {
            "text/plain": [
              "True"
            ]
          },
          "metadata": {
            "tags": []
          },
          "execution_count": 3
        }
      ]
    },
    {
      "cell_type": "markdown",
      "metadata": {
        "id": "KGs0FYOJYuiw"
      },
      "source": [
        "# Data"
      ]
    },
    {
      "cell_type": "code",
      "metadata": {
        "colab": {
          "base_uri": "https://localhost:8080/",
          "height": 442
        },
        "id": "EXE8dbR5deD7",
        "outputId": "2c05331a-83bf-4cd6-cf9a-6be324f3a176"
      },
      "source": [
        "data = pd.read_csv('drugsComTrain_raw.csv')\n",
        "\n",
        "print(f\"The shape of the data is {data.shape[0]} rows and {data.shape[1]} columns\")\n",
        "print(\"\\n\")\n",
        "print(f\"The amount of unique ID is {len(data['uniqueID'].unique())}\") # check if any of the uniqueID repeat\n",
        "print(\"\\n\")\n",
        "print(f\"The number of unique drugs reviewed is {len(data['drugName'].unique())}\")\n",
        "print(\"\\n\")\n",
        "print(f\"The number of unique conditions is {len(data['condition'].unique())}\")\n",
        "print(\"\\n\")\n",
        "\n",
        "#data[\"drugName\"].unique()"
      ],
      "execution_count": 4,
      "outputs": [
        {
          "output_type": "error",
          "ename": "FileNotFoundError",
          "evalue": "ignored",
          "traceback": [
            "\u001b[0;31m---------------------------------------------------------------------------\u001b[0m",
            "\u001b[0;31mFileNotFoundError\u001b[0m                         Traceback (most recent call last)",
            "\u001b[0;32m<ipython-input-4-4dd9410af4b0>\u001b[0m in \u001b[0;36m<module>\u001b[0;34m()\u001b[0m\n\u001b[0;32m----> 1\u001b[0;31m \u001b[0mdata\u001b[0m \u001b[0;34m=\u001b[0m \u001b[0mpd\u001b[0m\u001b[0;34m.\u001b[0m\u001b[0mread_csv\u001b[0m\u001b[0;34m(\u001b[0m\u001b[0;34m'drugsComTrain_raw.csv'\u001b[0m\u001b[0;34m)\u001b[0m\u001b[0;34m\u001b[0m\u001b[0;34m\u001b[0m\u001b[0m\n\u001b[0m\u001b[1;32m      2\u001b[0m \u001b[0;34m\u001b[0m\u001b[0m\n\u001b[1;32m      3\u001b[0m \u001b[0mprint\u001b[0m\u001b[0;34m(\u001b[0m\u001b[0;34mf\"The shape of the data is {data.shape[0]} rows and {data.shape[1]} columns\"\u001b[0m\u001b[0;34m)\u001b[0m\u001b[0;34m\u001b[0m\u001b[0;34m\u001b[0m\u001b[0m\n\u001b[1;32m      4\u001b[0m \u001b[0mprint\u001b[0m\u001b[0;34m(\u001b[0m\u001b[0;34m\"\\n\"\u001b[0m\u001b[0;34m)\u001b[0m\u001b[0;34m\u001b[0m\u001b[0;34m\u001b[0m\u001b[0m\n\u001b[1;32m      5\u001b[0m \u001b[0mprint\u001b[0m\u001b[0;34m(\u001b[0m\u001b[0;34mf\"The amount of unique ID is {len(data['uniqueID'].unique())}\"\u001b[0m\u001b[0;34m)\u001b[0m \u001b[0;31m# check if any of the uniqueID repeat\u001b[0m\u001b[0;34m\u001b[0m\u001b[0;34m\u001b[0m\u001b[0m\n",
            "\u001b[0;32m/usr/local/lib/python3.6/dist-packages/pandas/io/parsers.py\u001b[0m in \u001b[0;36mread_csv\u001b[0;34m(filepath_or_buffer, sep, delimiter, header, names, index_col, usecols, squeeze, prefix, mangle_dupe_cols, dtype, engine, converters, true_values, false_values, skipinitialspace, skiprows, skipfooter, nrows, na_values, keep_default_na, na_filter, verbose, skip_blank_lines, parse_dates, infer_datetime_format, keep_date_col, date_parser, dayfirst, cache_dates, iterator, chunksize, compression, thousands, decimal, lineterminator, quotechar, quoting, doublequote, escapechar, comment, encoding, dialect, error_bad_lines, warn_bad_lines, delim_whitespace, low_memory, memory_map, float_precision)\u001b[0m\n\u001b[1;32m    686\u001b[0m     )\n\u001b[1;32m    687\u001b[0m \u001b[0;34m\u001b[0m\u001b[0m\n\u001b[0;32m--> 688\u001b[0;31m     \u001b[0;32mreturn\u001b[0m \u001b[0m_read\u001b[0m\u001b[0;34m(\u001b[0m\u001b[0mfilepath_or_buffer\u001b[0m\u001b[0;34m,\u001b[0m \u001b[0mkwds\u001b[0m\u001b[0;34m)\u001b[0m\u001b[0;34m\u001b[0m\u001b[0;34m\u001b[0m\u001b[0m\n\u001b[0m\u001b[1;32m    689\u001b[0m \u001b[0;34m\u001b[0m\u001b[0m\n\u001b[1;32m    690\u001b[0m \u001b[0;34m\u001b[0m\u001b[0m\n",
            "\u001b[0;32m/usr/local/lib/python3.6/dist-packages/pandas/io/parsers.py\u001b[0m in \u001b[0;36m_read\u001b[0;34m(filepath_or_buffer, kwds)\u001b[0m\n\u001b[1;32m    452\u001b[0m \u001b[0;34m\u001b[0m\u001b[0m\n\u001b[1;32m    453\u001b[0m     \u001b[0;31m# Create the parser.\u001b[0m\u001b[0;34m\u001b[0m\u001b[0;34m\u001b[0m\u001b[0;34m\u001b[0m\u001b[0m\n\u001b[0;32m--> 454\u001b[0;31m     \u001b[0mparser\u001b[0m \u001b[0;34m=\u001b[0m \u001b[0mTextFileReader\u001b[0m\u001b[0;34m(\u001b[0m\u001b[0mfp_or_buf\u001b[0m\u001b[0;34m,\u001b[0m \u001b[0;34m**\u001b[0m\u001b[0mkwds\u001b[0m\u001b[0;34m)\u001b[0m\u001b[0;34m\u001b[0m\u001b[0;34m\u001b[0m\u001b[0m\n\u001b[0m\u001b[1;32m    455\u001b[0m \u001b[0;34m\u001b[0m\u001b[0m\n\u001b[1;32m    456\u001b[0m     \u001b[0;32mif\u001b[0m \u001b[0mchunksize\u001b[0m \u001b[0;32mor\u001b[0m \u001b[0miterator\u001b[0m\u001b[0;34m:\u001b[0m\u001b[0;34m\u001b[0m\u001b[0;34m\u001b[0m\u001b[0m\n",
            "\u001b[0;32m/usr/local/lib/python3.6/dist-packages/pandas/io/parsers.py\u001b[0m in \u001b[0;36m__init__\u001b[0;34m(self, f, engine, **kwds)\u001b[0m\n\u001b[1;32m    946\u001b[0m             \u001b[0mself\u001b[0m\u001b[0;34m.\u001b[0m\u001b[0moptions\u001b[0m\u001b[0;34m[\u001b[0m\u001b[0;34m\"has_index_names\"\u001b[0m\u001b[0;34m]\u001b[0m \u001b[0;34m=\u001b[0m \u001b[0mkwds\u001b[0m\u001b[0;34m[\u001b[0m\u001b[0;34m\"has_index_names\"\u001b[0m\u001b[0;34m]\u001b[0m\u001b[0;34m\u001b[0m\u001b[0;34m\u001b[0m\u001b[0m\n\u001b[1;32m    947\u001b[0m \u001b[0;34m\u001b[0m\u001b[0m\n\u001b[0;32m--> 948\u001b[0;31m         \u001b[0mself\u001b[0m\u001b[0;34m.\u001b[0m\u001b[0m_make_engine\u001b[0m\u001b[0;34m(\u001b[0m\u001b[0mself\u001b[0m\u001b[0;34m.\u001b[0m\u001b[0mengine\u001b[0m\u001b[0;34m)\u001b[0m\u001b[0;34m\u001b[0m\u001b[0;34m\u001b[0m\u001b[0m\n\u001b[0m\u001b[1;32m    949\u001b[0m \u001b[0;34m\u001b[0m\u001b[0m\n\u001b[1;32m    950\u001b[0m     \u001b[0;32mdef\u001b[0m \u001b[0mclose\u001b[0m\u001b[0;34m(\u001b[0m\u001b[0mself\u001b[0m\u001b[0;34m)\u001b[0m\u001b[0;34m:\u001b[0m\u001b[0;34m\u001b[0m\u001b[0;34m\u001b[0m\u001b[0m\n",
            "\u001b[0;32m/usr/local/lib/python3.6/dist-packages/pandas/io/parsers.py\u001b[0m in \u001b[0;36m_make_engine\u001b[0;34m(self, engine)\u001b[0m\n\u001b[1;32m   1178\u001b[0m     \u001b[0;32mdef\u001b[0m \u001b[0m_make_engine\u001b[0m\u001b[0;34m(\u001b[0m\u001b[0mself\u001b[0m\u001b[0;34m,\u001b[0m \u001b[0mengine\u001b[0m\u001b[0;34m=\u001b[0m\u001b[0;34m\"c\"\u001b[0m\u001b[0;34m)\u001b[0m\u001b[0;34m:\u001b[0m\u001b[0;34m\u001b[0m\u001b[0;34m\u001b[0m\u001b[0m\n\u001b[1;32m   1179\u001b[0m         \u001b[0;32mif\u001b[0m \u001b[0mengine\u001b[0m \u001b[0;34m==\u001b[0m \u001b[0;34m\"c\"\u001b[0m\u001b[0;34m:\u001b[0m\u001b[0;34m\u001b[0m\u001b[0;34m\u001b[0m\u001b[0m\n\u001b[0;32m-> 1180\u001b[0;31m             \u001b[0mself\u001b[0m\u001b[0;34m.\u001b[0m\u001b[0m_engine\u001b[0m \u001b[0;34m=\u001b[0m \u001b[0mCParserWrapper\u001b[0m\u001b[0;34m(\u001b[0m\u001b[0mself\u001b[0m\u001b[0;34m.\u001b[0m\u001b[0mf\u001b[0m\u001b[0;34m,\u001b[0m \u001b[0;34m**\u001b[0m\u001b[0mself\u001b[0m\u001b[0;34m.\u001b[0m\u001b[0moptions\u001b[0m\u001b[0;34m)\u001b[0m\u001b[0;34m\u001b[0m\u001b[0;34m\u001b[0m\u001b[0m\n\u001b[0m\u001b[1;32m   1181\u001b[0m         \u001b[0;32melse\u001b[0m\u001b[0;34m:\u001b[0m\u001b[0;34m\u001b[0m\u001b[0;34m\u001b[0m\u001b[0m\n\u001b[1;32m   1182\u001b[0m             \u001b[0;32mif\u001b[0m \u001b[0mengine\u001b[0m \u001b[0;34m==\u001b[0m \u001b[0;34m\"python\"\u001b[0m\u001b[0;34m:\u001b[0m\u001b[0;34m\u001b[0m\u001b[0;34m\u001b[0m\u001b[0m\n",
            "\u001b[0;32m/usr/local/lib/python3.6/dist-packages/pandas/io/parsers.py\u001b[0m in \u001b[0;36m__init__\u001b[0;34m(self, src, **kwds)\u001b[0m\n\u001b[1;32m   2008\u001b[0m         \u001b[0mkwds\u001b[0m\u001b[0;34m[\u001b[0m\u001b[0;34m\"usecols\"\u001b[0m\u001b[0;34m]\u001b[0m \u001b[0;34m=\u001b[0m \u001b[0mself\u001b[0m\u001b[0;34m.\u001b[0m\u001b[0musecols\u001b[0m\u001b[0;34m\u001b[0m\u001b[0;34m\u001b[0m\u001b[0m\n\u001b[1;32m   2009\u001b[0m \u001b[0;34m\u001b[0m\u001b[0m\n\u001b[0;32m-> 2010\u001b[0;31m         \u001b[0mself\u001b[0m\u001b[0;34m.\u001b[0m\u001b[0m_reader\u001b[0m \u001b[0;34m=\u001b[0m \u001b[0mparsers\u001b[0m\u001b[0;34m.\u001b[0m\u001b[0mTextReader\u001b[0m\u001b[0;34m(\u001b[0m\u001b[0msrc\u001b[0m\u001b[0;34m,\u001b[0m \u001b[0;34m**\u001b[0m\u001b[0mkwds\u001b[0m\u001b[0;34m)\u001b[0m\u001b[0;34m\u001b[0m\u001b[0;34m\u001b[0m\u001b[0m\n\u001b[0m\u001b[1;32m   2011\u001b[0m         \u001b[0mself\u001b[0m\u001b[0;34m.\u001b[0m\u001b[0munnamed_cols\u001b[0m \u001b[0;34m=\u001b[0m \u001b[0mself\u001b[0m\u001b[0;34m.\u001b[0m\u001b[0m_reader\u001b[0m\u001b[0;34m.\u001b[0m\u001b[0munnamed_cols\u001b[0m\u001b[0;34m\u001b[0m\u001b[0;34m\u001b[0m\u001b[0m\n\u001b[1;32m   2012\u001b[0m \u001b[0;34m\u001b[0m\u001b[0m\n",
            "\u001b[0;32mpandas/_libs/parsers.pyx\u001b[0m in \u001b[0;36mpandas._libs.parsers.TextReader.__cinit__\u001b[0;34m()\u001b[0m\n",
            "\u001b[0;32mpandas/_libs/parsers.pyx\u001b[0m in \u001b[0;36mpandas._libs.parsers.TextReader._setup_parser_source\u001b[0;34m()\u001b[0m\n",
            "\u001b[0;31mFileNotFoundError\u001b[0m: [Errno 2] No such file or directory: 'drugsComTrain_raw.csv'"
          ]
        }
      ]
    },
    {
      "cell_type": "code",
      "metadata": {
        "id": "nyjidrrC6axB"
      },
      "source": [
        "data"
      ],
      "execution_count": null,
      "outputs": []
    },
    {
      "cell_type": "code",
      "metadata": {
        "id": "Qs9nl3nHqb1w"
      },
      "source": [
        "correlation = data[\"rating\"].corr(data[\"usefulCount\"], method='pearson')\n",
        "\n",
        "correlation"
      ],
      "execution_count": null,
      "outputs": []
    },
    {
      "cell_type": "code",
      "metadata": {
        "id": "Gc1NlfSDsVXo"
      },
      "source": [
        "plt.matshow(data[[\"rating\", \"usefulCount\"]].corr())\n",
        "plt.show()"
      ],
      "execution_count": null,
      "outputs": []
    },
    {
      "cell_type": "code",
      "metadata": {
        "id": "kNZe0N5PjZyK"
      },
      "source": [
        "pd.DataFrame(data[\"drugName\"].value_counts()).head(10).T"
      ],
      "execution_count": null,
      "outputs": []
    },
    {
      "cell_type": "code",
      "metadata": {
        "id": "9qr1qQ4MuT8Z"
      },
      "source": [
        "pd.DataFrame(data[\"condition\"].value_counts()).head(14).T"
      ],
      "execution_count": null,
      "outputs": []
    },
    {
      "cell_type": "code",
      "metadata": {
        "id": "kI3PVGEurWXx"
      },
      "source": [
        "NUMERO_SAMPLES = 500\n",
        "\n",
        "y = data[\"rating\"].head(NUMERO_SAMPLES) # SACAR ESTOOOOOO!!\n",
        "\n",
        "data = data.drop([\"uniqueID\", \"date\", \"rating\", \"usefulCount\"], axis = 1).head(NUMERO_SAMPLES) # SACAR ESTOOOOOO!!"
      ],
      "execution_count": null,
      "outputs": []
    },
    {
      "cell_type": "code",
      "metadata": {
        "id": "F72fFIDwrsk7"
      },
      "source": [
        "data"
      ],
      "execution_count": null,
      "outputs": []
    },
    {
      "cell_type": "markdown",
      "metadata": {
        "id": "laSyLC8bYzfb"
      },
      "source": [
        "# Functions"
      ]
    },
    {
      "cell_type": "code",
      "metadata": {
        "id": "b-NO8IZarxx7"
      },
      "source": [
        "def punctuation(x):\n",
        "    for punctuation in string.punctuation:\n",
        "        x =  x.replace(punctuation, '')\n",
        "    return x.lower()\n",
        "\n",
        "data[\"clean_review\"] = data[\"review\"].apply(punctuation)"
      ],
      "execution_count": null,
      "outputs": []
    },
    {
      "cell_type": "code",
      "metadata": {
        "id": "nf49DR5zvEyO"
      },
      "source": [
        "def remove_numbers (x):\n",
        "    words_only = ''.join([i for i in x if not i.isdigit()])\n",
        "    return words_only\n",
        "\n",
        "data['clean_review'] = data.clean_review.apply(remove_numbers)"
      ],
      "execution_count": null,
      "outputs": []
    },
    {
      "cell_type": "code",
      "metadata": {
        "id": "-SYgJhOxvGEE"
      },
      "source": [
        "stop_words = set(stopwords.words('english')) \n",
        "\n",
        "def remove_stopwords (x):\n",
        "    tokenized = word_tokenize(x)\n",
        "    without_stopwords = [word for word in tokenized if not word in stop_words]\n",
        "    return without_stopwords\n",
        "\n",
        "data[\"review_words\"] = data.clean_review.apply(remove_stopwords)"
      ],
      "execution_count": null,
      "outputs": []
    },
    {
      "cell_type": "code",
      "metadata": {
        "id": "7dY1EGapkF4N"
      },
      "source": [
        "# data[\"review_words\"]"
      ],
      "execution_count": null,
      "outputs": []
    },
    {
      "cell_type": "code",
      "metadata": {
        "id": "Y-vbSQXUvRMV"
      },
      "source": [
        "# data[\"clean_review\"]"
      ],
      "execution_count": null,
      "outputs": []
    },
    {
      "cell_type": "code",
      "metadata": {
        "id": "qQdrME537IJv"
      },
      "source": [
        "data.head(15)"
      ],
      "execution_count": null,
      "outputs": []
    },
    {
      "cell_type": "code",
      "metadata": {
        "id": "FIkt3GDq-vsk"
      },
      "source": [
        "print(type(data[\"clean_review\"][0]))\n",
        "\n",
        "print(type(data[\"review_words\"][0]))"
      ],
      "execution_count": null,
      "outputs": []
    },
    {
      "cell_type": "markdown",
      "metadata": {
        "id": "vLeBPZSEY4Jh"
      },
      "source": [
        "# TF-IDF features | Latent Dirichlet allocation"
      ]
    },
    {
      "cell_type": "code",
      "metadata": {
        "id": "lu00AB7v5VIe"
      },
      "source": [
        "import itertools\n",
        "\n",
        "laplace = lidstone = range(1, 4)\n",
        "\n",
        "lap_lid = list(itertools.product(laplace, lidstone))\n",
        "\n",
        "lap_lid"
      ],
      "execution_count": null,
      "outputs": []
    },
    {
      "cell_type": "code",
      "metadata": {
        "id": "VEIG7yCEv5YH"
      },
      "source": [
        "vectorizer = TfidfVectorizer(min_df = 0.05, \n",
        "                             max_df = 0.40, \n",
        "                             max_features = None,\n",
        "                             vocabulary = None,\n",
        "                             ngram_range = (2, 2)).fit(data[\"clean_review\"])\n",
        "\n",
        "# MINDF Ignore terms that have a document frequency strictly higher than the given threshold\n",
        "# MAXDF When building the vocabulary ignore terms that have a document frequency strictly lower than the given threshold\n",
        "\n",
        "data_vectorized = vectorizer.transform(data[\"clean_review\"])\n",
        "\n",
        "lda_model = LatentDirichletAllocation(n_components = 2,\n",
        "                                      verbose = 0,\n",
        "                                      max_iter = 50).fit(data_vectorized)\n",
        "\n",
        "def print_topics(model, vectorizer):\n",
        "    for idx, topic in enumerate(model.components_):\n",
        "        print(\"Topic %d:\" % (idx))\n",
        "        print([(vectorizer.get_feature_names()[i], round(topic[i], 2))\n",
        "                        for i in topic.argsort()[:-10 - 1:-1]])"
      ],
      "execution_count": null,
      "outputs": []
    },
    {
      "cell_type": "code",
      "metadata": {
        "id": "HY1zU_sW0FrP"
      },
      "source": [
        "# vectorizer.vocabulary_"
      ],
      "execution_count": null,
      "outputs": []
    },
    {
      "cell_type": "code",
      "metadata": {
        "id": "VZhVYO5s1iap"
      },
      "source": [
        "lda_model.components_ # Vectors?"
      ],
      "execution_count": null,
      "outputs": []
    },
    {
      "cell_type": "code",
      "metadata": {
        "id": "446i6CoQwQ8Z"
      },
      "source": [
        "print_topics(lda_model, vectorizer)"
      ],
      "execution_count": null,
      "outputs": []
    },
    {
      "cell_type": "code",
      "metadata": {
        "id": "4IyvqAG_wZhV"
      },
      "source": [
        "example = [\"side effect\"]\n",
        "\n",
        "example_vectorized = vectorizer.transform(example)\n",
        "\n",
        "lda_vectors = lda_model.transform(example_vectorized)\n",
        "\n",
        "print(\"topic 0 :\", lda_vectors[0][0])\n",
        "print(\"topic 1 :\", lda_vectors[0][1])"
      ],
      "execution_count": null,
      "outputs": []
    },
    {
      "cell_type": "markdown",
      "metadata": {
        "id": "9ygXFa-OaOgP"
      },
      "source": [
        "# TF-IDF features | Pipeline"
      ]
    },
    {
      "cell_type": "code",
      "metadata": {
        "id": "3yBHK5zJXl1u"
      },
      "source": [
        "# Create Pipeline\n",
        "pipe = Pipeline([('tfidf', TfidfVectorizer()),\n",
        "                 ('nb', MultinomialNB())\n",
        "                ])\n",
        "\n",
        "# Set parameters to search (model and vectorizer)\n",
        "parameters = {\n",
        "    'tfidf__ngram_range': (lap_lid), # The lower and upper boundary of the range of n-values for different word n-grams or char n-grams to be extracted\n",
        "    'tfidf__min_df': (np.linspace(0.01, 0.49, num = 10)),\n",
        "    'tfidf__max_df': (np.linspace(0.50, 0.99, num = 10)),\n",
        "    'nb__alpha': (np.linspace(0.01, 0.99, num = 10)) # Additive (Laplace/Lidstone) smoothing parameter (0 for no smoothing)\n",
        "    }\n",
        "\n",
        "# Perform grid search\n",
        "grid_search = GridSearchCV(pipe, parameters,\n",
        "                           n_jobs=-1, \n",
        "                           verbose=1,\n",
        "                           scoring = \"accuracy\", \n",
        "                           refit=True,\n",
        "                           cv=5)\n",
        "\n",
        "grid_search.fit(data[\"clean_review\"], y)"
      ],
      "execution_count": null,
      "outputs": []
    },
    {
      "cell_type": "code",
      "metadata": {
        "id": "oHMCGyAAdqX-"
      },
      "source": [
        "grid_search.best_params_"
      ],
      "execution_count": null,
      "outputs": []
    },
    {
      "cell_type": "code",
      "metadata": {
        "id": "_tbcRqUkdutT"
      },
      "source": [
        "best_model = grid_search.best_estimator_\n",
        "\n",
        "# best_model.transform(data[\"review\"]) # Predict?!?!"
      ],
      "execution_count": null,
      "outputs": []
    },
    {
      "cell_type": "code",
      "metadata": {
        "id": "AeRaeVTboE2l"
      },
      "source": [
        "# best_model.LatentDirichletAllocation(n_components = 2,\n",
        "#                                       verbose = 0,\n",
        "#                                       max_iter = 50).fit(data_vectorized)\n",
        "\n",
        "# def print_topics(model, vectorizer):\n",
        "#     for idx, topic in enumerate(model.components_):\n",
        "#         print(\"Topic %d:\" % (idx))\n",
        "#         print([(vectorizer.get_feature_names()[i], round(topic[i], 2))\n",
        "#                         for i in topic.argsort()[:-10 - 1:-1]])"
      ],
      "execution_count": null,
      "outputs": []
    },
    {
      "cell_type": "code",
      "metadata": {
        "id": "hiqJ_bXdoPuv"
      },
      "source": [
        "# best_model.components_"
      ],
      "execution_count": null,
      "outputs": []
    },
    {
      "cell_type": "code",
      "metadata": {
        "id": "l2yMrWiMoPzq"
      },
      "source": [
        "# print_topics(best_model, vectorizer)"
      ],
      "execution_count": null,
      "outputs": []
    },
    {
      "cell_type": "markdown",
      "metadata": {
        "id": "XSydII74ZwOv"
      },
      "source": [
        "# CountVectorizer | Latent Dirichlet allocation"
      ]
    },
    {
      "cell_type": "code",
      "metadata": {
        "id": "iFYlPTjuaz3G"
      },
      "source": [
        "vectorizer = CountVectorizer(min_df = 0.05, \n",
        "                             max_df = 0.40, \n",
        "                             max_features = None,\n",
        "                             vocabulary = None,\n",
        "                             ngram_range = (2, 2)).fit(data[\"review\"])\n",
        "\n",
        "# MINDF Ignore terms that have a document frequency strictly higher than the given threshold\n",
        "# MAXDF When building the vocabulary ignore terms that have a document frequency strictly lower than the given threshold\n",
        "\n",
        "data_vectorized = vectorizer.transform(data[\"review\"])\n",
        "\n",
        "lda_model = LatentDirichletAllocation(n_components = 2,\n",
        "                                      verbose = 0,\n",
        "                                      max_iter = 50).fit(data_vectorized)\n",
        "\n",
        "def print_topics(model, vectorizer):\n",
        "    for idx, topic in enumerate(model.components_):\n",
        "        print(\"Topic %d:\" % (idx))\n",
        "        print([(vectorizer.get_feature_names()[i], round(topic[i], 2))\n",
        "                        for i in topic.argsort()[:-10 - 1:-1]])"
      ],
      "execution_count": null,
      "outputs": []
    },
    {
      "cell_type": "code",
      "metadata": {
        "id": "SSP_8i87a_t6"
      },
      "source": [
        "# vectorizer.vocabulary_"
      ],
      "execution_count": null,
      "outputs": []
    },
    {
      "cell_type": "code",
      "metadata": {
        "id": "35aIxLxia_wv"
      },
      "source": [
        "lda_model.components_ # Vectors?"
      ],
      "execution_count": null,
      "outputs": []
    },
    {
      "cell_type": "code",
      "metadata": {
        "id": "MHBRCjyhbC_D"
      },
      "source": [
        "print_topics(lda_model, vectorizer)"
      ],
      "execution_count": null,
      "outputs": []
    },
    {
      "cell_type": "code",
      "metadata": {
        "id": "EzIROp9Ccpm8"
      },
      "source": [
        "example = [\"side effect\"]\n",
        "\n",
        "example_vectorized = vectorizer.transform(example)\n",
        "\n",
        "lda_vectors = lda_model.transform(example_vectorized)\n",
        "\n",
        "print(\"topic 0 :\", lda_vectors[0][0])\n",
        "print(\"topic 1 :\", lda_vectors[0][1])"
      ],
      "execution_count": null,
      "outputs": []
    },
    {
      "cell_type": "markdown",
      "metadata": {
        "id": "VfbrUsALaap_"
      },
      "source": [
        "# CountVectorizer | Pipeline"
      ]
    },
    {
      "cell_type": "code",
      "metadata": {
        "id": "9DM7mA04ywpP"
      },
      "source": [
        "# Create Pipeline\n",
        "pipe = Pipeline([('Count', CountVectorizer()),\n",
        "                 ('nb', MultinomialNB())\n",
        "                ])\n",
        "\n",
        "# Set parameters to search (model and vectorizer)\n",
        "parameters = {\n",
        "    'Count__ngram_range': (lap_lid), # The lower and upper boundary of the range of n-values for different word n-grams or char n-grams to be extracted\n",
        "    'Count__min_df': (np.linspace(0.01, 0.49, num = 10)),\n",
        "    'Count__max_df': (np.linspace(0.50, 0.99, num = 10)),\n",
        "    'Count__max_features' : ([1 , 2, 3, 4, 5]),\n",
        "    'nb__alpha': (np.linspace(0.01, 0.99, num = 10)), # Additive (Laplace/Lidstone) smoothing parameter (0 for no smoothing)\n",
        "    }\n",
        "\n",
        "# Perform grid search\n",
        "grid_search = GridSearchCV(pipe, parameters, n_jobs=-1, \n",
        "                           verbose=1, scoring = \"accuracy\", \n",
        "                           refit=True, cv=5)\n",
        "\n",
        "grid_search.fit(data[\"clean_review\"], y)"
      ],
      "execution_count": null,
      "outputs": []
    },
    {
      "cell_type": "code",
      "metadata": {
        "id": "3xz3WSok5f5F"
      },
      "source": [
        "grid_search.best_params_"
      ],
      "execution_count": null,
      "outputs": []
    },
    {
      "cell_type": "code",
      "metadata": {
        "id": "8yMriaro5gx1"
      },
      "source": [
        "best_model = grid_search.best_estimator_"
      ],
      "execution_count": null,
      "outputs": []
    }
  ]
}