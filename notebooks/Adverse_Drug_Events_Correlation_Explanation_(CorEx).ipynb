{
  "nbformat": 4,
  "nbformat_minor": 0,
  "metadata": {
    "colab": {
      "name": "Adverse Drug Events - Correlation Explanation (CorEx).ipynb",
      "provenance": []
    },
    "kernelspec": {
      "name": "python3",
      "display_name": "Python 3"
    }
  },
  "cells": [
    {
      "cell_type": "markdown",
      "metadata": {
        "id": "IFhAZdtkYrNO"
      },
      "source": [
        "# Imports"
      ]
    },
    {
      "cell_type": "code",
      "metadata": {
        "colab": {
          "base_uri": "https://localhost:8080/"
        },
        "id": "MGWhRE5BdKLP",
        "outputId": "03c25258-d970-418b-b20e-af22614e0f96"
      },
      "source": [
        "import pandas as pd # DataFrame Manipulation Package\n",
        "import numpy as np\n",
        "import matplotlib.pyplot as plt\n",
        "\n",
        "from sklearn.feature_extraction.text import TfidfVectorizer # Convert a collection of raw documents to a matrix of TF-IDF features\n",
        "from sklearn.decomposition import LatentDirichletAllocation # Latent Dirichlet Allocation is a topic model that is used for discovering abstract topics from a collection of documents (variational Bayes algorithm)\n",
        "from sklearn.feature_extraction.text import CountVectorizer # Convert a collection of text documents to a matrix of token counts\n",
        "\n",
        "from sklearn.pipeline import Pipeline\n",
        "from sklearn.model_selection import GridSearchCV\n",
        "from sklearn.naive_bayes import MultinomialNB # The multinomial Naive Bayes classifier is suitable for classification with discrete features (e.g., word counts for text classification)\n",
        "\n",
        "import string # Collection of string operations\n",
        "from nltk.corpus import stopwords \n",
        "from nltk.stem.wordnet import WordNetLemmatizer #Lemmatize using WordNet's built-in morphy function. Returns the input word unchanged if it cannot be found in WordNet.\n",
        "from nltk import word_tokenize\n",
        "\n",
        "from nltk.sentiment.util import mark_negation"
      ],
      "execution_count": 1,
      "outputs": [
        {
          "output_type": "stream",
          "text": [
            "/usr/local/lib/python3.6/dist-packages/nltk/twitter/__init__.py:20: UserWarning: The twython library has not been installed. Some functionality from the twitter package will not be available.\n",
            "  warnings.warn(\"The twython library has not been installed. \"\n"
          ],
          "name": "stderr"
        }
      ]
    },
    {
      "cell_type": "code",
      "metadata": {
        "colab": {
          "base_uri": "https://localhost:8080/"
        },
        "id": "CtTAm1pM4S1J",
        "outputId": "be5a9310-86a7-4c09-e6d6-64d7b38c8956"
      },
      "source": [
        "!pip install corextopic"
      ],
      "execution_count": 2,
      "outputs": [
        {
          "output_type": "stream",
          "text": [
            "Requirement already satisfied: corextopic in /usr/local/lib/python3.6/dist-packages (1.0.6)\n"
          ],
          "name": "stdout"
        }
      ]
    },
    {
      "cell_type": "code",
      "metadata": {
        "id": "Qvan5aGEvZUx",
        "colab": {
          "base_uri": "https://localhost:8080/"
        },
        "outputId": "ca8ba52d-0aaf-4590-8336-a692e0ca429d"
      },
      "source": [
        "from google.colab import drive\n",
        "drive.mount('drive')"
      ],
      "execution_count": 3,
      "outputs": [
        {
          "output_type": "stream",
          "text": [
            "Drive already mounted at drive; to attempt to forcibly remount, call drive.mount(\"drive\", force_remount=True).\n"
          ],
          "name": "stdout"
        }
      ]
    },
    {
      "cell_type": "code",
      "metadata": {
        "id": "MwlPZL0Nve81",
        "colab": {
          "base_uri": "https://localhost:8080/"
        },
        "outputId": "c48938d0-37b6-4892-f7b1-a306393b598b"
      },
      "source": [
        "import nltk\n",
        "\n",
        "nltk.download('stopwords')\n",
        "nltk.download('punkt')\n",
        "nltk.download('wordnet')"
      ],
      "execution_count": 4,
      "outputs": [
        {
          "output_type": "stream",
          "text": [
            "[nltk_data] Downloading package stopwords to /root/nltk_data...\n",
            "[nltk_data]   Package stopwords is already up-to-date!\n",
            "[nltk_data] Downloading package punkt to /root/nltk_data...\n",
            "[nltk_data]   Package punkt is already up-to-date!\n",
            "[nltk_data] Downloading package wordnet to /root/nltk_data...\n",
            "[nltk_data]   Package wordnet is already up-to-date!\n"
          ],
          "name": "stdout"
        },
        {
          "output_type": "execute_result",
          "data": {
            "text/plain": [
              "True"
            ]
          },
          "metadata": {
            "tags": []
          },
          "execution_count": 4
        }
      ]
    },
    {
      "cell_type": "markdown",
      "metadata": {
        "id": "laSyLC8bYzfb"
      },
      "source": [
        "# Functions"
      ]
    },
    {
      "cell_type": "code",
      "metadata": {
        "id": "uj-5L5mXHEcw"
      },
      "source": [
        "stop_words = set(stopwords.words('english')) \n",
        "\n",
        "NEGATIONS = [\"no\", \"not\", \"shouldn't\", \"aren't\", \"couldn't\", \"didn't\", \"doesn't\", \"don't\", \"wasn't\", \"weren't\", \"wouldn't\", \"nor\"]\n",
        "\n",
        "NEW_WORDS = ['mg', \"month\", \"year\", \"day\", \"week\", \"time\", \"im\", \"ive\", \"hour\"]\n",
        "\n",
        "for negation in NEGATIONS:\n",
        "    stop_words.remove(negation)\n",
        "\n",
        "for new_word in NEW_WORDS:\n",
        "    stop_words.add(new_word)\n",
        "\n",
        "# stop_words"
      ],
      "execution_count": 5,
      "outputs": []
    },
    {
      "cell_type": "code",
      "metadata": {
        "id": "b-NO8IZarxx7"
      },
      "source": [
        "def to_list(x):\n",
        "    list_words = x.split(' ')\n",
        "    return list_words\n",
        "\n",
        "def to_string(x):\n",
        "    string = \" \".join(x)\n",
        "    return string\n",
        "\n",
        "#===============================================================\n",
        "\n",
        "def punctuation(x):\n",
        "    for punctuation in string.punctuation:\n",
        "        x =  x.replace(punctuation, '')\n",
        "    return x.lower()\n",
        "\n",
        "def remove_numbers (x):\n",
        "    words_only = ''.join([i for i in x if not i.isdigit()])\n",
        "    return words_only\n",
        "\n",
        "def m_negation(x):\n",
        "    tokenized = word_tokenize(x)\n",
        "    without_stopwords = [word for word in tokenized if not word in stop_words]\n",
        "    tokenized_neg = mark_negation(without_stopwords)\n",
        "    return tokenized_neg\n",
        "\n",
        "def remove_stopwords(x):\n",
        "    tokenized = word_tokenize(x)\n",
        "    without_stopwords = [word for word in tokenized if not word in stop_words]\n",
        "    return without_stopwords\n",
        "\n",
        "def lemmatize_review(x):\n",
        "    lemma = WordNetLemmatizer()\n",
        "    lista = []\n",
        "    for w in x:\n",
        "       lista.append(lemma.lemmatize(w))\n",
        "    return lista\n",
        "\n",
        "#===============================================================\n",
        "\n",
        "def count_words(x):\n",
        "    wordfreq = []\n",
        "    for w in x:\n",
        "        wordfreq.append(x.count(w))\n",
        "    return dict(zip(x, wordfreq))\n",
        "\n",
        "def total_count(x):\n",
        "    total_count = {}\n",
        "    for row in x:\n",
        "        for key in row.keys():\n",
        "          if key in total_count:\n",
        "              total_count[key] += 1\n",
        "          else:\n",
        "              total_count[key] = 1\n",
        "    return pd.DataFrame(sorted(total_count.items(), key=lambda x: x[1], reverse=True)).head(30).T\n",
        "\n",
        "def round_two(x):\n",
        "    return str(int(round(x, 2) * 100)) + \"%\"\n",
        "#===============================================================\n",
        "\n",
        "def print_topics(model, vectorizer):\n",
        "    for idx, topic in enumerate(model.components_):\n",
        "        print(\"Topic %d:\" % (idx))\n",
        "        print([(vectorizer.get_feature_names()[i], round(topic[i], 2))\n",
        "                        for i in topic.argsort()[:-10 - 1:-1]])"
      ],
      "execution_count": 6,
      "outputs": []
    },
    {
      "cell_type": "markdown",
      "metadata": {
        "id": "mBXYxVWOMNB7"
      },
      "source": [
        "# Manual"
      ]
    },
    {
      "cell_type": "code",
      "metadata": {
        "id": "rGlZiURk-Bj-",
        "colab": {
          "base_uri": "https://localhost:8080/",
          "height": 278
        },
        "outputId": "c6718903-b692-4012-fa36-a4a0ad7cbcf4"
      },
      "source": [
        "# manual = pd.read_csv('manually_labelled_data.csv')\n",
        "\n",
        "manual = pd.read_csv(\"/content/drive/MyDrive/Data/manually_labelled_data.csv\")\n",
        "\n",
        "manual = manual.drop([\"uniqueID\", \"drugName\", \"condition\", \"date\", \"rating\", \"usefulCount\"], axis = 1)\n",
        "\n",
        "manual[\"clean_review\"] = manual[\"review\"].apply(punctuation)\n",
        "manual['clean_review'] = manual.clean_review.apply(remove_numbers)\n",
        "manual['clean_review_lst'] = manual.clean_review.apply(to_list)\n",
        "\n",
        "manual[\"NonStopwords_review_lst\"] = manual.clean_review.apply(remove_stopwords)\n",
        "manual[\"NonStopwords_review_str\"] = manual.NonStopwords_review_lst.apply(to_string)\n",
        "\n",
        "manual[\"NonStopwords_review_lst_MN\"] = manual.clean_review.apply(m_negation)\n",
        "manual[\"NonStopwords_review_str_MN\"] = manual.NonStopwords_review_lst_MN.apply(to_string)\n",
        "\n",
        "manual[\"Lemmatized_review_lst\"] = manual.NonStopwords_review_lst_MN.apply(lemmatize_review)\n",
        "manual[\"Lemmatized_review_str\"] = manual.Lemmatized_review_lst.apply(to_string)\n",
        "\n",
        "manual[\"Lemmatized_review_list\"] = manual.NonStopwords_review_lst.apply(lemmatize_review)\n",
        "manual[\"Lemmatized_review\"] = manual.Lemmatized_review_list.apply(to_string)\n",
        "manual[\"Lemmatized_review_list\"] = manual.Lemmatized_review.apply(remove_stopwords)\n",
        "manual[\"Lemmatized_review\"] = manual.Lemmatized_review_list.apply(to_string)\n",
        "\n",
        "manual[\"words_count\"] = manual.Lemmatized_review_list.apply(count_words)\n",
        "\n",
        "X = manual[\"Lemmatized_review_str\"]\n",
        "\n",
        "y = manual[\"sideEffect\"]\n",
        "\n",
        "manual = manual.drop([\"clean_review\", \"clean_review_lst\", \"NonStopwords_review_lst\", \"NonStopwords_review_str\"], axis = 1)\n",
        "\n",
        "manual.head(3)"
      ],
      "execution_count": 7,
      "outputs": [
        {
          "output_type": "execute_result",
          "data": {
            "text/html": [
              "<div>\n",
              "<style scoped>\n",
              "    .dataframe tbody tr th:only-of-type {\n",
              "        vertical-align: middle;\n",
              "    }\n",
              "\n",
              "    .dataframe tbody tr th {\n",
              "        vertical-align: top;\n",
              "    }\n",
              "\n",
              "    .dataframe thead th {\n",
              "        text-align: right;\n",
              "    }\n",
              "</style>\n",
              "<table border=\"1\" class=\"dataframe\">\n",
              "  <thead>\n",
              "    <tr style=\"text-align: right;\">\n",
              "      <th></th>\n",
              "      <th>review</th>\n",
              "      <th>sideEffect</th>\n",
              "      <th>NonStopwords_review_lst_MN</th>\n",
              "      <th>NonStopwords_review_str_MN</th>\n",
              "      <th>Lemmatized_review_lst</th>\n",
              "      <th>Lemmatized_review_str</th>\n",
              "      <th>Lemmatized_review_list</th>\n",
              "      <th>Lemmatized_review</th>\n",
              "      <th>words_count</th>\n",
              "    </tr>\n",
              "  </thead>\n",
              "  <tbody>\n",
              "    <tr>\n",
              "      <th>0</th>\n",
              "      <td>\"It has no side effect, I take it in combinati...</td>\n",
              "      <td>0</td>\n",
              "      <td>[no, side_NEG, effect_NEG, take_NEG, combinati...</td>\n",
              "      <td>no side_NEG effect_NEG take_NEG combination_NE...</td>\n",
              "      <td>[no, side_NEG, effect_NEG, take_NEG, combinati...</td>\n",
              "      <td>no side_NEG effect_NEG take_NEG combination_NE...</td>\n",
              "      <td>[no, side, effect, take, combination, bystolic...</td>\n",
              "      <td>no side effect take combination bystolic fish oil</td>\n",
              "      <td>{'no': 1, 'side': 1, 'effect': 1, 'take': 1, '...</td>\n",
              "    </tr>\n",
              "    <tr>\n",
              "      <th>1</th>\n",
              "      <td>\"My son is halfway through his fourth week of ...</td>\n",
              "      <td>1</td>\n",
              "      <td>[son, halfway, fourth, intuniv, became, concer...</td>\n",
              "      <td>son halfway fourth intuniv became concerned be...</td>\n",
              "      <td>[son, halfway, fourth, intuniv, became, concer...</td>\n",
              "      <td>son halfway fourth intuniv became concerned be...</td>\n",
              "      <td>[son, halfway, fourth, intuniv, became, concer...</td>\n",
              "      <td>son halfway fourth intuniv became concerned be...</td>\n",
              "      <td>{'son': 1, 'halfway': 1, 'fourth': 1, 'intuniv...</td>\n",
              "    </tr>\n",
              "    <tr>\n",
              "      <th>2</th>\n",
              "      <td>\"I used to take another oral contraceptive, wh...</td>\n",
              "      <td>1</td>\n",
              "      <td>[used, take, another, oral, contraceptive, pil...</td>\n",
              "      <td>used take another oral contraceptive pill cycl...</td>\n",
              "      <td>[used, take, another, oral, contraceptive, pil...</td>\n",
              "      <td>used take another oral contraceptive pill cycl...</td>\n",
              "      <td>[used, take, another, oral, contraceptive, pil...</td>\n",
              "      <td>used take another oral contraceptive pill cycl...</td>\n",
              "      <td>{'used': 1, 'take': 1, 'another': 1, 'oral': 1...</td>\n",
              "    </tr>\n",
              "  </tbody>\n",
              "</table>\n",
              "</div>"
            ],
            "text/plain": [
              "                                              review  ...                                        words_count\n",
              "0  \"It has no side effect, I take it in combinati...  ...  {'no': 1, 'side': 1, 'effect': 1, 'take': 1, '...\n",
              "1  \"My son is halfway through his fourth week of ...  ...  {'son': 1, 'halfway': 1, 'fourth': 1, 'intuniv...\n",
              "2  \"I used to take another oral contraceptive, wh...  ...  {'used': 1, 'take': 1, 'another': 1, 'oral': 1...\n",
              "\n",
              "[3 rows x 9 columns]"
            ]
          },
          "metadata": {
            "tags": []
          },
          "execution_count": 7
        }
      ]
    },
    {
      "cell_type": "code",
      "metadata": {
        "id": "zx3n6MXR2Kw5",
        "colab": {
          "base_uri": "https://localhost:8080/",
          "height": 111
        },
        "outputId": "b77e5e8b-a89d-4549-88a1-c9701f90ae0a"
      },
      "source": [
        "total_count(manual[\"words_count\"])"
      ],
      "execution_count": 8,
      "outputs": [
        {
          "output_type": "execute_result",
          "data": {
            "text/html": [
              "<div>\n",
              "<style scoped>\n",
              "    .dataframe tbody tr th:only-of-type {\n",
              "        vertical-align: middle;\n",
              "    }\n",
              "\n",
              "    .dataframe tbody tr th {\n",
              "        vertical-align: top;\n",
              "    }\n",
              "\n",
              "    .dataframe thead th {\n",
              "        text-align: right;\n",
              "    }\n",
              "</style>\n",
              "<table border=\"1\" class=\"dataframe\">\n",
              "  <thead>\n",
              "    <tr style=\"text-align: right;\">\n",
              "      <th></th>\n",
              "      <th>0</th>\n",
              "      <th>1</th>\n",
              "      <th>2</th>\n",
              "      <th>3</th>\n",
              "      <th>4</th>\n",
              "      <th>5</th>\n",
              "      <th>6</th>\n",
              "      <th>7</th>\n",
              "      <th>8</th>\n",
              "      <th>9</th>\n",
              "      <th>10</th>\n",
              "      <th>11</th>\n",
              "      <th>12</th>\n",
              "      <th>13</th>\n",
              "      <th>14</th>\n",
              "      <th>15</th>\n",
              "      <th>16</th>\n",
              "      <th>17</th>\n",
              "      <th>18</th>\n",
              "      <th>19</th>\n",
              "      <th>20</th>\n",
              "      <th>21</th>\n",
              "      <th>22</th>\n",
              "      <th>23</th>\n",
              "      <th>24</th>\n",
              "      <th>25</th>\n",
              "      <th>26</th>\n",
              "      <th>27</th>\n",
              "      <th>28</th>\n",
              "      <th>29</th>\n",
              "    </tr>\n",
              "  </thead>\n",
              "  <tbody>\n",
              "    <tr>\n",
              "      <th>0</th>\n",
              "      <td>not</td>\n",
              "      <td>effect</td>\n",
              "      <td>side</td>\n",
              "      <td>taking</td>\n",
              "      <td>started</td>\n",
              "      <td>take</td>\n",
              "      <td>no</td>\n",
              "      <td>first</td>\n",
              "      <td>like</td>\n",
              "      <td>work</td>\n",
              "      <td>get</td>\n",
              "      <td>one</td>\n",
              "      <td>also</td>\n",
              "      <td>would</td>\n",
              "      <td>doctor</td>\n",
              "      <td>life</td>\n",
              "      <td>help</td>\n",
              "      <td>pain</td>\n",
              "      <td>much</td>\n",
              "      <td>still</td>\n",
              "      <td>went</td>\n",
              "      <td>feel</td>\n",
              "      <td>took</td>\n",
              "      <td>really</td>\n",
              "      <td>well</td>\n",
              "      <td>two</td>\n",
              "      <td>good</td>\n",
              "      <td>every</td>\n",
              "      <td>better</td>\n",
              "      <td>medication</td>\n",
              "    </tr>\n",
              "    <tr>\n",
              "      <th>1</th>\n",
              "      <td>39</td>\n",
              "      <td>38</td>\n",
              "      <td>34</td>\n",
              "      <td>32</td>\n",
              "      <td>31</td>\n",
              "      <td>29</td>\n",
              "      <td>24</td>\n",
              "      <td>23</td>\n",
              "      <td>23</td>\n",
              "      <td>22</td>\n",
              "      <td>21</td>\n",
              "      <td>20</td>\n",
              "      <td>18</td>\n",
              "      <td>18</td>\n",
              "      <td>17</td>\n",
              "      <td>17</td>\n",
              "      <td>17</td>\n",
              "      <td>17</td>\n",
              "      <td>16</td>\n",
              "      <td>16</td>\n",
              "      <td>16</td>\n",
              "      <td>16</td>\n",
              "      <td>16</td>\n",
              "      <td>16</td>\n",
              "      <td>16</td>\n",
              "      <td>15</td>\n",
              "      <td>15</td>\n",
              "      <td>15</td>\n",
              "      <td>14</td>\n",
              "      <td>14</td>\n",
              "    </tr>\n",
              "  </tbody>\n",
              "</table>\n",
              "</div>"
            ],
            "text/plain": [
              "    0       1     2       3        4   ...   25    26     27      28          29\n",
              "0  not  effect  side  taking  started  ...  two  good  every  better  medication\n",
              "1   39      38    34      32       31  ...   15    15     15      14          14\n",
              "\n",
              "[2 rows x 30 columns]"
            ]
          },
          "metadata": {
            "tags": []
          },
          "execution_count": 8
        }
      ]
    },
    {
      "cell_type": "markdown",
      "metadata": {
        "id": "KGs0FYOJYuiw"
      },
      "source": [
        "# Data"
      ]
    },
    {
      "cell_type": "code",
      "metadata": {
        "id": "EXE8dbR5deD7",
        "colab": {
          "base_uri": "https://localhost:8080/"
        },
        "outputId": "e8134657-eae6-497c-84e6-22b13c59dea8"
      },
      "source": [
        "# data = pd.read_csv('drugsComTrain_raw.csv')\n",
        "\n",
        "data = pd.read_csv('/content/drive/MyDrive/Data/drugsComTrain_raw.csv')\n",
        "\n",
        "print(f\"The shape of the data is {data.shape[0]} rows and {data.shape[1]} columns\")\n",
        "print(\"\\n\")\n",
        "print(f\"The amount of unique ID is {len(data['uniqueID'].unique())}\") # check if any of the uniqueID repeat\n",
        "print(\"\\n\")\n",
        "print(f\"The number of unique drugs reviewed is {len(data['drugName'].unique())}\")\n",
        "print(\"\\n\")\n",
        "print(f\"The number of unique conditions is {len(data['condition'].unique())}\")\n",
        "print(\"\\n\")"
      ],
      "execution_count": 9,
      "outputs": [
        {
          "output_type": "stream",
          "text": [
            "The shape of the data is 161297 rows and 7 columns\n",
            "\n",
            "\n",
            "The amount of unique ID is 161297\n",
            "\n",
            "\n",
            "The number of unique drugs reviewed is 3436\n",
            "\n",
            "\n",
            "The number of unique conditions is 885\n",
            "\n",
            "\n"
          ],
          "name": "stdout"
        }
      ]
    },
    {
      "cell_type": "code",
      "metadata": {
        "id": "kNZe0N5PjZyK",
        "colab": {
          "base_uri": "https://localhost:8080/",
          "height": 114
        },
        "outputId": "ccdf391e-7476-4f88-cb86-d8f6a69ae1ac"
      },
      "source": [
        "pd.DataFrame(data[\"drugName\"].value_counts()).head(14).T"
      ],
      "execution_count": 10,
      "outputs": [
        {
          "output_type": "execute_result",
          "data": {
            "text/html": [
              "<div>\n",
              "<style scoped>\n",
              "    .dataframe tbody tr th:only-of-type {\n",
              "        vertical-align: middle;\n",
              "    }\n",
              "\n",
              "    .dataframe tbody tr th {\n",
              "        vertical-align: top;\n",
              "    }\n",
              "\n",
              "    .dataframe thead th {\n",
              "        text-align: right;\n",
              "    }\n",
              "</style>\n",
              "<table border=\"1\" class=\"dataframe\">\n",
              "  <thead>\n",
              "    <tr style=\"text-align: right;\">\n",
              "      <th></th>\n",
              "      <th>Levonorgestrel</th>\n",
              "      <th>Etonogestrel</th>\n",
              "      <th>Ethinyl estradiol / norethindrone</th>\n",
              "      <th>Nexplanon</th>\n",
              "      <th>Ethinyl estradiol / norgestimate</th>\n",
              "      <th>Ethinyl estradiol / levonorgestrel</th>\n",
              "      <th>Phentermine</th>\n",
              "      <th>Sertraline</th>\n",
              "      <th>Escitalopram</th>\n",
              "      <th>Mirena</th>\n",
              "      <th>Implanon</th>\n",
              "      <th>Gabapentin</th>\n",
              "      <th>Bupropion</th>\n",
              "      <th>Venlafaxine</th>\n",
              "    </tr>\n",
              "  </thead>\n",
              "  <tbody>\n",
              "    <tr>\n",
              "      <th>drugName</th>\n",
              "      <td>3657</td>\n",
              "      <td>3336</td>\n",
              "      <td>2850</td>\n",
              "      <td>2156</td>\n",
              "      <td>2117</td>\n",
              "      <td>1888</td>\n",
              "      <td>1543</td>\n",
              "      <td>1360</td>\n",
              "      <td>1292</td>\n",
              "      <td>1242</td>\n",
              "      <td>1102</td>\n",
              "      <td>1047</td>\n",
              "      <td>1022</td>\n",
              "      <td>1016</td>\n",
              "    </tr>\n",
              "  </tbody>\n",
              "</table>\n",
              "</div>"
            ],
            "text/plain": [
              "          Levonorgestrel  Etonogestrel  ...  Bupropion  Venlafaxine\n",
              "drugName            3657          3336  ...       1022         1016\n",
              "\n",
              "[1 rows x 14 columns]"
            ]
          },
          "metadata": {
            "tags": []
          },
          "execution_count": 10
        }
      ]
    },
    {
      "cell_type": "code",
      "metadata": {
        "id": "9qr1qQ4MuT8Z",
        "colab": {
          "base_uri": "https://localhost:8080/",
          "height": 97
        },
        "outputId": "3a4b849c-6c04-4256-f46e-e9a2cff2ff4d"
      },
      "source": [
        "pd.DataFrame(data[\"condition\"].value_counts()).head(14).T"
      ],
      "execution_count": 11,
      "outputs": [
        {
          "output_type": "execute_result",
          "data": {
            "text/html": [
              "<div>\n",
              "<style scoped>\n",
              "    .dataframe tbody tr th:only-of-type {\n",
              "        vertical-align: middle;\n",
              "    }\n",
              "\n",
              "    .dataframe tbody tr th {\n",
              "        vertical-align: top;\n",
              "    }\n",
              "\n",
              "    .dataframe thead th {\n",
              "        text-align: right;\n",
              "    }\n",
              "</style>\n",
              "<table border=\"1\" class=\"dataframe\">\n",
              "  <thead>\n",
              "    <tr style=\"text-align: right;\">\n",
              "      <th></th>\n",
              "      <th>Birth Control</th>\n",
              "      <th>Depression</th>\n",
              "      <th>Pain</th>\n",
              "      <th>Anxiety</th>\n",
              "      <th>Acne</th>\n",
              "      <th>Bipolar Disorde</th>\n",
              "      <th>Insomnia</th>\n",
              "      <th>Weight Loss</th>\n",
              "      <th>Obesity</th>\n",
              "      <th>ADHD</th>\n",
              "      <th>Diabetes, Type 2</th>\n",
              "      <th>Emergency Contraception</th>\n",
              "      <th>High Blood Pressure</th>\n",
              "      <th>Vaginal Yeast Infection</th>\n",
              "    </tr>\n",
              "  </thead>\n",
              "  <tbody>\n",
              "    <tr>\n",
              "      <th>condition</th>\n",
              "      <td>28788</td>\n",
              "      <td>9069</td>\n",
              "      <td>6145</td>\n",
              "      <td>5904</td>\n",
              "      <td>5588</td>\n",
              "      <td>4224</td>\n",
              "      <td>3673</td>\n",
              "      <td>3609</td>\n",
              "      <td>3568</td>\n",
              "      <td>3383</td>\n",
              "      <td>2554</td>\n",
              "      <td>2463</td>\n",
              "      <td>2321</td>\n",
              "      <td>2274</td>\n",
              "    </tr>\n",
              "  </tbody>\n",
              "</table>\n",
              "</div>"
            ],
            "text/plain": [
              "           Birth Control  ...  Vaginal Yeast Infection\n",
              "condition          28788  ...                     2274\n",
              "\n",
              "[1 rows x 14 columns]"
            ]
          },
          "metadata": {
            "tags": []
          },
          "execution_count": 11
        }
      ]
    },
    {
      "cell_type": "code",
      "metadata": {
        "id": "I7MlNc1w_hxR"
      },
      "source": [
        "NUMERO_SAMPLES = 150\n",
        "\n",
        "data = data.drop([\"uniqueID\", \"drugName\", \"condition\", \"date\", \"rating\", \"usefulCount\"], axis = 1).head(NUMERO_SAMPLES) # SACAR ESTOOOOOO!!"
      ],
      "execution_count": 12,
      "outputs": []
    },
    {
      "cell_type": "code",
      "metadata": {
        "id": "kggrDvz8MFtl",
        "colab": {
          "base_uri": "https://localhost:8080/",
          "height": 244
        },
        "outputId": "c7513a0c-2a2c-485e-8e2d-f7fbd0e9b9c6"
      },
      "source": [
        "data[\"clean_review\"] = data[\"review\"].apply(punctuation)\n",
        "data['clean_review'] = data.clean_review.apply(remove_numbers)\n",
        "data['clean_review_lst'] = data.clean_review.apply(to_list)\n",
        "\n",
        "data[\"NonStopwords_review_lst\"] = data.clean_review.apply(remove_stopwords)\n",
        "data[\"NonStopwords_review_str\"] = data.NonStopwords_review_lst.apply(to_string)\n",
        "\n",
        "data[\"NonStopwords_review_lst_MN\"] = data.clean_review.apply(m_negation)\n",
        "data[\"NonStopwords_review_str_MN\"] = data.NonStopwords_review_lst_MN.apply(to_string)\n",
        "\n",
        "data[\"Lemmatized_review_lst\"] = data.NonStopwords_review_lst_MN.apply(lemmatize_review)\n",
        "data[\"Lemmatized_review_str\"] = data.Lemmatized_review_lst.apply(to_string)\n",
        "\n",
        "data[\"Lemmatized_review_list\"] = data.NonStopwords_review_lst.apply(lemmatize_review)\n",
        "data[\"Lemmatized_review\"] = data.Lemmatized_review_list.apply(to_string)\n",
        "data[\"Lemmatized_review_list\"] = data.Lemmatized_review.apply(remove_stopwords)\n",
        "data[\"Lemmatized_review\"] = data.Lemmatized_review_list.apply(to_string)\n",
        "\n",
        "data[\"words_count\"] = data.Lemmatized_review_list.apply(count_words)\n",
        "\n",
        "data = data.drop([\"clean_review\", \"clean_review_lst\", \"NonStopwords_review_lst\", \"NonStopwords_review_str\"], axis = 1)\n",
        "\n",
        "data.head(3)"
      ],
      "execution_count": 13,
      "outputs": [
        {
          "output_type": "execute_result",
          "data": {
            "text/html": [
              "<div>\n",
              "<style scoped>\n",
              "    .dataframe tbody tr th:only-of-type {\n",
              "        vertical-align: middle;\n",
              "    }\n",
              "\n",
              "    .dataframe tbody tr th {\n",
              "        vertical-align: top;\n",
              "    }\n",
              "\n",
              "    .dataframe thead th {\n",
              "        text-align: right;\n",
              "    }\n",
              "</style>\n",
              "<table border=\"1\" class=\"dataframe\">\n",
              "  <thead>\n",
              "    <tr style=\"text-align: right;\">\n",
              "      <th></th>\n",
              "      <th>review</th>\n",
              "      <th>NonStopwords_review_lst_MN</th>\n",
              "      <th>NonStopwords_review_str_MN</th>\n",
              "      <th>Lemmatized_review_lst</th>\n",
              "      <th>Lemmatized_review_str</th>\n",
              "      <th>Lemmatized_review_list</th>\n",
              "      <th>Lemmatized_review</th>\n",
              "      <th>words_count</th>\n",
              "    </tr>\n",
              "  </thead>\n",
              "  <tbody>\n",
              "    <tr>\n",
              "      <th>0</th>\n",
              "      <td>\"It has no side effect, I take it in combinati...</td>\n",
              "      <td>[no, side_NEG, effect_NEG, take_NEG, combinati...</td>\n",
              "      <td>no side_NEG effect_NEG take_NEG combination_NE...</td>\n",
              "      <td>[no, side_NEG, effect_NEG, take_NEG, combinati...</td>\n",
              "      <td>no side_NEG effect_NEG take_NEG combination_NE...</td>\n",
              "      <td>[no, side, effect, take, combination, bystolic...</td>\n",
              "      <td>no side effect take combination bystolic fish oil</td>\n",
              "      <td>{'no': 1, 'side': 1, 'effect': 1, 'take': 1, '...</td>\n",
              "    </tr>\n",
              "    <tr>\n",
              "      <th>1</th>\n",
              "      <td>\"My son is halfway through his fourth week of ...</td>\n",
              "      <td>[son, halfway, fourth, intuniv, became, concer...</td>\n",
              "      <td>son halfway fourth intuniv became concerned be...</td>\n",
              "      <td>[son, halfway, fourth, intuniv, became, concer...</td>\n",
              "      <td>son halfway fourth intuniv became concerned be...</td>\n",
              "      <td>[son, halfway, fourth, intuniv, became, concer...</td>\n",
              "      <td>son halfway fourth intuniv became concerned be...</td>\n",
              "      <td>{'son': 1, 'halfway': 1, 'fourth': 1, 'intuniv...</td>\n",
              "    </tr>\n",
              "    <tr>\n",
              "      <th>2</th>\n",
              "      <td>\"I used to take another oral contraceptive, wh...</td>\n",
              "      <td>[used, take, another, oral, contraceptive, pil...</td>\n",
              "      <td>used take another oral contraceptive pill cycl...</td>\n",
              "      <td>[used, take, another, oral, contraceptive, pil...</td>\n",
              "      <td>used take another oral contraceptive pill cycl...</td>\n",
              "      <td>[used, take, another, oral, contraceptive, pil...</td>\n",
              "      <td>used take another oral contraceptive pill cycl...</td>\n",
              "      <td>{'used': 1, 'take': 1, 'another': 1, 'oral': 1...</td>\n",
              "    </tr>\n",
              "  </tbody>\n",
              "</table>\n",
              "</div>"
            ],
            "text/plain": [
              "                                              review  ...                                        words_count\n",
              "0  \"It has no side effect, I take it in combinati...  ...  {'no': 1, 'side': 1, 'effect': 1, 'take': 1, '...\n",
              "1  \"My son is halfway through his fourth week of ...  ...  {'son': 1, 'halfway': 1, 'fourth': 1, 'intuniv...\n",
              "2  \"I used to take another oral contraceptive, wh...  ...  {'used': 1, 'take': 1, 'another': 1, 'oral': 1...\n",
              "\n",
              "[3 rows x 8 columns]"
            ]
          },
          "metadata": {
            "tags": []
          },
          "execution_count": 13
        }
      ]
    },
    {
      "cell_type": "code",
      "metadata": {
        "id": "T4MsJkEvybZb",
        "colab": {
          "base_uri": "https://localhost:8080/",
          "height": 111
        },
        "outputId": "eb01774c-9d2f-4a88-e6ce-b14792f8a444"
      },
      "source": [
        "total_count(data[\"words_count\"])"
      ],
      "execution_count": 14,
      "outputs": [
        {
          "output_type": "execute_result",
          "data": {
            "text/html": [
              "<div>\n",
              "<style scoped>\n",
              "    .dataframe tbody tr th:only-of-type {\n",
              "        vertical-align: middle;\n",
              "    }\n",
              "\n",
              "    .dataframe tbody tr th {\n",
              "        vertical-align: top;\n",
              "    }\n",
              "\n",
              "    .dataframe thead th {\n",
              "        text-align: right;\n",
              "    }\n",
              "</style>\n",
              "<table border=\"1\" class=\"dataframe\">\n",
              "  <thead>\n",
              "    <tr style=\"text-align: right;\">\n",
              "      <th></th>\n",
              "      <th>0</th>\n",
              "      <th>1</th>\n",
              "      <th>2</th>\n",
              "      <th>3</th>\n",
              "      <th>4</th>\n",
              "      <th>5</th>\n",
              "      <th>6</th>\n",
              "      <th>7</th>\n",
              "      <th>8</th>\n",
              "      <th>9</th>\n",
              "      <th>10</th>\n",
              "      <th>11</th>\n",
              "      <th>12</th>\n",
              "      <th>13</th>\n",
              "      <th>14</th>\n",
              "      <th>15</th>\n",
              "      <th>16</th>\n",
              "      <th>17</th>\n",
              "      <th>18</th>\n",
              "      <th>19</th>\n",
              "      <th>20</th>\n",
              "      <th>21</th>\n",
              "      <th>22</th>\n",
              "      <th>23</th>\n",
              "      <th>24</th>\n",
              "      <th>25</th>\n",
              "      <th>26</th>\n",
              "      <th>27</th>\n",
              "      <th>28</th>\n",
              "      <th>29</th>\n",
              "    </tr>\n",
              "  </thead>\n",
              "  <tbody>\n",
              "    <tr>\n",
              "      <th>0</th>\n",
              "      <td>not</td>\n",
              "      <td>effect</td>\n",
              "      <td>side</td>\n",
              "      <td>no</td>\n",
              "      <td>started</td>\n",
              "      <td>take</td>\n",
              "      <td>taking</td>\n",
              "      <td>first</td>\n",
              "      <td>get</td>\n",
              "      <td>one</td>\n",
              "      <td>work</td>\n",
              "      <td>doctor</td>\n",
              "      <td>like</td>\n",
              "      <td>pain</td>\n",
              "      <td>feel</td>\n",
              "      <td>would</td>\n",
              "      <td>went</td>\n",
              "      <td>help</td>\n",
              "      <td>much</td>\n",
              "      <td>medication</td>\n",
              "      <td>life</td>\n",
              "      <td>well</td>\n",
              "      <td>still</td>\n",
              "      <td>really</td>\n",
              "      <td>also</td>\n",
              "      <td>since</td>\n",
              "      <td>two</td>\n",
              "      <td>better</td>\n",
              "      <td>period</td>\n",
              "      <td>took</td>\n",
              "    </tr>\n",
              "    <tr>\n",
              "      <th>1</th>\n",
              "      <td>55</td>\n",
              "      <td>54</td>\n",
              "      <td>52</td>\n",
              "      <td>43</td>\n",
              "      <td>42</td>\n",
              "      <td>40</td>\n",
              "      <td>40</td>\n",
              "      <td>38</td>\n",
              "      <td>34</td>\n",
              "      <td>32</td>\n",
              "      <td>31</td>\n",
              "      <td>29</td>\n",
              "      <td>29</td>\n",
              "      <td>29</td>\n",
              "      <td>26</td>\n",
              "      <td>26</td>\n",
              "      <td>25</td>\n",
              "      <td>25</td>\n",
              "      <td>24</td>\n",
              "      <td>24</td>\n",
              "      <td>24</td>\n",
              "      <td>24</td>\n",
              "      <td>23</td>\n",
              "      <td>23</td>\n",
              "      <td>22</td>\n",
              "      <td>22</td>\n",
              "      <td>21</td>\n",
              "      <td>21</td>\n",
              "      <td>21</td>\n",
              "      <td>21</td>\n",
              "    </tr>\n",
              "  </tbody>\n",
              "</table>\n",
              "</div>"
            ],
            "text/plain": [
              "    0       1     2   3        4     5   ...    24     25   26      27      28    29\n",
              "0  not  effect  side  no  started  take  ...  also  since  two  better  period  took\n",
              "1   55      54    52  43       42    40  ...    22     22   21      21      21    21\n",
              "\n",
              "[2 rows x 30 columns]"
            ]
          },
          "metadata": {
            "tags": []
          },
          "execution_count": 14
        }
      ]
    },
    {
      "cell_type": "code",
      "metadata": {
        "id": "Qs9nl3nHqb1w"
      },
      "source": [
        "# correlation = data[\"rating\"].corr(data[\"usefulCount\"], method='pearson')\n",
        "\n",
        "# plt.matshow(data[[\"rating\", \"usefulCount\"]].corr())\n",
        "\n",
        "# plt.show()"
      ],
      "execution_count": 15,
      "outputs": []
    },
    {
      "cell_type": "markdown",
      "metadata": {
        "id": "cE25maP9SCpD"
      },
      "source": [
        "# corex"
      ]
    },
    {
      "cell_type": "code",
      "metadata": {
        "id": "lezmQ9saWu0S"
      },
      "source": [
        "vectorizer = CountVectorizer(min_df = 0.01, \n",
        "                             max_df = 0.30, \n",
        "                             max_features = None,\n",
        "                             vocabulary = None,\n",
        "                             ngram_range = (1, 3)).fit(manual[\"Lemmatized_review_str\"]) #\n",
        "\n",
        "# MINDF Ignore terms that have a document frequency strictly higher than the given threshold\n",
        "# MAXDF When building the vocabulary ignore terms that have a document frequency strictly lower than the given threshold\n",
        "\n",
        "data_vectorized = vectorizer.transform(manual[\"Lemmatized_review_str\"]) #\n",
        "\n",
        "lda_model = LatentDirichletAllocation(n_components = 2,\n",
        "                                      verbose = 0,\n",
        "                                      max_iter = 50).fit(data_vectorized)"
      ],
      "execution_count": 16,
      "outputs": []
    },
    {
      "cell_type": "code",
      "metadata": {
        "id": "IqhAxWgi3xcx",
        "colab": {
          "base_uri": "https://localhost:8080/"
        },
        "outputId": "7c4a6bf9-7d4f-45d3-d1b9-86f3dce720da"
      },
      "source": [
        "vectorizer = vectorizer.fit(manual[\"Lemmatized_review\"])\n",
        "\n",
        "tfidf = vectorizer.transform(manual[\"Lemmatized_review\"])\n",
        "\n",
        "vocab = vectorizer.get_feature_names()\n",
        "\n",
        "print(len(vocab))"
      ],
      "execution_count": 17,
      "outputs": [
        {
          "output_type": "stream",
          "text": [
            "9409\n"
          ],
          "name": "stdout"
        }
      ]
    },
    {
      "cell_type": "code",
      "metadata": {
        "id": "32zfVtPC37sK"
      },
      "source": [
        "from corextopic import corextopic as ct\n",
        "\n",
        "anchors = []\n",
        "model = ct.Corex(n_hidden = 7, seed=42)\n",
        "model = model.fit(\n",
        "    tfidf,\n",
        "    words = vocab\n",
        ")"
      ],
      "execution_count": 18,
      "outputs": []
    },
    {
      "cell_type": "code",
      "metadata": {
        "id": "UGXRTgpD48ZO",
        "colab": {
          "base_uri": "https://localhost:8080/"
        },
        "outputId": "782522ac-29bc-4026-8b81-e87b376e7acd"
      },
      "source": [
        "for i, topic_ngrams in enumerate(model.get_topics(n_words=10)):\n",
        "    topic_ngrams = [ngram[0] for ngram in topic_ngrams if ngram[1] > 0]\n",
        "    print(\"Topic #{}: {}\".format(i+1, \", \".join(topic_ngrams)))"
      ],
      "execution_count": 19,
      "outputs": [
        {
          "output_type": "stream",
          "text": [
            "Topic #1: finally, little, mild, get, home, experiencing, really, pain nausea, school, got worse\n",
            "Topic #2: lb, easily, along, lost lb, horrible, try, lb far, twice daily, office, cramp terrible\n",
            "Topic #3: show, cleared, remain, wonder, wondering, not take, sometimes, finding, worked well, care\n",
            "Topic #4: cured, let, serious, exactly, heart palpitation, level, system, one side, normal life, initial\n",
            "Topic #5: high, gp, drive completely, gp started, died, sex drive completely, minimal, review, chance\n",
            "Topic #6: hr, changed, changed life, considering, needed, drug, much better, upper, age, person\n",
            "Topic #7: sleep, drink, start, issue, wouldnt, thank, st, honestly, become, couple\n"
          ],
          "name": "stdout"
        }
      ]
    },
    {
      "cell_type": "code",
      "metadata": {
        "id": "l_GDmjgV4Ibw"
      },
      "source": [
        "# Anchors designed to nudge the model towards measuring specific genres\n",
        "anchors = [\n",
        "    [\"headache\", \"problems\"],\n",
        "    [\"diarrhea\", \"problems\"],\n",
        "    [\"acne\", \"problems\", \"worst\"],\n",
        "    [\"constipation\", \"problems\"],\n",
        "    [\"insomnia\",  \"problems\"],\n",
        "    [\"gain pound\", \"caused gain\", \"problems\"],\n",
        "    [\"good\", \"response\", \"improvement\", \"has no side effect\", \"normal person\"]\n",
        "]\n",
        "anchors = [\n",
        "    [a for a in topic if a in vocab]\n",
        "    for topic in anchors\n",
        "]\n",
        "\n",
        "model = ct.Corex(n_hidden=7, seed=42)\n",
        "model = model.fit(\n",
        "    tfidf,\n",
        "    words = vocab,\n",
        "    anchors = anchors, # Pass the anchors in here\n",
        "    anchor_strength = 3 # Tell the model how much it should rely on the anchors\n",
        ")"
      ],
      "execution_count": 20,
      "outputs": []
    },
    {
      "cell_type": "code",
      "metadata": {
        "id": "ybmorWVw5jpa",
        "colab": {
          "base_uri": "https://localhost:8080/"
        },
        "outputId": "b12c39f9-0cb3-4ed2-fe66-09c2c905c107"
      },
      "source": [
        "for i, topic_ngrams in enumerate(model.get_topics(n_words=10)):\n",
        "    topic_ngrams = [ngram[0] for ngram in topic_ngrams if ngram[1] > 0]\n",
        "    print(\"Topic #{}: {}\".format(i+1, \", \".join(topic_ngrams)))"
      ],
      "execution_count": 21,
      "outputs": [
        {
          "output_type": "stream",
          "text": [
            "Topic #1: changed, upper, begin, changed life, male, age, needed, small, good luck, taking low\n",
            "Topic #2: symptom, broke, mental, already, hopefully, told, plan, seem, high, around\n",
            "Topic #3: worst, acne, next, med, breakthrough, exactly, hit, one side, around pm, level\n",
            "Topic #4: worse, recently, even worse, form birth control, form birth, remission, didnt work, clear skin, discharge, period max\n",
            "Topic #5: home, use, head, yet, someone, really, doctor, noticeable, really help, mild\n",
            "Topic #6: bed, new, remain, seems manage, school, became, last started, dec, not take, one first\n",
            "Topic #7: close, improvement, normal person, go, note, way better, lose, best thing, terrible side effect, terrible side\n"
          ],
          "name": "stdout"
        }
      ]
    },
    {
      "cell_type": "code",
      "metadata": {
        "id": "Nr1ZLpx55m_3"
      },
      "source": [
        "topic_df = pd.DataFrame(\n",
        "    model.transform(tfidf), \n",
        "    columns=[\"topic_{}\".format(i+1) for i in range(7)]).astype(float)\n",
        "\n",
        "topic_df.index = manual.index\n",
        "\n",
        "df = pd.concat([manual, topic_df], axis=1)"
      ],
      "execution_count": 22,
      "outputs": []
    },
    {
      "cell_type": "code",
      "metadata": {
        "colab": {
          "base_uri": "https://localhost:8080/"
        },
        "id": "S3-LjfgJiLNs",
        "outputId": "d58b7f0f-db08-4c14-98f7-2ab3b2c20213"
      },
      "source": [
        "pd.reset_option"
      ],
      "execution_count": 23,
      "outputs": [
        {
          "output_type": "execute_result",
          "data": {
            "text/plain": [
              "<pandas._config.config.CallableDynamicDoc at 0x7f4c22a6ae48>"
            ]
          },
          "metadata": {
            "tags": []
          },
          "execution_count": 23
        }
      ]
    },
    {
      "cell_type": "code",
      "metadata": {
        "id": "3D0vJcQ6LHTd",
        "colab": {
          "base_uri": "https://localhost:8080/",
          "height": 419
        },
        "outputId": "95fd4e8a-8b6f-4c68-c8c8-5ef5101aa0c2"
      },
      "source": [
        "df.drop([\"NonStopwords_review_lst_MN\",\n",
        "         \"NonStopwords_review_str_MN\",\n",
        "         \"Lemmatized_review_lst\",\n",
        "         \"Lemmatized_review_str\",\n",
        "         \"words_count\",\n",
        "         \"review\", \"Lemmatized_review_list\"], axis = 1).head(95)"
      ],
      "execution_count": 24,
      "outputs": [
        {
          "output_type": "execute_result",
          "data": {
            "text/html": [
              "<div>\n",
              "<style scoped>\n",
              "    .dataframe tbody tr th:only-of-type {\n",
              "        vertical-align: middle;\n",
              "    }\n",
              "\n",
              "    .dataframe tbody tr th {\n",
              "        vertical-align: top;\n",
              "    }\n",
              "\n",
              "    .dataframe thead th {\n",
              "        text-align: right;\n",
              "    }\n",
              "</style>\n",
              "<table border=\"1\" class=\"dataframe\">\n",
              "  <thead>\n",
              "    <tr style=\"text-align: right;\">\n",
              "      <th></th>\n",
              "      <th>sideEffect</th>\n",
              "      <th>Lemmatized_review</th>\n",
              "      <th>topic_1</th>\n",
              "      <th>topic_2</th>\n",
              "      <th>topic_3</th>\n",
              "      <th>topic_4</th>\n",
              "      <th>topic_5</th>\n",
              "      <th>topic_6</th>\n",
              "      <th>topic_7</th>\n",
              "    </tr>\n",
              "  </thead>\n",
              "  <tbody>\n",
              "    <tr>\n",
              "      <th>0</th>\n",
              "      <td>0</td>\n",
              "      <td>no side effect take combination bystolic fish oil</td>\n",
              "      <td>0.0</td>\n",
              "      <td>0.0</td>\n",
              "      <td>0.0</td>\n",
              "      <td>0.0</td>\n",
              "      <td>0.0</td>\n",
              "      <td>0.0</td>\n",
              "      <td>0.0</td>\n",
              "    </tr>\n",
              "    <tr>\n",
              "      <th>1</th>\n",
              "      <td>1</td>\n",
              "      <td>son halfway fourth intuniv became concerned be...</td>\n",
              "      <td>0.0</td>\n",
              "      <td>1.0</td>\n",
              "      <td>0.0</td>\n",
              "      <td>0.0</td>\n",
              "      <td>1.0</td>\n",
              "      <td>1.0</td>\n",
              "      <td>0.0</td>\n",
              "    </tr>\n",
              "    <tr>\n",
              "      <th>2</th>\n",
              "      <td>1</td>\n",
              "      <td>used take another oral contraceptive pill cycl...</td>\n",
              "      <td>0.0</td>\n",
              "      <td>0.0</td>\n",
              "      <td>0.0</td>\n",
              "      <td>1.0</td>\n",
              "      <td>0.0</td>\n",
              "      <td>0.0</td>\n",
              "      <td>0.0</td>\n",
              "    </tr>\n",
              "    <tr>\n",
              "      <th>3</th>\n",
              "      <td>1</td>\n",
              "      <td>first using form birth control glad went patch...</td>\n",
              "      <td>0.0</td>\n",
              "      <td>0.0</td>\n",
              "      <td>0.0</td>\n",
              "      <td>1.0</td>\n",
              "      <td>0.0</td>\n",
              "      <td>0.0</td>\n",
              "      <td>0.0</td>\n",
              "    </tr>\n",
              "    <tr>\n",
              "      <th>4</th>\n",
              "      <td>1</td>\n",
              "      <td>suboxone completely turned life around feel he...</td>\n",
              "      <td>1.0</td>\n",
              "      <td>1.0</td>\n",
              "      <td>0.0</td>\n",
              "      <td>0.0</td>\n",
              "      <td>0.0</td>\n",
              "      <td>0.0</td>\n",
              "      <td>0.0</td>\n",
              "    </tr>\n",
              "    <tr>\n",
              "      <th>...</th>\n",
              "      <td>...</td>\n",
              "      <td>...</td>\n",
              "      <td>...</td>\n",
              "      <td>...</td>\n",
              "      <td>...</td>\n",
              "      <td>...</td>\n",
              "      <td>...</td>\n",
              "      <td>...</td>\n",
              "      <td>...</td>\n",
              "    </tr>\n",
              "    <tr>\n",
              "      <th>90</th>\n",
              "      <td>1</td>\n",
              "      <td>medicine absolutely terrible three using hair ...</td>\n",
              "      <td>0.0</td>\n",
              "      <td>0.0</td>\n",
              "      <td>0.0</td>\n",
              "      <td>0.0</td>\n",
              "      <td>0.0</td>\n",
              "      <td>0.0</td>\n",
              "      <td>1.0</td>\n",
              "    </tr>\n",
              "    <tr>\n",
              "      <th>91</th>\n",
              "      <td>0</td>\n",
              "      <td>cat bite handfull set teeth sharp hand swelled...</td>\n",
              "      <td>1.0</td>\n",
              "      <td>1.0</td>\n",
              "      <td>0.0</td>\n",
              "      <td>0.0</td>\n",
              "      <td>0.0</td>\n",
              "      <td>0.0</td>\n",
              "      <td>0.0</td>\n",
              "    </tr>\n",
              "    <tr>\n",
              "      <th>92</th>\n",
              "      <td>1</td>\n",
              "      <td>yes first use experience raw constant itching ...</td>\n",
              "      <td>0.0</td>\n",
              "      <td>0.0</td>\n",
              "      <td>0.0</td>\n",
              "      <td>1.0</td>\n",
              "      <td>1.0</td>\n",
              "      <td>0.0</td>\n",
              "      <td>0.0</td>\n",
              "    </tr>\n",
              "    <tr>\n",
              "      <th>93</th>\n",
              "      <td>1</td>\n",
              "      <td>sex th august took plan b intercourse havent g...</td>\n",
              "      <td>0.0</td>\n",
              "      <td>1.0</td>\n",
              "      <td>1.0</td>\n",
              "      <td>0.0</td>\n",
              "      <td>1.0</td>\n",
              "      <td>0.0</td>\n",
              "      <td>0.0</td>\n",
              "    </tr>\n",
              "    <tr>\n",
              "      <th>94</th>\n",
              "      <td>0</td>\n",
              "      <td>ear ringing like crazy almost start break cry ...</td>\n",
              "      <td>0.0</td>\n",
              "      <td>0.0</td>\n",
              "      <td>1.0</td>\n",
              "      <td>0.0</td>\n",
              "      <td>0.0</td>\n",
              "      <td>0.0</td>\n",
              "      <td>0.0</td>\n",
              "    </tr>\n",
              "  </tbody>\n",
              "</table>\n",
              "<p>95 rows × 9 columns</p>\n",
              "</div>"
            ],
            "text/plain": [
              "    sideEffect  ... topic_7\n",
              "0            0  ...     0.0\n",
              "1            1  ...     0.0\n",
              "2            1  ...     0.0\n",
              "3            1  ...     0.0\n",
              "4            1  ...     0.0\n",
              "..         ...  ...     ...\n",
              "90           1  ...     1.0\n",
              "91           0  ...     0.0\n",
              "92           1  ...     0.0\n",
              "93           1  ...     0.0\n",
              "94           0  ...     0.0\n",
              "\n",
              "[95 rows x 9 columns]"
            ]
          },
          "metadata": {
            "tags": []
          },
          "execution_count": 24
        }
      ]
    },
    {
      "cell_type": "code",
      "metadata": {
        "id": "vwpwKm0oevJh"
      },
      "source": [
        ""
      ],
      "execution_count": 24,
      "outputs": []
    }
  ]
}