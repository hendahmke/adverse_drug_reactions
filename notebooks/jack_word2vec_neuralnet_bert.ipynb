{
 "cells": [
  {
   "cell_type": "markdown",
   "metadata": {},
   "source": [
    "## Imports"
   ]
  },
  {
   "cell_type": "code",
   "execution_count": 89,
   "metadata": {},
   "outputs": [],
   "source": [
    "## for data\n",
    "import pandas as pd\n",
    "import numpy as np#\n",
    "\n",
    "# for plotting\n",
    "import matplotlib.pyplot as plt\n",
    "import seaborn as sns\n",
    "\n",
    "## for processing\n",
    "import re\n",
    "import nltk\n",
    "\n",
    "## for bag-of-words\n",
    "from sklearn import feature_extraction, model_selection, naive_bayes, pipeline, manifold, preprocessing## for explainer\n",
    "from lime import lime_text\n",
    "\n",
    "## for word embedding\n",
    "import gensim\n",
    "import gensim.downloader as gensim_api\n",
    "\n",
    "## for deep learning\n",
    "from tensorflow.keras import models, layers, preprocessing as kprocessing\n",
    "from tensorflow.keras import backend as K\n",
    "\n",
    "## for bert language model\n",
    "import transformers"
   ]
  },
  {
   "cell_type": "markdown",
   "metadata": {},
   "source": [
    "## read in data"
   ]
  },
  {
   "cell_type": "code",
   "execution_count": 33,
   "metadata": {},
   "outputs": [
    {
     "name": "stdout",
     "output_type": "stream",
     "text": [
      "<class 'pandas.core.frame.DataFrame'>\n",
      "RangeIndex: 161297 entries, 0 to 161296\n",
      "Data columns (total 7 columns):\n",
      " #   Column       Non-Null Count   Dtype \n",
      "---  ------       --------------   ----- \n",
      " 0   uniqueID     161297 non-null  int64 \n",
      " 1   drugName     161297 non-null  object\n",
      " 2   condition    160398 non-null  object\n",
      " 3   review       161297 non-null  object\n",
      " 4   rating       161297 non-null  int64 \n",
      " 5   date         161297 non-null  object\n",
      " 6   usefulCount  161297 non-null  int64 \n",
      "dtypes: int64(3), object(4)\n",
      "memory usage: 8.6+ MB\n"
     ]
    }
   ],
   "source": [
    "### list of side effect\n",
    "\n",
    "side_effects = pd.read_csv('../raw_data/frequent_adr.csv')\n",
    "\n",
    "#side_effects.head(3)\n",
    "\n",
    "### read in raw training data\n",
    "\n",
    "data = pd.read_csv('../raw_data/drugsComTrain_raw.csv')\n",
    "\n",
    "data.info()\n"
   ]
  },
  {
   "cell_type": "code",
   "execution_count": 7,
   "metadata": {},
   "outputs": [
    {
     "data": {
      "text/html": [
       "<div>\n",
       "<style scoped>\n",
       "    .dataframe tbody tr th:only-of-type {\n",
       "        vertical-align: middle;\n",
       "    }\n",
       "\n",
       "    .dataframe tbody tr th {\n",
       "        vertical-align: top;\n",
       "    }\n",
       "\n",
       "    .dataframe thead th {\n",
       "        text-align: right;\n",
       "    }\n",
       "</style>\n",
       "<table border=\"1\" class=\"dataframe\">\n",
       "  <thead>\n",
       "    <tr style=\"text-align: right;\">\n",
       "      <th></th>\n",
       "      <th>uniqueID</th>\n",
       "      <th>drugName</th>\n",
       "      <th>condition</th>\n",
       "      <th>review</th>\n",
       "      <th>rating</th>\n",
       "      <th>date</th>\n",
       "      <th>usefulCount</th>\n",
       "    </tr>\n",
       "  </thead>\n",
       "  <tbody>\n",
       "    <tr>\n",
       "      <th>161292</th>\n",
       "      <td>191035</td>\n",
       "      <td>Campral</td>\n",
       "      <td>Alcohol Dependence</td>\n",
       "      <td>\"I wrote my first report in Mid-October of 201...</td>\n",
       "      <td>10</td>\n",
       "      <td>31-May-15</td>\n",
       "      <td>125</td>\n",
       "    </tr>\n",
       "    <tr>\n",
       "      <th>161293</th>\n",
       "      <td>127085</td>\n",
       "      <td>Metoclopramide</td>\n",
       "      <td>Nausea/Vomiting</td>\n",
       "      <td>\"I was given this in IV before surgey. I immed...</td>\n",
       "      <td>1</td>\n",
       "      <td>1-Nov-11</td>\n",
       "      <td>34</td>\n",
       "    </tr>\n",
       "    <tr>\n",
       "      <th>161294</th>\n",
       "      <td>187382</td>\n",
       "      <td>Orencia</td>\n",
       "      <td>Rheumatoid Arthritis</td>\n",
       "      <td>\"Limited improvement after 4 months, developed...</td>\n",
       "      <td>2</td>\n",
       "      <td>15-Mar-14</td>\n",
       "      <td>35</td>\n",
       "    </tr>\n",
       "    <tr>\n",
       "      <th>161295</th>\n",
       "      <td>47128</td>\n",
       "      <td>Thyroid desiccated</td>\n",
       "      <td>Underactive Thyroid</td>\n",
       "      <td>\"I&amp;#039;ve been on thyroid medication 49 years...</td>\n",
       "      <td>10</td>\n",
       "      <td>19-Sep-15</td>\n",
       "      <td>79</td>\n",
       "    </tr>\n",
       "    <tr>\n",
       "      <th>161296</th>\n",
       "      <td>215220</td>\n",
       "      <td>Lubiprostone</td>\n",
       "      <td>Constipation, Chronic</td>\n",
       "      <td>\"I&amp;#039;ve had chronic constipation all my adu...</td>\n",
       "      <td>9</td>\n",
       "      <td>13-Dec-14</td>\n",
       "      <td>116</td>\n",
       "    </tr>\n",
       "  </tbody>\n",
       "</table>\n",
       "</div>"
      ],
      "text/plain": [
       "        uniqueID            drugName              condition  \\\n",
       "161292    191035             Campral     Alcohol Dependence   \n",
       "161293    127085      Metoclopramide        Nausea/Vomiting   \n",
       "161294    187382             Orencia   Rheumatoid Arthritis   \n",
       "161295     47128  Thyroid desiccated    Underactive Thyroid   \n",
       "161296    215220        Lubiprostone  Constipation, Chronic   \n",
       "\n",
       "                                                   review  rating       date  \\\n",
       "161292  \"I wrote my first report in Mid-October of 201...      10  31-May-15   \n",
       "161293  \"I was given this in IV before surgey. I immed...       1   1-Nov-11   \n",
       "161294  \"Limited improvement after 4 months, developed...       2  15-Mar-14   \n",
       "161295  \"I&#039;ve been on thyroid medication 49 years...      10  19-Sep-15   \n",
       "161296  \"I&#039;ve had chronic constipation all my adu...       9  13-Dec-14   \n",
       "\n",
       "        usefulCount  \n",
       "161292          125  \n",
       "161293           34  \n",
       "161294           35  \n",
       "161295           79  \n",
       "161296          116  "
      ]
     },
     "execution_count": 7,
     "metadata": {},
     "output_type": "execute_result"
    }
   ],
   "source": [
    "data.tail()"
   ]
  },
  {
   "cell_type": "markdown",
   "metadata": {},
   "source": [
    "## Preprocessing"
   ]
  },
  {
   "cell_type": "code",
   "execution_count": 12,
   "metadata": {},
   "outputs": [],
   "source": [
    "### define preprocessing utlities function\n",
    "\n",
    "def utils_preprocess_text(text, flg_stemm=False, flg_lemm=True, lst_stopwords=None):\n",
    "    ## clean (convert to lowercase and remove punctuations and characters and then strip)\n",
    "    text = re.sub(r'[^\\w\\s]', '', str(text).lower().strip())\n",
    "            \n",
    "    ## Tokenize (convert from string to list)\n",
    "    lst_text = text.split()    ## remove Stopwords\n",
    "    if lst_stopwords is not None:\n",
    "        lst_text = [word for word in lst_text if word not in \n",
    "                    lst_stopwords]\n",
    "                \n",
    "    ## Stemming (remove -ing, -ly, ...)\n",
    "    if flg_stemm == True:\n",
    "        ps = nltk.stem.porter.PorterStemmer()\n",
    "        lst_text = [ps.stem(word) for word in lst_text]\n",
    "                \n",
    "    ## Lemmatisation (convert the word into root word)\n",
    "    if flg_lemm == True:\n",
    "        lem = nltk.stem.wordnet.WordNetLemmatizer()\n",
    "        lst_text = [lem.lemmatize(word) for word in lst_text]\n",
    "            \n",
    "    ## back to string from list\n",
    "    text = \" \".join(lst_text)\n",
    "    return text"
   ]
  },
  {
   "cell_type": "code",
   "execution_count": 13,
   "metadata": {},
   "outputs": [
    {
     "data": {
      "text/plain": [
       "['i',\n",
       " 'me',\n",
       " 'my',\n",
       " 'myself',\n",
       " 'we',\n",
       " 'our',\n",
       " 'ours',\n",
       " 'ourselves',\n",
       " 'you',\n",
       " \"you're\",\n",
       " \"you've\",\n",
       " \"you'll\",\n",
       " \"you'd\",\n",
       " 'your',\n",
       " 'yours',\n",
       " 'yourself',\n",
       " 'yourselves',\n",
       " 'he',\n",
       " 'him',\n",
       " 'his',\n",
       " 'himself',\n",
       " 'she',\n",
       " \"she's\",\n",
       " 'her',\n",
       " 'hers',\n",
       " 'herself',\n",
       " 'it',\n",
       " \"it's\",\n",
       " 'its',\n",
       " 'itself',\n",
       " 'they',\n",
       " 'them',\n",
       " 'their',\n",
       " 'theirs',\n",
       " 'themselves',\n",
       " 'what',\n",
       " 'which',\n",
       " 'who',\n",
       " 'whom',\n",
       " 'this',\n",
       " 'that',\n",
       " \"that'll\",\n",
       " 'these',\n",
       " 'those',\n",
       " 'am',\n",
       " 'is',\n",
       " 'are',\n",
       " 'was',\n",
       " 'were',\n",
       " 'be',\n",
       " 'been',\n",
       " 'being',\n",
       " 'have',\n",
       " 'has',\n",
       " 'had',\n",
       " 'having',\n",
       " 'do',\n",
       " 'does',\n",
       " 'did',\n",
       " 'doing',\n",
       " 'a',\n",
       " 'an',\n",
       " 'the',\n",
       " 'and',\n",
       " 'but',\n",
       " 'if',\n",
       " 'or',\n",
       " 'because',\n",
       " 'as',\n",
       " 'until',\n",
       " 'while',\n",
       " 'of',\n",
       " 'at',\n",
       " 'by',\n",
       " 'for',\n",
       " 'with',\n",
       " 'about',\n",
       " 'against',\n",
       " 'between',\n",
       " 'into',\n",
       " 'through',\n",
       " 'during',\n",
       " 'before',\n",
       " 'after',\n",
       " 'above',\n",
       " 'below',\n",
       " 'to',\n",
       " 'from',\n",
       " 'up',\n",
       " 'down',\n",
       " 'in',\n",
       " 'out',\n",
       " 'on',\n",
       " 'off',\n",
       " 'over',\n",
       " 'under',\n",
       " 'again',\n",
       " 'further',\n",
       " 'then',\n",
       " 'once',\n",
       " 'here',\n",
       " 'there',\n",
       " 'when',\n",
       " 'where',\n",
       " 'why',\n",
       " 'how',\n",
       " 'all',\n",
       " 'any',\n",
       " 'both',\n",
       " 'each',\n",
       " 'few',\n",
       " 'more',\n",
       " 'most',\n",
       " 'other',\n",
       " 'some',\n",
       " 'such',\n",
       " 'no',\n",
       " 'nor',\n",
       " 'not',\n",
       " 'only',\n",
       " 'own',\n",
       " 'same',\n",
       " 'so',\n",
       " 'than',\n",
       " 'too',\n",
       " 'very',\n",
       " 's',\n",
       " 't',\n",
       " 'can',\n",
       " 'will',\n",
       " 'just',\n",
       " 'don',\n",
       " \"don't\",\n",
       " 'should',\n",
       " \"should've\",\n",
       " 'now',\n",
       " 'd',\n",
       " 'll',\n",
       " 'm',\n",
       " 'o',\n",
       " 're',\n",
       " 've',\n",
       " 'y',\n",
       " 'ain',\n",
       " 'aren',\n",
       " \"aren't\",\n",
       " 'couldn',\n",
       " \"couldn't\",\n",
       " 'didn',\n",
       " \"didn't\",\n",
       " 'doesn',\n",
       " \"doesn't\",\n",
       " 'hadn',\n",
       " \"hadn't\",\n",
       " 'hasn',\n",
       " \"hasn't\",\n",
       " 'haven',\n",
       " \"haven't\",\n",
       " 'isn',\n",
       " \"isn't\",\n",
       " 'ma',\n",
       " 'mightn',\n",
       " \"mightn't\",\n",
       " 'mustn',\n",
       " \"mustn't\",\n",
       " 'needn',\n",
       " \"needn't\",\n",
       " 'shan',\n",
       " \"shan't\",\n",
       " 'shouldn',\n",
       " \"shouldn't\",\n",
       " 'wasn',\n",
       " \"wasn't\",\n",
       " 'weren',\n",
       " \"weren't\",\n",
       " 'won',\n",
       " \"won't\",\n",
       " 'wouldn',\n",
       " \"wouldn't\"]"
      ]
     },
     "execution_count": 13,
     "metadata": {},
     "output_type": "execute_result"
    }
   ],
   "source": [
    "### download stopwords\n",
    "\n",
    "lst_stopwords = nltk.corpus.stopwords.words(\"english\")\n",
    "lst_stopwords"
   ]
  },
  {
   "cell_type": "code",
   "execution_count": 74,
   "metadata": {},
   "outputs": [
    {
     "data": {
      "text/html": [
       "<div>\n",
       "<style scoped>\n",
       "    .dataframe tbody tr th:only-of-type {\n",
       "        vertical-align: middle;\n",
       "    }\n",
       "\n",
       "    .dataframe tbody tr th {\n",
       "        vertical-align: top;\n",
       "    }\n",
       "\n",
       "    .dataframe thead th {\n",
       "        text-align: right;\n",
       "    }\n",
       "</style>\n",
       "<table border=\"1\" class=\"dataframe\">\n",
       "  <thead>\n",
       "    <tr style=\"text-align: right;\">\n",
       "      <th></th>\n",
       "      <th>uniqueID</th>\n",
       "      <th>drugName</th>\n",
       "      <th>condition</th>\n",
       "      <th>review</th>\n",
       "      <th>rating</th>\n",
       "      <th>date</th>\n",
       "      <th>usefulCount</th>\n",
       "      <th>review_clean</th>\n",
       "    </tr>\n",
       "  </thead>\n",
       "  <tbody>\n",
       "    <tr>\n",
       "      <th>0</th>\n",
       "      <td>206461</td>\n",
       "      <td>Valsartan</td>\n",
       "      <td>Left Ventricular Dysfunction</td>\n",
       "      <td>\"It has no side effect, I take it in combinati...</td>\n",
       "      <td>9</td>\n",
       "      <td>20-May-12</td>\n",
       "      <td>27</td>\n",
       "      <td>side effect take combination bystolic 5 mg fis...</td>\n",
       "    </tr>\n",
       "    <tr>\n",
       "      <th>1</th>\n",
       "      <td>95260</td>\n",
       "      <td>Guanfacine</td>\n",
       "      <td>ADHD</td>\n",
       "      <td>\"My son is halfway through his fourth week of ...</td>\n",
       "      <td>8</td>\n",
       "      <td>27-Apr-10</td>\n",
       "      <td>192</td>\n",
       "      <td>son halfway fourth week intuniv became concern...</td>\n",
       "    </tr>\n",
       "    <tr>\n",
       "      <th>2</th>\n",
       "      <td>92703</td>\n",
       "      <td>Lybrel</td>\n",
       "      <td>Birth Control</td>\n",
       "      <td>\"I used to take another oral contraceptive, wh...</td>\n",
       "      <td>5</td>\n",
       "      <td>14-Dec-09</td>\n",
       "      <td>17</td>\n",
       "      <td>used take another oral contraceptive 21 pill c...</td>\n",
       "    </tr>\n",
       "    <tr>\n",
       "      <th>3</th>\n",
       "      <td>138000</td>\n",
       "      <td>Ortho Evra</td>\n",
       "      <td>Birth Control</td>\n",
       "      <td>\"This is my first time using any form of birth...</td>\n",
       "      <td>8</td>\n",
       "      <td>3-Nov-15</td>\n",
       "      <td>10</td>\n",
       "      <td>first time using form birth control i039m glad...</td>\n",
       "    </tr>\n",
       "    <tr>\n",
       "      <th>4</th>\n",
       "      <td>35696</td>\n",
       "      <td>Buprenorphine / naloxone</td>\n",
       "      <td>Opiate Dependence</td>\n",
       "      <td>\"Suboxone has completely turned my life around...</td>\n",
       "      <td>9</td>\n",
       "      <td>27-Nov-16</td>\n",
       "      <td>37</td>\n",
       "      <td>suboxone completely turned life around feel he...</td>\n",
       "    </tr>\n",
       "  </tbody>\n",
       "</table>\n",
       "</div>"
      ],
      "text/plain": [
       "   uniqueID                  drugName                     condition  \\\n",
       "0    206461                 Valsartan  Left Ventricular Dysfunction   \n",
       "1     95260                Guanfacine                          ADHD   \n",
       "2     92703                    Lybrel                 Birth Control   \n",
       "3    138000                Ortho Evra                 Birth Control   \n",
       "4     35696  Buprenorphine / naloxone             Opiate Dependence   \n",
       "\n",
       "                                              review  rating       date  \\\n",
       "0  \"It has no side effect, I take it in combinati...       9  20-May-12   \n",
       "1  \"My son is halfway through his fourth week of ...       8  27-Apr-10   \n",
       "2  \"I used to take another oral contraceptive, wh...       5  14-Dec-09   \n",
       "3  \"This is my first time using any form of birth...       8   3-Nov-15   \n",
       "4  \"Suboxone has completely turned my life around...       9  27-Nov-16   \n",
       "\n",
       "   usefulCount                                       review_clean  \n",
       "0           27  side effect take combination bystolic 5 mg fis...  \n",
       "1          192  son halfway fourth week intuniv became concern...  \n",
       "2           17  used take another oral contraceptive 21 pill c...  \n",
       "3           10  first time using form birth control i039m glad...  \n",
       "4           37  suboxone completely turned life around feel he...  "
      ]
     },
     "execution_count": 74,
     "metadata": {},
     "output_type": "execute_result"
    }
   ],
   "source": [
    "### creat cleaned text column\n",
    "\n",
    "data[\"review_clean\"] = data[\"review\"].apply(lambda x: \n",
    "          utils_preprocess_text(x, flg_stemm=False, flg_lemm=True, \n",
    "          lst_stopwords=lst_stopwords))\n",
    "\n",
    "data.head()"
   ]
  },
  {
   "cell_type": "code",
   "execution_count": 40,
   "metadata": {},
   "outputs": [
    {
     "name": "stdout",
     "output_type": "stream",
     "text": [
      "['Abdominal pain', 'Gastrointestinal pain', 'Amblyopia', 'Anaemia', 'Anorexia', 'Decreased appetite', 'Asthenia', 'Atrial fibrillation', 'Back pain', 'Cardiovascular disorder', 'Chest pain', 'Infection', 'Constipation', 'Cough', 'Depression', 'Diarrhoea', 'Dizziness', 'Dysgeusia', 'Dyspepsia', 'Dyspnoea', 'Eye disorder', 'Body temperature increased', 'Gastrointestinal disorder', 'Headache', 'Haemorrhage', 'Haemoglobin', 'Hypercalcaemia', 'Hyperkalaemia', 'Hypersensitivity', 'Hypertension', 'Hypotension', 'Influenza', 'Cramps of lower extremities', 'Muscle spasms', 'Melaena', 'Nausea', 'Pain', 'Palpitations', 'Parathyroid disorder', 'Paraesthesia', 'Pharyngitis', 'Pruritus', 'Renal failure', 'Rhinitis', 'Tachycardia', 'Urinary tract infection', 'Angiopathy', 'Vertigo', 'Vomiting', 'Weight increased', 'Weight decreased', 'Oedema peripheral', 'Injection site reaction', 'Accidental injury', 'Injury', 'Myalgia', 'Musculoskeletal discomfort', 'Electrocardiogram abnormal', 'Fluid overload', 'Insomnia', 'Drug dependence', 'Skin disorder', 'Gamma-glutamyltransferase increased', 'Aspartate aminotransferase increased', 'Alanine aminotransferase increased', 'Skin hyperpigmentation', 'Scab', 'Welts', 'Urticaria', 'Blood bilirubin increased', 'Blood amylase increased', 'Amylase increased', 'Alopecia', 'Dermatitis', 'Fatigue', 'Lethargy', 'Leukopenia', 'Stomatitis', 'Thrombocytopenia', 'Malaise', 'Feeling abnormal', 'Discomfort', 'Ill-defined disorder', 'Foetal distress syndrome', 'Foetal heart rate', 'Anxiety', 'Arthralgia', 'Neck pain', 'Eczema', 'Rash', 'Flushing', 'Hyperaesthesia', 'Hypoaesthesia', 'Musculoskeletal pain', 'Nervousness', 'Tension', 'Skin ulcer', 'Tremor', 'Chills', 'Agitation', 'Pain in jaw', 'Sepsis', 'Influenza-like symptoms', 'Influenza like illness', 'Lightheadedness', 'Chest discomfort', 'Chest pressure', 'Gastrointestinal discomfort', 'Abdominal discomfort', 'Bronchitis', 'Haematoma', 'Haematuria', 'Nasal congestion', 'Prostatic disorder', 'Sinusitis', 'Testicular pain', 'Upper respiratory tract infection', 'Trauma', 'Penile pain', 'Tooth abscess', 'Pain localised', 'Abdominal pain localised', 'Arrhythmia', 'Ataxia', 'Confusional state', 'Diplopia', 'Dyskinesia', 'Oedema', 'Flatulence', 'Hallucination', 'Hostility', 'Libido increased', 'Disturbance in sexual arousal', 'Irritability', 'Myoclonus', 'Nasopharyngitis', 'Nervous system disorder', 'Nocturia', 'Convulsion', 'Sweating', 'Hyperhidrosis', 'Tinnitus', 'Pollakiuria', 'Dry mouth', 'Akinesia', 'Migraine', 'Application site reaction', 'Bradykinesia', 'Cerebration impaired', 'Mental disability', 'Disturbance in attention', 'Hypomania', 'Auditory disorder NOS', 'Hearing impaired', 'Mania', 'Vision blurred', 'Coordination abnormal', 'Sexual dysfunction', 'Sweating increased', 'Abdominal distension', 'Arthritis', 'Vaginal moniliasis', 'Vulvovaginal candidiasis', 'Vulvovaginal mycotic infection', 'Cervical polyp', 'Cyst', 'Dysmenorrhoea', 'Leukorrhea', 'Vaginal discharge', 'Breast pain', 'Menstrual disorder', 'Metrorrhagia', 'Fungal infection', 'Pain in extremity', 'Pruritus genital', 'Respiratory tract infection', 'Sinus headache', 'Vaginal inflammation', 'Vaginal infection', 'Vasodilation', 'Vasodilation procedure', 'Vulvovaginitis', 'Endometrial disorder', 'Sinus congestion', 'Malnutrition', 'Reproductive tract disorder', 'Nipple pain', 'Perineal pain', 'Weight fluctuation', 'Breast tenderness', 'Genital candidiasis', 'Localized exfoliation', 'Skin exfoliation', 'Vaginal mycosis', 'Breast pain female', 'Cervical discharge', 'Hot flush', 'Menopausal symptoms', 'Ear and labyrinth disorders', 'Anxiety NEC', 'Vulvovaginal pruritus', 'Abdominal bloating', 'Breast neoplasm', 'Breast enlargement', 'Abnormal withdrawal bleeding', 'Vaginal haemorrhage', 'Arachnoiditis', 'Conjunctivitis', 'Contusion', 'Dysphagia', 'Dehydration', 'Haemorrhoids', 'Hyperglycaemia', 'Hypokalaemia', 'Hyponatraemia', 'Incontinence', 'Neutropenia', 'Neuropathy peripheral', 'Pneumonia', 'Reflexes abnormal', 'Syncope', 'Shock', 'Loss of consciousness', 'Urinary incontinence', 'Diffuse large B-cell lymphoma', 'Urinary retention', 'Peripheral sensory neuropathy', 'Neck stiffness', 'Nuchal rigidity', 'Musculoskeletal stiffness', 'Muscular weakness', 'Memory impairment', 'Neurotoxicity', 'Mucosal inflammation', 'Platelet count decreased', 'Neuropathy', 'Gait disturbance', 'Deafness', 'Somnolence', 'Pallor', 'Face oedema', 'Soft stools', 'Hypertonia', 'Uterine haemorrhage', 'Tenderness', 'Cough increased', 'Endometrial thickening', 'Endometrial hypertrophy', 'Bacterial infection', 'Mental disorder', 'Candida infection', 'Calculus of kidney', 'Nephrolithiasis', 'Laryngitis', 'Nail disorder', 'Pancreatitis', 'Pyelonephritis', 'Gastric ulcer', 'Thirst', 'Urinary tract disorder', 'Urethral disorder', 'Viral infection', 'Hepatic function abnormal', 'Injection site pain', 'Rectal tenesmus', 'Anorectal discomfort', 'Proctalgia', 'Enlargement abdomen', 'Rigors', 'Crohns disease aggravated', \"Crohn's disease\", 'Angina pectoris', 'Distress gastrointestinal', 'Unspecified disorder of skin and subcutaneous tissue', 'Infestation NOS', 'Infestation', 'Pharyngolaryngeal pain', 'Laryngeal pain', 'Rhinorrhoea', 'Creatine phosphokinase increased', 'Blood creatine phosphokinase increased', 'Post procedural pain', 'Procedural pain', 'Loose stools', 'Neoplasm malignant', 'Oral candidiasis', 'Epistaxis', 'Cardiac murmur', 'Inflammation', 'Lymphopenia', 'Pancytopenia', 'Petechiae', 'Purpura', 'Vascular purpura', 'Skin infection', 'Erythema', 'Myocardial ischaemia', 'Bone pain', 'Abnormal chest sounds NOS', 'Breath sounds abnormal', 'Viral skin infection', 'Pain of skin', 'Febrile neutropenia', 'Administration site reaction', 'Myelosuppression', 'Renal impairment', 'Hypochromic anaemia', 'Dysuria', 'Herpes simplex', 'Herpes zoster', 'Orthostatic hypotension', 'Leukaemia', 'Neuralgia', 'Neuritis', 'Phlebitis', 'Ventricular arrhythmia', 'Mucous membrane disorder', 'Skin discolouration', 'Dry skin', 'Blood creatinine increased', 'Scrotal erythema', 'Dysaesthesia', 'Lacrimation', 'Lacrimation increased', 'Laboratory test abnormal', 'Musculoskeletal chest pain', 'Ejection fraction decreased', 'Cardiotoxicity', 'Cachexia', 'Dermatitis exfoliative', 'Oesophagitis', 'Gastritis', 'Gingivitis', 'Hyperbilirubinaemia', 'Immunodeficiency', 'Opportunistic infection', 'Retinitis', 'Mouth ulceration', 'Vesiculobullous rash', 'Dermatitis bullous', 'Rash pustular', 'Rash maculo-papular', 'Metastases to liver', 'Hepatic cancer metastatic', 'Serum creatinine increased', 'Amenorrhoea', 'Keratitis', 'Dysarthria', 'Osteoarthritis', 'Ecchymosis', 'Nystagmus', 'Speech disorder', 'Stupor', 'Depressed level of consciousness', 'Intracranial pressure increased', 'Hyperreflexia', 'Thinking abnormal', 'Myasthenia', 'Cellulitis', 'Conjunctival haemorrhage', 'Eye haemorrhage', 'Gastrointestinal haemorrhage', 'Gingival bleeding', 'Cramp muscle', 'Night sweats', 'Nodule', 'Pleural effusion', 'Postnasal drip', 'Upper-airway cough syndrome', 'Rales', 'Rhonchi', 'Skin lesion', 'Wheezing', 'Haemorrhage intracranial', 'Rash macular', 'Dyspnoea exertional', 'Abdominal pain upper', 'Abdominal tenderness', 'Oral mucosal petechiae', 'Mouth haemorrhage', 'Respiratory sounds decreased', 'Productive cough', 'Haemorrhoidal haemorrhage', 'Transfusion reaction', 'Induration', 'Pitting edema', 'Lymphadenopathy', 'Injection site dermatitis', 'Injection site bruising', 'Injection site haemorrhage', 'Injection site induration', 'Injection site haematoma', 'Anaemia NOS aggravated', 'Injection site erythema', 'Injection site pruritus', 'Fatigue aggravated', 'Neutropenic sepsis', 'Peripheral swelling', 'Local swelling', 'Post procedural haemorrhage', 'Drug hypersensitivity', 'Hyperlactacidaemia', 'Sleep disorder', 'Asthma', 'Hyperventilation', 'Creatinine increased', 'Hypoxia', 'Nephrotoxicity', 'Nephropathy toxic', 'Hypernatraemia', 'Hypocalcaemia', 'Renal failure acute', 'Lung disorder', 'Blood urea increased', 'Hypomagnesaemia', 'Liver function test abnormal', 'Phosphatase alkaline increased', 'Blood alkaline phosphatase increased', 'Procedural complication', 'Respiratory failure', 'Drowsiness', 'Unsteadiness', 'Balance disorder', 'Reticulocytosis', 'Photosensitivity', 'Photosensitivity reaction', 'Stinging', 'Superficial punctate keratopathy', 'Punctate keratitis', 'Bronchospasm', 'Excitement', 'Tremor fine', 'Exacerbation of asthma', 'Shakiness', 'Throat irritation', 'Stomach ache', 'Cognitive disorder', 'Connective tissue disorder', 'Libido decreased', 'Depersonalisation', 'Mediastinal disorder', 'Muscle rigidity', 'Nightmare', 'Salivation', 'Salivary hypersecretion', 'Muscle twitching', 'Increased appetite', 'Derealisation', 'Abdominal distress', 'Strangury', 'Abnormal involuntary movements', 'Mental retardation', 'Livedo reticularis', 'Slurred speech', 'Cardiac flutter', 'Rhabdomyolysis', 'Sinus tachycardia', 'Supraventricular tachycardia', 'Ventricular extrasystoles', 'Disorientation', 'Haemodynamic instability', 'Bradycardia', 'Endocrine disorder', 'Extrapyramidal disorder', 'Trismus', 'Oculogyric crisis', 'Hypokinesia', 'Extrapyramidal symptoms', 'Akathisia', 'Acute dystonia', 'Dystonia', 'Aphthous stomatitis', 'Depressive disorder', 'Dysthymic disorder', 'Hypercholesterolaemia', 'Hypertriglyceridaemia', 'Blood triglycerides increased', 'Taste disorders', 'Hepatobiliary disease', 'Transaminases increased', 'Affective disorder', 'Dyspeptic signs and symptoms', 'Fat redistribution', 'Perioral paraesthesia', 'Paraesthesia oral', 'Fluid retention', 'Fracture', 'Multiple fractures', 'Arthropathy', 'Lymphoedema', 'Neoplasm', 'Osteoporosis', 'Pelvic pain', 'Thromboembolism', 'Embolism', 'Embolism venous', 'Cataract', 'Cataract specified', 'Digestion impaired', 'Stiffness', 'Mood alteration NOS', 'Mood swings', 'Swelling', 'Yawning', 'Hyperaemia', 'Apnoea', 'Cardiac arrest', 'Pulmonary embolism', 'Respiratory insufficiency', 'Thrombophlebitis', 'Thrombosis', 'Peripheral ischaemia', 'Atrial flutter', 'Block heart', 'Atrioventricular block', 'Cardiac failure', 'Ventricular tachycardia', 'Peripheral coldness', 'Myocardial reinfarction', 'Myocardial infarction', 'Xerosis', 'Tingling sensation', 'Taste bitter', 'Pertussis', 'Application site pain', 'Instillation site pain', 'Acne', 'Eosinophilia', 'Cardiac output decreased', 'Enuresis', 'Hypotonia', 'Muscle relaxant therapy', 'Muscle spasticity', 'Numbness', 'Sensory loss', 'Lassitude', 'Accommodation disorder', 'Respiratory rate decreased', 'Chest tightness', 'Retching', 'Respiratory depression', 'Pulmonary function test decreased', 'Euphoric mood', 'Personality change', 'Exhaustion', 'Bladder spasm', 'Bladder pain', 'Visual disturbance', 'Visual impairment', 'Nasal discomfort', 'Dysphonia', 'Dizziness postural', 'Distress', 'Emotional distress', 'Gynaecomastia', 'Jaundice', 'Erectile dysfunction', 'Yellow skin', 'Numbness of limbs', 'Coldness', 'Feeling cold', 'Blepharitis', 'Conjunctivitis allergic', 'Eye pruritus', 'Photophobia', 'Conjunctival oedema', 'Eye pain', 'Ocular hyperaemia', 'Endophthalmitis', 'Eyelid oedema', 'Follicular conjunctivitis', 'Burning sensation in eye', 'Eye irritation', 'Erythema of eyelid', 'Dry eye', 'Eye discharge', 'Corneal staining', 'Vital dye staining cornea present', 'Sensation of foreign body', 'Gastrointestinal symptom NOS', 'Conjunctival follicles', 'Conjunctival hyperaemia', \"Cushing's syndrome\", 'Hirsutism', 'Otitis media', 'Affect lability', 'Ankle edema', 'Joint swelling', 'Cushingoid', 'Hypochloraemia', 'Azotaemia', 'Dyschezia', 'Pruritus generalised', 'Postoperative pain', 'Delayed delivery', 'Withdrawal syndrome', 'Application site irritation', 'Application site rash', 'Application site erythema', 'Application site pruritus', 'Throat sore', 'Oropharyngeal discomfort', 'Oropharyngeal pain', 'Sticky skin', 'Cold sweat', 'Hiccups', 'Rectal disorder', 'Anorectal disorder', 'Injection site inflammation', 'Leg edema', 'Kidney function abnormal', 'Application site oedema', 'Application site vesicles', 'Application site dryness', 'Application site papules', 'Application site swelling', 'Amnesia', 'Bipolar disorder', 'Bipolar I disorder', 'Dermatitis atopic', 'Enzyme induction', 'Water intoxication', 'Trembling', 'Plasma osmolality decreased', 'Blood osmolarity decreased', 'Convulsive seizure', 'Abscess', 'Aphasia', 'Brain abscess', 'Edema cerebral', 'Brain oedema', 'Facial paralysis', 'VIIth nerve paralysis', 'Hemiplegia', 'Hydrocephalus', 'Personality disorder', 'Scotoma', 'Wound', 'Impaired healing', 'Cerebral haemorrhage', 'Abnormal vision', 'Sudden death', 'Gout', 'NPN increased', 'Drug level increased', 'Generalised oedema', 'Presyncope', 'Haemolysis', 'Septicemia', 'Abdominal infection', 'Thrombocytosis', 'Jarisch-Herxheimer reaction', 'Bone disorder', 'Tooth disorder', 'Toothache', 'Hyperuricaemia', 'Blood uric acid increased', 'Appetite absent', 'Burning sensation', 'Abnormal faeces', 'Corneal deposits', 'Pneumonia klebsiella', 'Ocular discomfort', 'Infusion site reactions', 'Ototoxicity', 'Orgasm abnormal', 'Polyuria', 'Urine output increased', 'Suicide attempt', 'Apathy', 'Flat affect', 'Depression aggravated', 'Ejaculation disorder', 'Unspecified disorder of autonomic nervous system', 'Autonomic neuropathy', 'Abnormal ejaculation', 'Abdominal cramps', 'Ear pain', 'Gastroenteritis', 'Gastrooesophageal reflux disease', 'Heartburn', 'Shoulder pain', 'Anorgasmia', 'Ejaculation delayed', 'Ejaculation failure', 'Vulvovaginal disorder', 'Oily skin', 'Seborrhoeic dermatitis', 'Application site burn', 'Aggression', 'Drooling', 'Ovarian enlargement', 'Delirium', 'Mydriasis', \"Parkinson's disease\", 'Parkinsonism', 'Sleep disturbance', 'Micturition disorder', 'Withdrawal symptom', 'Drug withdrawal syndrome', 'Galactorrhoea', 'Anxiety state', 'Libido disorder', 'Unrest', 'Abdominal disorder', 'Abnormal behaviour', 'Insomnia NEC', 'Dry throat', 'Gingival hyperplasia', 'Hyperlipidaemia', 'Hypertrichosis', 'Lymphoma', \"Non-Hodgkin's lymphoma\", 'Sensation of heat', 'Feeling hot', 'Muscle contractions involuntary', 'Hepatotoxicity', 'Infection susceptibility increased', 'Hepatitis', 'Hepatic failure', 'Menstruation irregular', 'Sickness', 'Growth retardation', 'Metaphyseal dysplasia', 'Eschar', 'Visual acuity reduced', 'Intraocular pressure increased', 'Pseudofolliculitis barbae', 'Stinging skin', 'Dermatitis contact', 'Eruption', 'Skin carcinoma', 'Skin cancer', 'Epigastric discomfort', 'Neurological symptom', 'Edema of lower extremities', 'Transient ischaemic attack', 'Ventricular fibrillation', 'Extrasystoles', 'Sustained ventricular tachycardia', 'Urinary hesitation', 'Coagulopathy', 'Metabolic disorder', 'Neonatal and infancy disorder', 'Neonatal disorder', 'Agranulocytosis', 'Extravasation', 'Haemoglobin decreased', 'Odynophagia', 'Nail changes', 'Redness', 'Cancer pain', 'Neutropenic infection', 'Parosmia', 'Cystitis', 'Cystitis noninfective', 'Delusion', 'Faecal incontinence', 'Glycosuria', 'Lactic dehydrogenase activity increased', 'Blood lactate dehydrogenase increased', 'Epigastric pain', 'Physical wandering', 'Crying abnormal', 'Crying', 'Hypertensive', 'Blood pressure normal', 'Abnormal dreams', 'Miosis', 'Aggressive reaction', 'Unspecified disorder of intestine', 'Accidental overdose', 'Alveolitis allergic', 'Haemoptysis', 'Hangover', 'Pustule', 'Papule', 'Ulcer', 'Proctitis', 'Rectal haemorrhage', 'Hoarseness', 'Lower respiratory tract infection', 'Nasal dryness', 'Nasal irritation', 'Psychotic disorder', 'Manic psychosis', 'Hyperkinesia', 'Pharyngeal disorder', 'Hyperphosphataemia', 'Hypophosphataemia', 'Hypermagnesaemia', 'Hypoalbuminaemia', 'Hepatic encephalopathy', 'Hypovolaemia', 'Blood cholesterol increased', 'Gout attack', 'Areflexia', 'Apraxia', 'Infarction', 'Cerebrovascular accident', 'Gravitational oedema', 'Transplant rejection', 'Retinal detachment', 'Injection site infection', 'Sepsis secondary', 'Pneumocystis jirovecii pneumonia', 'Proteinuria', 'Protein urine present', 'Shivering', 'Cutaneous hypersensitivity', 'Reaction gastrointestinal', 'Hepatic enzyme increased', 'Peritonitis', 'Ileus paralytic', 'Azoospermia', 'Oligospermia', 'Bone marrow depression', 'Reticulocytopenia', 'Adrenal insufficiency', 'Bacteraemia', 'Pneumonia bacterial', 'Bronchopulmonary dysplasia', 'Hypoglycaemia', 'Hypoproteinaemia', 'Pulmonary haemorrhage', 'Intraventricular haemorrhage', 'Cystitis haemorrhagic', 'Metabolic acidosis', 'Frank hematuria', 'CNS toxicity', 'Bundle branch block', 'Lacrimation decreased', 'Conduction disorder', 'QRS complex', 'Electrocardiogram QRS complex', 'Urolithiasis', 'Calculus urinary', 'Post procedural oedema', 'Sensory disturbance', 'Bad taste', 'COPD exacerbation', 'Chronic obstructive pulmonary disease', 'Gastrointestinal motility disorder', 'Diabetic', 'Diabetes mellitus', 'Hand and foot syndrome secondary to sickle cell anaemia', 'Palmar-plantar erythrodysaesthesia syndrome', 'Thromboembolic event', 'Rhinalgia', 'Fungal skin infection', 'Folliculitis', 'Hepatomegaly', 'Myopathy', 'Splenomegaly', 'Other sleep disturbances', 'Respiration abnormal', 'Respiratory disorder', 'Gastrointestinal infection', 'Action tremor', 'Tenosynovitis', 'Hepatic enzyme abnormal', 'Blood pressure increased', 'Chest wall pain', 'Nephropathy', 'Musculoskeletal disorder', 'Acute coronary syndrome', 'Vulvovaginal dryness', 'Ischaemia', 'Anaphylactic shock', 'Persistent foetal circulation', 'Atrial fibrillation and flutter', 'Cardiac fibrillation', 'Postinfarction angina', 'Diabetic vascular disorder', 'Blister', 'Skin bacterial infection', 'Compartment syndrome', 'Plasma cell myeloma', 'Plasmacytoma', 'Muscle atrophy', 'Sensation of warmth', 'Muscle fibrosis', 'Inflicted injury', 'Colitis', 'Colitis ulcerative', 'Proctocolitis', 'Eructation', 'Vasculitis', 'Pulmonary toxicity', 'Initial insomnia', 'Feeling jittery', 'Change in blood pressure', 'Blood pressure fluctuation', 'Arterial insufficiency', 'Atrioventricular block first degree', 'Cold hands & feet', 'Vaginal itching', 'Taste metallic', 'Yeast infection', 'Blood disorder', 'Laryngospasm', 'Pain during injection', 'Piloerection', 'Itchy scalp', 'Thyroid function test abnormal', 'Blood potassium decreased', 'Acute abdomen', 'Foot and mouth disease', 'Menorrhagia', 'Onycholysis', 'Urine abnormality', 'Urine analysis abnormal', 'White blood cell count decreased', 'Glucose increased', 'Blood glucose increased', 'Potassium low', 'Rhinitis allergic', 'Acidosis', 'Ascites', 'Atelectasis', 'Pneumothorax', 'Cholangitis', 'Hernia', 'Jaundice cholestatic', 'Leukocytosis', 'Oliguria', 'Pericardial effusion', 'Viraemia', 'Respiratory moniliasis', 'Renal tubular necrosis', 'Cytomegalovirus infection', 'Angioedema', 'Foot edema', 'Subarachnoid haemorrhage', 'Breast disorder', 'Oligomenorrhoea', 'Ovarian cyst', 'Abdominal pain lower', 'Menometrorrhagia', 'Schizophrenic reaction', 'Schizophreniform disorder', 'Joint stiffness', 'PRL increased', 'Blood prolactin increased', 'Hypersomnia', 'Bilirubin total decreased', 'Blood bilirubin decreased', 'Bilirubin total low', 'Reflux esophagitis', 'Genital disorder female', 'Burning rectal', 'Dysentery', 'Ear disorder', 'Tympanic membrane disorder', 'Intestinal obstruction', 'Deep vein thrombosis', 'Lacrimation abnormal NOS', 'Lacrimal disorder', \"Lhermitte's sign\", 'Ileus', 'Laryngopharyngeal dysesthesia', 'Dysaesthesia pharynx', 'Pancreatitis acute', 'Cryptosporidiosis infection', 'Localised oedema', 'Deafness neurosensory', 'Cardiac failure congestive', 'Intestinal perforation', 'Keratoconjunctivitis sicca', 'Cystoid macular oedema', 'Skin necrosis', 'Colitis ischaemic', 'Fatal outcomes', 'Peripheral motor neuropathy', 'Ventricular bigeminy', 'Skin fibrosis', 'Thrombosis mesenteric vessel', 'Madarosis', 'Necrotizing enterocolitis', 'Necrotising enterocolitis neonatal', 'Necrotising colitis', 'Cardiomyopathy', 'Pseudomembranous colitis', 'B-cell type acute leukaemia', 'Encephalopathy acute', 'Encephalopathy', 'Hypothyroidism', 'Metastasis', 'Tetany', 'Generalized aching', 'Infusion site reaction', 'Genital disorder male', 'Sweat gland disorder', 'Urination impaired', 'Liver disorder', 'Hepatocellular injury', 'Foetor hepaticus', 'Urogenital disorder', 'Raised liver function tests', 'Choreoathetosis', 'Paranoid reaction', 'Paranoia', 'Renal tubular acidosis', 'Road traffic accident', 'Alkalosis', 'Skin odour abnormal', 'Diabetes mellitus exacerbated', 'Impulse-control disorder', 'Compulsions', 'Sleep attacks', 'Sudden onset of sleep', 'Common cold', 'Metastatic neoplasm', 'Ovarian hyperstimulation syndrome', 'Vaginal dryness', 'Hand swelling', 'Cardiac disorder', 'Carcinoma', 'Lymphocele', 'Osteonecrosis', 'Wound infection', 'Melanoma skin', 'Malignant melanoma', 'Local reaction', 'Anger', 'Behavior disorder', 'Cheilitis', 'Muscle contracture', 'Glossitis', 'Hyperthyroidism', 'Ovarian disorder', 'Prostatitis', 'Psoriasis', 'Pharyngitis streptococcal', 'Sneezing', 'Somnambulism', 'Ulcerative stomatitis', 'Vaginal disorder', 'Virilism', 'Cheilosis', 'Oral pain', 'Tachypnoea', 'Rash erythematous', 'Lacrimal gland disorder', 'Right upper quadrant pain', 'Upset stomach', 'Psoriasis flare-up', 'Hair texture abnormal', 'Oral herpes', 'Suicidal ideation', 'Lipase increased', 'Skin laceration', 'Laceration', 'Dry cough', 'Blood thyroid stimulating hormone increased', 'CD4 lymphocytes decreased', 'Lung infection', 'Lipodystrophy acquired', 'Cytolytic hepatitis', 'Respiratory tract congestion', 'Thyroglobulin increased', 'Poor quality sleep', 'Increased upper airway secretion', 'Injection site dryness', 'Ageusia', 'Automatism', 'Immune system disorder', 'Polydipsia', 'Fasting', 'Circumoral paresthesia', 'Hyperamylasaemia', 'Basal cell carcinoma', 'Cerebrovascular disorder', 'Leg pain', 'Cogwheel rigidity', 'Hallucination, visual', 'Albuminuria', 'Aneurysm', 'Balanoposthitis', 'Blepharospasm', 'Breast cancer', 'Bursitis', 'Epididymitis', 'Furunculosis', 'Furuncle', 'Glaucoma', 'Partial hearing loss', 'Cardiomegaly', 'Lymphocytosis', 'Mitral valve incompetence', 'Neurosis', 'Penis disorder', 'Pleurisy', 'Polymyalgia rheumatica', 'Pulmonary oedema', 'Tendonitis', 'Torticollis', 'Varicose vein', 'Vitamin B12 deficiency', 'Peripheral gangrene', 'Gangrene', 'Skin hypertrophy', 'Viral diarrhoea', 'Precordial pain', 'Arthritis aggravated', 'Dementia', 'Hyperkeratosis', 'Tracheitis', 'Lipodystrophy', 'Asymptomatic hyperlactatemia', 'Lipoatrophy', 'Bruxism', 'Movement disorder', 'Female sexual dysfunction', 'Male sexual dysfunction', 'Disorder sight', 'Dyspnoea exacerbated', 'Proarrhythmia', 'Periorbital oedema', 'Neutrophil count decreased', 'Skin toxicity', 'Pharyngeal mucositis', 'Sensation of pressure', 'Phonophobia', 'Bile duct disorders', 'Cholestasis', 'Herpes labialis', 'Herpes virus infection', \"Kaposi's varicelliform eruption\", 'Rosacea', 'Gastrointestinal signs and symptoms', 'Alcohol intolerance', 'Liver injury', 'Lack of drug effect', 'Drug ineffective', 'Skin irritation', 'Consciousness abnormal', 'Altered state of consciousness', 'Tingling skin', 'Depressed mood', 'Writing impaired', 'Dysgraphia', 'Febrile disorders', 'Urinary abnormalities', 'Gastrointestinal inflammatory conditions', 'Ischaemic coronary artery disorders', 'Bladder and urethral symptoms', 'Asthenic conditions', 'Paraesthesias and dysaesthesias', 'Herpes simplex dermatitis', 'Herpes dermatitis', 'Gastrointestinal ulcer perforation', 'Application site warmth', 'Anxiety symptoms NOS', 'Application site paraesthesia', 'Eczema herpeticum', 'Primary graft dysfunction', 'Graft dysfunction', 'Vascular hypotensive disorders', 'Incision site complication', 'Tumour flare', 'Dermatitis irritant contact', 'Application site exfoliation', 'Hyperadrenocorticism', 'Clotting', 'Hemiparesis', 'Paresis', 'Radiation injury', 'Partial seizures', 'Dysphasia', 'Burn', 'Thermal burn', 'Allergic contact dermatitis', 'Prostatic specific antigen increased', 'Mouth irritation', 'Haematocrit increased', 'Prostatomegaly', 'Multiple congenital abnormalities', 'Blood and lymphatic system disorders', 'Chemical cystitis', 'Hyporeflexia', 'Optic neuritis', 'Retinal haemorrhage', 'Aphonia', 'High frequency deafness', 'Red blood cell sedimentation rate increased', 'Function kidney decreased', 'Sputum increased', 'Increased bronchial secretion', 'Forced expiratory volume decreased', 'Grand mal convulsion', 'Pharyngeal oedema', 'Expressive language disorder', 'Bradyphrenia', 'Neutropenic colitis', 'Gastric disorder', 'Ache', 'Vivid dreams', 'Disseminated intravascular coagulation', 'Flank pain', 'Hepatosplenomegaly', 'Pericarditis', 'Wheezing expiratory', 'Lung infiltration', 'Skin burning sensation', 'Skin tenderness', 'Mucosal dryness', 'Retinoic acid syndrome', 'Fluid imbalance', 'Application site stinging', 'Excoriation', 'Cholecystitis', 'Retrosternal pain', 'Cholesterol serum elevated', 'Status epilepticus', 'Ear infection', 'Anterograde amnesia', 'Insomnia exacerbated', 'Peptic ulcer', 'Hypotensive', 'Colonic pseudo-obstruction', 'Septic shock', 'Staphylococcal bacteraemia', 'Respiratory distress', 'Breath odour', 'Premature labour', 'Pre-eclampsia', 'Gestational diabetes', 'Injection site swelling', 'Gestational hypertension', 'Sensitisation', 'Pleuritic pain', 'Electrocardiogram QT prolonged', 'Ketoacidosis', 'Pulmonary alveolar haemorrhage', 'Staphylococcal infection', 'Intermittent fever', 'Blood chloride decreased', 'Blood bicarbonate increased', 'Blood albumin decreased', 'Catheter related infection', 'Device related infection', 'Swelling face', 'Tongue ulceration', 'Oral soft tissue disorder NOS', 'Oral disorder', 'Gastrointestinal tract irritation', 'Graft complication', 'Infusion site pain', 'Spinal cord compression', 'Ovarian hyperstimulation', 'Dysphoria', 'Hyperostosis', 'Exostosis', 'Uric acid level increased', 'Breath holding', 'Breath holding attack', 'Loss of libido', 'Hair disorder', 'Peripheral vascular disorder', 'Breast atrophy', 'Lower urinary tract symptoms', 'Dyspareunia', 'Congenital eye disorder', 'Unsteady gait', 'Localised numbness', 'Epigastric pain not food-related', 'Abdominal distension gaseous', 'Heaviness in limbs', 'Sensation of heaviness', 'Memory loss', 'Cholelithiasis', 'Steatorrhoea', 'Thyrotropin low', 'Blood thyroid stimulating hormone decreased', 'Glucose tolerance impaired', 'Biliary sludge', 'Dysfunction thyroid', 'Thyroid disorder', 'Thyroxine free decreased', 'Cold symptoms', 'Flu symptoms', 'Depressive symptom', 'Middle insomnia', 'Terminal insomnia', 'Major depression', 'Oesophageal neoplasm', 'Oesophageal stenosis', 'Haematemesis', 'Obstruction', 'Sunburn', 'Tracheo-oesophageal fistula', 'Oesophageal pain', 'Oesophageal oedema', 'Tearfulness', 'Application site haemorrhage', 'Application and instillation site reactions', 'Hypotension asymptomatic', 'Hypotension symptomatic', 'Skin discomfort', 'Carpal tunnel syndrome', 'Systolic hypertension', 'Diastolic hypertension', 'Iritis', 'Uveitis', 'Hypotony of eye', 'Localised infection', 'Stomatitis necrotising', 'Lip dry', 'Lymphocyte count decreased', 'Postoperative hypertension', 'Procedural hypertension', 'Postoperative shivering', 'Post procedural complication', 'Accident', 'Muscle tightness', 'Erythema multiforme', 'Creatinine renal clearance decreased', 'Body temperature decreased', 'Hypothermia', 'Buccoglossal syndrome', 'Venous thrombosis', 'Oral discomfort', 'Ca++ increased', 'Sodium decreased', 'Calcium low', 'Blood calcium decreased', 'Albumin urine present', 'Abortion spontaneous', 'Varicocele', 'Fullness abdominal', 'Pelvic pain female', 'Pelvic discomfort', 'Postoperative complications NOS', 'Postoperative wound infection', 'Wound dehiscence', 'Wound discharge increased', 'Wound secretion', 'Cytomegalovirus syndrome', 'Hypoaesthesia oral', 'Dental caries', 'Seasonal allergy', 'Rhinitis seasonal', 'Salivary gland enlargement', 'Skin atrophy', 'Papanicolaou smear suspicious', 'Smear cervix abnormal', 'Warts', 'Skin papilloma', 'Intermittent claudication', 'Sciatica', 'Acute phase reaction', 'Neoplasm malignant aggravated', 'Malignant neoplasm progression', 'Non-cardiac chest pain', 'Frigidity', 'Female sexual arousal disorder', 'Jaundice neonatal', 'Unexpected therapeutic effect', 'Therapeutic response unexpected', 'Bradycardia foetal', 'Torsade de pointes', 'Injection site mass', 'Red blood cell disorders', 'Anaemia megaloblastic', 'Acute respiratory distress syndrome', 'Microcytic', 'Microcytosis', 'Chromatopsia', 'Rash papular', 'Respiratory distress syndrome', 'Color vision change', 'Colour blindness acquired', 'Defaecation urgency', 'Otitis externa', 'Skin nodule', 'Skin mass', 'Micturition urgency', 'Coagulation time prolonged', 'Corneal lesion', 'WBC abnormal NOS', 'White blood cell disorder', 'Pseudolymphoma', 'Cardiac failure right', 'Right ventricular failure', 'Mantle cell lymphoma', 'Blood glucose decreased', 'Blood magnesium decreased', 'Pulmonary hypertension', 'Herpes NOS', 'Tinea versicolour', 'Influenza viral infections', 'Corneal opacity', 'Multi-organ failure', 'Prurigo', 'Tumour lysis syndrome', 'Systemic inflammatory response syndrome', 'Capillary leak syndrome', 'Rash generalised', 'Bilirubin total increased', 'Generalised erythema', 'Venoocclusive disease', 'Viral upper respiratory tract infection', 'Tooth infection', 'Iris hyperpigmentation', 'Postoperative hemorrhage', 'Aspergillosis', 'Aspergillus infection', 'Graft versus host disease', 'Blood urine', 'Blood urine present', 'Bicarbonate decreased serum', 'Blood bicarbonate decreased', 'Serum albumin decreased', 'Serum potassium decreased', 'Direct bilirubin increased', 'Bilirubin conjugated increased', 'Haematocrit decreased', 'Blood potassium increased', 'Serum bilirubin increased', 'Protein total decreased', 'Central line infection', 'Eye redness', 'Feeling sick', 'Sore mouth', 'Asthenopia', 'Corneal erosion', 'Growth of eyelashes', 'Eyelids pruritus', 'Blepharal pigmentation', 'Eyelash discolouration', 'Eyelash darkening', 'Eyelash hyperpigmentation', 'Pica', 'Acquired immunodeficiency syndrome', 'Autoimmune disorder', 'Scleral icterus', 'Ocular icterus', 'Mental state abnormal', 'Cannula site reaction', 'Catheter site related reaction', 'Infusion site phlebitis', 'Lactic acidosis', 'Hyperparathyroidism primary', 'Chronic kidney disease', 'Renal failure chronic', 'Skin bleeding', 'Skin haemorrhage', 'Pseudohyperkalaemia', 'Mechanical complication of implant', 'Medical device complication', 'Injection site discomfort', 'Serum triglycerides increased', 'White blood cell count low', 'Decubitus ulcer', 'White blood cell count increased', 'Emotional disorder', 'Paronychia', 'Dermatitis acneiform', 'Left ventricular ejection fraction decreased', 'Urogenital haemorrhage', 'International normalised ratio increased', 'Glossodynia', 'Tumour pain', 'Foot pain', 'Hordeolum', 'Polycythaemia', 'Polyneuropathy', 'Primary hypothyroidism', 'Cystocele', 'Uterine polyp', 'Electrocardiogram ST segment depression', 'Throat tightness', 'Electrocardiogram ST segment', 'Electrocardiogram QT corrected interval prolonged', 'Infusion related reaction', 'Appetite disorder', 'Joint related signs and symptoms', 'Paraproteinaemia', 'Xerophthalmia', 'Electrolyte imbalance', 'Blood insulin increased', 'Blood phosphorus decreased', 'Oral papilloma', 'Retrograde ejaculation', 'Anal pruritus', 'Hypoxemia', 'Abnormal bowel sounds', 'Gastrointestinal sounds abnormal', 'Impetigo', 'Tonsillitis', 'Myositis', 'Bronchial hyperreactivity', 'Malignant hypertension', 'Hypertensive crisis', 'Serum amylase increased', 'Haemoglobin increased', 'Nail abnormality NOS', 'Oesophageal disorder', 'Oesophageal spasm', 'Oesophageal ulcer', 'Abdominal rigidity', 'Milia', 'Regurgitation of food', 'Regurgitation', 'Skin fragility', 'Oesophageal stenosis acquired', 'Abrasion NOS', 'Injection site irritation', 'Artificial kidney clotting during dialysis', 'Thrombosis in device', 'Vascular occlusion', 'Device malfunction', 'Parkinsonism aggravated', 'Urine color abnormal', 'Chromaturia', 'Dreaming excessive', 'Phototoxicity', 'Increased skin sensitivity', 'Haematochezia', 'Photopsia', 'Injection site extravasation', 'Fuzzy head', 'Black spot', 'Melanoderma', 'Cyanosis', 'Groin pain', 'Hepatic pain', 'Infusion site erythema', 'Catheter site pain', 'Catheter site infection', 'Synovitis', 'Hepatitis C', 'Thrombotic thrombocytopenic purpura', 'Xeroderma', 'Interstitial lung disease', 'Menstruation delayed', 'Incisional hernia', 'Uraemic syndrome', 'Onychoclasis', 'Alveolitis', 'Blood luteinising hormone increased', 'Potassium increased', 'Albumin low', 'Phosphate low', 'Fasting hyperglycaemia', 'Thrombotic microangiopathy', 'Injection site burning', 'Peritoneal infection', 'Neuromyopathy', 'Headache dull', 'Venous thromboembolism', 'Application site infection', 'Application site pustules', 'Application site scab', 'Application site erosion', 'Genital infection fungal', 'Type 2 diabetes mellitus', 'Sinus bradycardia', \"Pituitary-dependent Cushing's syndrome\", 'Glycosylated haemoglobin increased', 'Leukoderma', 'Mg reduced', 'Hair colour changes', 'Phosphorus low', 'Exfoliative rash', 'Glucose decreased', 'Urethral haemorrhage', 'Goitre', 'Retinal exudates', 'Feeling of body temperature change', 'Oral fungal infection', 'Actinic keratosis', 'Seborrhoeic keratosis', 'Diabetic nephropathy', 'Retinal disorder', 'Cauda equina syndrome', 'Osteomyelitis', 'Hypoglycaemic seizure', 'Major bleed', 'Nipple tenderness', 'Onychomycosis', 'Injection site nodule', 'Tuberculosis', 'Foreign body sensation in eyes', 'Sodium high', 'Blood sodium increased', 'Testicular atrophy', 'Implant site reaction', 'Prehypertension', 'Sensitivity of teeth', 'Abscess periodontal', 'Tooth fracture', 'Periodontitis', 'Toxic epidermal necrolysis', 'Erythema nodosum', 'Stevens-Johnson syndrome', 'Keratosis pilaris', 'Retinal vascular disorder', \"Bowen's disease\", 'Keratoacanthoma', 'Papilloma', 'Acrochordon', 'Squamous cell carcinoma of skin', 'Hepatic steatosis', 'Gastrointestinal perforation', 'Gastrointestinal ulcer', 'Prothrombin level increased', 'Activated partial thromboplastin time prolonged', 'Serum urea increased', 'Faecalith', 'Faecaloma']\n"
     ]
    }
   ],
   "source": [
    "## make side effects in to a single list of strings\n",
    "\n",
    "side_effects_lofl = side_effects.values.tolist()\n",
    "side_effects_lofl\n",
    "side_effects_list = list(map(''.join, side_effects_lofl)) \n",
    "#map(lambda x:x.lower(),side_effects_list)\n",
    "[x.lower() for x in side_effects_list]\n",
    "print(side_effects_list)"
   ]
  },
  {
   "cell_type": "markdown",
   "metadata": {},
   "source": [
    "### only select reviews with ratings below 6"
   ]
  },
  {
   "cell_type": "code",
   "execution_count": null,
   "metadata": {},
   "outputs": [],
   "source": []
  },
  {
   "cell_type": "markdown",
   "metadata": {},
   "source": [
    "### create a dictionary with side effects"
   ]
  },
  {
   "cell_type": "code",
   "execution_count": null,
   "metadata": {},
   "outputs": [],
   "source": [
    "## get pretrained word-embedding model\n",
    "nlp = gensim_api.load(\"glove-wiki-gigaword-200\")"
   ]
  },
  {
   "cell_type": "code",
   "execution_count": 90,
   "metadata": {},
   "outputs": [
    {
     "name": "stderr",
     "output_type": "stream",
     "text": [
      "/home/jack/.pyenv/versions/3.7.7/envs/drug_adverse/lib/python3.7/site-packages/ipykernel_launcher.py:1: DeprecationWarning: Call to deprecated `most_similar` (Method will be removed in 4.0.0, use self.wv.most_similar() instead).\n",
      "  \"\"\"Entry point for launching an IPython kernel.\n"
     ]
    },
    {
     "data": {
      "text/plain": [
       "[('crepitus', 0.5839619040489197),\n",
       " ('diarrheatwice', 0.5786992907524109),\n",
       " ('insomniaafter', 0.5593100190162659),\n",
       " ('dizziness', 0.558414876461029),\n",
       " ('shortn', 0.5558688640594482),\n",
       " ('nauseaupset', 0.5542382597923279),\n",
       " ('nauseousiness', 0.5423255562782288),\n",
       " ('effectssensitivity', 0.5370903611183167),\n",
       " ('achene', 0.5335571765899658),\n",
       " ('913915', 0.5300567150115967),\n",
       " ('nauseaas', 0.5257823467254639),\n",
       " ('swingsirratibility', 0.5254141688346863),\n",
       " ('asuages', 0.5253233313560486),\n",
       " ('shouldersbackneck', 0.5249696969985962),\n",
       " ('tiredness', 0.5249460339546204),\n",
       " ('fogginesshead', 0.5209469795227051),\n",
       " ('neuromusculoskeletal', 0.5151218175888062),\n",
       " ('hyperchloremia', 0.5123720765113831),\n",
       " ('quotparty', 0.512119472026825),\n",
       " ('sleepresulting', 0.5116897821426392),\n",
       " ('urinationback', 0.5111106038093567),\n",
       " ('slowthinking', 0.5103232860565186),\n",
       " ('hangoverlack', 0.5086709856987),\n",
       " ('spasmsweakness', 0.5078925490379333),\n",
       " ('twitchesspasms', 0.505129873752594),\n",
       " ('swellingdiscomfortpain', 0.5048981308937073),\n",
       " ('osteoarthirtis', 0.5048152208328247),\n",
       " ('manageableheadaches', 0.5033770203590393),\n",
       " ('nassau', 0.5029093027114868),\n",
       " ('painmany', 0.5025423765182495)]"
      ]
     },
     "execution_count": 90,
     "metadata": {},
     "output_type": "execute_result"
    }
   ],
   "source": [
    "nlp.most_similar([\"fatigue\"], topn=30)"
   ]
  },
  {
   "cell_type": "code",
   "execution_count": 91,
   "metadata": {},
   "outputs": [
    {
     "name": "stdout",
     "output_type": "stream",
     "text": [
      "SIDE_EFFECTS :  ['582017', 'insomniaafter', 'theeee', 'diarrheatwice', 'shakingthe'] ... 53\n"
     ]
    },
    {
     "name": "stderr",
     "output_type": "stream",
     "text": [
      "/home/jack/.pyenv/versions/3.7.7/envs/drug_adverse/lib/python3.7/site-packages/ipykernel_launcher.py:5: DeprecationWarning: Call to deprecated `most_similar` (Method will be removed in 4.0.0, use self.wv.most_similar() instead).\n",
      "  \"\"\"\n"
     ]
    }
   ],
   "source": [
    "## Function to apply\n",
    "\n",
    "def get_similar_words(lst_words, top, nlp):\n",
    "    lst_out = lst_words\n",
    "    for tupla in nlp.most_similar(lst_words, topn=top):\n",
    "        lst_out.append(tupla[0])\n",
    "    return list(set(lst_out))\n",
    "\n",
    "## Create Dictionary {category:[keywords]}\n",
    "dic_clusters = {}\n",
    "\n",
    "dic_clusters[\"SIDE_EFFECTS\"] = get_similar_words(['nausea', 'headache', 'fatigue'], \n",
    "                  top=50, nlp=nlp)\n",
    "\n",
    "\n",
    "## print some\n",
    "for k,v in dic_clusters.items():\n",
    "    print(k, \": \", v[0:5], \"...\", len(v))"
   ]
  },
  {
   "cell_type": "code",
   "execution_count": 92,
   "metadata": {},
   "outputs": [
    {
     "name": "stderr",
     "output_type": "stream",
     "text": [
      "/home/jack/.pyenv/versions/3.7.7/envs/drug_adverse/lib/python3.7/site-packages/ipykernel_launcher.py:5: DeprecationWarning: Call to deprecated `__getitem__` (Method will be removed in 4.0.0, use self.wv.__getitem__() instead).\n",
      "  \"\"\"\n"
     ]
    },
    {
     "data": {
      "image/png": "[encoded data removed]",
      "text/plain": [
       "<Figure size 432x288 with 1 Axes>"
      ]
     },
     "metadata": {},
     "output_type": "display_data"
    }
   ],
   "source": [
    "### graph side effecs\n",
    "\n",
    "## word embedding\n",
    "tot_words = [word for v in dic_clusters.values() for word in v]\n",
    "X = nlp[tot_words]\n",
    "\n",
    "## pca\n",
    "pca = manifold.TSNE(perplexity=40, n_components=2, init='pca')\n",
    "X = pca.fit_transform(X)\n",
    "\n",
    "## create dtf\n",
    "dtf = pd.DataFrame()\n",
    "for k,v in dic_clusters.items():\n",
    "    size = len(dtf) + len(v)\n",
    "    dtf_group = pd.DataFrame(X[len(dtf):size], columns=[\"x\",\"y\"], \n",
    "                             index=v)\n",
    "    dtf_group[\"cluster\"] = k\n",
    "    dtf = dtf.append(dtf_group)\n",
    "\n",
    "## plot\n",
    "fig, ax = plt.subplots()\n",
    "sns.scatterplot(data=dtf, x=\"x\", y=\"y\", hue=\"cluster\", ax=ax)\n",
    "\n",
    "ax.legend().texts[0].set_text(None)\n",
    "ax.set(xlabel=None, ylabel=None, xticks=[], xticklabels=[], \n",
    "       yticks=[], yticklabels=[])\n",
    "\n",
    "for i in range(len(dtf)):\n",
    "    ax.annotate(dtf.index[i], \n",
    "               xy=(dtf[\"x\"].iloc[i],dtf[\"y\"].iloc[i]), \n",
    "               xytext=(5,2), textcoords='offset points', \n",
    "               ha='right', va='bottom')"
   ]
  },
  {
   "cell_type": "markdown",
   "metadata": {},
   "source": [
    "## Feature Engineering"
   ]
  },
  {
   "cell_type": "code",
   "execution_count": 94,
   "metadata": {
    "scrolled": true
   },
   "outputs": [
    {
     "ename": "ImportError",
     "evalue": "IProgress not found. Please update jupyter and ipywidgets. See https://ipywidgets.readthedocs.io/en/stable/user_install.html",
     "output_type": "error",
     "traceback": [
      "\u001b[0;31m---------------------------------------------------------------------------\u001b[0m",
      "\u001b[0;31mImportError\u001b[0m                               Traceback (most recent call last)",
      "\u001b[0;32m<ipython-input-94-8f4d1b3228bb>\u001b[0m in \u001b[0;36m<module>\u001b[0;34m\u001b[0m\n\u001b[0;32m----> 1\u001b[0;31m \u001b[0mtokenizer\u001b[0m \u001b[0;34m=\u001b[0m \u001b[0mtransformers\u001b[0m\u001b[0;34m.\u001b[0m\u001b[0mBertTokenizer\u001b[0m\u001b[0;34m.\u001b[0m\u001b[0mfrom_pretrained\u001b[0m\u001b[0;34m(\u001b[0m\u001b[0;34m'bert-base-uncased'\u001b[0m\u001b[0;34m,\u001b[0m \u001b[0mdo_lower_case\u001b[0m\u001b[0;34m=\u001b[0m\u001b[0;32mTrue\u001b[0m\u001b[0;34m)\u001b[0m\u001b[0;34m\u001b[0m\u001b[0;34m\u001b[0m\u001b[0m\n\u001b[0m\u001b[1;32m      2\u001b[0m \u001b[0;34m\u001b[0m\u001b[0m\n\u001b[1;32m      3\u001b[0m \u001b[0mnlp\u001b[0m \u001b[0;34m=\u001b[0m \u001b[0mtransformers\u001b[0m\u001b[0;34m.\u001b[0m\u001b[0mTFBertModel\u001b[0m\u001b[0;34m.\u001b[0m\u001b[0mfrom_pretrained\u001b[0m\u001b[0;34m(\u001b[0m\u001b[0;34m'bert-base-uncased'\u001b[0m\u001b[0;34m)\u001b[0m\u001b[0;34m\u001b[0m\u001b[0;34m\u001b[0m\u001b[0m\n",
      "\u001b[0;32m~/.pyenv/versions/3.7.7/envs/drug_adverse/lib/python3.7/site-packages/transformers/tokenization_utils_base.py\u001b[0m in \u001b[0;36mfrom_pretrained\u001b[0;34m(cls, pretrained_model_name_or_path, *init_inputs, **kwargs)\u001b[0m\n\u001b[1;32m   1627\u001b[0m                         \u001b[0mproxies\u001b[0m\u001b[0;34m=\u001b[0m\u001b[0mproxies\u001b[0m\u001b[0;34m,\u001b[0m\u001b[0;34m\u001b[0m\u001b[0;34m\u001b[0m\u001b[0m\n\u001b[1;32m   1628\u001b[0m                         \u001b[0mresume_download\u001b[0m\u001b[0;34m=\u001b[0m\u001b[0mresume_download\u001b[0m\u001b[0;34m,\u001b[0m\u001b[0;34m\u001b[0m\u001b[0;34m\u001b[0m\u001b[0m\n\u001b[0;32m-> 1629\u001b[0;31m                         \u001b[0mlocal_files_only\u001b[0m\u001b[0;34m=\u001b[0m\u001b[0mlocal_files_only\u001b[0m\u001b[0;34m,\u001b[0m\u001b[0;34m\u001b[0m\u001b[0;34m\u001b[0m\u001b[0m\n\u001b[0m\u001b[1;32m   1630\u001b[0m                     )\n\u001b[1;32m   1631\u001b[0m                 \u001b[0;32mexcept\u001b[0m \u001b[0mrequests\u001b[0m\u001b[0;34m.\u001b[0m\u001b[0mexceptions\u001b[0m\u001b[0;34m.\u001b[0m\u001b[0mHTTPError\u001b[0m \u001b[0;32mas\u001b[0m \u001b[0merr\u001b[0m\u001b[0;34m:\u001b[0m\u001b[0;34m\u001b[0m\u001b[0;34m\u001b[0m\u001b[0m\n",
      "\u001b[0;32m~/.pyenv/versions/3.7.7/envs/drug_adverse/lib/python3.7/site-packages/transformers/file_utils.py\u001b[0m in \u001b[0;36mcached_path\u001b[0;34m(url_or_filename, cache_dir, force_download, proxies, resume_download, user_agent, extract_compressed_file, force_extract, local_files_only)\u001b[0m\n\u001b[1;32m    953\u001b[0m             \u001b[0mresume_download\u001b[0m\u001b[0;34m=\u001b[0m\u001b[0mresume_download\u001b[0m\u001b[0;34m,\u001b[0m\u001b[0;34m\u001b[0m\u001b[0;34m\u001b[0m\u001b[0m\n\u001b[1;32m    954\u001b[0m             \u001b[0muser_agent\u001b[0m\u001b[0;34m=\u001b[0m\u001b[0muser_agent\u001b[0m\u001b[0;34m,\u001b[0m\u001b[0;34m\u001b[0m\u001b[0;34m\u001b[0m\u001b[0m\n\u001b[0;32m--> 955\u001b[0;31m             \u001b[0mlocal_files_only\u001b[0m\u001b[0;34m=\u001b[0m\u001b[0mlocal_files_only\u001b[0m\u001b[0;34m,\u001b[0m\u001b[0;34m\u001b[0m\u001b[0;34m\u001b[0m\u001b[0m\n\u001b[0m\u001b[1;32m    956\u001b[0m         )\n\u001b[1;32m    957\u001b[0m     \u001b[0;32melif\u001b[0m \u001b[0mos\u001b[0m\u001b[0;34m.\u001b[0m\u001b[0mpath\u001b[0m\u001b[0;34m.\u001b[0m\u001b[0mexists\u001b[0m\u001b[0;34m(\u001b[0m\u001b[0murl_or_filename\u001b[0m\u001b[0;34m)\u001b[0m\u001b[0;34m:\u001b[0m\u001b[0;34m\u001b[0m\u001b[0;34m\u001b[0m\u001b[0m\n",
      "\u001b[0;32m~/.pyenv/versions/3.7.7/envs/drug_adverse/lib/python3.7/site-packages/transformers/file_utils.py\u001b[0m in \u001b[0;36mget_from_cache\u001b[0;34m(url, cache_dir, force_download, proxies, etag_timeout, resume_download, user_agent, local_files_only)\u001b[0m\n\u001b[1;32m   1162\u001b[0m             \u001b[0mlogger\u001b[0m\u001b[0;34m.\u001b[0m\u001b[0minfo\u001b[0m\u001b[0;34m(\u001b[0m\u001b[0;34m\"%s not found in cache or force_download set to True, downloading to %s\"\u001b[0m\u001b[0;34m,\u001b[0m \u001b[0murl\u001b[0m\u001b[0;34m,\u001b[0m \u001b[0mtemp_file\u001b[0m\u001b[0;34m.\u001b[0m\u001b[0mname\u001b[0m\u001b[0;34m)\u001b[0m\u001b[0;34m\u001b[0m\u001b[0;34m\u001b[0m\u001b[0m\n\u001b[1;32m   1163\u001b[0m \u001b[0;34m\u001b[0m\u001b[0m\n\u001b[0;32m-> 1164\u001b[0;31m             \u001b[0mhttp_get\u001b[0m\u001b[0;34m(\u001b[0m\u001b[0murl_to_download\u001b[0m\u001b[0;34m,\u001b[0m \u001b[0mtemp_file\u001b[0m\u001b[0;34m,\u001b[0m \u001b[0mproxies\u001b[0m\u001b[0;34m=\u001b[0m\u001b[0mproxies\u001b[0m\u001b[0;34m,\u001b[0m \u001b[0mresume_size\u001b[0m\u001b[0;34m=\u001b[0m\u001b[0mresume_size\u001b[0m\u001b[0;34m,\u001b[0m \u001b[0muser_agent\u001b[0m\u001b[0;34m=\u001b[0m\u001b[0muser_agent\u001b[0m\u001b[0;34m)\u001b[0m\u001b[0;34m\u001b[0m\u001b[0;34m\u001b[0m\u001b[0m\n\u001b[0m\u001b[1;32m   1165\u001b[0m \u001b[0;34m\u001b[0m\u001b[0m\n\u001b[1;32m   1166\u001b[0m         \u001b[0mlogger\u001b[0m\u001b[0;34m.\u001b[0m\u001b[0minfo\u001b[0m\u001b[0;34m(\u001b[0m\u001b[0;34m\"storing %s in cache at %s\"\u001b[0m\u001b[0;34m,\u001b[0m \u001b[0murl\u001b[0m\u001b[0;34m,\u001b[0m \u001b[0mcache_path\u001b[0m\u001b[0;34m)\u001b[0m\u001b[0;34m\u001b[0m\u001b[0;34m\u001b[0m\u001b[0m\n",
      "\u001b[0;32m~/.pyenv/versions/3.7.7/envs/drug_adverse/lib/python3.7/site-packages/transformers/file_utils.py\u001b[0m in \u001b[0;36mhttp_get\u001b[0;34m(url, temp_file, proxies, resume_size, user_agent)\u001b[0m\n\u001b[1;32m   1032\u001b[0m         \u001b[0minitial\u001b[0m\u001b[0;34m=\u001b[0m\u001b[0mresume_size\u001b[0m\u001b[0;34m,\u001b[0m\u001b[0;34m\u001b[0m\u001b[0;34m\u001b[0m\u001b[0m\n\u001b[1;32m   1033\u001b[0m         \u001b[0mdesc\u001b[0m\u001b[0;34m=\u001b[0m\u001b[0;34m\"Downloading\"\u001b[0m\u001b[0;34m,\u001b[0m\u001b[0;34m\u001b[0m\u001b[0;34m\u001b[0m\u001b[0m\n\u001b[0;32m-> 1034\u001b[0;31m         \u001b[0mdisable\u001b[0m\u001b[0;34m=\u001b[0m\u001b[0mbool\u001b[0m\u001b[0;34m(\u001b[0m\u001b[0mlogging\u001b[0m\u001b[0;34m.\u001b[0m\u001b[0mget_verbosity\u001b[0m\u001b[0;34m(\u001b[0m\u001b[0;34m)\u001b[0m \u001b[0;34m==\u001b[0m \u001b[0mlogging\u001b[0m\u001b[0;34m.\u001b[0m\u001b[0mNOTSET\u001b[0m\u001b[0;34m)\u001b[0m\u001b[0;34m,\u001b[0m\u001b[0;34m\u001b[0m\u001b[0;34m\u001b[0m\u001b[0m\n\u001b[0m\u001b[1;32m   1035\u001b[0m     )\n\u001b[1;32m   1036\u001b[0m     \u001b[0;32mfor\u001b[0m \u001b[0mchunk\u001b[0m \u001b[0;32min\u001b[0m \u001b[0mr\u001b[0m\u001b[0;34m.\u001b[0m\u001b[0miter_content\u001b[0m\u001b[0;34m(\u001b[0m\u001b[0mchunk_size\u001b[0m\u001b[0;34m=\u001b[0m\u001b[0;36m1024\u001b[0m\u001b[0;34m)\u001b[0m\u001b[0;34m:\u001b[0m\u001b[0;34m\u001b[0m\u001b[0;34m\u001b[0m\u001b[0m\n",
      "\u001b[0;32m~/.pyenv/versions/3.7.7/envs/drug_adverse/lib/python3.7/site-packages/tqdm/notebook.py\u001b[0m in \u001b[0;36m__init__\u001b[0;34m(self, *args, **kwargs)\u001b[0m\n\u001b[1;32m    230\u001b[0m         \u001b[0mtotal\u001b[0m \u001b[0;34m=\u001b[0m \u001b[0mself\u001b[0m\u001b[0;34m.\u001b[0m\u001b[0mtotal\u001b[0m \u001b[0;34m*\u001b[0m \u001b[0munit_scale\u001b[0m \u001b[0;32mif\u001b[0m \u001b[0mself\u001b[0m\u001b[0;34m.\u001b[0m\u001b[0mtotal\u001b[0m \u001b[0;32melse\u001b[0m \u001b[0mself\u001b[0m\u001b[0;34m.\u001b[0m\u001b[0mtotal\u001b[0m\u001b[0;34m\u001b[0m\u001b[0;34m\u001b[0m\u001b[0m\n\u001b[1;32m    231\u001b[0m         self.container = self.status_printer(\n\u001b[0;32m--> 232\u001b[0;31m             self.fp, total, self.desc, self.ncols)\n\u001b[0m\u001b[1;32m    233\u001b[0m         \u001b[0;32mif\u001b[0m \u001b[0mdisplay_here\u001b[0m\u001b[0;34m:\u001b[0m\u001b[0;34m\u001b[0m\u001b[0;34m\u001b[0m\u001b[0m\n\u001b[1;32m    234\u001b[0m             \u001b[0mdisplay\u001b[0m\u001b[0;34m(\u001b[0m\u001b[0mself\u001b[0m\u001b[0;34m.\u001b[0m\u001b[0mcontainer\u001b[0m\u001b[0;34m)\u001b[0m\u001b[0;34m\u001b[0m\u001b[0;34m\u001b[0m\u001b[0m\n",
      "\u001b[0;32m~/.pyenv/versions/3.7.7/envs/drug_adverse/lib/python3.7/site-packages/tqdm/notebook.py\u001b[0m in \u001b[0;36mstatus_printer\u001b[0;34m(_, total, desc, ncols)\u001b[0m\n\u001b[1;32m     95\u001b[0m         \u001b[0;32mif\u001b[0m \u001b[0mIProgress\u001b[0m \u001b[0;32mis\u001b[0m \u001b[0;32mNone\u001b[0m\u001b[0;34m:\u001b[0m  \u001b[0;31m# #187 #451 #558 #872\u001b[0m\u001b[0;34m\u001b[0m\u001b[0;34m\u001b[0m\u001b[0m\n\u001b[1;32m     96\u001b[0m             raise ImportError(\n\u001b[0;32m---> 97\u001b[0;31m                 \u001b[0;34m\"IProgress not found. Please update jupyter and ipywidgets.\"\u001b[0m\u001b[0;34m\u001b[0m\u001b[0;34m\u001b[0m\u001b[0m\n\u001b[0m\u001b[1;32m     98\u001b[0m                 \u001b[0;34m\" See https://ipywidgets.readthedocs.io/en/stable\"\u001b[0m\u001b[0;34m\u001b[0m\u001b[0;34m\u001b[0m\u001b[0m\n\u001b[1;32m     99\u001b[0m                 \"/user_install.html\")\n",
      "\u001b[0;31mImportError\u001b[0m: IProgress not found. Please update jupyter and ipywidgets. See https://ipywidgets.readthedocs.io/en/stable/user_install.html"
     ]
    }
   ],
   "source": [
    "tokenizer = transformers.BertTokenizer.from_pretrained('bert-base-uncased', do_lower_case=True)\n",
    "\n",
    "nlp = transformers.TFBertModel.from_pretrained('bert-base-uncased')"
   ]
  },
  {
   "cell_type": "code",
   "execution_count": 95,
   "metadata": {},
   "outputs": [],
   "source": [
    "#### STUCK HERE!!! WHY AM I GETTING THIS IMPORT ERROR!!!"
   ]
  },
  {
   "cell_type": "code",
   "execution_count": null,
   "metadata": {},
   "outputs": [],
   "source": []
  },
  {
   "cell_type": "code",
   "execution_count": null,
   "metadata": {},
   "outputs": [],
   "source": []
  },
  {
   "cell_type": "markdown",
   "metadata": {},
   "source": [
    "## Word 2 Vec - word embedding"
   ]
  },
  {
   "cell_type": "markdown",
   "metadata": {},
   "source": [
    "### tranform into list of n-grams"
   ]
  },
  {
   "cell_type": "code",
   "execution_count": 75,
   "metadata": {},
   "outputs": [],
   "source": [
    "corpus = data[\"review_clean\"]\n",
    "\n",
    "## create list of lists of unigrams\n",
    "lst_corpus = []\n",
    "for string in corpus:\n",
    "   lst_words = string.split()\n",
    "   lst_grams = [\" \".join(lst_words[i:i+1]) \n",
    "               for i in range(0, len(lst_words), 1)]\n",
    "   lst_corpus.append(lst_grams)\n",
    "\n",
    "## detect bigrams and trigrams\n",
    "bigrams_detector = gensim.models.phrases.Phrases(lst_corpus, \n",
    "                 delimiter=\" \".encode(), min_count=5, threshold=10)\n",
    "bigrams_detector = gensim.models.phrases.Phraser(bigrams_detector)\n",
    "\n",
    "trigrams_detector = gensim.models.phrases.Phrases(bigrams_detector[lst_corpus], \n",
    "                              delimiter=\" \".encode(), min_count=5, threshold=10)\n",
    "trigrams_detector = gensim.models.phrases.Phraser(trigrams_detector)"
   ]
  },
  {
   "cell_type": "code",
   "execution_count": 76,
   "metadata": {},
   "outputs": [
    {
     "name": "stderr",
     "output_type": "stream",
     "text": [
      "Exception ignored in: <function tqdm.__del__ at 0x7ff0284ef710>\n",
      "Traceback (most recent call last):\n",
      "  File \"/home/jack/.pyenv/versions/3.7.7/envs/drug_adverse/lib/python3.7/site-packages/tqdm/std.py\", line 1150, in __del__\n",
      "    self.close()\n",
      "  File \"/home/jack/.pyenv/versions/3.7.7/envs/drug_adverse/lib/python3.7/site-packages/tqdm/notebook.py\", line 271, in close\n",
      "    self.sp(bar_style='danger')\n",
      "AttributeError: 'tqdm' object has no attribute 'sp'\n"
     ]
    }
   ],
   "source": [
    "## fit w2v\n",
    "nlp = gensim.models.word2vec.Word2Vec(lst_corpus, size=300,   \n",
    "            window=8, min_count=1, sg=1, iter=30)"
   ]
  },
  {
   "cell_type": "code",
   "execution_count": 86,
   "metadata": {},
   "outputs": [
    {
     "name": "stderr",
     "output_type": "stream",
     "text": [
      "/home/jack/.pyenv/versions/3.7.7/envs/drug_adverse/lib/python3.7/site-packages/ipykernel_launcher.py:2: DeprecationWarning: Call to deprecated `__getitem__` (Method will be removed in 4.0.0, use self.wv.__getitem__() instead).\n",
      "  \n"
     ]
    },
    {
     "data": {
      "text/plain": [
       "(300,)"
      ]
     },
     "execution_count": 86,
     "metadata": {},
     "output_type": "execute_result"
    }
   ],
   "source": [
    "word = \"nausea\"\n",
    "nlp[word].shape"
   ]
  },
  {
   "cell_type": "code",
   "execution_count": 87,
   "metadata": {},
   "outputs": [
    {
     "name": "stderr",
     "output_type": "stream",
     "text": [
      "/home/jack/.pyenv/versions/3.7.7/envs/drug_adverse/lib/python3.7/site-packages/ipykernel_launcher.py:8: DeprecationWarning: Call to deprecated `most_similar` (Method will be removed in 4.0.0, use self.wv.most_similar() instead).\n",
      "  \n",
      "/home/jack/.pyenv/versions/3.7.7/envs/drug_adverse/lib/python3.7/site-packages/ipykernel_launcher.py:9: DeprecationWarning: Call to deprecated `__getitem__` (Method will be removed in 4.0.0, use self.wv.__getitem__() instead).\n",
      "  if __name__ == '__main__':\n",
      "/home/jack/.pyenv/versions/3.7.7/envs/drug_adverse/lib/python3.7/site-packages/pandas/core/indexing.py:670: SettingWithCopyWarning: \n",
      "A value is trying to be set on a copy of a slice from a DataFrame\n",
      "\n",
      "See the caveats in the documentation: https://pandas.pydata.org/pandas-docs/stable/user_guide/indexing.html#returning-a-view-versus-a-copy\n",
      "  iloc._setitem_with_indexer(indexer, value)\n"
     ]
    },
    {
     "data": {
      "image/png": "[encoded data removed]",
      "text/plain": [
       "<Figure size 432x288 with 1 Axes>"
      ]
     },
     "metadata": {
      "needs_background": "light"
     },
     "output_type": "display_data"
    }
   ],
   "source": [
    "### visual word in x dimensional space\n",
    "\n",
    "word = \"fatigue\"\n",
    "fig = plt.figure()\n",
    "\n",
    "## word embedding\n",
    "tot_words = [word] + [tupla[0] for tupla in \n",
    "                 nlp.most_similar(word, topn=20)]\n",
    "X = nlp[tot_words]\n",
    "\n",
    "## pca to reduce dimensionality from 300 to 3\n",
    "pca = manifold.TSNE(perplexity=40, n_components=3, init='pca')\n",
    "X = pca.fit_transform(X)\n",
    "\n",
    "## create dtf\n",
    "dtf_ = pd.DataFrame(X, index=tot_words, columns=[\"x\",\"y\",\"z\"])\n",
    "dtf_[\"input\"] = 0\n",
    "dtf_[\"input\"].iloc[0:1] = 1\n",
    "\n",
    "## plot 3d\n",
    "from mpl_toolkits.mplot3d import Axes3D\n",
    "ax = fig.add_subplot(111, projection='3d')\n",
    "ax.scatter(dtf_[dtf_[\"input\"]==0]['x'], \n",
    "           dtf_[dtf_[\"input\"]==0]['y'], \n",
    "           dtf_[dtf_[\"input\"]==0]['z'], c=\"black\")\n",
    "ax.scatter(dtf_[dtf_[\"input\"]==1]['x'], \n",
    "           dtf_[dtf_[\"input\"]==1]['y'], \n",
    "           dtf_[dtf_[\"input\"]==1]['z'], c=\"red\")\n",
    "ax.set(xlabel=None, ylabel=None, zlabel=None, xticklabels=[], \n",
    "       yticklabels=[], zticklabels=[])\n",
    "for label, row in dtf_[[\"x\",\"y\",\"z\"]].iterrows():\n",
    "    x, y, z = row\n",
    "    ax.text(x, y, z, s=label)"
   ]
  },
  {
   "cell_type": "markdown",
   "metadata": {},
   "source": [
    "### tokenize and pad text"
   ]
  },
  {
   "cell_type": "code",
   "execution_count": 80,
   "metadata": {},
   "outputs": [],
   "source": [
    "## tokenize text\n",
    "tokenizer = kprocessing.text.Tokenizer(lower=True, split=' ', \n",
    "                     oov_token=\"NaN\", \n",
    "                     filters='!\"#$%&()*+,-./:;<=>?@[\\\\]^_`{|}~\\t\\n')\n",
    "tokenizer.fit_on_texts(lst_corpus)\n",
    "dic_vocabulary = tokenizer.word_index## create sequence\n",
    "lst_text2seq= tokenizer.texts_to_sequences(lst_corpus)## padding sequence\n",
    "X_train = kprocessing.sequence.pad_sequences(lst_text2seq, \n",
    "                    maxlen=15, padding=\"post\", truncating=\"post\")"
   ]
  },
  {
   "cell_type": "code",
   "execution_count": 81,
   "metadata": {},
   "outputs": [
    {
     "data": {
      "image/png": "[encoded data removed]",
      "text/plain": [
       "<Figure size 432x288 with 1 Axes>"
      ]
     },
     "metadata": {
      "needs_background": "light"
     },
     "output_type": "display_data"
    }
   ],
   "source": [
    "### feature matrix\n",
    "\n",
    "sns.heatmap(X_train==0, vmin=0, vmax=1, cbar=False)\n",
    "plt.show()"
   ]
  },
  {
   "cell_type": "code",
   "execution_count": 99,
   "metadata": {},
   "outputs": [
    {
     "name": "stdout",
     "output_type": "stream",
     "text": [
      "from:  side effect take combination bystolic 5 mg fish oil | len: 9\n",
      "to:  [   8    6   12  689 2638   78   71 3471 1314    0    0    0    0    0\n",
      "    0] | len: 15\n",
      "check:  side  -- idx in vocabulary --> 8\n",
      "vocabulary:  {'NaN': 1, 'day': 2, 'month': 3, 'year': 4, 'week': 5} ... (padding element, 0)\n"
     ]
    }
   ],
   "source": [
    "i = 0\n",
    "\n",
    "## list of text: [\"I like this\", ...]\n",
    "len_txt = len(data[\"review_clean\"].iloc[i].split())\n",
    "print(\"from: \", data[\"review_clean\"].iloc[i], \"| len:\", len_txt)\n",
    "\n",
    "## sequence of token ids: [[1, 2, 3], ...]\n",
    "len_tokens = len(X_train[i])\n",
    "print(\"to: \", X_train[i], \"| len:\", len(X_train[i]))\n",
    "\n",
    "## vocabulary: {\"I\":1, \"like\":2, \"this\":3, ...}\n",
    "print(\"check: \", data[\"review_clean\"].iloc[i].split()[0], \n",
    "      \" -- idx in vocabulary -->\", \n",
    "      dic_vocabulary[data[\"review_clean\"].iloc[i].split()[0]])\n",
    "\n",
    "print(\"vocabulary: \", dict(list(dic_vocabulary.items())[0:5]), \"... (padding element, 0)\")"
   ]
  },
  {
   "cell_type": "markdown",
   "metadata": {},
   "source": [
    "### create matrix of embeddings"
   ]
  },
  {
   "cell_type": "code",
   "execution_count": 101,
   "metadata": {},
   "outputs": [
    {
     "name": "stderr",
     "output_type": "stream",
     "text": [
      "/home/jack/.pyenv/versions/3.7.7/envs/drug_adverse/lib/python3.7/site-packages/ipykernel_launcher.py:6: DeprecationWarning: Call to deprecated `__getitem__` (Method will be removed in 4.0.0, use self.wv.__getitem__() instead).\n",
      "  \n"
     ]
    }
   ],
   "source": [
    "## start the matrix (length of vocabulary x vector size) with all 0s\n",
    "embeddings = np.zeros((len(dic_vocabulary)+1, 300))\n",
    "for word,idx in dic_vocabulary.items():\n",
    "    ## update the row with vector\n",
    "    try:\n",
    "        embeddings[idx] =  nlp[word]\n",
    "    ## if word not in model then skip and the row stays all 0s\n",
    "    except:\n",
    "        pass"
   ]
  },
  {
   "cell_type": "code",
   "execution_count": 102,
   "metadata": {},
   "outputs": [
    {
     "name": "stdout",
     "output_type": "stream",
     "text": [
      "dic[word]: 103 |idx\n",
      "embeddings[idx]: (300,) |vector\n"
     ]
    }
   ],
   "source": [
    "word = \"nausea\"\n",
    "print(\"dic[word]:\", dic_vocabulary[word], \"|idx\")\n",
    "print(\"embeddings[idx]:\", embeddings[dic_vocabulary[word]].shape, \n",
    "      \"|vector\")"
   ]
  },
  {
   "cell_type": "markdown",
   "metadata": {},
   "source": [
    "## Build a bidirection LSTM"
   ]
  },
  {
   "cell_type": "code",
   "execution_count": 103,
   "metadata": {},
   "outputs": [
    {
     "name": "stdout",
     "output_type": "stream",
     "text": [
      "Model: \"functional_1\"\n",
      "__________________________________________________________________________________________________\n",
      "Layer (type)                    Output Shape         Param #     Connected to                     \n",
      "==================================================================================================\n",
      "input_1 (InputLayer)            [(None, 15)]         0                                            \n",
      "__________________________________________________________________________________________________\n",
      "embedding (Embedding)           (None, 15, 300)      23547300    input_1[0][0]                    \n",
      "__________________________________________________________________________________________________\n",
      "permute (Permute)               (None, 300, 15)      0           embedding[0][0]                  \n",
      "__________________________________________________________________________________________________\n",
      "dense (Dense)                   (None, 300, 15)      240         permute[0][0]                    \n",
      "__________________________________________________________________________________________________\n",
      "attention (Permute)             (None, 15, 300)      0           dense[0][0]                      \n",
      "__________________________________________________________________________________________________\n",
      "multiply (Multiply)             (None, 15, 300)      0           embedding[0][0]                  \n",
      "                                                                 attention[0][0]                  \n",
      "__________________________________________________________________________________________________\n",
      "bidirectional (Bidirectional)   (None, 15, 30)       37920       multiply[0][0]                   \n",
      "__________________________________________________________________________________________________\n",
      "bidirectional_1 (Bidirectional) (None, 30)           5520        bidirectional[0][0]              \n",
      "__________________________________________________________________________________________________\n",
      "dense_1 (Dense)                 (None, 64)           1984        bidirectional_1[0][0]            \n",
      "__________________________________________________________________________________________________\n",
      "dense_2 (Dense)                 (None, 2)            130         dense_1[0][0]                    \n",
      "==================================================================================================\n",
      "Total params: 23,593,094\n",
      "Trainable params: 45,794\n",
      "Non-trainable params: 23,547,300\n",
      "__________________________________________________________________________________________________\n"
     ]
    }
   ],
   "source": [
    "## code attention layer\n",
    "def attention_layer(inputs, neurons):\n",
    "    x = layers.Permute((2,1))(inputs)\n",
    "    x = layers.Dense(neurons, activation=\"softmax\")(x)\n",
    "    x = layers.Permute((2,1), name=\"attention\")(x)\n",
    "    x = layers.multiply([inputs, x])\n",
    "    return x\n",
    "\n",
    "## input\n",
    "x_in = layers.Input(shape=(15,))## embedding\n",
    "x = layers.Embedding(input_dim=embeddings.shape[0],  \n",
    "                     output_dim=embeddings.shape[1], \n",
    "                     weights=[embeddings],\n",
    "                     input_length=15, trainable=False)(x_in)## apply attention\n",
    "\n",
    "x = attention_layer(x, neurons=15)## 2 layers of bidirectional lstm\n",
    "x = layers.Bidirectional(layers.LSTM(units=15, dropout=0.2, \n",
    "                         return_sequences=True))(x)\n",
    "\n",
    "x = layers.Bidirectional(layers.LSTM(units=15, dropout=0.2))(x)## final dense layers\n",
    "x = layers.Dense(64, activation='relu')(x)\n",
    "\n",
    "y_out = layers.Dense(2, activation='softmax')(x)## compile\n",
    "\n",
    "model = models.Model(x_in, y_out)\n",
    "model.compile(loss='sparse_categorical_crossentropy',\n",
    "              optimizer='adam', metrics=['accuracy'])\n",
    "\n",
    "model.summary()"
   ]
  },
  {
   "cell_type": "code",
   "execution_count": 105,
   "metadata": {},
   "outputs": [
    {
     "ename": "NameError",
     "evalue": "name 'y_train' is not defined",
     "output_type": "error",
     "traceback": [
      "\u001b[0;31m---------------------------------------------------------------------------\u001b[0m",
      "\u001b[0;31mNameError\u001b[0m                                 Traceback (most recent call last)",
      "\u001b[0;32m<ipython-input-105-438b0093148c>\u001b[0m in \u001b[0;36m<module>\u001b[0;34m\u001b[0m\n\u001b[1;32m      1\u001b[0m \u001b[0;31m## encode y\u001b[0m\u001b[0;34m\u001b[0m\u001b[0;34m\u001b[0m\u001b[0;34m\u001b[0m\u001b[0m\n\u001b[0;32m----> 2\u001b[0;31m \u001b[0mdic_y_mapping\u001b[0m \u001b[0;34m=\u001b[0m \u001b[0;34m{\u001b[0m\u001b[0mn\u001b[0m\u001b[0;34m:\u001b[0m\u001b[0mlabel\u001b[0m \u001b[0;32mfor\u001b[0m \u001b[0mn\u001b[0m\u001b[0;34m,\u001b[0m\u001b[0mlabel\u001b[0m \u001b[0;32min\u001b[0m \u001b[0menumerate\u001b[0m\u001b[0;34m(\u001b[0m\u001b[0mnp\u001b[0m\u001b[0;34m.\u001b[0m\u001b[0munique\u001b[0m\u001b[0;34m(\u001b[0m\u001b[0my_train\u001b[0m\u001b[0;34m)\u001b[0m\u001b[0;34m)\u001b[0m\u001b[0;34m}\u001b[0m\u001b[0;34m\u001b[0m\u001b[0;34m\u001b[0m\u001b[0m\n\u001b[0m\u001b[1;32m      3\u001b[0m \u001b[0minverse_dic\u001b[0m \u001b[0;34m=\u001b[0m \u001b[0;34m{\u001b[0m\u001b[0mv\u001b[0m\u001b[0;34m:\u001b[0m\u001b[0mk\u001b[0m \u001b[0;32mfor\u001b[0m \u001b[0mk\u001b[0m\u001b[0;34m,\u001b[0m\u001b[0mv\u001b[0m \u001b[0;32min\u001b[0m \u001b[0mdic_y_mapping\u001b[0m\u001b[0;34m.\u001b[0m\u001b[0mitems\u001b[0m\u001b[0;34m(\u001b[0m\u001b[0;34m)\u001b[0m\u001b[0;34m}\u001b[0m\u001b[0;34m\u001b[0m\u001b[0;34m\u001b[0m\u001b[0m\n\u001b[1;32m      4\u001b[0m \u001b[0my_train\u001b[0m \u001b[0;34m=\u001b[0m \u001b[0mnp\u001b[0m\u001b[0;34m.\u001b[0m\u001b[0marray\u001b[0m\u001b[0;34m(\u001b[0m\u001b[0;34m[\u001b[0m\u001b[0minverse_dic\u001b[0m\u001b[0;34m[\u001b[0m\u001b[0my\u001b[0m\u001b[0;34m]\u001b[0m \u001b[0;32mfor\u001b[0m \u001b[0my\u001b[0m \u001b[0;32min\u001b[0m \u001b[0my_train\u001b[0m\u001b[0;34m]\u001b[0m\u001b[0;34m)\u001b[0m\u001b[0;31m## train\u001b[0m\u001b[0;34m\u001b[0m\u001b[0;34m\u001b[0m\u001b[0m\n\u001b[1;32m      5\u001b[0m \u001b[0;34m\u001b[0m\u001b[0m\n",
      "\u001b[0;31mNameError\u001b[0m: name 'y_train' is not defined"
     ]
    }
   ],
   "source": [
    "## encode y\n",
    "dic_y_mapping = {n:label for n,label in enumerate(np.unique(y_train))}\n",
    "inverse_dic = {v:k for k,v in dic_y_mapping.items()}\n",
    "y_train = np.array([inverse_dic[y] for y in y_train])## train\n",
    "\n",
    "training = model.fit(x=X_train, y=y_train, batch_size=256, \n",
    "                     epochs=10, shuffle=True, verbose=0, \n",
    "                     validation_split=0.3)"
   ]
  },
  {
   "cell_type": "code",
   "execution_count": null,
   "metadata": {},
   "outputs": [],
   "source": []
  }
 ],
 "metadata": {
  "kernelspec": {
   "display_name": "Python 3",
   "language": "python",
   "name": "python3"
  },
  "language_info": {
   "codemirror_mode": {
    "name": "ipython",
    "version": 3
   },
   "file_extension": ".py",
   "mimetype": "text/x-python",
   "name": "python",
   "nbconvert_exporter": "python",
   "pygments_lexer": "ipython3",
   "version": "3.7.7"
  },
  "latex_envs": {
   "LaTeX_envs_menu_present": true,
   "autoclose": false,
   "autocomplete": true,
   "bibliofile": "biblio.bib",
   "cite_by": "apalike",
   "current_citInitial": 1,
   "eqLabelWithNumbers": true,
   "eqNumInitial": 1,
   "hotkeys": {
    "equation": "Ctrl-E",
    "itemize": "Ctrl-I"
   },
   "labels_anchors": false,
   "latex_user_defs": false,
   "report_style_numbering": false,
   "user_envs_cfg": false
  },
  "toc": {
   "base_numbering": 1,
   "nav_menu": {},
   "number_sections": true,
   "sideBar": true,
   "skip_h1_title": false,
   "title_cell": "Table of Contents",
   "title_sidebar": "Contents",
   "toc_cell": false,
   "toc_position": {},
   "toc_section_display": true,
   "toc_window_display": false
  }
 },
 "nbformat": 4,
 "nbformat_minor": 4
}
