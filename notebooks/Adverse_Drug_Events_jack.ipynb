{
 "cells": [
  {
   "cell_type": "markdown",
   "metadata": {
    "id": "IFhAZdtkYrNO"
   },
   "source": [
    "# Imports"
   ]
  },
  {
   "cell_type": "code",
   "execution_count": 1,
   "metadata": {
    "id": "MGWhRE5BdKLP"
   },
   "outputs": [],
   "source": [
    "import pandas as pd # DataFrame Manipulation Package\n",
    "import numpy as np\n",
    "import matplotlib.pyplot as plt\n",
    "\n",
    "from sklearn.feature_extraction.text import TfidfVectorizer # Convert a collection of raw documents to a matrix of TF-IDF features\n",
    "from sklearn.decomposition import LatentDirichletAllocation # Latent Dirichlet Allocation is a topic model that is used for discovering abstract topics from a collection of documents (variational Bayes algorithm)\n",
    "from sklearn.feature_extraction.text import CountVectorizer # Convert a collection of text documents to a matrix of token counts\n",
    "\n",
    "from sklearn.pipeline import Pipeline\n",
    "from sklearn.model_selection import GridSearchCV\n",
    "from sklearn.naive_bayes import MultinomialNB # The multinomial Naive Bayes classifier is suitable for classification with discrete features (e.g., word counts for text classification)\n",
    "\n",
    "import string # Collection of string operations\n",
    "from nltk.corpus import stopwords \n",
    "from nltk.stem.wordnet import WordNetLemmatizer #Lemmatize using WordNet's built-in morphy function. Returns the input word unchanged if it cannot be found in WordNet.\n",
    "from nltk import word_tokenize \n",
    "from nltk.sentiment.util import mark_negation"
   ]
  },
  {
   "cell_type": "code",
   "execution_count": 2,
   "metadata": {
    "colab": {
     "base_uri": "https://localhost:8080/"
    },
    "id": "MwlPZL0Nve81",
    "outputId": "3fe9612d-95c2-4e83-acc5-27c0da941850"
   },
   "outputs": [
    {
     "name": "stderr",
     "output_type": "stream",
     "text": [
      "[nltk_data] Downloading package stopwords to /home/jack/nltk_data...\n",
      "[nltk_data]   Package stopwords is already up-to-date!\n",
      "[nltk_data] Downloading package punkt to /home/jack/nltk_data...\n",
      "[nltk_data]   Package punkt is already up-to-date!\n"
     ]
    },
    {
     "data": {
      "text/plain": [
       "True"
      ]
     },
     "execution_count": 2,
     "metadata": {},
     "output_type": "execute_result"
    }
   ],
   "source": [
    "import nltk\n",
    "\n",
    "nltk.download('stopwords')\n",
    "nltk.download('punkt')"
   ]
  },
  {
   "cell_type": "markdown",
   "metadata": {
    "id": "KGs0FYOJYuiw"
   },
   "source": [
    "# Data"
   ]
  },
  {
   "cell_type": "code",
   "execution_count": 3,
   "metadata": {
    "colab": {
     "base_uri": "https://localhost:8080/",
     "height": 442
    },
    "id": "EXE8dbR5deD7",
    "outputId": "2c05331a-83bf-4cd6-cf9a-6be324f3a176"
   },
   "outputs": [
    {
     "name": "stdout",
     "output_type": "stream",
     "text": [
      "The shape of the data is 161297 rows and 7 columns\n",
      "\n",
      "\n",
      "The amount of unique ID is 161297\n",
      "\n",
      "\n",
      "The number of unique drugs reviewed is 3436\n",
      "\n",
      "\n",
      "The number of unique conditions is 885\n",
      "\n",
      "\n"
     ]
    }
   ],
   "source": [
    "data = pd.read_csv('../raw_data/drugsComTrain_raw.csv')\n",
    "\n",
    "print(f\"The shape of the data is {data.shape[0]} rows and {data.shape[1]} columns\")\n",
    "print(\"\\n\")\n",
    "print(f\"The amount of unique ID is {len(data['uniqueID'].unique())}\") # check if any of the uniqueID repeat\n",
    "print(\"\\n\")\n",
    "print(f\"The number of unique drugs reviewed is {len(data['drugName'].unique())}\")\n",
    "print(\"\\n\")\n",
    "print(f\"The number of unique conditions is {len(data['condition'].unique())}\")\n",
    "print(\"\\n\")\n",
    "\n",
    "#data[\"drugName\"].unique()"
   ]
  },
  {
   "cell_type": "code",
   "execution_count": 26,
   "metadata": {
    "id": "nyjidrrC6axB",
    "scrolled": true
   },
   "outputs": [
    {
     "name": "stdout",
     "output_type": "stream",
     "text": [
      "The shape of the data is 100 rows and 8 columns\n",
      "\n",
      "\n",
      "The amount of unique ID is 100\n",
      "\n",
      "\n",
      "The number of unique drugs reviewed is 84\n",
      "\n",
      "\n",
      "The number of unique conditions is 54\n",
      "\n",
      "\n"
     ]
    }
   ],
   "source": [
    "trained_data = pd.read_csv('../raw_data/manually_labelled_data.csv')\n",
    "\n",
    "print(f\"The shape of the data is {trained_data.shape[0]} rows and {trained_data.shape[1]} columns\")\n",
    "print(\"\\n\")\n",
    "print(f\"The amount of unique ID is {len(trained_data['uniqueID'].unique())}\") # check if any of the uniqueID repeat\n",
    "print(\"\\n\")\n",
    "print(f\"The number of unique drugs reviewed is {len(trained_data['drugName'].unique())}\")\n",
    "print(\"\\n\")\n",
    "print(f\"The number of unique conditions is {len(trained_data['condition'].unique())}\")\n",
    "print(\"\\n\")"
   ]
  },
  {
   "cell_type": "code",
   "execution_count": 10,
   "metadata": {},
   "outputs": [
    {
     "data": {
      "text/html": [
       "<div>\n",
       "<style scoped>\n",
       "    .dataframe tbody tr th:only-of-type {\n",
       "        vertical-align: middle;\n",
       "    }\n",
       "\n",
       "    .dataframe tbody tr th {\n",
       "        vertical-align: top;\n",
       "    }\n",
       "\n",
       "    .dataframe thead th {\n",
       "        text-align: right;\n",
       "    }\n",
       "</style>\n",
       "<table border=\"1\" class=\"dataframe\">\n",
       "  <thead>\n",
       "    <tr style=\"text-align: right;\">\n",
       "      <th></th>\n",
       "      <th>uniqueID</th>\n",
       "      <th>drugName</th>\n",
       "      <th>condition</th>\n",
       "      <th>review</th>\n",
       "      <th>rating</th>\n",
       "      <th>date</th>\n",
       "      <th>usefulCount</th>\n",
       "      <th>sideEffect</th>\n",
       "    </tr>\n",
       "  </thead>\n",
       "  <tbody>\n",
       "    <tr>\n",
       "      <th>0</th>\n",
       "      <td>206461</td>\n",
       "      <td>Valsartan</td>\n",
       "      <td>Left Ventricular Dysfunction</td>\n",
       "      <td>\"It has no side effect, I take it in combinati...</td>\n",
       "      <td>9</td>\n",
       "      <td>20-May-12</td>\n",
       "      <td>27</td>\n",
       "      <td>0</td>\n",
       "    </tr>\n",
       "    <tr>\n",
       "      <th>1</th>\n",
       "      <td>95260</td>\n",
       "      <td>Guanfacine</td>\n",
       "      <td>ADHD</td>\n",
       "      <td>\"My son is halfway through his fourth week of ...</td>\n",
       "      <td>8</td>\n",
       "      <td>27-Apr-10</td>\n",
       "      <td>192</td>\n",
       "      <td>1</td>\n",
       "    </tr>\n",
       "    <tr>\n",
       "      <th>2</th>\n",
       "      <td>92703</td>\n",
       "      <td>Lybrel</td>\n",
       "      <td>Birth Control</td>\n",
       "      <td>\"I used to take another oral contraceptive, wh...</td>\n",
       "      <td>5</td>\n",
       "      <td>14-Dec-09</td>\n",
       "      <td>17</td>\n",
       "      <td>1</td>\n",
       "    </tr>\n",
       "    <tr>\n",
       "      <th>3</th>\n",
       "      <td>138000</td>\n",
       "      <td>Ortho Evra</td>\n",
       "      <td>Birth Control</td>\n",
       "      <td>\"This is my first time using any form of birth...</td>\n",
       "      <td>8</td>\n",
       "      <td>3-Nov-15</td>\n",
       "      <td>10</td>\n",
       "      <td>1</td>\n",
       "    </tr>\n",
       "    <tr>\n",
       "      <th>4</th>\n",
       "      <td>35696</td>\n",
       "      <td>Buprenorphine / naloxone</td>\n",
       "      <td>Opiate Dependence</td>\n",
       "      <td>\"Suboxone has completely turned my life around...</td>\n",
       "      <td>9</td>\n",
       "      <td>27-Nov-16</td>\n",
       "      <td>37</td>\n",
       "      <td>1</td>\n",
       "    </tr>\n",
       "  </tbody>\n",
       "</table>\n",
       "</div>"
      ],
      "text/plain": [
       "   uniqueID                  drugName                     condition  \\\n",
       "0    206461                 Valsartan  Left Ventricular Dysfunction   \n",
       "1     95260                Guanfacine                          ADHD   \n",
       "2     92703                    Lybrel                 Birth Control   \n",
       "3    138000                Ortho Evra                 Birth Control   \n",
       "4     35696  Buprenorphine / naloxone             Opiate Dependence   \n",
       "\n",
       "                                              review  rating       date  \\\n",
       "0  \"It has no side effect, I take it in combinati...       9  20-May-12   \n",
       "1  \"My son is halfway through his fourth week of ...       8  27-Apr-10   \n",
       "2  \"I used to take another oral contraceptive, wh...       5  14-Dec-09   \n",
       "3  \"This is my first time using any form of birth...       8   3-Nov-15   \n",
       "4  \"Suboxone has completely turned my life around...       9  27-Nov-16   \n",
       "\n",
       "   usefulCount  sideEffect  \n",
       "0           27           0  \n",
       "1          192           1  \n",
       "2           17           1  \n",
       "3           10           1  \n",
       "4           37           1  "
      ]
     },
     "execution_count": 10,
     "metadata": {},
     "output_type": "execute_result"
    }
   ],
   "source": [
    "trained_data.tail()\n",
    "#trained_data['labeled_SEff'] = trained_data['sideEffect']\n",
    "trained_data.head()"
   ]
  },
  {
   "cell_type": "code",
   "execution_count": 5,
   "metadata": {
    "id": "kNZe0N5PjZyK"
   },
   "outputs": [
    {
     "ename": "AttributeError",
     "evalue": "'list' object has no attribute 'apply'",
     "output_type": "error",
     "traceback": [
      "\u001b[0;31m---------------------------------------------------------------------------\u001b[0m",
      "\u001b[0;31mAttributeError\u001b[0m                            Traceback (most recent call last)",
      "\u001b[0;32m<ipython-input-5-5b7db7120a0f>\u001b[0m in \u001b[0;36m<module>\u001b[0;34m\u001b[0m\n\u001b[1;32m      1\u001b[0m \u001b[0mword_counts\u001b[0m \u001b[0;34m=\u001b[0m \u001b[0;34m[\u001b[0m\u001b[0;34m]\u001b[0m\u001b[0;34m\u001b[0m\u001b[0;34m\u001b[0m\u001b[0m\n\u001b[1;32m      2\u001b[0m \u001b[0;32mfor\u001b[0m \u001b[0mi\u001b[0m \u001b[0;32min\u001b[0m \u001b[0mdata\u001b[0m\u001b[0;34m[\u001b[0m\u001b[0;34m\"review\"\u001b[0m\u001b[0;34m]\u001b[0m\u001b[0;34m:\u001b[0m\u001b[0;34m\u001b[0m\u001b[0;34m\u001b[0m\u001b[0m\n\u001b[0;32m----> 3\u001b[0;31m     \u001b[0mword_counts\u001b[0m\u001b[0;34m.\u001b[0m\u001b[0mapply\u001b[0m\u001b[0;34m(\u001b[0m\u001b[0mpd\u001b[0m\u001b[0;34m.\u001b[0m\u001b[0mDataFrame\u001b[0m\u001b[0;34m(\u001b[0m\u001b[0mdata\u001b[0m\u001b[0;34m[\u001b[0m\u001b[0;34m\"review\"\u001b[0m\u001b[0;34m]\u001b[0m\u001b[0;34m.\u001b[0m\u001b[0mvalue_counts\u001b[0m\u001b[0;34m(\u001b[0m\u001b[0;34m)\u001b[0m\u001b[0;34m)\u001b[0m\u001b[0;34m.\u001b[0m\u001b[0mhead\u001b[0m\u001b[0;34m(\u001b[0m\u001b[0;36m10\u001b[0m\u001b[0;34m)\u001b[0m\u001b[0;34m.\u001b[0m\u001b[0mT\u001b[0m\u001b[0;34m)\u001b[0m\u001b[0;34m\u001b[0m\u001b[0;34m\u001b[0m\u001b[0m\n\u001b[0m",
      "\u001b[0;31mAttributeError\u001b[0m: 'list' object has no attribute 'apply'"
     ]
    }
   ],
   "source": [
    "word_counts = []\n",
    "for i in data[\"review\"]:\n",
    "    word_counts.apply(pd.DataFrame(data[\"review\"].value_counts()).head(10).T)"
   ]
  },
  {
   "cell_type": "code",
   "execution_count": 28,
   "metadata": {
    "id": "kI3PVGEurWXx"
   },
   "outputs": [
    {
     "data": {
      "text/html": [
       "<div>\n",
       "<style scoped>\n",
       "    .dataframe tbody tr th:only-of-type {\n",
       "        vertical-align: middle;\n",
       "    }\n",
       "\n",
       "    .dataframe tbody tr th {\n",
       "        vertical-align: top;\n",
       "    }\n",
       "\n",
       "    .dataframe thead th {\n",
       "        text-align: right;\n",
       "    }\n",
       "</style>\n",
       "<table border=\"1\" class=\"dataframe\">\n",
       "  <thead>\n",
       "    <tr style=\"text-align: right;\">\n",
       "      <th></th>\n",
       "      <th>uniqueID</th>\n",
       "      <th>drugName</th>\n",
       "      <th>condition</th>\n",
       "      <th>review</th>\n",
       "      <th>rating</th>\n",
       "      <th>date</th>\n",
       "      <th>usefulCount</th>\n",
       "      <th>sideEffect</th>\n",
       "    </tr>\n",
       "  </thead>\n",
       "  <tbody>\n",
       "    <tr>\n",
       "      <th>0</th>\n",
       "      <td>206461</td>\n",
       "      <td>Valsartan</td>\n",
       "      <td>Left Ventricular Dysfunction</td>\n",
       "      <td>\"It has no side effect, I take it in combinati...</td>\n",
       "      <td>9</td>\n",
       "      <td>20-May-12</td>\n",
       "      <td>27</td>\n",
       "      <td>0</td>\n",
       "    </tr>\n",
       "    <tr>\n",
       "      <th>1</th>\n",
       "      <td>95260</td>\n",
       "      <td>Guanfacine</td>\n",
       "      <td>ADHD</td>\n",
       "      <td>\"My son is halfway through his fourth week of ...</td>\n",
       "      <td>8</td>\n",
       "      <td>27-Apr-10</td>\n",
       "      <td>192</td>\n",
       "      <td>1</td>\n",
       "    </tr>\n",
       "    <tr>\n",
       "      <th>2</th>\n",
       "      <td>92703</td>\n",
       "      <td>Lybrel</td>\n",
       "      <td>Birth Control</td>\n",
       "      <td>\"I used to take another oral contraceptive, wh...</td>\n",
       "      <td>5</td>\n",
       "      <td>14-Dec-09</td>\n",
       "      <td>17</td>\n",
       "      <td>1</td>\n",
       "    </tr>\n",
       "    <tr>\n",
       "      <th>3</th>\n",
       "      <td>138000</td>\n",
       "      <td>Ortho Evra</td>\n",
       "      <td>Birth Control</td>\n",
       "      <td>\"This is my first time using any form of birth...</td>\n",
       "      <td>8</td>\n",
       "      <td>3-Nov-15</td>\n",
       "      <td>10</td>\n",
       "      <td>1</td>\n",
       "    </tr>\n",
       "    <tr>\n",
       "      <th>4</th>\n",
       "      <td>35696</td>\n",
       "      <td>Buprenorphine / naloxone</td>\n",
       "      <td>Opiate Dependence</td>\n",
       "      <td>\"Suboxone has completely turned my life around...</td>\n",
       "      <td>9</td>\n",
       "      <td>27-Nov-16</td>\n",
       "      <td>37</td>\n",
       "      <td>1</td>\n",
       "    </tr>\n",
       "  </tbody>\n",
       "</table>\n",
       "</div>"
      ],
      "text/plain": [
       "   uniqueID                  drugName                     condition  \\\n",
       "0    206461                 Valsartan  Left Ventricular Dysfunction   \n",
       "1     95260                Guanfacine                          ADHD   \n",
       "2     92703                    Lybrel                 Birth Control   \n",
       "3    138000                Ortho Evra                 Birth Control   \n",
       "4     35696  Buprenorphine / naloxone             Opiate Dependence   \n",
       "\n",
       "                                              review  rating       date  \\\n",
       "0  \"It has no side effect, I take it in combinati...       9  20-May-12   \n",
       "1  \"My son is halfway through his fourth week of ...       8  27-Apr-10   \n",
       "2  \"I used to take another oral contraceptive, wh...       5  14-Dec-09   \n",
       "3  \"This is my first time using any form of birth...       8   3-Nov-15   \n",
       "4  \"Suboxone has completely turned my life around...       9  27-Nov-16   \n",
       "\n",
       "   usefulCount  sideEffect  \n",
       "0           27           0  \n",
       "1          192           1  \n",
       "2           17           1  \n",
       "3           10           1  \n",
       "4           37           1  "
      ]
     },
     "execution_count": 28,
     "metadata": {},
     "output_type": "execute_result"
    }
   ],
   "source": [
    "## define target\n",
    "\n",
    "#y = trained_data[\"sideEffect\"].head(100)\n",
    "\n",
    "#trained_data = data.drop([\"uniqueID\", \"date\", \"rating\", \"usefulCount\"], axis = 1).head(100)\n",
    "\n",
    "trained_data.head()"
   ]
  },
  {
   "cell_type": "code",
   "execution_count": 12,
   "metadata": {
    "id": "F72fFIDwrsk7"
   },
   "outputs": [],
   "source": [
    "## drop columns\n",
    "\n",
    "data = data.drop([\"uniqueID\", \"date\", \"rating\", \"usefulCount\"], axis = 1).head(1000)"
   ]
  },
  {
   "cell_type": "markdown",
   "metadata": {},
   "source": [
    "### Part of speech taging"
   ]
  },
  {
   "cell_type": "code",
   "execution_count": null,
   "metadata": {},
   "outputs": [],
   "source": [
    "def pos (x):\n",
    "    tokenized = word_tokenize(x)\n",
    "    pos_words = nltk.pos_tag(tokenized)\n",
    "    return \" \".join(pos_words)"
   ]
  },
  {
   "cell_type": "markdown",
   "metadata": {
    "id": "laSyLC8bYzfb"
   },
   "source": [
    "# Functions"
   ]
  },
  {
   "cell_type": "code",
   "execution_count": 29,
   "metadata": {},
   "outputs": [],
   "source": [
    "stop_words = set(stopwords.words('english')) \n",
    "\n",
    "def remove_stopwords (x):\n",
    "    tokenized = mark_negation(word_tokenize(x))\n",
    "    without_stopwords = [word for word in tokenized if not word in stop_words]\n",
    "    return \" \".join(without_stopwords)\n",
    "\n",
    "trained_data[\"review_neg\"] = data.review.apply(remove_stopwords)\n",
    "\n"
   ]
  },
  {
   "cell_type": "code",
   "execution_count": 30,
   "metadata": {
    "scrolled": true
   },
   "outputs": [
    {
     "data": {
      "text/html": [
       "<div>\n",
       "<style scoped>\n",
       "    .dataframe tbody tr th:only-of-type {\n",
       "        vertical-align: middle;\n",
       "    }\n",
       "\n",
       "    .dataframe tbody tr th {\n",
       "        vertical-align: top;\n",
       "    }\n",
       "\n",
       "    .dataframe thead th {\n",
       "        text-align: right;\n",
       "    }\n",
       "</style>\n",
       "<table border=\"1\" class=\"dataframe\">\n",
       "  <thead>\n",
       "    <tr style=\"text-align: right;\">\n",
       "      <th></th>\n",
       "      <th>uniqueID</th>\n",
       "      <th>drugName</th>\n",
       "      <th>condition</th>\n",
       "      <th>review</th>\n",
       "      <th>rating</th>\n",
       "      <th>date</th>\n",
       "      <th>usefulCount</th>\n",
       "      <th>sideEffect</th>\n",
       "      <th>review_neg</th>\n",
       "    </tr>\n",
       "  </thead>\n",
       "  <tbody>\n",
       "    <tr>\n",
       "      <th>0</th>\n",
       "      <td>206461</td>\n",
       "      <td>Valsartan</td>\n",
       "      <td>Left Ventricular Dysfunction</td>\n",
       "      <td>\"It has no side effect, I take it in combinati...</td>\n",
       "      <td>9</td>\n",
       "      <td>20-May-12</td>\n",
       "      <td>27</td>\n",
       "      <td>0</td>\n",
       "      <td>`` It side_NEG effect_NEG ,_NEG I_NEG take_NEG...</td>\n",
       "    </tr>\n",
       "    <tr>\n",
       "      <th>1</th>\n",
       "      <td>95260</td>\n",
       "      <td>Guanfacine</td>\n",
       "      <td>ADHD</td>\n",
       "      <td>\"My son is halfway through his fourth week of ...</td>\n",
       "      <td>8</td>\n",
       "      <td>27-Apr-10</td>\n",
       "      <td>192</td>\n",
       "      <td>1</td>\n",
       "      <td>`` My son halfway fourth week Intuniv . We bec...</td>\n",
       "    </tr>\n",
       "    <tr>\n",
       "      <th>2</th>\n",
       "      <td>92703</td>\n",
       "      <td>Lybrel</td>\n",
       "      <td>Birth Control</td>\n",
       "      <td>\"I used to take another oral contraceptive, wh...</td>\n",
       "      <td>5</td>\n",
       "      <td>14-Dec-09</td>\n",
       "      <td>17</td>\n",
       "      <td>1</td>\n",
       "      <td>`` I used take another oral contraceptive , 21...</td>\n",
       "    </tr>\n",
       "    <tr>\n",
       "      <th>3</th>\n",
       "      <td>138000</td>\n",
       "      <td>Ortho Evra</td>\n",
       "      <td>Birth Control</td>\n",
       "      <td>\"This is my first time using any form of birth...</td>\n",
       "      <td>8</td>\n",
       "      <td>3-Nov-15</td>\n",
       "      <td>10</td>\n",
       "      <td>1</td>\n",
       "      <td>`` This first time using form birth control . ...</td>\n",
       "    </tr>\n",
       "    <tr>\n",
       "      <th>4</th>\n",
       "      <td>35696</td>\n",
       "      <td>Buprenorphine / naloxone</td>\n",
       "      <td>Opiate Dependence</td>\n",
       "      <td>\"Suboxone has completely turned my life around...</td>\n",
       "      <td>9</td>\n",
       "      <td>27-Nov-16</td>\n",
       "      <td>37</td>\n",
       "      <td>1</td>\n",
       "      <td>`` Suboxone completely turned life around . I ...</td>\n",
       "    </tr>\n",
       "  </tbody>\n",
       "</table>\n",
       "</div>"
      ],
      "text/plain": [
       "   uniqueID                  drugName                     condition  \\\n",
       "0    206461                 Valsartan  Left Ventricular Dysfunction   \n",
       "1     95260                Guanfacine                          ADHD   \n",
       "2     92703                    Lybrel                 Birth Control   \n",
       "3    138000                Ortho Evra                 Birth Control   \n",
       "4     35696  Buprenorphine / naloxone             Opiate Dependence   \n",
       "\n",
       "                                              review  rating       date  \\\n",
       "0  \"It has no side effect, I take it in combinati...       9  20-May-12   \n",
       "1  \"My son is halfway through his fourth week of ...       8  27-Apr-10   \n",
       "2  \"I used to take another oral contraceptive, wh...       5  14-Dec-09   \n",
       "3  \"This is my first time using any form of birth...       8   3-Nov-15   \n",
       "4  \"Suboxone has completely turned my life around...       9  27-Nov-16   \n",
       "\n",
       "   usefulCount  sideEffect                                         review_neg  \n",
       "0           27           0  `` It side_NEG effect_NEG ,_NEG I_NEG take_NEG...  \n",
       "1          192           1  `` My son halfway fourth week Intuniv . We bec...  \n",
       "2           17           1  `` I used take another oral contraceptive , 21...  \n",
       "3           10           1  `` This first time using form birth control . ...  \n",
       "4           37           1  `` Suboxone completely turned life around . I ...  "
      ]
     },
     "execution_count": 30,
     "metadata": {},
     "output_type": "execute_result"
    }
   ],
   "source": [
    "trained_data.head()"
   ]
  },
  {
   "cell_type": "code",
   "execution_count": 31,
   "metadata": {},
   "outputs": [
    {
     "data": {
      "text/html": [
       "<div>\n",
       "<style scoped>\n",
       "    .dataframe tbody tr th:only-of-type {\n",
       "        vertical-align: middle;\n",
       "    }\n",
       "\n",
       "    .dataframe tbody tr th {\n",
       "        vertical-align: top;\n",
       "    }\n",
       "\n",
       "    .dataframe thead th {\n",
       "        text-align: right;\n",
       "    }\n",
       "</style>\n",
       "<table border=\"1\" class=\"dataframe\">\n",
       "  <thead>\n",
       "    <tr style=\"text-align: right;\">\n",
       "      <th></th>\n",
       "      <th>uniqueID</th>\n",
       "      <th>drugName</th>\n",
       "      <th>condition</th>\n",
       "      <th>review</th>\n",
       "      <th>rating</th>\n",
       "      <th>date</th>\n",
       "      <th>usefulCount</th>\n",
       "      <th>sideEffect</th>\n",
       "      <th>review_neg</th>\n",
       "      <th>contains_SE_mention</th>\n",
       "      <th>contains_NEG_SE_mention</th>\n",
       "    </tr>\n",
       "  </thead>\n",
       "  <tbody>\n",
       "    <tr>\n",
       "      <th>0</th>\n",
       "      <td>206461</td>\n",
       "      <td>Valsartan</td>\n",
       "      <td>Left Ventricular Dysfunction</td>\n",
       "      <td>\"It has no side effect, I take it in combinati...</td>\n",
       "      <td>9</td>\n",
       "      <td>20-May-12</td>\n",
       "      <td>27</td>\n",
       "      <td>0</td>\n",
       "      <td>`` It side_NEG effect_NEG ,_NEG I_NEG take_NEG...</td>\n",
       "      <td>False</td>\n",
       "      <td>True</td>\n",
       "    </tr>\n",
       "    <tr>\n",
       "      <th>1</th>\n",
       "      <td>95260</td>\n",
       "      <td>Guanfacine</td>\n",
       "      <td>ADHD</td>\n",
       "      <td>\"My son is halfway through his fourth week of ...</td>\n",
       "      <td>8</td>\n",
       "      <td>27-Apr-10</td>\n",
       "      <td>192</td>\n",
       "      <td>1</td>\n",
       "      <td>`` My son halfway fourth week Intuniv . We bec...</td>\n",
       "      <td>False</td>\n",
       "      <td>False</td>\n",
       "    </tr>\n",
       "    <tr>\n",
       "      <th>2</th>\n",
       "      <td>92703</td>\n",
       "      <td>Lybrel</td>\n",
       "      <td>Birth Control</td>\n",
       "      <td>\"I used to take another oral contraceptive, wh...</td>\n",
       "      <td>5</td>\n",
       "      <td>14-Dec-09</td>\n",
       "      <td>17</td>\n",
       "      <td>1</td>\n",
       "      <td>`` I used take another oral contraceptive , 21...</td>\n",
       "      <td>True</td>\n",
       "      <td>False</td>\n",
       "    </tr>\n",
       "    <tr>\n",
       "      <th>3</th>\n",
       "      <td>138000</td>\n",
       "      <td>Ortho Evra</td>\n",
       "      <td>Birth Control</td>\n",
       "      <td>\"This is my first time using any form of birth...</td>\n",
       "      <td>8</td>\n",
       "      <td>3-Nov-15</td>\n",
       "      <td>10</td>\n",
       "      <td>1</td>\n",
       "      <td>`` This first time using form birth control . ...</td>\n",
       "      <td>False</td>\n",
       "      <td>False</td>\n",
       "    </tr>\n",
       "    <tr>\n",
       "      <th>4</th>\n",
       "      <td>35696</td>\n",
       "      <td>Buprenorphine / naloxone</td>\n",
       "      <td>Opiate Dependence</td>\n",
       "      <td>\"Suboxone has completely turned my life around...</td>\n",
       "      <td>9</td>\n",
       "      <td>27-Nov-16</td>\n",
       "      <td>37</td>\n",
       "      <td>1</td>\n",
       "      <td>`` Suboxone completely turned life around . I ...</td>\n",
       "      <td>False</td>\n",
       "      <td>False</td>\n",
       "    </tr>\n",
       "  </tbody>\n",
       "</table>\n",
       "</div>"
      ],
      "text/plain": [
       "   uniqueID                  drugName                     condition  \\\n",
       "0    206461                 Valsartan  Left Ventricular Dysfunction   \n",
       "1     95260                Guanfacine                          ADHD   \n",
       "2     92703                    Lybrel                 Birth Control   \n",
       "3    138000                Ortho Evra                 Birth Control   \n",
       "4     35696  Buprenorphine / naloxone             Opiate Dependence   \n",
       "\n",
       "                                              review  rating       date  \\\n",
       "0  \"It has no side effect, I take it in combinati...       9  20-May-12   \n",
       "1  \"My son is halfway through his fourth week of ...       8  27-Apr-10   \n",
       "2  \"I used to take another oral contraceptive, wh...       5  14-Dec-09   \n",
       "3  \"This is my first time using any form of birth...       8   3-Nov-15   \n",
       "4  \"Suboxone has completely turned my life around...       9  27-Nov-16   \n",
       "\n",
       "   usefulCount  sideEffect                                         review_neg  \\\n",
       "0           27           0  `` It side_NEG effect_NEG ,_NEG I_NEG take_NEG...   \n",
       "1          192           1  `` My son halfway fourth week Intuniv . We bec...   \n",
       "2           17           1  `` I used take another oral contraceptive , 21...   \n",
       "3           10           1  `` This first time using form birth control . ...   \n",
       "4           37           1  `` Suboxone completely turned life around . I ...   \n",
       "\n",
       "   contains_SE_mention  contains_NEG_SE_mention  \n",
       "0                False                     True  \n",
       "1                False                    False  \n",
       "2                 True                    False  \n",
       "3                False                    False  \n",
       "4                False                    False  "
      ]
     },
     "execution_count": 31,
     "metadata": {},
     "output_type": "execute_result"
    }
   ],
   "source": [
    "#create side effect feature\n",
    "\n",
    "trained_data[\"contains_SE_mention\"] = trained_data['review_neg'].str.contains('side effect', '')\n",
    "trained_data[\"contains_NEG_SE_mention\"] = trained_data['review_neg'].str.contains('side_NEG effect_NEG')\n",
    "\n",
    "trained_data.head()"
   ]
  },
  {
   "cell_type": "code",
   "execution_count": 32,
   "metadata": {
    "id": "b-NO8IZarxx7"
   },
   "outputs": [],
   "source": [
    "def punctuation(x):\n",
    "    for punctuation in string.punctuation:\n",
    "        x =  x.replace(punctuation, '')\n",
    "    return x.lower()\n",
    "\n",
    "trained_data[\"clean_review\"] = trained_data[\"review_neg\"].apply(punctuation)"
   ]
  },
  {
   "cell_type": "code",
   "execution_count": 33,
   "metadata": {},
   "outputs": [
    {
     "data": {
      "text/html": [
       "<div>\n",
       "<style scoped>\n",
       "    .dataframe tbody tr th:only-of-type {\n",
       "        vertical-align: middle;\n",
       "    }\n",
       "\n",
       "    .dataframe tbody tr th {\n",
       "        vertical-align: top;\n",
       "    }\n",
       "\n",
       "    .dataframe thead th {\n",
       "        text-align: right;\n",
       "    }\n",
       "</style>\n",
       "<table border=\"1\" class=\"dataframe\">\n",
       "  <thead>\n",
       "    <tr style=\"text-align: right;\">\n",
       "      <th></th>\n",
       "      <th>uniqueID</th>\n",
       "      <th>drugName</th>\n",
       "      <th>condition</th>\n",
       "      <th>review</th>\n",
       "      <th>rating</th>\n",
       "      <th>date</th>\n",
       "      <th>usefulCount</th>\n",
       "      <th>sideEffect</th>\n",
       "      <th>review_neg</th>\n",
       "      <th>contains_SE_mention</th>\n",
       "      <th>contains_NEG_SE_mention</th>\n",
       "      <th>clean_review</th>\n",
       "    </tr>\n",
       "  </thead>\n",
       "  <tbody>\n",
       "    <tr>\n",
       "      <th>0</th>\n",
       "      <td>206461</td>\n",
       "      <td>Valsartan</td>\n",
       "      <td>Left Ventricular Dysfunction</td>\n",
       "      <td>\"It has no side effect, I take it in combinati...</td>\n",
       "      <td>9</td>\n",
       "      <td>20-May-12</td>\n",
       "      <td>27</td>\n",
       "      <td>0</td>\n",
       "      <td>`` It side_NEG effect_NEG ,_NEG I_NEG take_NEG...</td>\n",
       "      <td>False</td>\n",
       "      <td>True</td>\n",
       "      <td>it sideneg effectneg neg ineg takeneg itneg i...</td>\n",
       "    </tr>\n",
       "    <tr>\n",
       "      <th>1</th>\n",
       "      <td>95260</td>\n",
       "      <td>Guanfacine</td>\n",
       "      <td>ADHD</td>\n",
       "      <td>\"My son is halfway through his fourth week of ...</td>\n",
       "      <td>8</td>\n",
       "      <td>27-Apr-10</td>\n",
       "      <td>192</td>\n",
       "      <td>1</td>\n",
       "      <td>`` My son halfway fourth week Intuniv . We bec...</td>\n",
       "      <td>False</td>\n",
       "      <td>False</td>\n",
       "      <td>my son halfway fourth week intuniv  we became...</td>\n",
       "    </tr>\n",
       "    <tr>\n",
       "      <th>2</th>\n",
       "      <td>92703</td>\n",
       "      <td>Lybrel</td>\n",
       "      <td>Birth Control</td>\n",
       "      <td>\"I used to take another oral contraceptive, wh...</td>\n",
       "      <td>5</td>\n",
       "      <td>14-Dec-09</td>\n",
       "      <td>17</td>\n",
       "      <td>1</td>\n",
       "      <td>`` I used take another oral contraceptive , 21...</td>\n",
       "      <td>True</td>\n",
       "      <td>False</td>\n",
       "      <td>i used take another oral contraceptive  21 pi...</td>\n",
       "    </tr>\n",
       "    <tr>\n",
       "      <th>3</th>\n",
       "      <td>138000</td>\n",
       "      <td>Ortho Evra</td>\n",
       "      <td>Birth Control</td>\n",
       "      <td>\"This is my first time using any form of birth...</td>\n",
       "      <td>8</td>\n",
       "      <td>3-Nov-15</td>\n",
       "      <td>10</td>\n",
       "      <td>1</td>\n",
       "      <td>`` This first time using form birth control . ...</td>\n",
       "      <td>False</td>\n",
       "      <td>False</td>\n",
       "      <td>this first time using form birth control  i  ...</td>\n",
       "    </tr>\n",
       "    <tr>\n",
       "      <th>4</th>\n",
       "      <td>35696</td>\n",
       "      <td>Buprenorphine / naloxone</td>\n",
       "      <td>Opiate Dependence</td>\n",
       "      <td>\"Suboxone has completely turned my life around...</td>\n",
       "      <td>9</td>\n",
       "      <td>27-Nov-16</td>\n",
       "      <td>37</td>\n",
       "      <td>1</td>\n",
       "      <td>`` Suboxone completely turned life around . I ...</td>\n",
       "      <td>False</td>\n",
       "      <td>False</td>\n",
       "      <td>suboxone completely turned life around  i fee...</td>\n",
       "    </tr>\n",
       "  </tbody>\n",
       "</table>\n",
       "</div>"
      ],
      "text/plain": [
       "   uniqueID                  drugName                     condition  \\\n",
       "0    206461                 Valsartan  Left Ventricular Dysfunction   \n",
       "1     95260                Guanfacine                          ADHD   \n",
       "2     92703                    Lybrel                 Birth Control   \n",
       "3    138000                Ortho Evra                 Birth Control   \n",
       "4     35696  Buprenorphine / naloxone             Opiate Dependence   \n",
       "\n",
       "                                              review  rating       date  \\\n",
       "0  \"It has no side effect, I take it in combinati...       9  20-May-12   \n",
       "1  \"My son is halfway through his fourth week of ...       8  27-Apr-10   \n",
       "2  \"I used to take another oral contraceptive, wh...       5  14-Dec-09   \n",
       "3  \"This is my first time using any form of birth...       8   3-Nov-15   \n",
       "4  \"Suboxone has completely turned my life around...       9  27-Nov-16   \n",
       "\n",
       "   usefulCount  sideEffect                                         review_neg  \\\n",
       "0           27           0  `` It side_NEG effect_NEG ,_NEG I_NEG take_NEG...   \n",
       "1          192           1  `` My son halfway fourth week Intuniv . We bec...   \n",
       "2           17           1  `` I used take another oral contraceptive , 21...   \n",
       "3           10           1  `` This first time using form birth control . ...   \n",
       "4           37           1  `` Suboxone completely turned life around . I ...   \n",
       "\n",
       "   contains_SE_mention  contains_NEG_SE_mention  \\\n",
       "0                False                     True   \n",
       "1                False                    False   \n",
       "2                 True                    False   \n",
       "3                False                    False   \n",
       "4                False                    False   \n",
       "\n",
       "                                        clean_review  \n",
       "0   it sideneg effectneg neg ineg takeneg itneg i...  \n",
       "1   my son halfway fourth week intuniv  we became...  \n",
       "2   i used take another oral contraceptive  21 pi...  \n",
       "3   this first time using form birth control  i  ...  \n",
       "4   suboxone completely turned life around  i fee...  "
      ]
     },
     "execution_count": 33,
     "metadata": {},
     "output_type": "execute_result"
    }
   ],
   "source": [
    "trained_data.head()"
   ]
  },
  {
   "cell_type": "code",
   "execution_count": 34,
   "metadata": {
    "id": "nf49DR5zvEyO"
   },
   "outputs": [],
   "source": [
    "def remove_numbers (x):\n",
    "    words_only = ''.join([i for i in x if not i.isdigit()])\n",
    "    return words_only\n",
    "\n",
    "trained_data['clean_review'] = data.clean_review.apply(remove_numbers)"
   ]
  },
  {
   "cell_type": "code",
   "execution_count": null,
   "metadata": {
    "id": "7dY1EGapkF4N"
   },
   "outputs": [],
   "source": [
    "data[\"review_words\"]"
   ]
  },
  {
   "cell_type": "code",
   "execution_count": null,
   "metadata": {
    "id": "Y-vbSQXUvRMV"
   },
   "outputs": [],
   "source": [
    "# data[\"clean_review\"]"
   ]
  },
  {
   "cell_type": "code",
   "execution_count": 20,
   "metadata": {
    "id": "qQdrME537IJv"
   },
   "outputs": [
    {
     "data": {
      "text/html": [
       "<div>\n",
       "<style scoped>\n",
       "    .dataframe tbody tr th:only-of-type {\n",
       "        vertical-align: middle;\n",
       "    }\n",
       "\n",
       "    .dataframe tbody tr th {\n",
       "        vertical-align: top;\n",
       "    }\n",
       "\n",
       "    .dataframe thead th {\n",
       "        text-align: right;\n",
       "    }\n",
       "</style>\n",
       "<table border=\"1\" class=\"dataframe\">\n",
       "  <thead>\n",
       "    <tr style=\"text-align: right;\">\n",
       "      <th></th>\n",
       "      <th>drugName</th>\n",
       "      <th>condition</th>\n",
       "      <th>review</th>\n",
       "      <th>review_neg</th>\n",
       "      <th>contains_SE_mention</th>\n",
       "      <th>contains_NEG_SE_mention</th>\n",
       "      <th>clean_review</th>\n",
       "    </tr>\n",
       "  </thead>\n",
       "  <tbody>\n",
       "    <tr>\n",
       "      <th>0</th>\n",
       "      <td>Valsartan</td>\n",
       "      <td>Left Ventricular Dysfunction</td>\n",
       "      <td>\"It has no side effect, I take it in combinati...</td>\n",
       "      <td>`` It side_NEG effect_NEG ,_NEG I_NEG take_NEG...</td>\n",
       "      <td>False</td>\n",
       "      <td>True</td>\n",
       "      <td>it sideneg effectneg neg ineg takeneg itneg i...</td>\n",
       "    </tr>\n",
       "    <tr>\n",
       "      <th>1</th>\n",
       "      <td>Guanfacine</td>\n",
       "      <td>ADHD</td>\n",
       "      <td>\"My son is halfway through his fourth week of ...</td>\n",
       "      <td>`` My son halfway fourth week Intuniv . We bec...</td>\n",
       "      <td>False</td>\n",
       "      <td>False</td>\n",
       "      <td>my son halfway fourth week intuniv  we became...</td>\n",
       "    </tr>\n",
       "    <tr>\n",
       "      <th>2</th>\n",
       "      <td>Lybrel</td>\n",
       "      <td>Birth Control</td>\n",
       "      <td>\"I used to take another oral contraceptive, wh...</td>\n",
       "      <td>`` I used take another oral contraceptive , 21...</td>\n",
       "      <td>True</td>\n",
       "      <td>False</td>\n",
       "      <td>i used take another oral contraceptive   pill...</td>\n",
       "    </tr>\n",
       "    <tr>\n",
       "      <th>3</th>\n",
       "      <td>Ortho Evra</td>\n",
       "      <td>Birth Control</td>\n",
       "      <td>\"This is my first time using any form of birth...</td>\n",
       "      <td>`` This first time using form birth control . ...</td>\n",
       "      <td>False</td>\n",
       "      <td>False</td>\n",
       "      <td>this first time using form birth control  i  ...</td>\n",
       "    </tr>\n",
       "    <tr>\n",
       "      <th>4</th>\n",
       "      <td>Buprenorphine / naloxone</td>\n",
       "      <td>Opiate Dependence</td>\n",
       "      <td>\"Suboxone has completely turned my life around...</td>\n",
       "      <td>`` Suboxone completely turned life around . I ...</td>\n",
       "      <td>False</td>\n",
       "      <td>False</td>\n",
       "      <td>suboxone completely turned life around  i fee...</td>\n",
       "    </tr>\n",
       "    <tr>\n",
       "      <th>...</th>\n",
       "      <td>...</td>\n",
       "      <td>...</td>\n",
       "      <td>...</td>\n",
       "      <td>...</td>\n",
       "      <td>...</td>\n",
       "      <td>...</td>\n",
       "      <td>...</td>\n",
       "    </tr>\n",
       "    <tr>\n",
       "      <th>995</th>\n",
       "      <td>Duac</td>\n",
       "      <td>Acne</td>\n",
       "      <td>\"The product is working so well for my athleti...</td>\n",
       "      <td>`` The product working well athletic pre-teen ...</td>\n",
       "      <td>False</td>\n",
       "      <td>False</td>\n",
       "      <td>the product working well athletic preteen dau...</td>\n",
       "    </tr>\n",
       "    <tr>\n",
       "      <th>996</th>\n",
       "      <td>Liothyronine</td>\n",
       "      <td>Underactive Thyroid</td>\n",
       "      <td>\"as a supplement to levothyroxine it has been ...</td>\n",
       "      <td>`` supplement levothyroxine night day differen...</td>\n",
       "      <td>False</td>\n",
       "      <td>False</td>\n",
       "      <td>supplement levothyroxine night day difference...</td>\n",
       "    </tr>\n",
       "    <tr>\n",
       "      <th>997</th>\n",
       "      <td>Dextromethorphan</td>\n",
       "      <td>Cough</td>\n",
       "      <td>\"This worked great for my husband until he gav...</td>\n",
       "      <td>`` This worked great husband gave cold . I use...</td>\n",
       "      <td>False</td>\n",
       "      <td>False</td>\n",
       "      <td>this worked great husband gave cold  i used m...</td>\n",
       "    </tr>\n",
       "    <tr>\n",
       "      <th>998</th>\n",
       "      <td>Dapsone</td>\n",
       "      <td>Acne</td>\n",
       "      <td>\"I have tried almost everything under the sun ...</td>\n",
       "      <td>`` I tried almost everything sun related acne ...</td>\n",
       "      <td>False</td>\n",
       "      <td>False</td>\n",
       "      <td>i tried almost everything sun related acne me...</td>\n",
       "    </tr>\n",
       "    <tr>\n",
       "      <th>999</th>\n",
       "      <td>Levothyroxine</td>\n",
       "      <td>Underactive Thyroid</td>\n",
       "      <td>\"My thyroid test showed it to be under active,...</td>\n",
       "      <td>`` My thyroid test showed active , Dr increase...</td>\n",
       "      <td>False</td>\n",
       "      <td>False</td>\n",
       "      <td>my thyroid test showed active  dr increased l...</td>\n",
       "    </tr>\n",
       "  </tbody>\n",
       "</table>\n",
       "<p>1000 rows × 7 columns</p>\n",
       "</div>"
      ],
      "text/plain": [
       "                     drugName                     condition  \\\n",
       "0                   Valsartan  Left Ventricular Dysfunction   \n",
       "1                  Guanfacine                          ADHD   \n",
       "2                      Lybrel                 Birth Control   \n",
       "3                  Ortho Evra                 Birth Control   \n",
       "4    Buprenorphine / naloxone             Opiate Dependence   \n",
       "..                        ...                           ...   \n",
       "995                      Duac                          Acne   \n",
       "996              Liothyronine           Underactive Thyroid   \n",
       "997          Dextromethorphan                         Cough   \n",
       "998                   Dapsone                          Acne   \n",
       "999             Levothyroxine           Underactive Thyroid   \n",
       "\n",
       "                                                review  \\\n",
       "0    \"It has no side effect, I take it in combinati...   \n",
       "1    \"My son is halfway through his fourth week of ...   \n",
       "2    \"I used to take another oral contraceptive, wh...   \n",
       "3    \"This is my first time using any form of birth...   \n",
       "4    \"Suboxone has completely turned my life around...   \n",
       "..                                                 ...   \n",
       "995  \"The product is working so well for my athleti...   \n",
       "996  \"as a supplement to levothyroxine it has been ...   \n",
       "997  \"This worked great for my husband until he gav...   \n",
       "998  \"I have tried almost everything under the sun ...   \n",
       "999  \"My thyroid test showed it to be under active,...   \n",
       "\n",
       "                                            review_neg  contains_SE_mention  \\\n",
       "0    `` It side_NEG effect_NEG ,_NEG I_NEG take_NEG...                False   \n",
       "1    `` My son halfway fourth week Intuniv . We bec...                False   \n",
       "2    `` I used take another oral contraceptive , 21...                 True   \n",
       "3    `` This first time using form birth control . ...                False   \n",
       "4    `` Suboxone completely turned life around . I ...                False   \n",
       "..                                                 ...                  ...   \n",
       "995  `` The product working well athletic pre-teen ...                False   \n",
       "996  `` supplement levothyroxine night day differen...                False   \n",
       "997  `` This worked great husband gave cold . I use...                False   \n",
       "998  `` I tried almost everything sun related acne ...                False   \n",
       "999  `` My thyroid test showed active , Dr increase...                False   \n",
       "\n",
       "     contains_NEG_SE_mention  \\\n",
       "0                       True   \n",
       "1                      False   \n",
       "2                      False   \n",
       "3                      False   \n",
       "4                      False   \n",
       "..                       ...   \n",
       "995                    False   \n",
       "996                    False   \n",
       "997                    False   \n",
       "998                    False   \n",
       "999                    False   \n",
       "\n",
       "                                          clean_review  \n",
       "0     it sideneg effectneg neg ineg takeneg itneg i...  \n",
       "1     my son halfway fourth week intuniv  we became...  \n",
       "2     i used take another oral contraceptive   pill...  \n",
       "3     this first time using form birth control  i  ...  \n",
       "4     suboxone completely turned life around  i fee...  \n",
       "..                                                 ...  \n",
       "995   the product working well athletic preteen dau...  \n",
       "996   supplement levothyroxine night day difference...  \n",
       "997   this worked great husband gave cold  i used m...  \n",
       "998   i tried almost everything sun related acne me...  \n",
       "999   my thyroid test showed active  dr increased l...  \n",
       "\n",
       "[1000 rows x 7 columns]"
      ]
     },
     "execution_count": 20,
     "metadata": {},
     "output_type": "execute_result"
    }
   ],
   "source": [
    "data"
   ]
  },
  {
   "cell_type": "markdown",
   "metadata": {
    "id": "FIkt3GDq-vsk"
   },
   "source": [
    "# run baseline classifcation model with mention features"
   ]
  },
  {
   "cell_type": "code",
   "execution_count": 35,
   "metadata": {},
   "outputs": [
    {
     "data": {
      "text/plain": [
       "SGDClassifier(alpha=0.1)"
      ]
     },
     "execution_count": 35,
     "metadata": {},
     "output_type": "execute_result"
    }
   ],
   "source": [
    "from sklearn.linear_model import SGDClassifier\n",
    "\n",
    "X = trained_data[['contains_SE_mention', 'contains_NEG_SE_mention']]\n",
    "y = trained_data['sideEffect']\n",
    "\n",
    "svc = SGDClassifier(loss='hinge', penalty='l2', alpha=0.1)\n",
    "\n",
    "svc.fit(X,y)\n",
    "\n"
   ]
  },
  {
   "cell_type": "code",
   "execution_count": 36,
   "metadata": {},
   "outputs": [
    {
     "data": {
      "text/plain": [
       "0.55"
      ]
     },
     "execution_count": 36,
     "metadata": {},
     "output_type": "execute_result"
    }
   ],
   "source": [
    "svc.score(X,y)"
   ]
  },
  {
   "cell_type": "markdown",
   "metadata": {
    "id": "vLeBPZSEY4Jh"
   },
   "source": [
    "# TF-IDF features | Latent Dirichlet allocation"
   ]
  },
  {
   "cell_type": "code",
   "execution_count": null,
   "metadata": {
    "id": "lu00AB7v5VIe"
   },
   "outputs": [],
   "source": [
    "import itertools\n",
    "\n",
    "laplace = lidstone = range(1, 4)\n",
    "\n",
    "lap_lid = list(itertools.product(laplace, lidstone))\n",
    "\n",
    "lap_lid"
   ]
  },
  {
   "cell_type": "code",
   "execution_count": null,
   "metadata": {
    "id": "VEIG7yCEv5YH"
   },
   "outputs": [],
   "source": [
    "vectorizer = TfidfVectorizer(min_df = 0.05, \n",
    "                             max_df = 0.40, \n",
    "                             max_features = None,\n",
    "                             vocabulary = None,\n",
    "                             ngram_range = (2, 2)).fit(data[\"clean_review\"])\n",
    "\n",
    "# MINDF Ignore terms that have a document frequency strictly higher than the given threshold\n",
    "# MAXDF When building the vocabulary ignore terms that have a document frequency strictly lower than the given threshold\n",
    "\n",
    "data_vectorized = vectorizer.transform(data[\"clean_review\"])\n",
    "\n",
    "lda_model = LatentDirichletAllocation(n_components = 2,\n",
    "                                      verbose = 0,\n",
    "                                      max_iter = 50).fit(data_vectorized)\n",
    "\n",
    "def print_topics(model, vectorizer):\n",
    "    for idx, topic in enumerate(model.components_):\n",
    "        print(\"Topic %d:\" % (idx))\n",
    "        print([(vectorizer.get_feature_names()[i], round(topic[i], 2))\n",
    "                        for i in topic.argsort()[:-10 - 1:-1]])"
   ]
  },
  {
   "cell_type": "code",
   "execution_count": null,
   "metadata": {
    "id": "HY1zU_sW0FrP"
   },
   "outputs": [],
   "source": [
    "# vectorizer.vocabulary_"
   ]
  },
  {
   "cell_type": "code",
   "execution_count": null,
   "metadata": {
    "id": "VZhVYO5s1iap"
   },
   "outputs": [],
   "source": [
    "lda_model.components_ # Vectors?"
   ]
  },
  {
   "cell_type": "code",
   "execution_count": null,
   "metadata": {
    "id": "446i6CoQwQ8Z"
   },
   "outputs": [],
   "source": [
    "print_topics(lda_model, vectorizer)"
   ]
  },
  {
   "cell_type": "code",
   "execution_count": null,
   "metadata": {
    "id": "4IyvqAG_wZhV"
   },
   "outputs": [],
   "source": [
    "example = [\"side effect\"]\n",
    "\n",
    "example_vectorized = vectorizer.transform(example)\n",
    "\n",
    "lda_vectors = lda_model.transform(example_vectorized)\n",
    "\n",
    "print(\"topic 0 :\", lda_vectors[0][0])\n",
    "print(\"topic 1 :\", lda_vectors[0][1])"
   ]
  },
  {
   "cell_type": "markdown",
   "metadata": {
    "id": "9ygXFa-OaOgP"
   },
   "source": [
    "# TF-IDF features | Pipeline"
   ]
  },
  {
   "cell_type": "code",
   "execution_count": null,
   "metadata": {
    "id": "3yBHK5zJXl1u"
   },
   "outputs": [],
   "source": [
    "# Create Pipeline\n",
    "pipe = Pipeline([('tfidf', TfidfVectorizer()),\n",
    "                 ('nb', MultinomialNB())\n",
    "                ])\n",
    "\n",
    "# Set parameters to search (model and vectorizer)\n",
    "parameters = {\n",
    "    'tfidf__ngram_range': (lap_lid), # The lower and upper boundary of the range of n-values for different word n-grams or char n-grams to be extracted\n",
    "    'tfidf__min_df': (np.linspace(0.01, 0.49, num = 10)),\n",
    "    'tfidf__max_df': (np.linspace(0.50, 0.99, num = 10)),\n",
    "    'nb__alpha': (np.linspace(0.01, 0.99, num = 10)) # Additive (Laplace/Lidstone) smoothing parameter (0 for no smoothing)\n",
    "    }\n",
    "\n",
    "# Perform grid search\n",
    "grid_search = GridSearchCV(pipe, parameters,\n",
    "                           n_jobs=-1, \n",
    "                           verbose=1,\n",
    "                           scoring = \"accuracy\", \n",
    "                           refit=True,\n",
    "                           cv=5)\n",
    "\n",
    "grid_search.fit(data[\"clean_review\"], y)"
   ]
  },
  {
   "cell_type": "code",
   "execution_count": null,
   "metadata": {
    "id": "oHMCGyAAdqX-"
   },
   "outputs": [],
   "source": [
    "grid_search.best_params_"
   ]
  },
  {
   "cell_type": "code",
   "execution_count": null,
   "metadata": {
    "id": "_tbcRqUkdutT"
   },
   "outputs": [],
   "source": [
    "best_model = grid_search.best_estimator_\n",
    "\n",
    "# best_model.transform(data[\"review\"]) # Predict?!?!"
   ]
  },
  {
   "cell_type": "code",
   "execution_count": null,
   "metadata": {
    "id": "AeRaeVTboE2l"
   },
   "outputs": [],
   "source": [
    "# best_model.LatentDirichletAllocation(n_components = 2,\n",
    "#                                       verbose = 0,\n",
    "#                                       max_iter = 50).fit(data_vectorized)\n",
    "\n",
    "# def print_topics(model, vectorizer):\n",
    "#     for idx, topic in enumerate(model.components_):\n",
    "#         print(\"Topic %d:\" % (idx))\n",
    "#         print([(vectorizer.get_feature_names()[i], round(topic[i], 2))\n",
    "#                         for i in topic.argsort()[:-10 - 1:-1]])"
   ]
  },
  {
   "cell_type": "code",
   "execution_count": null,
   "metadata": {
    "id": "hiqJ_bXdoPuv"
   },
   "outputs": [],
   "source": [
    "# best_model.components_"
   ]
  },
  {
   "cell_type": "code",
   "execution_count": null,
   "metadata": {
    "id": "l2yMrWiMoPzq"
   },
   "outputs": [],
   "source": [
    "# print_topics(best_model, vectorizer)"
   ]
  },
  {
   "cell_type": "markdown",
   "metadata": {
    "id": "XSydII74ZwOv"
   },
   "source": [
    "# CountVectorizer | Latent Dirichlet allocation"
   ]
  },
  {
   "cell_type": "code",
   "execution_count": null,
   "metadata": {
    "id": "iFYlPTjuaz3G"
   },
   "outputs": [],
   "source": [
    "vectorizer = CountVectorizer(min_df = 0.05, \n",
    "                             max_df = 0.40, \n",
    "                             max_features = None,\n",
    "                             vocabulary = None,\n",
    "                             ngram_range = (2, 2)).fit(data[\"review\"])\n",
    "\n",
    "# MINDF Ignore terms that have a document frequency strictly higher than the given threshold\n",
    "# MAXDF When building the vocabulary ignore terms that have a document frequency strictly lower than the given threshold\n",
    "\n",
    "data_vectorized = vectorizer.transform(data[\"review\"])\n",
    "\n",
    "lda_model = LatentDirichletAllocation(n_components = 2,\n",
    "                                      verbose = 0,\n",
    "                                      max_iter = 50).fit(data_vectorized)\n",
    "\n",
    "def print_topics(model, vectorizer):\n",
    "    for idx, topic in enumerate(model.components_):\n",
    "        print(\"Topic %d:\" % (idx))\n",
    "        print([(vectorizer.get_feature_names()[i], round(topic[i], 2))\n",
    "                        for i in topic.argsort()[:-10 - 1:-1]])"
   ]
  },
  {
   "cell_type": "code",
   "execution_count": null,
   "metadata": {
    "id": "SSP_8i87a_t6"
   },
   "outputs": [],
   "source": [
    "# vectorizer.vocabulary_"
   ]
  },
  {
   "cell_type": "code",
   "execution_count": null,
   "metadata": {
    "id": "35aIxLxia_wv"
   },
   "outputs": [],
   "source": [
    "lda_model.components_ # Vectors?"
   ]
  },
  {
   "cell_type": "code",
   "execution_count": null,
   "metadata": {
    "id": "MHBRCjyhbC_D"
   },
   "outputs": [],
   "source": [
    "print_topics(lda_model, vectorizer)"
   ]
  },
  {
   "cell_type": "code",
   "execution_count": null,
   "metadata": {
    "id": "EzIROp9Ccpm8"
   },
   "outputs": [],
   "source": [
    "example = [\"side effect\"]\n",
    "\n",
    "example_vectorized = vectorizer.transform(example)\n",
    "\n",
    "lda_vectors = lda_model.transform(example_vectorized)\n",
    "\n",
    "print(\"topic 0 :\", lda_vectors[0][0])\n",
    "print(\"topic 1 :\", lda_vectors[0][1])"
   ]
  },
  {
   "cell_type": "markdown",
   "metadata": {
    "id": "VfbrUsALaap_"
   },
   "source": [
    "# CountVectorizer | Pipeline"
   ]
  },
  {
   "cell_type": "code",
   "execution_count": null,
   "metadata": {
    "id": "9DM7mA04ywpP"
   },
   "outputs": [],
   "source": [
    "# Create Pipeline\n",
    "pipe = Pipeline([('Count', CountVectorizer()),\n",
    "                 ('nb', MultinomialNB())\n",
    "                ])\n",
    "\n",
    "# Set parameters to search (model and vectorizer)\n",
    "parameters = {\n",
    "    'Count__ngram_range': (lap_lid), # The lower and upper boundary of the range of n-values for different word n-grams or char n-grams to be extracted\n",
    "    'Count__min_df': (np.linspace(0.01, 0.49, num = 10)),\n",
    "    'Count__max_df': (np.linspace(0.50, 0.99, num = 10)),\n",
    "    'Count__max_features' : ([1 , 2, 3, 4, 5]),\n",
    "    'nb__alpha': (np.linspace(0.01, 0.99, num = 10)), # Additive (Laplace/Lidstone) smoothing parameter (0 for no smoothing)\n",
    "    }\n",
    "\n",
    "# Perform grid search\n",
    "grid_search = GridSearchCV(pipe, parameters, n_jobs=-1, \n",
    "                           verbose=1, scoring = \"accuracy\", \n",
    "                           refit=True, cv=5)\n",
    "\n",
    "grid_search.fit(data[\"clean_review\"], y)"
   ]
  },
  {
   "cell_type": "code",
   "execution_count": null,
   "metadata": {
    "id": "3xz3WSok5f5F"
   },
   "outputs": [],
   "source": [
    "grid_search.best_params_"
   ]
  },
  {
   "cell_type": "code",
   "execution_count": null,
   "metadata": {
    "id": "8yMriaro5gx1"
   },
   "outputs": [],
   "source": [
    "best_model = grid_search.best_estimator_"
   ]
  }
 ],
 "metadata": {
  "colab": {
   "collapsed_sections": [
    "VfbrUsALaap_"
   ],
   "name": "Adverse Drug Events.ipynb",
   "provenance": []
  },
  "kernelspec": {
   "display_name": "Python 3",
   "language": "python",
   "name": "python3"
  },
  "language_info": {
   "codemirror_mode": {
    "name": "ipython",
    "version": 3
   },
   "file_extension": ".py",
   "mimetype": "text/x-python",
   "name": "python",
   "nbconvert_exporter": "python",
   "pygments_lexer": "ipython3",
   "version": "3.7.7"
  },
  "latex_envs": {
   "LaTeX_envs_menu_present": true,
   "autoclose": false,
   "autocomplete": true,
   "bibliofile": "biblio.bib",
   "cite_by": "apalike",
   "current_citInitial": 1,
   "eqLabelWithNumbers": true,
   "eqNumInitial": 1,
   "hotkeys": {
    "equation": "Ctrl-E",
    "itemize": "Ctrl-I"
   },
   "labels_anchors": false,
   "latex_user_defs": false,
   "report_style_numbering": false,
   "user_envs_cfg": false
  },
  "toc": {
   "base_numbering": 1,
   "nav_menu": {},
   "number_sections": true,
   "sideBar": true,
   "skip_h1_title": false,
   "title_cell": "Table of Contents",
   "title_sidebar": "Contents",
   "toc_cell": false,
   "toc_position": {},
   "toc_section_display": true,
   "toc_window_display": false
  }
 },
 "nbformat": 4,
 "nbformat_minor": 1
}
